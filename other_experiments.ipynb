{
 "cells": [
  {
   "cell_type": "code",
   "execution_count": null,
   "id": "34d3afa81203570e",
   "metadata": {
    "collapsed": true
   },
   "outputs": [],
   "source": [
    "from sktime.forecasting.base import ForecastingHorizon\n",
    "from sktime.forecasting.naive import NaiveForecaster\n",
    "import evaluators\n",
    "import preprocessors\n",
    "from sktime.forecasting.base import ForecastingHorizon\n",
    "from sktime.forecasting.arima import ARIMA\n",
    "from sktime.forecasting.base import ForecastingHorizon\n",
    "from sktime.forecasting.arima import AutoARIMA"
   ]
  },
  {
   "cell_type": "markdown",
   "source": [
    "# Naive Forecaster"
   ],
   "metadata": {
    "collapsed": false
   },
   "id": "2ef33c42d823a5e"
  },
  {
   "cell_type": "code",
   "execution_count": null,
   "outputs": [],
   "source": [
    "myLoader = preprocessors.Loader(\"C:/Users/emily/Documents/DissertationProject/training/training_setA_csv\",['HR', 'O2Sat', 'SBP', 'MAP', 'DBP', 'Resp', 'Temp'])\n",
    "df = myLoader.get_panel_df(max_instances=100, min_time_points=30)\n",
    "df = myLoader.panel_imputer(df, \"ffill\")\n",
    "y_train, y_pred = myLoader.split_by_fh(df, 4)"
   ],
   "metadata": {
    "collapsed": false
   },
   "id": "445728af07539c00"
  },
  {
   "cell_type": "code",
   "execution_count": null,
   "outputs": [],
   "source": [
    "Nforecaster = NaiveForecaster(strategy=\"last\")\n",
    "Nforecaster.fit(y_train)\n",
    "fh = ForecastingHorizon([1, 2, 3, 4], is_relative=True)\n",
    "Nforecasts = Nforecaster.predict(fh=fh)"
   ],
   "metadata": {
    "collapsed": false
   },
   "id": "418bd10fc2995e0f"
  },
  {
   "cell_type": "code",
   "execution_count": null,
   "outputs": [],
   "source": [
    "Nforecaster.score(y_pred)\n",
    "Nevaluator = evaluators.Evaluator(y_pred, Nforecasts)\n",
    "Nevaluator.sktime_dtw()\n",
    "Nevaluator.sktime_ddtw()"
   ],
   "metadata": {
    "collapsed": false
   },
   "id": "initial_id"
  },
  {
   "cell_type": "code",
   "execution_count": null,
   "outputs": [],
   "source": [
    "Nforecaster.get_class_tag('scitype:y')"
   ],
   "metadata": {
    "collapsed": false
   },
   "id": "849d9d1604ed0165"
  },
  {
   "cell_type": "markdown",
   "source": [
    "# Testing sktime feature selection"
   ],
   "metadata": {
    "collapsed": false
   },
   "id": "1dce9da716caf3a1"
  },
  {
   "cell_type": "code",
   "execution_count": null,
   "outputs": [],
   "source": [
    "myLoader = preprocessors.Loader(\"C:/Users/emily/Documents/DissertationProject/training/training_setA_csv\",\n",
    "                                ['HR', 'O2Sat', 'Temp', 'SBP', 'MAP', 'DBP', 'Resp'])\n",
    "df = myLoader.get_panel_df(max_instances=100, min_time_points=30)\n",
    "y_train, y_pred = myLoader.split_by_fh(df, 4)\n",
    "y_train, y_pred, X_train, X_pred = myLoader.split_y_X(y_train, y_pred, [\"HR\"],\n",
    "                                                      ['O2Sat', 'SBP', 'MAP', 'DBP', 'Resp', 'Temp'])"
   ],
   "metadata": {
    "collapsed": false
   },
   "id": "be445e225230a3a2"
  },
  {
   "cell_type": "code",
   "execution_count": null,
   "outputs": [],
   "source": [
    "from sktime.transformations.series.feature_selection import FeatureSelection\n",
    "\n",
    "transformer = FeatureSelection(method=\"feature-importances\", n_columns=3)\n",
    "\n",
    "Xt = transformer.fit_transform(X_train, y_train)\n",
    "Xt"
   ],
   "metadata": {
    "collapsed": false
   },
   "id": "1c4217b1fcb33a42"
  },
  {
   "cell_type": "markdown",
   "source": [
    "# Getting model tags"
   ],
   "metadata": {
    "collapsed": false
   },
   "id": "bb48a340ec0e207f"
  },
  {
   "cell_type": "code",
   "execution_count": null,
   "outputs": [],
   "source": [
    "from sktime.registry import all_estimators\n",
    "\n",
    "#for forecaster in all_estimators(filter_tags={\"scitype:y\": [\"multivariate\", \"both\"]}):\n",
    " #   print(forecaster[0])\n",
    "\n",
    "from sktime.registry import all_estimators\n",
    "from sktime.base import BaseEstimator\n",
    "\n",
    "# Get all forecasters that declare they can handle missing values\n",
    "for forecaster in all_estimators(filter_tags={\"capability:missing_values\": True}):\n",
    "    print(forecaster[0])\n"
   ],
   "metadata": {
    "collapsed": false
   },
   "id": "f0045cb5268f11"
  },
  {
   "cell_type": "markdown",
   "source": [
    "# Global forecasting"
   ],
   "metadata": {
    "collapsed": false
   },
   "id": "a59d5cf77e986eb4"
  },
  {
   "cell_type": "code",
   "execution_count": null,
   "outputs": [],
   "source": [
    "import pandas as pd\n",
    "from sktime.forecasting.base import ForecastingHorizon\n",
    "from sktime.forecasting.compose import ForecastingPipeline\n",
    "from sktime.transformations.series.summarize import WindowSummarizer\n",
    "\n",
    "kwargs = {\n",
    "    \"lag_feature\": {\n",
    "        \"lag\": [1],\n",
    "        \"mean\": [[1, 3], [3, 6]],\n",
    "        \"std\": [[1, 4]],\n",
    "    }\n",
    "}\n",
    "\n",
    "fh = ForecastingHorizon([1, 2, 3, 4], is_relative=True)\n",
    "pipe = ForecastingPipeline(steps=[\n",
    "    (\"a\", WindowSummarizer(n_jobs=1, **kwargs)),\n",
    "    (\"forecaster\", AutoARIMA(seasonal=False, max_order=50))\n",
    "])\n",
    "pipe_return = pipe.fit(y_train)\n",
    "forecasts = pipe.predict(fh=fh)"
   ],
   "metadata": {
    "collapsed": false
   },
   "id": "c3cd161181e0cb69"
  },
  {
   "cell_type": "code",
   "execution_count": null,
   "outputs": [],
   "source": [
    "from sktime.forecasting.pytorchforecasting import PytorchForecastingDeepAR\n",
    "\n",
    "PytorchForecastingDeepAR().get_tag(\n",
    "    \"capability:global_forecasting\"\n",
    ")  # should return True"
   ],
   "metadata": {
    "collapsed": false
   },
   "id": "db8fb8c193818b50"
  },
  {
   "cell_type": "code",
   "execution_count": null,
   "outputs": [],
   "source": [
    "from sktime.forecasting.pytorchforecasting import PytorchForecastingDeepAR\n",
    "\n",
    "model = PytorchForecastingDeepAR(\n",
    "    trainer_params={\n",
    "        \"max_epochs\": 5,  # for quick test\n",
    "        \"limit_train_batches\": 50,  # for quick test\n",
    "    },\n",
    "    dataset_params={\n",
    "        \"max_encoder_length\": 3,\n",
    "    },\n",
    ")"
   ],
   "metadata": {
    "collapsed": false
   },
   "id": "e462bf64c1e15d00"
  },
  {
   "cell_type": "code",
   "execution_count": null,
   "outputs": [],
   "source": [
    "from sktime.forecasting.base import ForecastingHorizon\n",
    "fh = ForecastingHorizon([1, 2, 3, 4], is_relative=True)\n",
    "model.fit(y=y_train, fh=fh)"
   ],
   "metadata": {
    "collapsed": false
   },
   "id": "29f381ec72fd812f"
  },
  {
   "cell_type": "code",
   "execution_count": null,
   "outputs": [],
   "source": [
    "forecasts = model.predict()"
   ],
   "metadata": {
    "collapsed": false
   },
   "id": "f7a4e61afdf4d608"
  },
  {
   "cell_type": "markdown",
   "source": [
    "# best params "
   ],
   "metadata": {
    "collapsed": false
   },
   "id": "1d5410ae32ca3fe9"
  },
  {
   "cell_type": "code",
   "execution_count": null,
   "outputs": [],
   "source": [
    "\n",
    "from sktime.forecasting.model_selection import ForecastingGridSearchCV\n",
    "from sktime.split import ExpandingWindowSplitter\n",
    "from sktime.forecasting.naive import NaiveForecaster\n",
    "\n",
    "cv = ExpandingWindowSplitter(initial_window=5, step_length=1, fh=[1, 2, 3])\n",
    "forecaster = NaiveForecaster()\n",
    "param_grid = {\"strategy\": [\"last\", \"mean\", \"median\"]}\n",
    "gscv = ForecastingGridSearchCV(\n",
    "    forecaster=forecaster,\n",
    "    param_grid=param_grid,\n",
    "    cv=cv)\n",
    "gscv.fit(y_train)\n",
    "\n",
    "fcsts = gscv.predict(fh)\n",
    "gscv.best_params_"
   ],
   "metadata": {
    "collapsed": false
   },
   "id": "9e7e3de581960185"
  }
 ],
 "metadata": {
  "kernelspec": {
   "display_name": "Python 3",
   "language": "python",
   "name": "python3"
  },
  "language_info": {
   "codemirror_mode": {
    "name": "ipython",
    "version": 2
   },
   "file_extension": ".py",
   "mimetype": "text/x-python",
   "name": "python",
   "nbconvert_exporter": "python",
   "pygments_lexer": "ipython2",
   "version": "2.7.6"
  }
 },
 "nbformat": 4,
 "nbformat_minor": 5
}
