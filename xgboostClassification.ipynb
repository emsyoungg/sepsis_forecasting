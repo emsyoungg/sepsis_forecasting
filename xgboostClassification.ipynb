{
 "cells": [
  {
   "cell_type": "code",
   "execution_count": null,
   "id": "initial_id",
   "metadata": {
    "collapsed": true
   },
   "outputs": [],
   "source": [
    "import matplotlib.pyplot as plt\n",
    "import os\n",
    "import pandas as pd\n",
    "from glob import glob\n",
    "\n",
    "data_path = \"C:/Users/emily/Documents/training/training_setA\"\n",
    "file_list = glob(os.path.join(data_path, \"*.psv\"))\n",
    "\n",
    "df_list = [\n",
    "    pd.read_csv(file, sep=\"|\").assign(Patient_ID=i)  \n",
    "    for i, file in enumerate(file_list)\n",
    "]\n",
    "hospitalA_df = pd.concat(df_list, ignore_index=True)\n",
    "hospitalA_df = hospitalA_df.sort_values(by=[\"Patient_ID\", \"ICULOS\"]).reset_index(drop=True)\n"
   ]
  },
  {
   "cell_type": "code",
   "execution_count": null,
   "outputs": [],
   "source": [
    "import pandas as pd\n",
    "import xgboost as xgb\n",
    "from sklearn.model_selection import train_test_split\n",
    "from sklearn.metrics import accuracy_score, roc_auc_score\n",
    "\n",
    "df = hospitalA_df.copy() \n",
    "target = \"SepsisLabel\"\n",
    "features = [col for col in df.columns if col != target]  # Use all columns except target\n",
    "\n",
    "df[features] = df.groupby(\"Patient_ID\")[features].fillna(method='ffill').fillna(method='bfill')\n",
    "df = df.dropna(subset=[target])\n",
    "\n",
    "X = df[features]\n",
    "y = df[target]\n",
    "\n",
    "X_train, X_test, y_train, y_test = train_test_split(X, y, test_size=0.2, random_state=42, stratify=y)\n",
    "\n",
    "model = xgb.XGBClassifier(use_label_encoder=False, eval_metric=\"logloss\")\n",
    "model.fit(X_train, y_train)\n",
    "\n",
    "y_pred = model.predict(X_test)\n",
    "y_prob = model.predict_proba(X_test)[:, 1]\n",
    "accuracy = accuracy_score(y_test, y_pred)\n",
    "auc = roc_auc_score(y_test, y_prob)\n",
    "\n",
    "print(f\"Accuracy: {accuracy:.4f}\")\n",
    "print(f\"AUC-ROC Score: {auc:.4f}\")\n",
    "#precision\n",
    "#recall\n"
   ],
   "metadata": {
    "collapsed": false
   },
   "id": "e0c631307826faff"
  },
  {
   "cell_type": "code",
   "execution_count": null,
   "outputs": [],
   "source": [
    "# Plot feature importance\n",
    "xgb.plot_importance(model, importance_type=\"weight\", max_num_features=36)  # Show top 10 features\n",
    "plt.show()"
   ],
   "metadata": {
    "collapsed": false
   },
   "id": "a9683b3ee956012e"
  }
 ],
 "metadata": {
  "kernelspec": {
   "display_name": "Python 3",
   "language": "python",
   "name": "python3"
  },
  "language_info": {
   "codemirror_mode": {
    "name": "ipython",
    "version": 2
   },
   "file_extension": ".py",
   "mimetype": "text/x-python",
   "name": "python",
   "nbconvert_exporter": "python",
   "pygments_lexer": "ipython2",
   "version": "2.7.6"
  }
 },
 "nbformat": 4,
 "nbformat_minor": 5
}
