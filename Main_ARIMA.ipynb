{
 "cells": [
  {
   "cell_type": "code",
   "execution_count": 1,
   "id": "initial_id",
   "metadata": {
    "collapsed": true,
    "ExecuteTime": {
     "end_time": "2025-03-29T17:14:27.537086600Z",
     "start_time": "2025-03-29T17:14:25.394553500Z"
    }
   },
   "outputs": [],
   "source": [
    "from statsmodels.tools.sm_exceptions import ValueWarning\n",
    "\n",
    "import VARmodel\n",
    "import loadDataForSKtime\n",
    "import ARIMAmodel\n",
    "import warnings\n",
    "warnings.simplefilter(action='ignore', category=FutureWarning)\n",
    "warnings.simplefilter(action='ignore', category=ValueWarning)"
   ]
  },
  {
   "cell_type": "code",
   "execution_count": 2,
   "outputs": [
    {
     "name": "stdout",
     "output_type": "stream",
     "text": [
      "<class 'list'>\n"
     ]
    }
   ],
   "source": [
    "loaderHR = loadDataForSKtime.PatientTimeSeriesLoader(\n",
    "    \"C:/Users/emily/Documents/DissertationProject/training/training_setA_csv\", ['HR'])\n",
    "sktime_df = loaderHR.load_data(58)\n",
    "train_data, test_data = loaderHR.split_train_test(sktime_df)\n",
    "\n",
    "## pickle the data"
   ],
   "metadata": {
    "collapsed": false,
    "ExecuteTime": {
     "end_time": "2025-03-29T17:14:29.287750Z",
     "start_time": "2025-03-29T17:14:28.370067800Z"
    }
   },
   "id": "c9b515d609f0d397"
  },
  {
   "cell_type": "code",
   "execution_count": 3,
   "outputs": [
    {
     "data": {
      "text/plain": "MultiIndex([( 1,  1),\n            ( 1,  2),\n            ( 1,  3),\n            ( 1,  4),\n            ( 1,  5),\n            ( 1,  6),\n            ( 1,  7),\n            ( 1,  8),\n            ( 1,  9),\n            ( 1, 10),\n            ...\n            (57, 24),\n            (57, 25),\n            (57, 26),\n            (57, 27),\n            (57, 28),\n            (57, 29),\n            (57, 30),\n            (57, 31),\n            (58,  1),\n            (58,  2)],\n           names=['Patient_ID', 'ICULOS'], length=1916)"
     },
     "execution_count": 3,
     "metadata": {},
     "output_type": "execute_result"
    }
   ],
   "source": [
    "train_data.index"
   ],
   "metadata": {
    "collapsed": false,
    "ExecuteTime": {
     "end_time": "2025-03-29T17:03:44.699838100Z",
     "start_time": "2025-03-29T17:03:44.671856800Z"
    }
   },
   "id": "c6bc81f3272da200"
  },
  {
   "cell_type": "code",
   "execution_count": 4,
   "outputs": [
    {
     "data": {
      "text/plain": "                      HR\nPatient_ID ICULOS       \n1          1        -1.0\n           2        97.0\n           3        89.0\n           4        90.0\n           5       103.0\n...                  ...\n57         29      103.0\n           30      104.0\n           31      110.0\n58         1        -1.0\n           2        86.0\n\n[1916 rows x 1 columns]",
      "text/html": "<div>\n<style scoped>\n    .dataframe tbody tr th:only-of-type {\n        vertical-align: middle;\n    }\n\n    .dataframe tbody tr th {\n        vertical-align: top;\n    }\n\n    .dataframe thead th {\n        text-align: right;\n    }\n</style>\n<table border=\"1\" class=\"dataframe\">\n  <thead>\n    <tr style=\"text-align: right;\">\n      <th></th>\n      <th></th>\n      <th>HR</th>\n    </tr>\n    <tr>\n      <th>Patient_ID</th>\n      <th>ICULOS</th>\n      <th></th>\n    </tr>\n  </thead>\n  <tbody>\n    <tr>\n      <th rowspan=\"5\" valign=\"top\">1</th>\n      <th>1</th>\n      <td>-1.0</td>\n    </tr>\n    <tr>\n      <th>2</th>\n      <td>97.0</td>\n    </tr>\n    <tr>\n      <th>3</th>\n      <td>89.0</td>\n    </tr>\n    <tr>\n      <th>4</th>\n      <td>90.0</td>\n    </tr>\n    <tr>\n      <th>5</th>\n      <td>103.0</td>\n    </tr>\n    <tr>\n      <th>...</th>\n      <th>...</th>\n      <td>...</td>\n    </tr>\n    <tr>\n      <th rowspan=\"3\" valign=\"top\">57</th>\n      <th>29</th>\n      <td>103.0</td>\n    </tr>\n    <tr>\n      <th>30</th>\n      <td>104.0</td>\n    </tr>\n    <tr>\n      <th>31</th>\n      <td>110.0</td>\n    </tr>\n    <tr>\n      <th rowspan=\"2\" valign=\"top\">58</th>\n      <th>1</th>\n      <td>-1.0</td>\n    </tr>\n    <tr>\n      <th>2</th>\n      <td>86.0</td>\n    </tr>\n  </tbody>\n</table>\n<p>1916 rows × 1 columns</p>\n</div>"
     },
     "execution_count": 4,
     "metadata": {},
     "output_type": "execute_result"
    }
   ],
   "source": [
    "train_data"
   ],
   "metadata": {
    "collapsed": false,
    "ExecuteTime": {
     "end_time": "2025-03-29T17:03:50.959719Z",
     "start_time": "2025-03-29T17:03:50.919958300Z"
    }
   },
   "id": "a30c0bd95828a860"
  },
  {
   "cell_type": "code",
   "execution_count": null,
   "outputs": [],
   "source": [
    "train_data.columns"
   ],
   "metadata": {
    "collapsed": false,
    "ExecuteTime": {
     "start_time": "2025-03-29T16:10:26.361373900Z"
    }
   },
   "id": "1a3370ccb55a1db7"
  },
  {
   "cell_type": "code",
   "execution_count": 3,
   "outputs": [
    {
     "ename": "IndexError",
     "evalue": "too many indices for array: array is 0-dimensional, but 1 were indexed",
     "output_type": "error",
     "traceback": [
      "\u001B[1;31m---------------------------------------------------------------------------\u001B[0m",
      "\u001B[1;31mIndexError\u001B[0m                                Traceback (most recent call last)",
      "Cell \u001B[1;32mIn[3], line 2\u001B[0m\n\u001B[0;32m      1\u001B[0m HRforecaster \u001B[38;5;241m=\u001B[39m ARIMAmodel\u001B[38;5;241m.\u001B[39mARIMAForecaster(\u001B[38;5;124m'\u001B[39m\u001B[38;5;124mHR\u001B[39m\u001B[38;5;124m'\u001B[39m, train_data, test_data)\n\u001B[1;32m----> 2\u001B[0m \u001B[43mHRforecaster\u001B[49m\u001B[38;5;241;43m.\u001B[39;49m\u001B[43mfit\u001B[49m\u001B[43m(\u001B[49m\u001B[43m)\u001B[49m\n\u001B[0;32m      3\u001B[0m forecasts \u001B[38;5;241m=\u001B[39m HRforecaster\u001B[38;5;241m.\u001B[39mpredict(steps\u001B[38;5;241m=\u001B[39m\u001B[38;5;241m6\u001B[39m)\n\u001B[0;32m      5\u001B[0m HRforecaster\u001B[38;5;241m.\u001B[39mplot_forecast(forecasts, patient_id\u001B[38;5;241m=\u001B[39m\u001B[38;5;241m56\u001B[39m, steps\u001B[38;5;241m=\u001B[39m\u001B[38;5;241m6\u001B[39m)\n",
      "File \u001B[1;32m~\\Documents\\DissertationProject\\ARIMAmodel.py:43\u001B[0m, in \u001B[0;36mARIMAForecaster.fit\u001B[1;34m(self)\u001B[0m\n\u001B[0;32m     38\u001B[0m \u001B[38;5;250m\u001B[39m\u001B[38;5;124;03m\"\"\"\u001B[39;00m\n\u001B[0;32m     39\u001B[0m \u001B[38;5;124;03mFits the AutoARIMA model to the variable to forecasts data in the training dataset.\u001B[39;00m\n\u001B[0;32m     40\u001B[0m \u001B[38;5;124;03m\"\"\"\u001B[39;00m\n\u001B[0;32m     41\u001B[0m \u001B[38;5;66;03m#sktime_var = self.train_data[[self.variable_to_forecast]]\u001B[39;00m\n\u001B[0;32m     42\u001B[0m \u001B[38;5;66;03m#print(sktime_var)\u001B[39;00m\n\u001B[1;32m---> 43\u001B[0m \u001B[38;5;28;43mself\u001B[39;49m\u001B[38;5;241;43m.\u001B[39;49m\u001B[43mforecaster\u001B[49m\u001B[38;5;241;43m.\u001B[39;49m\u001B[43mfit\u001B[49m\u001B[43m(\u001B[49m\u001B[38;5;28;43mself\u001B[39;49m\u001B[38;5;241;43m.\u001B[39;49m\u001B[43mtrain_data\u001B[49m\u001B[43m)\u001B[49m\n",
      "File \u001B[1;32m~\\Documents\\DissertationProject\\venv_python\\lib\\site-packages\\sktime\\forecasting\\base\\_base.py:398\u001B[0m, in \u001B[0;36mBaseForecaster.fit\u001B[1;34m(self, y, X, fh)\u001B[0m\n\u001B[0;32m    395\u001B[0m     \u001B[38;5;28mself\u001B[39m\u001B[38;5;241m.\u001B[39m_fit(y\u001B[38;5;241m=\u001B[39my_inner, X\u001B[38;5;241m=\u001B[39mX_inner, fh\u001B[38;5;241m=\u001B[39mfh)\n\u001B[0;32m    396\u001B[0m \u001B[38;5;28;01melse\u001B[39;00m:\n\u001B[0;32m    397\u001B[0m     \u001B[38;5;66;03m# otherwise we call the vectorized version of fit\u001B[39;00m\n\u001B[1;32m--> 398\u001B[0m     \u001B[38;5;28;43mself\u001B[39;49m\u001B[38;5;241;43m.\u001B[39;49m\u001B[43m_vectorize\u001B[49m\u001B[43m(\u001B[49m\u001B[38;5;124;43m\"\u001B[39;49m\u001B[38;5;124;43mfit\u001B[39;49m\u001B[38;5;124;43m\"\u001B[39;49m\u001B[43m,\u001B[49m\u001B[43m \u001B[49m\u001B[43my\u001B[49m\u001B[38;5;241;43m=\u001B[39;49m\u001B[43my_inner\u001B[49m\u001B[43m,\u001B[49m\u001B[43m \u001B[49m\u001B[43mX\u001B[49m\u001B[38;5;241;43m=\u001B[39;49m\u001B[43mX_inner\u001B[49m\u001B[43m,\u001B[49m\u001B[43m \u001B[49m\u001B[43mfh\u001B[49m\u001B[38;5;241;43m=\u001B[39;49m\u001B[43mfh\u001B[49m\u001B[43m)\u001B[49m\n\u001B[0;32m    400\u001B[0m \u001B[38;5;66;03m# this should happen last\u001B[39;00m\n\u001B[0;32m    401\u001B[0m \u001B[38;5;28mself\u001B[39m\u001B[38;5;241m.\u001B[39m_is_fitted \u001B[38;5;241m=\u001B[39m \u001B[38;5;28;01mTrue\u001B[39;00m\n",
      "File \u001B[1;32m~\\Documents\\DissertationProject\\venv_python\\lib\\site-packages\\sktime\\forecasting\\base\\_base.py:2043\u001B[0m, in \u001B[0;36mBaseForecaster._vectorize\u001B[1;34m(self, methodname, **kwargs)\u001B[0m\n\u001B[0;32m   2040\u001B[0m     \u001B[38;5;28;01melse\u001B[39;00m:\n\u001B[0;32m   2041\u001B[0m         forecasters_ \u001B[38;5;241m=\u001B[39m \u001B[38;5;28mself\u001B[39m\u001B[38;5;241m.\u001B[39mforecasters_\n\u001B[1;32m-> 2043\u001B[0m     \u001B[38;5;28mself\u001B[39m\u001B[38;5;241m.\u001B[39mforecasters_ \u001B[38;5;241m=\u001B[39m y\u001B[38;5;241m.\u001B[39mvectorize_est(\n\u001B[0;32m   2044\u001B[0m         forecasters_,\n\u001B[0;32m   2045\u001B[0m         method\u001B[38;5;241m=\u001B[39mmethodname,\n\u001B[0;32m   2046\u001B[0m         backend\u001B[38;5;241m=\u001B[39m\u001B[38;5;28mself\u001B[39m\u001B[38;5;241m.\u001B[39mget_config()[\u001B[38;5;124m\"\u001B[39m\u001B[38;5;124mbackend:parallel\u001B[39m\u001B[38;5;124m\"\u001B[39m],\n\u001B[0;32m   2047\u001B[0m         backend_params\u001B[38;5;241m=\u001B[39m\u001B[38;5;28mself\u001B[39m\u001B[38;5;241m.\u001B[39mget_config()[\u001B[38;5;124m\"\u001B[39m\u001B[38;5;124mbackend:parallel:params\u001B[39m\u001B[38;5;124m\"\u001B[39m],\n\u001B[0;32m   2048\u001B[0m         \u001B[38;5;241m*\u001B[39m\u001B[38;5;241m*\u001B[39mkwargs,\n\u001B[0;32m   2049\u001B[0m     )\n\u001B[0;32m   2050\u001B[0m     \u001B[38;5;28;01mreturn\u001B[39;00m \u001B[38;5;28mself\u001B[39m\n\u001B[0;32m   2052\u001B[0m \u001B[38;5;66;03m# predict-like methods: return as list, then run through reconstruct\u001B[39;00m\n\u001B[0;32m   2053\u001B[0m \u001B[38;5;66;03m# to obtain a pandas based container in one of the pandas mtype formats\u001B[39;00m\n",
      "File \u001B[1;32m~\\Documents\\DissertationProject\\venv_python\\lib\\site-packages\\sktime\\datatypes\\_vectorize.py:630\u001B[0m, in \u001B[0;36mVectorizedDF.vectorize_est\u001B[1;34m(self, estimator, method, args, args_rowvec, return_type, rowname_default, colname_default, varname_of_self, backend, backend_params, **kwargs)\u001B[0m\n\u001B[0;32m    616\u001B[0m vec_zip \u001B[38;5;241m=\u001B[39m \u001B[38;5;28mzip\u001B[39m(\n\u001B[0;32m    617\u001B[0m     \u001B[38;5;28mself\u001B[39m\u001B[38;5;241m.\u001B[39mitems(),\n\u001B[0;32m    618\u001B[0m     explode(args, iterate_as\u001B[38;5;241m=\u001B[39miterate_as, iterate_cols\u001B[38;5;241m=\u001B[39miterate_cols),\n\u001B[0;32m    619\u001B[0m     explode(args_rowvec, iterate_as\u001B[38;5;241m=\u001B[39miterate_as, iterate_cols\u001B[38;5;241m=\u001B[39m\u001B[38;5;28;01mFalse\u001B[39;00m),\n\u001B[0;32m    620\u001B[0m     estimators,\n\u001B[0;32m    621\u001B[0m )\n\u001B[0;32m    623\u001B[0m meta \u001B[38;5;241m=\u001B[39m {\n\u001B[0;32m    624\u001B[0m     \u001B[38;5;124m\"\u001B[39m\u001B[38;5;124mmethod\u001B[39m\u001B[38;5;124m\"\u001B[39m: method,\n\u001B[0;32m    625\u001B[0m     \u001B[38;5;124m\"\u001B[39m\u001B[38;5;124mvarname_of_self\u001B[39m\u001B[38;5;124m\"\u001B[39m: varname_of_self,\n\u001B[0;32m    626\u001B[0m     \u001B[38;5;124m\"\u001B[39m\u001B[38;5;124mrowname_default\u001B[39m\u001B[38;5;124m\"\u001B[39m: rowname_default,\n\u001B[0;32m    627\u001B[0m     \u001B[38;5;124m\"\u001B[39m\u001B[38;5;124mcolname_default\u001B[39m\u001B[38;5;124m\"\u001B[39m: colname_default,\n\u001B[0;32m    628\u001B[0m }\n\u001B[1;32m--> 630\u001B[0m ret \u001B[38;5;241m=\u001B[39m \u001B[43mparallelize\u001B[49m\u001B[43m(\u001B[49m\n\u001B[0;32m    631\u001B[0m \u001B[43m    \u001B[49m\u001B[43mfun\u001B[49m\u001B[38;5;241;43m=\u001B[39;49m\u001B[38;5;28;43mself\u001B[39;49m\u001B[38;5;241;43m.\u001B[39;49m\u001B[43m_vectorize_est_single\u001B[49m\u001B[43m,\u001B[49m\n\u001B[0;32m    632\u001B[0m \u001B[43m    \u001B[49m\u001B[38;5;28;43miter\u001B[39;49m\u001B[38;5;241;43m=\u001B[39;49m\u001B[43mvec_zip\u001B[49m\u001B[43m,\u001B[49m\n\u001B[0;32m    633\u001B[0m \u001B[43m    \u001B[49m\u001B[43mmeta\u001B[49m\u001B[38;5;241;43m=\u001B[39;49m\u001B[43mmeta\u001B[49m\u001B[43m,\u001B[49m\n\u001B[0;32m    634\u001B[0m \u001B[43m    \u001B[49m\u001B[43mbackend\u001B[49m\u001B[38;5;241;43m=\u001B[39;49m\u001B[43mbackend\u001B[49m\u001B[43m,\u001B[49m\n\u001B[0;32m    635\u001B[0m \u001B[43m    \u001B[49m\u001B[43mbackend_params\u001B[49m\u001B[38;5;241;43m=\u001B[39;49m\u001B[43mbackend_params\u001B[49m\u001B[43m,\u001B[49m\n\u001B[0;32m    636\u001B[0m \u001B[43m\u001B[49m\u001B[43m)\u001B[49m\n\u001B[0;32m    638\u001B[0m \u001B[38;5;28;01mif\u001B[39;00m return_type \u001B[38;5;241m==\u001B[39m \u001B[38;5;124m\"\u001B[39m\u001B[38;5;124mpd.DataFrame\u001B[39m\u001B[38;5;124m\"\u001B[39m:\n\u001B[0;32m    639\u001B[0m     df_long \u001B[38;5;241m=\u001B[39m pd\u001B[38;5;241m.\u001B[39mDataFrame(ret)\n",
      "File \u001B[1;32m~\\Documents\\DissertationProject\\venv_python\\lib\\site-packages\\sktime\\utils\\parallel.py:72\u001B[0m, in \u001B[0;36mparallelize\u001B[1;34m(fun, iter, meta, backend, backend_params)\u001B[0m\n\u001B[0;32m     69\u001B[0m backend_name \u001B[38;5;241m=\u001B[39m backend_dict[backend]\n\u001B[0;32m     70\u001B[0m para_fun \u001B[38;5;241m=\u001B[39m para_dict[backend_name]\n\u001B[1;32m---> 72\u001B[0m ret \u001B[38;5;241m=\u001B[39m \u001B[43mpara_fun\u001B[49m\u001B[43m(\u001B[49m\n\u001B[0;32m     73\u001B[0m \u001B[43m    \u001B[49m\u001B[43mfun\u001B[49m\u001B[38;5;241;43m=\u001B[39;49m\u001B[43mfun\u001B[49m\u001B[43m,\u001B[49m\u001B[43m \u001B[49m\u001B[38;5;28;43miter\u001B[39;49m\u001B[38;5;241;43m=\u001B[39;49m\u001B[38;5;28;43miter\u001B[39;49m\u001B[43m,\u001B[49m\u001B[43m \u001B[49m\u001B[43mmeta\u001B[49m\u001B[38;5;241;43m=\u001B[39;49m\u001B[43mmeta\u001B[49m\u001B[43m,\u001B[49m\u001B[43m \u001B[49m\u001B[43mbackend\u001B[49m\u001B[38;5;241;43m=\u001B[39;49m\u001B[43mbackend\u001B[49m\u001B[43m,\u001B[49m\u001B[43m \u001B[49m\u001B[43mbackend_params\u001B[49m\u001B[38;5;241;43m=\u001B[39;49m\u001B[43mbackend_params\u001B[49m\n\u001B[0;32m     74\u001B[0m \u001B[43m\u001B[49m\u001B[43m)\u001B[49m\n\u001B[0;32m     75\u001B[0m \u001B[38;5;28;01mreturn\u001B[39;00m ret\n",
      "File \u001B[1;32m~\\Documents\\DissertationProject\\venv_python\\lib\\site-packages\\sktime\\utils\\parallel.py:92\u001B[0m, in \u001B[0;36m_parallelize_none\u001B[1;34m(fun, iter, meta, backend, backend_params)\u001B[0m\n\u001B[0;32m     90\u001B[0m \u001B[38;5;28;01mdef\u001B[39;00m\u001B[38;5;250m \u001B[39m\u001B[38;5;21m_parallelize_none\u001B[39m(fun, \u001B[38;5;28miter\u001B[39m, meta, backend, backend_params):\n\u001B[0;32m     91\u001B[0m \u001B[38;5;250m    \u001B[39m\u001B[38;5;124;03m\"\"\"Execute loop via simple sequential list comprehension.\"\"\"\u001B[39;00m\n\u001B[1;32m---> 92\u001B[0m     ret \u001B[38;5;241m=\u001B[39m [fun(x, meta\u001B[38;5;241m=\u001B[39mmeta) \u001B[38;5;28;01mfor\u001B[39;00m x \u001B[38;5;129;01min\u001B[39;00m \u001B[38;5;28miter\u001B[39m]\n\u001B[0;32m     93\u001B[0m     \u001B[38;5;28;01mreturn\u001B[39;00m ret\n",
      "File \u001B[1;32m~\\Documents\\DissertationProject\\venv_python\\lib\\site-packages\\sktime\\utils\\parallel.py:92\u001B[0m, in \u001B[0;36m<listcomp>\u001B[1;34m(.0)\u001B[0m\n\u001B[0;32m     90\u001B[0m \u001B[38;5;28;01mdef\u001B[39;00m\u001B[38;5;250m \u001B[39m\u001B[38;5;21m_parallelize_none\u001B[39m(fun, \u001B[38;5;28miter\u001B[39m, meta, backend, backend_params):\n\u001B[0;32m     91\u001B[0m \u001B[38;5;250m    \u001B[39m\u001B[38;5;124;03m\"\"\"Execute loop via simple sequential list comprehension.\"\"\"\u001B[39;00m\n\u001B[1;32m---> 92\u001B[0m     ret \u001B[38;5;241m=\u001B[39m [\u001B[43mfun\u001B[49m\u001B[43m(\u001B[49m\u001B[43mx\u001B[49m\u001B[43m,\u001B[49m\u001B[43m \u001B[49m\u001B[43mmeta\u001B[49m\u001B[38;5;241;43m=\u001B[39;49m\u001B[43mmeta\u001B[49m\u001B[43m)\u001B[49m \u001B[38;5;28;01mfor\u001B[39;00m x \u001B[38;5;129;01min\u001B[39;00m \u001B[38;5;28miter\u001B[39m]\n\u001B[0;32m     93\u001B[0m     \u001B[38;5;28;01mreturn\u001B[39;00m ret\n",
      "File \u001B[1;32m~\\Documents\\DissertationProject\\venv_python\\lib\\site-packages\\sktime\\datatypes\\_vectorize.py:679\u001B[0m, in \u001B[0;36mVectorizedDF._vectorize_est_single\u001B[1;34m(self, vec_tuple, meta)\u001B[0m\n\u001B[0;32m    676\u001B[0m     args_i[varname_of_self] \u001B[38;5;241m=\u001B[39m group\n\u001B[0;32m    678\u001B[0m est_i_method \u001B[38;5;241m=\u001B[39m \u001B[38;5;28mgetattr\u001B[39m(est_i, method)\n\u001B[1;32m--> 679\u001B[0m est_i_result \u001B[38;5;241m=\u001B[39m est_i_method(\u001B[38;5;241m*\u001B[39m\u001B[38;5;241m*\u001B[39margs_i)\n\u001B[0;32m    681\u001B[0m \u001B[38;5;28;01mif\u001B[39;00m group_name \u001B[38;5;129;01mis\u001B[39;00m \u001B[38;5;28;01mNone\u001B[39;00m:\n\u001B[0;32m    682\u001B[0m     group_name \u001B[38;5;241m=\u001B[39m rowname_default\n",
      "File \u001B[1;32m~\\Documents\\DissertationProject\\venv_python\\lib\\site-packages\\sktime\\forecasting\\base\\_base.py:395\u001B[0m, in \u001B[0;36mBaseForecaster.fit\u001B[1;34m(self, y, X, fh)\u001B[0m\n\u001B[0;32m    393\u001B[0m \u001B[38;5;66;03m# we call the ordinary _fit if no looping/vectorization needed\u001B[39;00m\n\u001B[0;32m    394\u001B[0m \u001B[38;5;28;01mif\u001B[39;00m \u001B[38;5;129;01mnot\u001B[39;00m vectorization_needed:\n\u001B[1;32m--> 395\u001B[0m     \u001B[38;5;28;43mself\u001B[39;49m\u001B[38;5;241;43m.\u001B[39;49m\u001B[43m_fit\u001B[49m\u001B[43m(\u001B[49m\u001B[43my\u001B[49m\u001B[38;5;241;43m=\u001B[39;49m\u001B[43my_inner\u001B[49m\u001B[43m,\u001B[49m\u001B[43m \u001B[49m\u001B[43mX\u001B[49m\u001B[38;5;241;43m=\u001B[39;49m\u001B[43mX_inner\u001B[49m\u001B[43m,\u001B[49m\u001B[43m \u001B[49m\u001B[43mfh\u001B[49m\u001B[38;5;241;43m=\u001B[39;49m\u001B[43mfh\u001B[49m\u001B[43m)\u001B[49m\n\u001B[0;32m    396\u001B[0m \u001B[38;5;28;01melse\u001B[39;00m:\n\u001B[0;32m    397\u001B[0m     \u001B[38;5;66;03m# otherwise we call the vectorized version of fit\u001B[39;00m\n\u001B[0;32m    398\u001B[0m     \u001B[38;5;28mself\u001B[39m\u001B[38;5;241m.\u001B[39m_vectorize(\u001B[38;5;124m\"\u001B[39m\u001B[38;5;124mfit\u001B[39m\u001B[38;5;124m\"\u001B[39m, y\u001B[38;5;241m=\u001B[39my_inner, X\u001B[38;5;241m=\u001B[39mX_inner, fh\u001B[38;5;241m=\u001B[39mfh)\n",
      "File \u001B[1;32m~\\Documents\\DissertationProject\\venv_python\\lib\\site-packages\\sktime\\forecasting\\base\\adapters\\_pmdarima.py:55\u001B[0m, in \u001B[0;36m_PmdArimaAdapter._fit\u001B[1;34m(self, y, X, fh)\u001B[0m\n\u001B[0;32m     53\u001B[0m     X \u001B[38;5;241m=\u001B[39m X\u001B[38;5;241m.\u001B[39mloc[y\u001B[38;5;241m.\u001B[39mindex]\n\u001B[0;32m     54\u001B[0m \u001B[38;5;28mself\u001B[39m\u001B[38;5;241m.\u001B[39m_forecaster \u001B[38;5;241m=\u001B[39m \u001B[38;5;28mself\u001B[39m\u001B[38;5;241m.\u001B[39m_instantiate_model()\n\u001B[1;32m---> 55\u001B[0m \u001B[38;5;28;43mself\u001B[39;49m\u001B[38;5;241;43m.\u001B[39;49m\u001B[43m_forecaster\u001B[49m\u001B[38;5;241;43m.\u001B[39;49m\u001B[43mfit\u001B[49m\u001B[43m(\u001B[49m\u001B[43my\u001B[49m\u001B[43m,\u001B[49m\u001B[43m \u001B[49m\u001B[43mX\u001B[49m\u001B[38;5;241;43m=\u001B[39;49m\u001B[43mX\u001B[49m\u001B[43m)\u001B[49m\n\u001B[0;32m     56\u001B[0m \u001B[38;5;28;01mreturn\u001B[39;00m \u001B[38;5;28mself\u001B[39m\n",
      "File \u001B[1;32m~\\Documents\\DissertationProject\\venv_python\\lib\\site-packages\\pmdarima\\arima\\auto.py:167\u001B[0m, in \u001B[0;36mAutoARIMA.fit\u001B[1;34m(self, y, X, **fit_args)\u001B[0m\n\u001B[0;32m    141\u001B[0m \u001B[38;5;250m\u001B[39m\u001B[38;5;124;03m\"\"\"Fit the auto-arima estimator\u001B[39;00m\n\u001B[0;32m    142\u001B[0m \n\u001B[0;32m    143\u001B[0m \u001B[38;5;124;03mFit an AutoARIMA to a vector, ``y``, of observations with an\u001B[39;00m\n\u001B[1;32m   (...)\u001B[0m\n\u001B[0;32m    163\u001B[0m \u001B[38;5;124;03m    Any keyword arguments to pass to the auto-arima function.\u001B[39;00m\n\u001B[0;32m    164\u001B[0m \u001B[38;5;124;03m\"\"\"\u001B[39;00m\n\u001B[0;32m    165\u001B[0m sarimax_kwargs \u001B[38;5;241m=\u001B[39m {} \u001B[38;5;28;01mif\u001B[39;00m \u001B[38;5;129;01mnot\u001B[39;00m \u001B[38;5;28mself\u001B[39m\u001B[38;5;241m.\u001B[39mkwargs \u001B[38;5;28;01melse\u001B[39;00m \u001B[38;5;28mself\u001B[39m\u001B[38;5;241m.\u001B[39mkwargs\n\u001B[1;32m--> 167\u001B[0m \u001B[38;5;28mself\u001B[39m\u001B[38;5;241m.\u001B[39mmodel_ \u001B[38;5;241m=\u001B[39m auto_arima(\n\u001B[0;32m    168\u001B[0m     y,\n\u001B[0;32m    169\u001B[0m     X\u001B[38;5;241m=\u001B[39mX,\n\u001B[0;32m    170\u001B[0m     start_p\u001B[38;5;241m=\u001B[39m\u001B[38;5;28mself\u001B[39m\u001B[38;5;241m.\u001B[39mstart_p,\n\u001B[0;32m    171\u001B[0m     d\u001B[38;5;241m=\u001B[39m\u001B[38;5;28mself\u001B[39m\u001B[38;5;241m.\u001B[39md,\n\u001B[0;32m    172\u001B[0m     start_q\u001B[38;5;241m=\u001B[39m\u001B[38;5;28mself\u001B[39m\u001B[38;5;241m.\u001B[39mstart_q,\n\u001B[0;32m    173\u001B[0m     max_p\u001B[38;5;241m=\u001B[39m\u001B[38;5;28mself\u001B[39m\u001B[38;5;241m.\u001B[39mmax_p,\n\u001B[0;32m    174\u001B[0m     max_d\u001B[38;5;241m=\u001B[39m\u001B[38;5;28mself\u001B[39m\u001B[38;5;241m.\u001B[39mmax_d,\n\u001B[0;32m    175\u001B[0m     max_q\u001B[38;5;241m=\u001B[39m\u001B[38;5;28mself\u001B[39m\u001B[38;5;241m.\u001B[39mmax_q,\n\u001B[0;32m    176\u001B[0m     start_P\u001B[38;5;241m=\u001B[39m\u001B[38;5;28mself\u001B[39m\u001B[38;5;241m.\u001B[39mstart_P,\n\u001B[0;32m    177\u001B[0m     D\u001B[38;5;241m=\u001B[39m\u001B[38;5;28mself\u001B[39m\u001B[38;5;241m.\u001B[39mD,\n\u001B[0;32m    178\u001B[0m     start_Q\u001B[38;5;241m=\u001B[39m\u001B[38;5;28mself\u001B[39m\u001B[38;5;241m.\u001B[39mstart_Q,\n\u001B[0;32m    179\u001B[0m     max_P\u001B[38;5;241m=\u001B[39m\u001B[38;5;28mself\u001B[39m\u001B[38;5;241m.\u001B[39mmax_P,\n\u001B[0;32m    180\u001B[0m     max_D\u001B[38;5;241m=\u001B[39m\u001B[38;5;28mself\u001B[39m\u001B[38;5;241m.\u001B[39mmax_D,\n\u001B[0;32m    181\u001B[0m     max_Q\u001B[38;5;241m=\u001B[39m\u001B[38;5;28mself\u001B[39m\u001B[38;5;241m.\u001B[39mmax_Q,\n\u001B[0;32m    182\u001B[0m     max_order\u001B[38;5;241m=\u001B[39m\u001B[38;5;28mself\u001B[39m\u001B[38;5;241m.\u001B[39mmax_order,\n\u001B[0;32m    183\u001B[0m     m\u001B[38;5;241m=\u001B[39m\u001B[38;5;28mself\u001B[39m\u001B[38;5;241m.\u001B[39mm,\n\u001B[0;32m    184\u001B[0m     seasonal\u001B[38;5;241m=\u001B[39m\u001B[38;5;28mself\u001B[39m\u001B[38;5;241m.\u001B[39mseasonal,\n\u001B[0;32m    185\u001B[0m     stationary\u001B[38;5;241m=\u001B[39m\u001B[38;5;28mself\u001B[39m\u001B[38;5;241m.\u001B[39mstationary,\n\u001B[0;32m    186\u001B[0m     information_criterion\u001B[38;5;241m=\u001B[39m\u001B[38;5;28mself\u001B[39m\u001B[38;5;241m.\u001B[39minformation_criterion,\n\u001B[0;32m    187\u001B[0m     alpha\u001B[38;5;241m=\u001B[39m\u001B[38;5;28mself\u001B[39m\u001B[38;5;241m.\u001B[39malpha,\n\u001B[0;32m    188\u001B[0m     test\u001B[38;5;241m=\u001B[39m\u001B[38;5;28mself\u001B[39m\u001B[38;5;241m.\u001B[39mtest,\n\u001B[0;32m    189\u001B[0m     seasonal_test\u001B[38;5;241m=\u001B[39m\u001B[38;5;28mself\u001B[39m\u001B[38;5;241m.\u001B[39mseasonal_test,\n\u001B[0;32m    190\u001B[0m     stepwise\u001B[38;5;241m=\u001B[39m\u001B[38;5;28mself\u001B[39m\u001B[38;5;241m.\u001B[39mstepwise,\n\u001B[0;32m    191\u001B[0m     n_jobs\u001B[38;5;241m=\u001B[39m\u001B[38;5;28mself\u001B[39m\u001B[38;5;241m.\u001B[39mn_jobs,\n\u001B[0;32m    192\u001B[0m     start_params\u001B[38;5;241m=\u001B[39m\u001B[38;5;28mself\u001B[39m\u001B[38;5;241m.\u001B[39mstart_params,\n\u001B[0;32m    193\u001B[0m     trend\u001B[38;5;241m=\u001B[39m\u001B[38;5;28mself\u001B[39m\u001B[38;5;241m.\u001B[39mtrend,\n\u001B[0;32m    194\u001B[0m     method\u001B[38;5;241m=\u001B[39m\u001B[38;5;28mself\u001B[39m\u001B[38;5;241m.\u001B[39mmethod,\n\u001B[0;32m    195\u001B[0m     maxiter\u001B[38;5;241m=\u001B[39m\u001B[38;5;28mself\u001B[39m\u001B[38;5;241m.\u001B[39mmaxiter,\n\u001B[0;32m    196\u001B[0m     offset_test_args\u001B[38;5;241m=\u001B[39m\u001B[38;5;28mself\u001B[39m\u001B[38;5;241m.\u001B[39moffset_test_args,\n\u001B[0;32m    197\u001B[0m     seasonal_test_args\u001B[38;5;241m=\u001B[39m\u001B[38;5;28mself\u001B[39m\u001B[38;5;241m.\u001B[39mseasonal_test_args,\n\u001B[0;32m    198\u001B[0m     suppress_warnings\u001B[38;5;241m=\u001B[39m\u001B[38;5;28mself\u001B[39m\u001B[38;5;241m.\u001B[39msuppress_warnings,\n\u001B[0;32m    199\u001B[0m     error_action\u001B[38;5;241m=\u001B[39m\u001B[38;5;28mself\u001B[39m\u001B[38;5;241m.\u001B[39merror_action,\n\u001B[0;32m    200\u001B[0m     trace\u001B[38;5;241m=\u001B[39m\u001B[38;5;28mself\u001B[39m\u001B[38;5;241m.\u001B[39mtrace,\n\u001B[0;32m    201\u001B[0m     random\u001B[38;5;241m=\u001B[39m\u001B[38;5;28mself\u001B[39m\u001B[38;5;241m.\u001B[39mrandom,\n\u001B[0;32m    202\u001B[0m     random_state\u001B[38;5;241m=\u001B[39m\u001B[38;5;28mself\u001B[39m\u001B[38;5;241m.\u001B[39mrandom_state,\n\u001B[0;32m    203\u001B[0m     n_fits\u001B[38;5;241m=\u001B[39m\u001B[38;5;28mself\u001B[39m\u001B[38;5;241m.\u001B[39mn_fits,\n\u001B[0;32m    204\u001B[0m     return_valid_fits\u001B[38;5;241m=\u001B[39m\u001B[38;5;28;01mFalse\u001B[39;00m,  \u001B[38;5;66;03m# only return ONE\u001B[39;00m\n\u001B[0;32m    205\u001B[0m     out_of_sample_size\u001B[38;5;241m=\u001B[39m\u001B[38;5;28mself\u001B[39m\u001B[38;5;241m.\u001B[39mout_of_sample_size,\n\u001B[0;32m    206\u001B[0m     scoring\u001B[38;5;241m=\u001B[39m\u001B[38;5;28mself\u001B[39m\u001B[38;5;241m.\u001B[39mscoring,\n\u001B[0;32m    207\u001B[0m     scoring_args\u001B[38;5;241m=\u001B[39m\u001B[38;5;28mself\u001B[39m\u001B[38;5;241m.\u001B[39mscoring_args,\n\u001B[0;32m    208\u001B[0m     with_intercept\u001B[38;5;241m=\u001B[39m\u001B[38;5;28mself\u001B[39m\u001B[38;5;241m.\u001B[39mwith_intercept,\n\u001B[0;32m    209\u001B[0m     sarimax_kwargs\u001B[38;5;241m=\u001B[39msarimax_kwargs,\n\u001B[0;32m    210\u001B[0m     \u001B[38;5;241m*\u001B[39m\u001B[38;5;241m*\u001B[39mfit_args)\n\u001B[0;32m    212\u001B[0m \u001B[38;5;28;01mreturn\u001B[39;00m \u001B[38;5;28mself\u001B[39m\n",
      "File \u001B[1;32m~\\Documents\\DissertationProject\\venv_python\\lib\\site-packages\\pmdarima\\arima\\auto.py:596\u001B[0m, in \u001B[0;36mauto_arima\u001B[1;34m(y, X, start_p, d, start_q, max_p, max_d, max_q, start_P, D, start_Q, max_P, max_D, max_Q, max_order, m, seasonal, stationary, information_criterion, alpha, test, seasonal_test, stepwise, n_jobs, start_params, trend, method, maxiter, offset_test_args, seasonal_test_args, suppress_warnings, error_action, trace, random, random_state, n_fits, return_valid_fits, out_of_sample_size, scoring, scoring_args, with_intercept, sarimax_kwargs, **fit_args)\u001B[0m\n\u001B[0;32m    590\u001B[0m         \u001B[38;5;28;01mraise\u001B[39;00m \u001B[38;5;167;01mValueError\u001B[39;00m(\u001B[38;5;124m'\u001B[39m\u001B[38;5;124mdata follow a simple polynomial and are not \u001B[39m\u001B[38;5;124m'\u001B[39m\n\u001B[0;32m    591\u001B[0m                          \u001B[38;5;124m'\u001B[39m\u001B[38;5;124msuitable for ARIMA modeling\u001B[39m\u001B[38;5;124m'\u001B[39m)\n\u001B[0;32m    593\u001B[0m     \u001B[38;5;66;03m# perfect regression\u001B[39;00m\n\u001B[0;32m    594\u001B[0m     \u001B[38;5;28;01mreturn\u001B[39;00m _return_wrapper(\n\u001B[0;32m    595\u001B[0m         solvers\u001B[38;5;241m.\u001B[39m_sort_and_filter_fits(\n\u001B[1;32m--> 596\u001B[0m             fit_partial(\n\u001B[0;32m    597\u001B[0m                 y,\n\u001B[0;32m    598\u001B[0m                 X\u001B[38;5;241m=\u001B[39mX,\n\u001B[0;32m    599\u001B[0m                 order\u001B[38;5;241m=\u001B[39m(\u001B[38;5;241m0\u001B[39m, d, \u001B[38;5;241m0\u001B[39m),\n\u001B[0;32m    600\u001B[0m                 seasonal_order\u001B[38;5;241m=\u001B[39mssn,\n\u001B[0;32m    601\u001B[0m                 with_intercept\u001B[38;5;241m=\u001B[39mwith_intercept,\n\u001B[0;32m    602\u001B[0m                 \u001B[38;5;241m*\u001B[39m\u001B[38;5;241m*\u001B[39msarimax_kwargs\n\u001B[0;32m    603\u001B[0m             )\n\u001B[0;32m    604\u001B[0m         ),\n\u001B[0;32m    605\u001B[0m         return_valid_fits, start, trace\n\u001B[0;32m    606\u001B[0m     )\n\u001B[0;32m    608\u001B[0m \u001B[38;5;66;03m# seasonality issues\u001B[39;00m\n\u001B[0;32m    609\u001B[0m \u001B[38;5;28;01mif\u001B[39;00m m \u001B[38;5;241m>\u001B[39m \u001B[38;5;241m1\u001B[39m:\n",
      "File \u001B[1;32m~\\Documents\\DissertationProject\\venv_python\\lib\\site-packages\\pmdarima\\arima\\_auto_solvers.py:508\u001B[0m, in \u001B[0;36m_fit_candidate_model\u001B[1;34m(y, X, order, seasonal_order, start_params, trend, method, maxiter, fit_params, suppress_warnings, trace, error_action, out_of_sample_size, scoring, scoring_args, with_intercept, information_criterion, **kwargs)\u001B[0m\n\u001B[0;32m    500\u001B[0m fit \u001B[38;5;241m=\u001B[39m ARIMA(order\u001B[38;5;241m=\u001B[39morder, seasonal_order\u001B[38;5;241m=\u001B[39mseasonal_order,\n\u001B[0;32m    501\u001B[0m             start_params\u001B[38;5;241m=\u001B[39mstart_params, trend\u001B[38;5;241m=\u001B[39mtrend, method\u001B[38;5;241m=\u001B[39mmethod,\n\u001B[0;32m    502\u001B[0m             maxiter\u001B[38;5;241m=\u001B[39mmaxiter, suppress_warnings\u001B[38;5;241m=\u001B[39msuppress_warnings,\n\u001B[0;32m    503\u001B[0m             out_of_sample_size\u001B[38;5;241m=\u001B[39mout_of_sample_size, scoring\u001B[38;5;241m=\u001B[39mscoring,\n\u001B[0;32m    504\u001B[0m             scoring_args\u001B[38;5;241m=\u001B[39mscoring_args,\n\u001B[0;32m    505\u001B[0m             with_intercept\u001B[38;5;241m=\u001B[39mwith_intercept, \u001B[38;5;241m*\u001B[39m\u001B[38;5;241m*\u001B[39mkwargs)\n\u001B[0;32m    507\u001B[0m \u001B[38;5;28;01mtry\u001B[39;00m:\n\u001B[1;32m--> 508\u001B[0m     fit\u001B[38;5;241m.\u001B[39mfit(y, X\u001B[38;5;241m=\u001B[39mX, \u001B[38;5;241m*\u001B[39m\u001B[38;5;241m*\u001B[39mfit_params)\n\u001B[0;32m    510\u001B[0m \u001B[38;5;66;03m# for non-stationarity errors or singular matrices, return None\u001B[39;00m\n\u001B[0;32m    511\u001B[0m \u001B[38;5;28;01mexcept\u001B[39;00m (LinAlgError, \u001B[38;5;167;01mValueError\u001B[39;00m) \u001B[38;5;28;01mas\u001B[39;00m v:\n",
      "File \u001B[1;32m~\\Documents\\DissertationProject\\venv_python\\lib\\site-packages\\pmdarima\\arima\\arima.py:603\u001B[0m, in \u001B[0;36mARIMA.fit\u001B[1;34m(self, y, X, **fit_args)\u001B[0m\n\u001B[0;32m    600\u001B[0m         X \u001B[38;5;241m=\u001B[39m safe_indexing(X, \u001B[38;5;28mslice\u001B[39m(\u001B[38;5;241m0\u001B[39m, n_exog \u001B[38;5;241m-\u001B[39m cv))\n\u001B[0;32m    602\u001B[0m \u001B[38;5;66;03m# Internal call\u001B[39;00m\n\u001B[1;32m--> 603\u001B[0m \u001B[38;5;28mself\u001B[39m\u001B[38;5;241m.\u001B[39m_fit(y, X, \u001B[38;5;241m*\u001B[39m\u001B[38;5;241m*\u001B[39mfit_args)\n\u001B[0;32m    605\u001B[0m \u001B[38;5;66;03m# now make a forecast if we're validating to compute the\u001B[39;00m\n\u001B[0;32m    606\u001B[0m \u001B[38;5;66;03m# out-of-sample score\u001B[39;00m\n\u001B[0;32m    607\u001B[0m \u001B[38;5;28;01mif\u001B[39;00m cv_samples \u001B[38;5;129;01mis\u001B[39;00m \u001B[38;5;129;01mnot\u001B[39;00m \u001B[38;5;28;01mNone\u001B[39;00m:\n\u001B[0;32m    608\u001B[0m     \u001B[38;5;66;03m# get the predictions (use self.predict, which calls forecast\u001B[39;00m\n\u001B[0;32m    609\u001B[0m     \u001B[38;5;66;03m# from statsmodels internally)\u001B[39;00m\n",
      "File \u001B[1;32m~\\Documents\\DissertationProject\\venv_python\\lib\\site-packages\\pmdarima\\arima\\arima.py:524\u001B[0m, in \u001B[0;36mARIMA._fit\u001B[1;34m(self, y, X, **fit_args)\u001B[0m\n\u001B[0;32m    522\u001B[0m     \u001B[38;5;28;01mwith\u001B[39;00m warnings\u001B[38;5;241m.\u001B[39mcatch_warnings(record\u001B[38;5;241m=\u001B[39m\u001B[38;5;28;01mFalse\u001B[39;00m):\n\u001B[0;32m    523\u001B[0m         warnings\u001B[38;5;241m.\u001B[39msimplefilter(\u001B[38;5;124m'\u001B[39m\u001B[38;5;124mignore\u001B[39m\u001B[38;5;124m'\u001B[39m)\n\u001B[1;32m--> 524\u001B[0m         fit, \u001B[38;5;28mself\u001B[39m\u001B[38;5;241m.\u001B[39marima_res_ \u001B[38;5;241m=\u001B[39m \u001B[43m_fit_wrapper\u001B[49m\u001B[43m(\u001B[49m\u001B[43m)\u001B[49m\n\u001B[0;32m    525\u001B[0m \u001B[38;5;28;01melse\u001B[39;00m:\n\u001B[0;32m    526\u001B[0m     fit, \u001B[38;5;28mself\u001B[39m\u001B[38;5;241m.\u001B[39marima_res_ \u001B[38;5;241m=\u001B[39m _fit_wrapper()\n",
      "File \u001B[1;32m~\\Documents\\DissertationProject\\venv_python\\lib\\site-packages\\pmdarima\\arima\\arima.py:510\u001B[0m, in \u001B[0;36mARIMA._fit.<locals>._fit_wrapper\u001B[1;34m()\u001B[0m\n\u001B[0;32m    507\u001B[0m _maxiter \u001B[38;5;241m=\u001B[39m fit_args\u001B[38;5;241m.\u001B[39mpop(\u001B[38;5;124m\"\u001B[39m\u001B[38;5;124mmaxiter\u001B[39m\u001B[38;5;124m\"\u001B[39m, _maxiter)\n\u001B[0;32m    509\u001B[0m disp \u001B[38;5;241m=\u001B[39m fit_args\u001B[38;5;241m.\u001B[39mpop(\u001B[38;5;124m\"\u001B[39m\u001B[38;5;124mdisp\u001B[39m\u001B[38;5;124m\"\u001B[39m, \u001B[38;5;241m0\u001B[39m)\n\u001B[1;32m--> 510\u001B[0m fitted \u001B[38;5;241m=\u001B[39m arima\u001B[38;5;241m.\u001B[39mfit(\n\u001B[0;32m    511\u001B[0m     start_params\u001B[38;5;241m=\u001B[39mstart_params,\n\u001B[0;32m    512\u001B[0m     method\u001B[38;5;241m=\u001B[39mmethod,\n\u001B[0;32m    513\u001B[0m     maxiter\u001B[38;5;241m=\u001B[39m_maxiter,\n\u001B[0;32m    514\u001B[0m     disp\u001B[38;5;241m=\u001B[39mdisp,\n\u001B[0;32m    515\u001B[0m     \u001B[38;5;241m*\u001B[39m\u001B[38;5;241m*\u001B[39mfit_args,\n\u001B[0;32m    516\u001B[0m )\n\u001B[0;32m    518\u001B[0m \u001B[38;5;28;01mreturn\u001B[39;00m arima, fitted\n",
      "File \u001B[1;32m~\\Documents\\DissertationProject\\venv_python\\lib\\site-packages\\statsmodels\\tsa\\statespace\\mlemodel.py:651\u001B[0m, in \u001B[0;36mMLEModel.fit\u001B[1;34m(self, start_params, transformed, includes_fixed, cov_type, cov_kwds, method, maxiter, full_output, disp, callback, return_params, optim_score, optim_complex_step, optim_hessian, flags, low_memory, **kwargs)\u001B[0m\n\u001B[0;32m    531\u001B[0m \u001B[38;5;250m\u001B[39m\u001B[38;5;124;03m\"\"\"\u001B[39;00m\n\u001B[0;32m    532\u001B[0m \u001B[38;5;124;03mFits the model by maximum likelihood via Kalman filter.\u001B[39;00m\n\u001B[0;32m    533\u001B[0m \n\u001B[1;32m   (...)\u001B[0m\n\u001B[0;32m    648\u001B[0m \u001B[38;5;124;03mstatsmodels.tsa.statespace.structural.UnobservedComponentsResults\u001B[39;00m\n\u001B[0;32m    649\u001B[0m \u001B[38;5;124;03m\"\"\"\u001B[39;00m\n\u001B[0;32m    650\u001B[0m \u001B[38;5;28;01mif\u001B[39;00m start_params \u001B[38;5;129;01mis\u001B[39;00m \u001B[38;5;28;01mNone\u001B[39;00m:\n\u001B[1;32m--> 651\u001B[0m     start_params \u001B[38;5;241m=\u001B[39m \u001B[38;5;28;43mself\u001B[39;49m\u001B[38;5;241;43m.\u001B[39;49m\u001B[43mstart_params\u001B[49m\n\u001B[0;32m    652\u001B[0m     transformed \u001B[38;5;241m=\u001B[39m \u001B[38;5;28;01mTrue\u001B[39;00m\n\u001B[0;32m    653\u001B[0m     includes_fixed \u001B[38;5;241m=\u001B[39m \u001B[38;5;28;01mTrue\u001B[39;00m\n",
      "File \u001B[1;32m~\\Documents\\DissertationProject\\venv_python\\lib\\site-packages\\statsmodels\\tsa\\statespace\\sarimax.py:953\u001B[0m, in \u001B[0;36mSARIMAX.start_params\u001B[1;34m(self)\u001B[0m\n\u001B[0;32m    949\u001B[0m     params_exog \u001B[38;5;241m=\u001B[39m []\n\u001B[0;32m    951\u001B[0m \u001B[38;5;66;03m# Non-seasonal ARMA component and trend\u001B[39;00m\n\u001B[0;32m    952\u001B[0m (params_trend, params_ar, params_ma,\n\u001B[1;32m--> 953\u001B[0m  params_variance) \u001B[38;5;241m=\u001B[39m \u001B[38;5;28;43mself\u001B[39;49m\u001B[38;5;241;43m.\u001B[39;49m\u001B[43m_conditional_sum_squares\u001B[49m\u001B[43m(\u001B[49m\n\u001B[0;32m    954\u001B[0m \u001B[43m    \u001B[49m\u001B[43mendog\u001B[49m\u001B[43m,\u001B[49m\u001B[43m \u001B[49m\u001B[38;5;28;43mself\u001B[39;49m\u001B[38;5;241;43m.\u001B[39;49m\u001B[43mk_ar\u001B[49m\u001B[43m,\u001B[49m\u001B[43m \u001B[49m\u001B[38;5;28;43mself\u001B[39;49m\u001B[38;5;241;43m.\u001B[39;49m\u001B[43mpolynomial_ar\u001B[49m\u001B[43m,\u001B[49m\u001B[43m \u001B[49m\u001B[38;5;28;43mself\u001B[39;49m\u001B[38;5;241;43m.\u001B[39;49m\u001B[43mk_ma\u001B[49m\u001B[43m,\u001B[49m\n\u001B[0;32m    955\u001B[0m \u001B[43m    \u001B[49m\u001B[38;5;28;43mself\u001B[39;49m\u001B[38;5;241;43m.\u001B[39;49m\u001B[43mpolynomial_ma\u001B[49m\u001B[43m,\u001B[49m\u001B[43m \u001B[49m\u001B[38;5;28;43mself\u001B[39;49m\u001B[38;5;241;43m.\u001B[39;49m\u001B[43m_k_trend\u001B[49m\u001B[43m,\u001B[49m\u001B[43m \u001B[49m\u001B[43mtrend_data\u001B[49m\u001B[43m,\u001B[49m\n\u001B[0;32m    956\u001B[0m \u001B[43m    \u001B[49m\u001B[43mwarning_description\u001B[49m\u001B[38;5;241;43m=\u001B[39;49m\u001B[38;5;124;43m'\u001B[39;49m\u001B[38;5;124;43mARMA and trend\u001B[39;49m\u001B[38;5;124;43m'\u001B[39;49m\u001B[43m)\u001B[49m\n\u001B[0;32m    958\u001B[0m \u001B[38;5;66;03m# If we have estimated non-stationary start parameters but enforce\u001B[39;00m\n\u001B[0;32m    959\u001B[0m \u001B[38;5;66;03m# stationarity is on, start with 0 parameters and warn\u001B[39;00m\n\u001B[0;32m    960\u001B[0m invalid_ar \u001B[38;5;241m=\u001B[39m (\n\u001B[0;32m    961\u001B[0m     \u001B[38;5;28mself\u001B[39m\u001B[38;5;241m.\u001B[39mk_ar \u001B[38;5;241m>\u001B[39m \u001B[38;5;241m0\u001B[39m \u001B[38;5;129;01mand\u001B[39;00m\n\u001B[0;32m    962\u001B[0m     \u001B[38;5;28mself\u001B[39m\u001B[38;5;241m.\u001B[39menforce_stationarity \u001B[38;5;129;01mand\u001B[39;00m\n\u001B[0;32m    963\u001B[0m     \u001B[38;5;129;01mnot\u001B[39;00m is_invertible(np\u001B[38;5;241m.\u001B[39mr_[\u001B[38;5;241m1\u001B[39m, \u001B[38;5;241m-\u001B[39mparams_ar])\n\u001B[0;32m    964\u001B[0m )\n",
      "File \u001B[1;32m~\\Documents\\DissertationProject\\venv_python\\lib\\site-packages\\statsmodels\\tsa\\statespace\\sarimax.py:843\u001B[0m, in \u001B[0;36mSARIMAX._conditional_sum_squares\u001B[1;34m(endog, k_ar, polynomial_ar, k_ma, polynomial_ma, k_trend, trend_data, warning_description)\u001B[0m\n\u001B[0;32m    839\u001B[0m     residuals \u001B[38;5;241m=\u001B[39m Y \u001B[38;5;241m-\u001B[39m np\u001B[38;5;241m.\u001B[39mdot(X, params_ar)\n\u001B[0;32m    841\u001B[0m \u001B[38;5;66;03m# Run an ARMA(p,q) model using the just computed residuals as\u001B[39;00m\n\u001B[0;32m    842\u001B[0m \u001B[38;5;66;03m# data\u001B[39;00m\n\u001B[1;32m--> 843\u001B[0m Y \u001B[38;5;241m=\u001B[39m \u001B[43mendog\u001B[49m\u001B[43m[\u001B[49m\u001B[43mr\u001B[49m\u001B[43m:\u001B[49m\u001B[43m]\u001B[49m\n\u001B[0;32m    845\u001B[0m X \u001B[38;5;241m=\u001B[39m np\u001B[38;5;241m.\u001B[39mempty((Y\u001B[38;5;241m.\u001B[39mshape[\u001B[38;5;241m0\u001B[39m], \u001B[38;5;241m0\u001B[39m))\n\u001B[0;32m    846\u001B[0m \u001B[38;5;28;01mif\u001B[39;00m k_trend \u001B[38;5;241m>\u001B[39m \u001B[38;5;241m0\u001B[39m:\n",
      "\u001B[1;31mIndexError\u001B[0m: too many indices for array: array is 0-dimensional, but 1 were indexed"
     ]
    }
   ],
   "source": [
    "HRforecaster = ARIMAmodel.ARIMAForecaster('HR', train_data, test_data)\n",
    "HRforecaster.fit()\n",
    "forecasts = HRforecaster.predict(steps=6)\n",
    "\n",
    "HRforecaster.plot_forecast(forecasts, patient_id=56, steps=6)"
   ],
   "metadata": {
    "collapsed": false,
    "ExecuteTime": {
     "end_time": "2025-03-29T17:07:16.183981600Z",
     "start_time": "2025-03-29T17:06:16.800361900Z"
    }
   },
   "id": "235bef66ecac3637"
  },
  {
   "cell_type": "code",
   "execution_count": null,
   "outputs": [],
   "source": [
    "print(forecasts)"
   ],
   "metadata": {
    "collapsed": false,
    "ExecuteTime": {
     "start_time": "2025-03-29T16:10:26.368317200Z"
    }
   },
   "id": "b3d58139d3de2864"
  },
  {
   "cell_type": "code",
   "execution_count": null,
   "outputs": [],
   "source": [
    "HRforecaster.evaluate_model(forecasts)"
   ],
   "metadata": {
    "collapsed": false,
    "ExecuteTime": {
     "start_time": "2025-03-29T16:10:26.368317200Z"
    }
   },
   "id": "2e5dd37f6d875da4"
  },
  {
   "cell_type": "code",
   "execution_count": null,
   "outputs": [],
   "source": [
    "from sktime.datasets import load_basic_motions\n",
    "basic_motions = load_basic_motions()\n",
    "basic_motions\n"
   ],
   "metadata": {
    "collapsed": false,
    "ExecuteTime": {
     "start_time": "2025-03-29T16:10:26.368317200Z"
    }
   },
   "id": "499efd6c82bc7c68"
  },
  {
   "cell_type": "code",
   "execution_count": null,
   "outputs": [],
   "source": [],
   "metadata": {
    "collapsed": false,
    "ExecuteTime": {
     "start_time": "2025-03-29T16:10:26.368317200Z"
    }
   },
   "id": "8e9a8c75f1fbe99a"
  }
 ],
 "metadata": {
  "kernelspec": {
   "display_name": "Python 3",
   "language": "python",
   "name": "python3"
  },
  "language_info": {
   "codemirror_mode": {
    "name": "ipython",
    "version": 2
   },
   "file_extension": ".py",
   "mimetype": "text/x-python",
   "name": "python",
   "nbconvert_exporter": "python",
   "pygments_lexer": "ipython2",
   "version": "2.7.6"
  }
 },
 "nbformat": 4,
 "nbformat_minor": 5
}
