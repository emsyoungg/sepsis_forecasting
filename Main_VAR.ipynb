{
 "cells": [
  {
   "cell_type": "code",
   "execution_count": 1,
   "outputs": [],
   "source": [
    "import  VARmodel"
   ],
   "metadata": {
    "collapsed": false,
    "ExecuteTime": {
     "end_time": "2025-03-31T11:47:08.576970300Z",
     "start_time": "2025-03-31T11:47:06.433001800Z"
    }
   },
   "id": "5a7ea1453ef7e55c"
  },
  {
   "cell_type": "code",
   "execution_count": 2,
   "outputs": [
    {
     "name": "stdout",
     "output_type": "stream",
     "text": [
      "<class 'list'>\n",
      "Patient 1: Dropping — constant columns found\n"
     ]
    }
   ],
   "source": [
    "import loadDataForSKtime\n",
    "\n",
    "loader = loadDataForSKtime.PatientTimeSeriesLoader(\n",
    "    \"C:/Users/emily/Documents/DissertationProject/training/training_setA_csv\", ['HR', 'O2Sat', 'SBP', 'MAP', 'DBP', 'Resp', 'Temp'])\n",
    "df = loader.load_data(2)\n",
    "train_data, test_data = loader.split_train_test(df)\n"
   ],
   "metadata": {
    "collapsed": false,
    "ExecuteTime": {
     "end_time": "2025-03-31T11:47:09.745253500Z",
     "start_time": "2025-03-31T11:47:09.222110300Z"
    }
   },
   "id": "b5dc8bde1f8770e8"
  },
  {
   "cell_type": "code",
   "execution_count": 3,
   "outputs": [
    {
     "data": {
      "text/plain": "                     HR  O2Sat    SBP    MAP   DBP  Resp   Temp\nPatient_ID ICULOS                                              \n2          1       -1.0   -1.0   -1.0   -1.0  -1.0  -1.0  -1.00\n           2       61.0   99.0  124.0   65.0  43.0  17.5  36.44\n           3       64.0   98.0  125.0   64.0  41.0  27.0  -1.00\n           4       56.0  100.0  123.0   65.0  41.0   9.0  -1.00\n           5       66.0   99.0  120.0   67.0  43.0  23.0  -1.00\n           6       94.0  100.0  194.0  116.0  66.0  14.0  36.22\n           7       58.0   99.0  133.0   68.0  43.0  13.0  -1.00\n           8       57.0  100.0  118.0   62.0  37.0  18.0  -1.00\n           9       62.0  100.0  126.0   66.0  37.0  12.0  -1.00\n           10      58.0   95.0  143.0   77.0  47.0  11.0  36.11\n           11      60.0   95.0  153.0   83.0  49.0  13.0  -1.00\n           12      60.0   94.0  140.0   74.0  44.0  12.0  -1.00\n           13      62.0   95.0  139.0   72.0  44.0  12.0  -1.00\n           14      63.0   95.0  143.0   75.0  44.0  11.0  -1.00\n           15      63.0   97.0  154.0   81.0  46.0  11.0  36.11\n           16      58.0   94.0  114.0   58.0  36.0  10.0  -1.00\n           17      54.0   97.0   -1.0   50.5  -1.0  12.0  -1.00\n           18      55.0   97.0   -1.0   52.0  -1.0  16.0  36.00\n           19      54.0   95.0   -1.0   53.0  -1.0  -1.0  -1.00\n           20      63.0   98.0   -1.0   58.0  -1.0  -1.0  -1.00\n           21      57.0   95.0   -1.0   52.0  -1.0  -1.0  -1.00\n           22      61.0   97.0   -1.0   58.0  -1.0  18.0  36.11\n           23      55.0   95.0   -1.0   51.0  -1.0  11.0  -1.00",
      "text/html": "<div>\n<style scoped>\n    .dataframe tbody tr th:only-of-type {\n        vertical-align: middle;\n    }\n\n    .dataframe tbody tr th {\n        vertical-align: top;\n    }\n\n    .dataframe thead th {\n        text-align: right;\n    }\n</style>\n<table border=\"1\" class=\"dataframe\">\n  <thead>\n    <tr style=\"text-align: right;\">\n      <th></th>\n      <th></th>\n      <th>HR</th>\n      <th>O2Sat</th>\n      <th>SBP</th>\n      <th>MAP</th>\n      <th>DBP</th>\n      <th>Resp</th>\n      <th>Temp</th>\n    </tr>\n    <tr>\n      <th>Patient_ID</th>\n      <th>ICULOS</th>\n      <th></th>\n      <th></th>\n      <th></th>\n      <th></th>\n      <th></th>\n      <th></th>\n      <th></th>\n    </tr>\n  </thead>\n  <tbody>\n    <tr>\n      <th rowspan=\"23\" valign=\"top\">2</th>\n      <th>1</th>\n      <td>-1.0</td>\n      <td>-1.0</td>\n      <td>-1.0</td>\n      <td>-1.0</td>\n      <td>-1.0</td>\n      <td>-1.0</td>\n      <td>-1.00</td>\n    </tr>\n    <tr>\n      <th>2</th>\n      <td>61.0</td>\n      <td>99.0</td>\n      <td>124.0</td>\n      <td>65.0</td>\n      <td>43.0</td>\n      <td>17.5</td>\n      <td>36.44</td>\n    </tr>\n    <tr>\n      <th>3</th>\n      <td>64.0</td>\n      <td>98.0</td>\n      <td>125.0</td>\n      <td>64.0</td>\n      <td>41.0</td>\n      <td>27.0</td>\n      <td>-1.00</td>\n    </tr>\n    <tr>\n      <th>4</th>\n      <td>56.0</td>\n      <td>100.0</td>\n      <td>123.0</td>\n      <td>65.0</td>\n      <td>41.0</td>\n      <td>9.0</td>\n      <td>-1.00</td>\n    </tr>\n    <tr>\n      <th>5</th>\n      <td>66.0</td>\n      <td>99.0</td>\n      <td>120.0</td>\n      <td>67.0</td>\n      <td>43.0</td>\n      <td>23.0</td>\n      <td>-1.00</td>\n    </tr>\n    <tr>\n      <th>6</th>\n      <td>94.0</td>\n      <td>100.0</td>\n      <td>194.0</td>\n      <td>116.0</td>\n      <td>66.0</td>\n      <td>14.0</td>\n      <td>36.22</td>\n    </tr>\n    <tr>\n      <th>7</th>\n      <td>58.0</td>\n      <td>99.0</td>\n      <td>133.0</td>\n      <td>68.0</td>\n      <td>43.0</td>\n      <td>13.0</td>\n      <td>-1.00</td>\n    </tr>\n    <tr>\n      <th>8</th>\n      <td>57.0</td>\n      <td>100.0</td>\n      <td>118.0</td>\n      <td>62.0</td>\n      <td>37.0</td>\n      <td>18.0</td>\n      <td>-1.00</td>\n    </tr>\n    <tr>\n      <th>9</th>\n      <td>62.0</td>\n      <td>100.0</td>\n      <td>126.0</td>\n      <td>66.0</td>\n      <td>37.0</td>\n      <td>12.0</td>\n      <td>-1.00</td>\n    </tr>\n    <tr>\n      <th>10</th>\n      <td>58.0</td>\n      <td>95.0</td>\n      <td>143.0</td>\n      <td>77.0</td>\n      <td>47.0</td>\n      <td>11.0</td>\n      <td>36.11</td>\n    </tr>\n    <tr>\n      <th>11</th>\n      <td>60.0</td>\n      <td>95.0</td>\n      <td>153.0</td>\n      <td>83.0</td>\n      <td>49.0</td>\n      <td>13.0</td>\n      <td>-1.00</td>\n    </tr>\n    <tr>\n      <th>12</th>\n      <td>60.0</td>\n      <td>94.0</td>\n      <td>140.0</td>\n      <td>74.0</td>\n      <td>44.0</td>\n      <td>12.0</td>\n      <td>-1.00</td>\n    </tr>\n    <tr>\n      <th>13</th>\n      <td>62.0</td>\n      <td>95.0</td>\n      <td>139.0</td>\n      <td>72.0</td>\n      <td>44.0</td>\n      <td>12.0</td>\n      <td>-1.00</td>\n    </tr>\n    <tr>\n      <th>14</th>\n      <td>63.0</td>\n      <td>95.0</td>\n      <td>143.0</td>\n      <td>75.0</td>\n      <td>44.0</td>\n      <td>11.0</td>\n      <td>-1.00</td>\n    </tr>\n    <tr>\n      <th>15</th>\n      <td>63.0</td>\n      <td>97.0</td>\n      <td>154.0</td>\n      <td>81.0</td>\n      <td>46.0</td>\n      <td>11.0</td>\n      <td>36.11</td>\n    </tr>\n    <tr>\n      <th>16</th>\n      <td>58.0</td>\n      <td>94.0</td>\n      <td>114.0</td>\n      <td>58.0</td>\n      <td>36.0</td>\n      <td>10.0</td>\n      <td>-1.00</td>\n    </tr>\n    <tr>\n      <th>17</th>\n      <td>54.0</td>\n      <td>97.0</td>\n      <td>-1.0</td>\n      <td>50.5</td>\n      <td>-1.0</td>\n      <td>12.0</td>\n      <td>-1.00</td>\n    </tr>\n    <tr>\n      <th>18</th>\n      <td>55.0</td>\n      <td>97.0</td>\n      <td>-1.0</td>\n      <td>52.0</td>\n      <td>-1.0</td>\n      <td>16.0</td>\n      <td>36.00</td>\n    </tr>\n    <tr>\n      <th>19</th>\n      <td>54.0</td>\n      <td>95.0</td>\n      <td>-1.0</td>\n      <td>53.0</td>\n      <td>-1.0</td>\n      <td>-1.0</td>\n      <td>-1.00</td>\n    </tr>\n    <tr>\n      <th>20</th>\n      <td>63.0</td>\n      <td>98.0</td>\n      <td>-1.0</td>\n      <td>58.0</td>\n      <td>-1.0</td>\n      <td>-1.0</td>\n      <td>-1.00</td>\n    </tr>\n    <tr>\n      <th>21</th>\n      <td>57.0</td>\n      <td>95.0</td>\n      <td>-1.0</td>\n      <td>52.0</td>\n      <td>-1.0</td>\n      <td>-1.0</td>\n      <td>-1.00</td>\n    </tr>\n    <tr>\n      <th>22</th>\n      <td>61.0</td>\n      <td>97.0</td>\n      <td>-1.0</td>\n      <td>58.0</td>\n      <td>-1.0</td>\n      <td>18.0</td>\n      <td>36.11</td>\n    </tr>\n    <tr>\n      <th>23</th>\n      <td>55.0</td>\n      <td>95.0</td>\n      <td>-1.0</td>\n      <td>51.0</td>\n      <td>-1.0</td>\n      <td>11.0</td>\n      <td>-1.00</td>\n    </tr>\n  </tbody>\n</table>\n</div>"
     },
     "execution_count": 3,
     "metadata": {},
     "output_type": "execute_result"
    }
   ],
   "source": [
    "df"
   ],
   "metadata": {
    "collapsed": false,
    "ExecuteTime": {
     "end_time": "2025-03-31T11:46:24.633321800Z",
     "start_time": "2025-03-31T11:46:24.582321300Z"
    }
   },
   "id": "e65059d3fd85bf59"
  },
  {
   "cell_type": "code",
   "execution_count": 4,
   "outputs": [],
   "source": [
    "VARforecaster = VARmodel.VARForecaster(train_data, test_data, ['HR', 'O2Sat', 'SBP', 'MAP', 'DBP', 'Resp', 'Temp'])"
   ],
   "metadata": {
    "collapsed": false,
    "ExecuteTime": {
     "end_time": "2025-03-31T11:47:17.470187200Z",
     "start_time": "2025-03-31T11:47:17.435445400Z"
    }
   },
   "id": "initial_id"
  },
  {
   "cell_type": "code",
   "execution_count": 5,
   "outputs": [
    {
     "name": "stderr",
     "output_type": "stream",
     "text": [
      "C:\\Users\\emily\\Documents\\DissertationProject\\venv_python\\lib\\site-packages\\statsmodels\\tsa\\base\\tsa_model.py:473: ValueWarning: An unsupported index was provided. As a result, forecasts cannot be generated. To use the model for forecasting, use one of the supported classes of index.\n",
      "  self._init_dates(dates, freq)\n"
     ]
    }
   ],
   "source": [
    "VARforecaster.fit()\n",
    "VARforecasts = VARforecaster.predict(steps=6)"
   ],
   "metadata": {
    "collapsed": false,
    "ExecuteTime": {
     "end_time": "2025-03-31T11:47:20.164210400Z",
     "start_time": "2025-03-31T11:47:19.671065900Z"
    }
   },
   "id": "a8fefbea5a8677fd"
  },
  {
   "cell_type": "code",
   "execution_count": 7,
   "outputs": [
    {
     "data": {
      "text/plain": "                           HR       O2Sat          SBP         MAP  \\\nPatient_ID ICULOS                                                    \n2          18      171.176837  108.968097   485.274444  240.446727   \n           19      -60.769534   85.888411  -274.308747 -126.147436   \n           20      223.394492  115.845614   677.275379  332.817162   \n           21     -147.285577   72.612998  -580.352054 -261.181618   \n           22      350.995182  129.160896  1114.002942  533.330476   \n           23     -324.824378   54.079897 -1184.576543 -546.620298   \n\n                          DBP       Resp        Temp  \nPatient_ID ICULOS                                     \n2          18      176.525205  10.403367  218.709099  \n           19     -105.634545  40.368749 -285.258646  \n           20      238.638055 -20.859384  338.771774  \n           21     -215.904498  51.846553 -418.180344  \n           22      399.088868 -37.730565  602.315964  \n           23     -435.473346  84.743349 -796.224556  ",
      "text/html": "<div>\n<style scoped>\n    .dataframe tbody tr th:only-of-type {\n        vertical-align: middle;\n    }\n\n    .dataframe tbody tr th {\n        vertical-align: top;\n    }\n\n    .dataframe thead th {\n        text-align: right;\n    }\n</style>\n<table border=\"1\" class=\"dataframe\">\n  <thead>\n    <tr style=\"text-align: right;\">\n      <th></th>\n      <th></th>\n      <th>HR</th>\n      <th>O2Sat</th>\n      <th>SBP</th>\n      <th>MAP</th>\n      <th>DBP</th>\n      <th>Resp</th>\n      <th>Temp</th>\n    </tr>\n    <tr>\n      <th>Patient_ID</th>\n      <th>ICULOS</th>\n      <th></th>\n      <th></th>\n      <th></th>\n      <th></th>\n      <th></th>\n      <th></th>\n      <th></th>\n    </tr>\n  </thead>\n  <tbody>\n    <tr>\n      <th rowspan=\"6\" valign=\"top\">2</th>\n      <th>18</th>\n      <td>171.176837</td>\n      <td>108.968097</td>\n      <td>485.274444</td>\n      <td>240.446727</td>\n      <td>176.525205</td>\n      <td>10.403367</td>\n      <td>218.709099</td>\n    </tr>\n    <tr>\n      <th>19</th>\n      <td>-60.769534</td>\n      <td>85.888411</td>\n      <td>-274.308747</td>\n      <td>-126.147436</td>\n      <td>-105.634545</td>\n      <td>40.368749</td>\n      <td>-285.258646</td>\n    </tr>\n    <tr>\n      <th>20</th>\n      <td>223.394492</td>\n      <td>115.845614</td>\n      <td>677.275379</td>\n      <td>332.817162</td>\n      <td>238.638055</td>\n      <td>-20.859384</td>\n      <td>338.771774</td>\n    </tr>\n    <tr>\n      <th>21</th>\n      <td>-147.285577</td>\n      <td>72.612998</td>\n      <td>-580.352054</td>\n      <td>-261.181618</td>\n      <td>-215.904498</td>\n      <td>51.846553</td>\n      <td>-418.180344</td>\n    </tr>\n    <tr>\n      <th>22</th>\n      <td>350.995182</td>\n      <td>129.160896</td>\n      <td>1114.002942</td>\n      <td>533.330476</td>\n      <td>399.088868</td>\n      <td>-37.730565</td>\n      <td>602.315964</td>\n    </tr>\n    <tr>\n      <th>23</th>\n      <td>-324.824378</td>\n      <td>54.079897</td>\n      <td>-1184.576543</td>\n      <td>-546.620298</td>\n      <td>-435.473346</td>\n      <td>84.743349</td>\n      <td>-796.224556</td>\n    </tr>\n  </tbody>\n</table>\n</div>"
     },
     "execution_count": 7,
     "metadata": {},
     "output_type": "execute_result"
    }
   ],
   "source": [
    "VARforecasts"
   ],
   "metadata": {
    "collapsed": false,
    "ExecuteTime": {
     "end_time": "2025-03-31T11:30:50.146165400Z",
     "start_time": "2025-03-31T11:30:50.112362700Z"
    }
   },
   "id": "3e3ec533a8b6bf08"
  },
  {
   "cell_type": "code",
   "execution_count": 6,
   "outputs": [
    {
     "name": "stdout",
     "output_type": "stream",
     "text": [
      "Mean Absolute Error: 289.28412517324244\n"
     ]
    }
   ],
   "source": [
    "VARforecaster.evaluate_model(VARforecasts)"
   ],
   "metadata": {
    "collapsed": false,
    "ExecuteTime": {
     "end_time": "2025-03-31T11:46:40.142079900Z",
     "start_time": "2025-03-31T11:46:40.116154900Z"
    }
   },
   "id": "8bb7b4da12c95acb"
  },
  {
   "cell_type": "code",
   "execution_count": 6,
   "outputs": [
    {
     "ename": "ValueError",
     "evalue": "setting an array element with a sequence.",
     "output_type": "error",
     "traceback": [
      "\u001B[1;31m---------------------------------------------------------------------------\u001B[0m",
      "\u001B[1;31mTypeError\u001B[0m                                 Traceback (most recent call last)",
      "\u001B[1;31mTypeError\u001B[0m: float() argument must be a string or a real number, not 'tuple'",
      "\nThe above exception was the direct cause of the following exception:\n",
      "\u001B[1;31mValueError\u001B[0m                                Traceback (most recent call last)",
      "Cell \u001B[1;32mIn[6], line 1\u001B[0m\n\u001B[1;32m----> 1\u001B[0m \u001B[43mVARforecaster\u001B[49m\u001B[38;5;241;43m.\u001B[39;49m\u001B[43mplot_forecast\u001B[49m\u001B[43m(\u001B[49m\u001B[43mVARforecasts\u001B[49m\u001B[43m)\u001B[49m\n",
      "File \u001B[1;32m~\\Documents\\DissertationProject\\VARmodel.py:33\u001B[0m, in \u001B[0;36mVARForecaster.plot_forecast\u001B[1;34m(self, forecasts)\u001B[0m\n\u001B[0;32m     30\u001B[0m forecast_series \u001B[38;5;241m=\u001B[39m forecasts[feature]\n\u001B[0;32m     32\u001B[0m plt\u001B[38;5;241m.\u001B[39msubplot(\u001B[38;5;28mlen\u001B[39m(\u001B[38;5;28mself\u001B[39m\u001B[38;5;241m.\u001B[39mfeatures), \u001B[38;5;241m1\u001B[39m, i \u001B[38;5;241m+\u001B[39m \u001B[38;5;241m1\u001B[39m)\n\u001B[1;32m---> 33\u001B[0m \u001B[43mplt\u001B[49m\u001B[38;5;241;43m.\u001B[39;49m\u001B[43mplot\u001B[49m\u001B[43m(\u001B[49m\u001B[43mactual_series\u001B[49m\u001B[38;5;241;43m.\u001B[39;49m\u001B[43mindex\u001B[49m\u001B[43m,\u001B[49m\u001B[43m \u001B[49m\u001B[43mactual_series\u001B[49m\u001B[43m,\u001B[49m\u001B[43m \u001B[49m\u001B[43mlabel\u001B[49m\u001B[38;5;241;43m=\u001B[39;49m\u001B[38;5;124;43mf\u001B[39;49m\u001B[38;5;124;43m\"\u001B[39;49m\u001B[38;5;124;43mActual \u001B[39;49m\u001B[38;5;132;43;01m{\u001B[39;49;00m\u001B[43mfeature\u001B[49m\u001B[38;5;132;43;01m}\u001B[39;49;00m\u001B[38;5;124;43m\"\u001B[39;49m\u001B[43m,\u001B[49m\u001B[43m \u001B[49m\u001B[43mcolor\u001B[49m\u001B[38;5;241;43m=\u001B[39;49m\u001B[38;5;124;43m\"\u001B[39;49m\u001B[38;5;124;43mblue\u001B[39;49m\u001B[38;5;124;43m\"\u001B[39;49m\u001B[43m)\u001B[49m\n\u001B[0;32m     34\u001B[0m plt\u001B[38;5;241m.\u001B[39mplot(forecast_series\u001B[38;5;241m.\u001B[39mindex, forecast_series,label\u001B[38;5;241m=\u001B[39m\u001B[38;5;124mf\u001B[39m\u001B[38;5;124m\"\u001B[39m\u001B[38;5;124mPredicted \u001B[39m\u001B[38;5;132;01m{\u001B[39;00mfeature\u001B[38;5;132;01m}\u001B[39;00m\u001B[38;5;124m\"\u001B[39m, color\u001B[38;5;241m=\u001B[39m\u001B[38;5;124m\"\u001B[39m\u001B[38;5;124mred\u001B[39m\u001B[38;5;124m\"\u001B[39m, linestyle\u001B[38;5;241m=\u001B[39m\u001B[38;5;124m\"\u001B[39m\u001B[38;5;124m--\u001B[39m\u001B[38;5;124m\"\u001B[39m)\n\u001B[0;32m     35\u001B[0m plt\u001B[38;5;241m.\u001B[39mtitle(\u001B[38;5;124mf\u001B[39m\u001B[38;5;124m\"\u001B[39m\u001B[38;5;132;01m{\u001B[39;00mfeature\u001B[38;5;132;01m}\u001B[39;00m\u001B[38;5;124m Forecast (VAR Model)\u001B[39m\u001B[38;5;124m\"\u001B[39m)\n",
      "File \u001B[1;32m~\\Documents\\DissertationProject\\venv_python\\lib\\site-packages\\matplotlib\\pyplot.py:2812\u001B[0m, in \u001B[0;36mplot\u001B[1;34m(scalex, scaley, data, *args, **kwargs)\u001B[0m\n\u001B[0;32m   2810\u001B[0m \u001B[38;5;129m@_copy_docstring_and_deprecators\u001B[39m(Axes\u001B[38;5;241m.\u001B[39mplot)\n\u001B[0;32m   2811\u001B[0m \u001B[38;5;28;01mdef\u001B[39;00m\u001B[38;5;250m \u001B[39m\u001B[38;5;21mplot\u001B[39m(\u001B[38;5;241m*\u001B[39margs, scalex\u001B[38;5;241m=\u001B[39m\u001B[38;5;28;01mTrue\u001B[39;00m, scaley\u001B[38;5;241m=\u001B[39m\u001B[38;5;28;01mTrue\u001B[39;00m, data\u001B[38;5;241m=\u001B[39m\u001B[38;5;28;01mNone\u001B[39;00m, \u001B[38;5;241m*\u001B[39m\u001B[38;5;241m*\u001B[39mkwargs):\n\u001B[1;32m-> 2812\u001B[0m     \u001B[38;5;28;01mreturn\u001B[39;00m gca()\u001B[38;5;241m.\u001B[39mplot(\n\u001B[0;32m   2813\u001B[0m         \u001B[38;5;241m*\u001B[39margs, scalex\u001B[38;5;241m=\u001B[39mscalex, scaley\u001B[38;5;241m=\u001B[39mscaley,\n\u001B[0;32m   2814\u001B[0m         \u001B[38;5;241m*\u001B[39m\u001B[38;5;241m*\u001B[39m({\u001B[38;5;124m\"\u001B[39m\u001B[38;5;124mdata\u001B[39m\u001B[38;5;124m\"\u001B[39m: data} \u001B[38;5;28;01mif\u001B[39;00m data \u001B[38;5;129;01mis\u001B[39;00m \u001B[38;5;129;01mnot\u001B[39;00m \u001B[38;5;28;01mNone\u001B[39;00m \u001B[38;5;28;01melse\u001B[39;00m {}), \u001B[38;5;241m*\u001B[39m\u001B[38;5;241m*\u001B[39mkwargs)\n",
      "File \u001B[1;32m~\\Documents\\DissertationProject\\venv_python\\lib\\site-packages\\matplotlib\\axes\\_axes.py:1690\u001B[0m, in \u001B[0;36mAxes.plot\u001B[1;34m(self, scalex, scaley, data, *args, **kwargs)\u001B[0m\n\u001B[0;32m   1688\u001B[0m lines \u001B[38;5;241m=\u001B[39m [\u001B[38;5;241m*\u001B[39m\u001B[38;5;28mself\u001B[39m\u001B[38;5;241m.\u001B[39m_get_lines(\u001B[38;5;241m*\u001B[39margs, data\u001B[38;5;241m=\u001B[39mdata, \u001B[38;5;241m*\u001B[39m\u001B[38;5;241m*\u001B[39mkwargs)]\n\u001B[0;32m   1689\u001B[0m \u001B[38;5;28;01mfor\u001B[39;00m line \u001B[38;5;129;01min\u001B[39;00m lines:\n\u001B[1;32m-> 1690\u001B[0m     \u001B[38;5;28;43mself\u001B[39;49m\u001B[38;5;241;43m.\u001B[39;49m\u001B[43madd_line\u001B[49m\u001B[43m(\u001B[49m\u001B[43mline\u001B[49m\u001B[43m)\u001B[49m\n\u001B[0;32m   1691\u001B[0m \u001B[38;5;28;01mif\u001B[39;00m scalex:\n\u001B[0;32m   1692\u001B[0m     \u001B[38;5;28mself\u001B[39m\u001B[38;5;241m.\u001B[39m_request_autoscale_view(\u001B[38;5;124m\"\u001B[39m\u001B[38;5;124mx\u001B[39m\u001B[38;5;124m\"\u001B[39m)\n",
      "File \u001B[1;32m~\\Documents\\DissertationProject\\venv_python\\lib\\site-packages\\matplotlib\\axes\\_base.py:2304\u001B[0m, in \u001B[0;36m_AxesBase.add_line\u001B[1;34m(self, line)\u001B[0m\n\u001B[0;32m   2301\u001B[0m \u001B[38;5;28;01mif\u001B[39;00m line\u001B[38;5;241m.\u001B[39mget_clip_path() \u001B[38;5;129;01mis\u001B[39;00m \u001B[38;5;28;01mNone\u001B[39;00m:\n\u001B[0;32m   2302\u001B[0m     line\u001B[38;5;241m.\u001B[39mset_clip_path(\u001B[38;5;28mself\u001B[39m\u001B[38;5;241m.\u001B[39mpatch)\n\u001B[1;32m-> 2304\u001B[0m \u001B[38;5;28;43mself\u001B[39;49m\u001B[38;5;241;43m.\u001B[39;49m\u001B[43m_update_line_limits\u001B[49m\u001B[43m(\u001B[49m\u001B[43mline\u001B[49m\u001B[43m)\u001B[49m\n\u001B[0;32m   2305\u001B[0m \u001B[38;5;28;01mif\u001B[39;00m \u001B[38;5;129;01mnot\u001B[39;00m line\u001B[38;5;241m.\u001B[39mget_label():\n\u001B[0;32m   2306\u001B[0m     line\u001B[38;5;241m.\u001B[39mset_label(\u001B[38;5;124mf\u001B[39m\u001B[38;5;124m'\u001B[39m\u001B[38;5;124m_child\u001B[39m\u001B[38;5;132;01m{\u001B[39;00m\u001B[38;5;28mlen\u001B[39m(\u001B[38;5;28mself\u001B[39m\u001B[38;5;241m.\u001B[39m_children)\u001B[38;5;132;01m}\u001B[39;00m\u001B[38;5;124m'\u001B[39m)\n",
      "File \u001B[1;32m~\\Documents\\DissertationProject\\venv_python\\lib\\site-packages\\matplotlib\\axes\\_base.py:2327\u001B[0m, in \u001B[0;36m_AxesBase._update_line_limits\u001B[1;34m(self, line)\u001B[0m\n\u001B[0;32m   2323\u001B[0m \u001B[38;5;28;01mdef\u001B[39;00m\u001B[38;5;250m \u001B[39m\u001B[38;5;21m_update_line_limits\u001B[39m(\u001B[38;5;28mself\u001B[39m, line):\n\u001B[0;32m   2324\u001B[0m \u001B[38;5;250m    \u001B[39m\u001B[38;5;124;03m\"\"\"\u001B[39;00m\n\u001B[0;32m   2325\u001B[0m \u001B[38;5;124;03m    Figures out the data limit of the given line, updating self.dataLim.\u001B[39;00m\n\u001B[0;32m   2326\u001B[0m \u001B[38;5;124;03m    \"\"\"\u001B[39;00m\n\u001B[1;32m-> 2327\u001B[0m     path \u001B[38;5;241m=\u001B[39m \u001B[43mline\u001B[49m\u001B[38;5;241;43m.\u001B[39;49m\u001B[43mget_path\u001B[49m\u001B[43m(\u001B[49m\u001B[43m)\u001B[49m\n\u001B[0;32m   2328\u001B[0m     \u001B[38;5;28;01mif\u001B[39;00m path\u001B[38;5;241m.\u001B[39mvertices\u001B[38;5;241m.\u001B[39msize \u001B[38;5;241m==\u001B[39m \u001B[38;5;241m0\u001B[39m:\n\u001B[0;32m   2329\u001B[0m         \u001B[38;5;28;01mreturn\u001B[39;00m\n",
      "File \u001B[1;32m~\\Documents\\DissertationProject\\venv_python\\lib\\site-packages\\matplotlib\\lines.py:1028\u001B[0m, in \u001B[0;36mLine2D.get_path\u001B[1;34m(self)\u001B[0m\n\u001B[0;32m   1026\u001B[0m \u001B[38;5;250m\u001B[39m\u001B[38;5;124;03m\"\"\"Return the `~matplotlib.path.Path` associated with this line.\"\"\"\u001B[39;00m\n\u001B[0;32m   1027\u001B[0m \u001B[38;5;28;01mif\u001B[39;00m \u001B[38;5;28mself\u001B[39m\u001B[38;5;241m.\u001B[39m_invalidy \u001B[38;5;129;01mor\u001B[39;00m \u001B[38;5;28mself\u001B[39m\u001B[38;5;241m.\u001B[39m_invalidx:\n\u001B[1;32m-> 1028\u001B[0m     \u001B[38;5;28;43mself\u001B[39;49m\u001B[38;5;241;43m.\u001B[39;49m\u001B[43mrecache\u001B[49m\u001B[43m(\u001B[49m\u001B[43m)\u001B[49m\n\u001B[0;32m   1029\u001B[0m \u001B[38;5;28;01mreturn\u001B[39;00m \u001B[38;5;28mself\u001B[39m\u001B[38;5;241m.\u001B[39m_path\n",
      "File \u001B[1;32m~\\Documents\\DissertationProject\\venv_python\\lib\\site-packages\\matplotlib\\lines.py:659\u001B[0m, in \u001B[0;36mLine2D.recache\u001B[1;34m(self, always)\u001B[0m\n\u001B[0;32m    657\u001B[0m \u001B[38;5;28;01mif\u001B[39;00m always \u001B[38;5;129;01mor\u001B[39;00m \u001B[38;5;28mself\u001B[39m\u001B[38;5;241m.\u001B[39m_invalidx:\n\u001B[0;32m    658\u001B[0m     xconv \u001B[38;5;241m=\u001B[39m \u001B[38;5;28mself\u001B[39m\u001B[38;5;241m.\u001B[39mconvert_xunits(\u001B[38;5;28mself\u001B[39m\u001B[38;5;241m.\u001B[39m_xorig)\n\u001B[1;32m--> 659\u001B[0m     x \u001B[38;5;241m=\u001B[39m \u001B[43m_to_unmasked_float_array\u001B[49m\u001B[43m(\u001B[49m\u001B[43mxconv\u001B[49m\u001B[43m)\u001B[49m\u001B[38;5;241m.\u001B[39mravel()\n\u001B[0;32m    660\u001B[0m \u001B[38;5;28;01melse\u001B[39;00m:\n\u001B[0;32m    661\u001B[0m     x \u001B[38;5;241m=\u001B[39m \u001B[38;5;28mself\u001B[39m\u001B[38;5;241m.\u001B[39m_x\n",
      "File \u001B[1;32m~\\Documents\\DissertationProject\\venv_python\\lib\\site-packages\\matplotlib\\cbook\\__init__.py:1345\u001B[0m, in \u001B[0;36m_to_unmasked_float_array\u001B[1;34m(x)\u001B[0m\n\u001B[0;32m   1343\u001B[0m     \u001B[38;5;28;01mreturn\u001B[39;00m np\u001B[38;5;241m.\u001B[39mma\u001B[38;5;241m.\u001B[39masarray(x, \u001B[38;5;28mfloat\u001B[39m)\u001B[38;5;241m.\u001B[39mfilled(np\u001B[38;5;241m.\u001B[39mnan)\n\u001B[0;32m   1344\u001B[0m \u001B[38;5;28;01melse\u001B[39;00m:\n\u001B[1;32m-> 1345\u001B[0m     \u001B[38;5;28;01mreturn\u001B[39;00m \u001B[43mnp\u001B[49m\u001B[38;5;241;43m.\u001B[39;49m\u001B[43masarray\u001B[49m\u001B[43m(\u001B[49m\u001B[43mx\u001B[49m\u001B[43m,\u001B[49m\u001B[43m \u001B[49m\u001B[38;5;28;43mfloat\u001B[39;49m\u001B[43m)\u001B[49m\n",
      "\u001B[1;31mValueError\u001B[0m: setting an array element with a sequence."
     ]
    },
    {
     "data": {
      "text/plain": "<Figure size 1200x800 with 1 Axes>",
      "image/png": "[encoded data removed]"
     },
     "metadata": {},
     "output_type": "display_data"
    }
   ],
   "source": [
    "VARforecaster.plot_forecast(VARforecasts)"
   ],
   "metadata": {
    "collapsed": false,
    "ExecuteTime": {
     "end_time": "2025-03-31T11:47:26.277958200Z",
     "start_time": "2025-03-31T11:47:25.055141900Z"
    }
   },
   "id": "344aa43f840a7182"
  },
  {
   "cell_type": "code",
   "execution_count": 10,
   "outputs": [
    {
     "data": {
      "text/plain": "                     HR  O2Sat    SBP    MAP   DBP  Resp   Temp\nPatient_ID ICULOS                                              \n2          1       -1.0   -1.0   -1.0   -1.0  -1.0  -1.0  -1.00\n           2       61.0   99.0  124.0   65.0  43.0  17.5  36.44\n           3       64.0   98.0  125.0   64.0  41.0  27.0  -1.00\n           4       56.0  100.0  123.0   65.0  41.0   9.0  -1.00\n           5       66.0   99.0  120.0   67.0  43.0  23.0  -1.00\n           6       94.0  100.0  194.0  116.0  66.0  14.0  36.22\n           7       58.0   99.0  133.0   68.0  43.0  13.0  -1.00\n           8       57.0  100.0  118.0   62.0  37.0  18.0  -1.00\n           9       62.0  100.0  126.0   66.0  37.0  12.0  -1.00\n           10      58.0   95.0  143.0   77.0  47.0  11.0  36.11\n           11      60.0   95.0  153.0   83.0  49.0  13.0  -1.00\n           12      60.0   94.0  140.0   74.0  44.0  12.0  -1.00\n           13      62.0   95.0  139.0   72.0  44.0  12.0  -1.00\n           14      63.0   95.0  143.0   75.0  44.0  11.0  -1.00\n           15      63.0   97.0  154.0   81.0  46.0  11.0  36.11\n           16      58.0   94.0  114.0   58.0  36.0  10.0  -1.00\n           17      54.0   97.0   -1.0   50.5  -1.0  12.0  -1.00",
      "text/html": "<div>\n<style scoped>\n    .dataframe tbody tr th:only-of-type {\n        vertical-align: middle;\n    }\n\n    .dataframe tbody tr th {\n        vertical-align: top;\n    }\n\n    .dataframe thead th {\n        text-align: right;\n    }\n</style>\n<table border=\"1\" class=\"dataframe\">\n  <thead>\n    <tr style=\"text-align: right;\">\n      <th></th>\n      <th></th>\n      <th>HR</th>\n      <th>O2Sat</th>\n      <th>SBP</th>\n      <th>MAP</th>\n      <th>DBP</th>\n      <th>Resp</th>\n      <th>Temp</th>\n    </tr>\n    <tr>\n      <th>Patient_ID</th>\n      <th>ICULOS</th>\n      <th></th>\n      <th></th>\n      <th></th>\n      <th></th>\n      <th></th>\n      <th></th>\n      <th></th>\n    </tr>\n  </thead>\n  <tbody>\n    <tr>\n      <th rowspan=\"17\" valign=\"top\">2</th>\n      <th>1</th>\n      <td>-1.0</td>\n      <td>-1.0</td>\n      <td>-1.0</td>\n      <td>-1.0</td>\n      <td>-1.0</td>\n      <td>-1.0</td>\n      <td>-1.00</td>\n    </tr>\n    <tr>\n      <th>2</th>\n      <td>61.0</td>\n      <td>99.0</td>\n      <td>124.0</td>\n      <td>65.0</td>\n      <td>43.0</td>\n      <td>17.5</td>\n      <td>36.44</td>\n    </tr>\n    <tr>\n      <th>3</th>\n      <td>64.0</td>\n      <td>98.0</td>\n      <td>125.0</td>\n      <td>64.0</td>\n      <td>41.0</td>\n      <td>27.0</td>\n      <td>-1.00</td>\n    </tr>\n    <tr>\n      <th>4</th>\n      <td>56.0</td>\n      <td>100.0</td>\n      <td>123.0</td>\n      <td>65.0</td>\n      <td>41.0</td>\n      <td>9.0</td>\n      <td>-1.00</td>\n    </tr>\n    <tr>\n      <th>5</th>\n      <td>66.0</td>\n      <td>99.0</td>\n      <td>120.0</td>\n      <td>67.0</td>\n      <td>43.0</td>\n      <td>23.0</td>\n      <td>-1.00</td>\n    </tr>\n    <tr>\n      <th>6</th>\n      <td>94.0</td>\n      <td>100.0</td>\n      <td>194.0</td>\n      <td>116.0</td>\n      <td>66.0</td>\n      <td>14.0</td>\n      <td>36.22</td>\n    </tr>\n    <tr>\n      <th>7</th>\n      <td>58.0</td>\n      <td>99.0</td>\n      <td>133.0</td>\n      <td>68.0</td>\n      <td>43.0</td>\n      <td>13.0</td>\n      <td>-1.00</td>\n    </tr>\n    <tr>\n      <th>8</th>\n      <td>57.0</td>\n      <td>100.0</td>\n      <td>118.0</td>\n      <td>62.0</td>\n      <td>37.0</td>\n      <td>18.0</td>\n      <td>-1.00</td>\n    </tr>\n    <tr>\n      <th>9</th>\n      <td>62.0</td>\n      <td>100.0</td>\n      <td>126.0</td>\n      <td>66.0</td>\n      <td>37.0</td>\n      <td>12.0</td>\n      <td>-1.00</td>\n    </tr>\n    <tr>\n      <th>10</th>\n      <td>58.0</td>\n      <td>95.0</td>\n      <td>143.0</td>\n      <td>77.0</td>\n      <td>47.0</td>\n      <td>11.0</td>\n      <td>36.11</td>\n    </tr>\n    <tr>\n      <th>11</th>\n      <td>60.0</td>\n      <td>95.0</td>\n      <td>153.0</td>\n      <td>83.0</td>\n      <td>49.0</td>\n      <td>13.0</td>\n      <td>-1.00</td>\n    </tr>\n    <tr>\n      <th>12</th>\n      <td>60.0</td>\n      <td>94.0</td>\n      <td>140.0</td>\n      <td>74.0</td>\n      <td>44.0</td>\n      <td>12.0</td>\n      <td>-1.00</td>\n    </tr>\n    <tr>\n      <th>13</th>\n      <td>62.0</td>\n      <td>95.0</td>\n      <td>139.0</td>\n      <td>72.0</td>\n      <td>44.0</td>\n      <td>12.0</td>\n      <td>-1.00</td>\n    </tr>\n    <tr>\n      <th>14</th>\n      <td>63.0</td>\n      <td>95.0</td>\n      <td>143.0</td>\n      <td>75.0</td>\n      <td>44.0</td>\n      <td>11.0</td>\n      <td>-1.00</td>\n    </tr>\n    <tr>\n      <th>15</th>\n      <td>63.0</td>\n      <td>97.0</td>\n      <td>154.0</td>\n      <td>81.0</td>\n      <td>46.0</td>\n      <td>11.0</td>\n      <td>36.11</td>\n    </tr>\n    <tr>\n      <th>16</th>\n      <td>58.0</td>\n      <td>94.0</td>\n      <td>114.0</td>\n      <td>58.0</td>\n      <td>36.0</td>\n      <td>10.0</td>\n      <td>-1.00</td>\n    </tr>\n    <tr>\n      <th>17</th>\n      <td>54.0</td>\n      <td>97.0</td>\n      <td>-1.0</td>\n      <td>50.5</td>\n      <td>-1.0</td>\n      <td>12.0</td>\n      <td>-1.00</td>\n    </tr>\n  </tbody>\n</table>\n</div>"
     },
     "execution_count": 10,
     "metadata": {},
     "output_type": "execute_result"
    }
   ],
   "source": [
    "train_data"
   ],
   "metadata": {
    "collapsed": false,
    "ExecuteTime": {
     "end_time": "2025-03-31T11:34:44.851412400Z",
     "start_time": "2025-03-31T11:34:44.809033700Z"
    }
   },
   "id": "35f96d2eb67e384"
  },
  {
   "cell_type": "code",
   "execution_count": null,
   "outputs": [],
   "source": [],
   "metadata": {
    "collapsed": false
   },
   "id": "4ef46fac8f919533"
  }
 ],
 "metadata": {
  "kernelspec": {
   "display_name": "Python 3",
   "language": "python",
   "name": "python3"
  },
  "language_info": {
   "codemirror_mode": {
    "name": "ipython",
    "version": 2
   },
   "file_extension": ".py",
   "mimetype": "text/x-python",
   "name": "python",
   "nbconvert_exporter": "python",
   "pygments_lexer": "ipython2",
   "version": "2.7.6"
  }
 },
 "nbformat": 4,
 "nbformat_minor": 5
}
