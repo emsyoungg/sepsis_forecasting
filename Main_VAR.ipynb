{
 "cells": [
  {
   "cell_type": "code",
   "execution_count": null,
   "outputs": [],
   "source": [
    "import loadDataForSKtime\n",
    "\n",
    "loaderHR = loadDataForSKtime.PatientTimeSeriesLoader(\n",
    "    \"C:/Users/emily/Documents/DissertationProject/training/training_setA_csv\", ['HR'])"
   ],
   "metadata": {
    "collapsed": false
   },
   "id": "b5dc8bde1f8770e8"
  },
  {
   "cell_type": "code",
   "execution_count": null,
   "outputs": [],
   "source": [
    "VARforecaster = VARmodel.VARForecaster(train_data_sub, test_data_sub, [\"HR\", \"O2Sat\"])"
   ],
   "metadata": {
    "collapsed": false
   },
   "id": "initial_id"
  },
  {
   "cell_type": "code",
   "execution_count": null,
   "outputs": [],
   "source": [
    "VARforecaster.fit()\n",
    "VARforecasts = VARforecaster.predict(steps=6)"
   ],
   "metadata": {
    "collapsed": false
   },
   "id": "a8fefbea5a8677fd"
  },
  {
   "cell_type": "code",
   "execution_count": null,
   "outputs": [],
   "source": [
    "VARforecaster.evaluate_model(VARforecasts)"
   ],
   "metadata": {
    "collapsed": false
   },
   "id": "8bb7b4da12c95acb"
  },
  {
   "cell_type": "code",
   "execution_count": null,
   "outputs": [],
   "source": [
    "VARforecaster.plot_forecast(VARforecasts)"
   ],
   "metadata": {
    "collapsed": false
   },
   "id": "344aa43f840a7182"
  }
 ],
 "metadata": {
  "kernelspec": {
   "display_name": "Python 3",
   "language": "python",
   "name": "python3"
  },
  "language_info": {
   "codemirror_mode": {
    "name": "ipython",
    "version": 2
   },
   "file_extension": ".py",
   "mimetype": "text/x-python",
   "name": "python",
   "nbconvert_exporter": "python",
   "pygments_lexer": "ipython2",
   "version": "2.7.6"
  }
 },
 "nbformat": 4,
 "nbformat_minor": 5
}
