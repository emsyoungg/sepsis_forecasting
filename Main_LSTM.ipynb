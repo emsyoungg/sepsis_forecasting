{
 "cells": [
  {
   "cell_type": "code",
   "execution_count": 1,
   "id": "initial_id",
   "metadata": {
    "collapsed": true,
    "ExecuteTime": {
     "end_time": "2025-04-01T19:13:17.958571300Z",
     "start_time": "2025-04-01T19:13:13.000090Z"
    }
   },
   "outputs": [],
   "source": [
    "import loadDataForSKtime\n",
    "import LSTMmodel"
   ]
  },
  {
   "cell_type": "code",
   "execution_count": 2,
   "outputs": [
    {
     "name": "stdout",
     "output_type": "stream",
     "text": [
      "<class 'list'>\n",
      "Patient 1: Dropping — constant columns found\n",
      "Patient 2: Less than 24 time points — skipping.\n",
      "Patient 5: Dropping — constant columns found\n",
      "Patient 6: Less than 24 time points — skipping.\n",
      "Patient 10: Less than 24 time points — skipping.\n",
      "Patient 11: Dropping — constant columns found\n",
      "Patient 12: Less than 24 time points — skipping.\n",
      "Patient 13: Dropping — constant columns found\n",
      "Patient 15: Less than 24 time points — skipping.\n",
      "Patient 16: Less than 24 time points — skipping.\n",
      "Patient 17: Dropping — constant columns found\n",
      "Patient 20: Less than 24 time points — skipping.\n",
      "Patient 22: Less than 24 time points — skipping.\n",
      "Patient 23: Less than 24 time points — skipping.\n",
      "Patient 24: Dropping — constant columns found\n",
      "Patient 25: Dropping — constant columns found\n",
      "Patient 26: Less than 24 time points — skipping.\n",
      "Patient 27: Less than 24 time points — skipping.\n",
      "Patient 32: Dropping — constant columns found\n",
      "Patient 33: Dropping — constant columns found\n",
      "Patient 34: Less than 24 time points — skipping.\n",
      "Patient 36: Less than 24 time points — skipping.\n",
      "Patient 37: Less than 24 time points — skipping.\n",
      "Patient 39: Dropping — constant columns found\n",
      "Patient 40: Dropping — constant columns found\n",
      "Patient 41: Dropping — constant columns found\n",
      "Patient 43: Dropping — constant columns found\n",
      "Patient 45: Less than 24 time points — skipping.\n",
      "Patient 47: Less than 24 time points — skipping.\n",
      "Patient 48: Less than 24 time points — skipping.\n",
      "Patient 49: Less than 24 time points — skipping.\n",
      "Patient 50: Dropping — constant columns found\n",
      "Patient 51: Dropping — constant columns found\n",
      "Patient 53: Dropping — constant columns found\n",
      "Patient 55: Less than 24 time points — skipping.\n",
      "Patient 56: Less than 24 time points — skipping.\n",
      "Patient 57: Dropping — constant columns found\n",
      "Patient 58: Less than 24 time points — skipping.\n",
      "Patient 59: Dropping — constant columns found\n",
      "Patient 60: Less than 24 time points — skipping.\n",
      "Patient 61: Less than 24 time points — skipping.\n",
      "Patient 62: Dropping — constant columns found\n",
      "Patient 63: Less than 24 time points — skipping.\n",
      "Patient 66: Less than 24 time points — skipping.\n",
      "Patient 67: Less than 24 time points — skipping.\n",
      "Patient 68: Dropping — constant columns found\n",
      "Patient 69: Less than 24 time points — skipping.\n",
      "Patient 70: Dropping — constant columns found\n",
      "Patient 72: Less than 24 time points — skipping.\n",
      "Patient 73: Less than 24 time points — skipping.\n",
      "Patient 74: Less than 24 time points — skipping.\n",
      "Patient 75: Dropping — constant columns found\n",
      "Patient 77: Less than 24 time points — skipping.\n",
      "Patient 84: Dropping — constant columns found\n",
      "Patient 85: Dropping — constant columns found\n",
      "Patient 86: Less than 24 time points — skipping.\n",
      "Patient 88: Less than 24 time points — skipping.\n",
      "Patient 89: Dropping — constant columns found\n",
      "Patient 92: Dropping — constant columns found\n",
      "Patient 93: Dropping — constant columns found\n",
      "Patient 95: Dropping — constant columns found\n",
      "Patient 96: Less than 24 time points — skipping.\n",
      "Patient 98: Dropping — constant columns found\n",
      "Patient 99: Less than 24 time points — skipping.\n",
      "Patient 100: Dropping — constant columns found\n",
      "Patient 24: Dropping — constant columns found\n"
     ]
    }
   ],
   "source": [
    "loader = loadDataForSKtime.PatientTimeSeriesLoader(\n",
    "    \"C:/Users/emily/Documents/DissertationProject/training/training_setA_csv\", ['HR', 'O2Sat', 'SBP', 'MAP', 'DBP', 'Resp', 'Temp'])\n",
    "df = loader.load_data_LSTM(100)\n",
    "train_data, test_data = loader.split_train_test_LSTM(df)"
   ],
   "metadata": {
    "collapsed": false,
    "ExecuteTime": {
     "end_time": "2025-04-01T19:13:20.381519400Z",
     "start_time": "2025-04-01T19:13:18.725729400Z"
    }
   },
   "id": "aeffc725bcbf08d3"
  },
  {
   "cell_type": "code",
   "execution_count": 3,
   "outputs": [
    {
     "name": "stdout",
     "output_type": "stream",
     "text": [
      "Train IDs: [0, 1, 2, 3, 4, 5, 6, 7, 8, 9, 10, 11, 12, 13, 14, 15, 16, 17, 18, 19, 20, 21, 22, 23, 24, 25, 26, 27, 28, 29, 30, 31, 32, 33]\n",
      "Test  IDs: [0, 1, 2, 3, 4, 5, 6, 7, 8, 9, 10, 11, 12, 13, 14, 15, 16, 17, 18, 19, 20, 21, 22, 23, 24, 25, 26, 27, 28, 29, 30, 31, 32, 33]\n"
     ]
    }
   ],
   "source": [
    "print(\"Train IDs:\", sorted(train_data.index.get_level_values(\"Patient_ID\").unique()))\n",
    "print(\"Test  IDs:\", sorted(test_data.index.get_level_values(\"Patient_ID\").unique()))\n"
   ],
   "metadata": {
    "collapsed": false,
    "ExecuteTime": {
     "end_time": "2025-04-01T19:13:25.722787300Z",
     "start_time": "2025-04-01T19:13:25.699355800Z"
    }
   },
   "id": "a42026dd9f1e1016"
  },
  {
   "cell_type": "code",
   "execution_count": 4,
   "outputs": [
    {
     "name": "stderr",
     "output_type": "stream",
     "text": [
      "C:\\Users\\emily\\Documents\\DissertationProject\\venv_python\\lib\\site-packages\\neuralforecast\\common\\_base_model.py:146: UserWarning: Inference input size too small. Automatically setting inference input size to input_size = 18\n",
      "  warnings.warn(\n",
      "Seed set to 1\n",
      "C:\\Users\\emily\\Documents\\DissertationProject\\venv_python\\lib\\site-packages\\neuralforecast\\models\\lstm.py:161: UserWarning: context_size is deprecated and will be removed in future versions.\n",
      "  warnings.warn(\n",
      "C:\\Users\\emily\\Documents\\DissertationProject\\venv_python\\lib\\site-packages\\neuralforecast\\common\\_base_model.py:535: UserWarning: val_check_steps is greater than max_steps, setting val_check_steps to max_steps.\n",
      "  warnings.warn(\n",
      "GPU available: False, used: False\n",
      "TPU available: False, using: 0 TPU cores\n",
      "HPU available: False, using: 0 HPUs\n",
      "\n",
      "  | Name         | Type          | Params | Mode \n",
      "-------------------------------------------------------\n",
      "0 | loss         | MAE           | 0      | train\n",
      "1 | padder_train | ConstantPad1d | 0      | train\n",
      "2 | scaler       | TemporalNorm  | 0      | train\n",
      "3 | hist_encoder | LSTM          | 484 K  | train\n",
      "4 | mlp_decoder  | MLP           | 40.4 K | train\n",
      "-------------------------------------------------------\n",
      "524 K     Trainable params\n",
      "0         Non-trainable params\n",
      "524 K     Total params\n",
      "2.098     Total estimated model params size (MB)\n",
      "10        Modules in train mode\n",
      "0         Modules in eval mode\n"
     ]
    },
    {
     "data": {
      "text/plain": "Sanity Checking: |          | 0/? [00:00<?, ?it/s]",
      "application/vnd.jupyter.widget-view+json": {
       "version_major": 2,
       "version_minor": 0,
       "model_id": "0847cf25f04241029f0e21c872a2f759"
      }
     },
     "metadata": {},
     "output_type": "display_data"
    },
    {
     "data": {
      "text/plain": "Training: |          | 0/? [00:00<?, ?it/s]",
      "application/vnd.jupyter.widget-view+json": {
       "version_major": 2,
       "version_minor": 0,
       "model_id": "f41d6fb5bb03489786b6ea5a829a8d5b"
      }
     },
     "metadata": {},
     "output_type": "display_data"
    },
    {
     "data": {
      "text/plain": "Validation: |          | 0/? [00:00<?, ?it/s]",
      "application/vnd.jupyter.widget-view+json": {
       "version_major": 2,
       "version_minor": 0,
       "model_id": "9e9f8724df9a4375a2cc893a70aceb9b"
      }
     },
     "metadata": {},
     "output_type": "display_data"
    },
    {
     "name": "stderr",
     "output_type": "stream",
     "text": [
      "`Trainer.fit` stopped: `max_steps=10` reached.\n",
      "C:\\Users\\emily\\Documents\\DissertationProject\\venv_python\\lib\\site-packages\\neuralforecast\\common\\_base_model.py:146: UserWarning: Inference input size too small. Automatically setting inference input size to input_size = 18\n",
      "  warnings.warn(\n",
      "Seed set to 1\n",
      "C:\\Users\\emily\\Documents\\DissertationProject\\venv_python\\lib\\site-packages\\neuralforecast\\models\\lstm.py:161: UserWarning: context_size is deprecated and will be removed in future versions.\n",
      "  warnings.warn(\n",
      "C:\\Users\\emily\\Documents\\DissertationProject\\venv_python\\lib\\site-packages\\neuralforecast\\common\\_base_model.py:535: UserWarning: val_check_steps is greater than max_steps, setting val_check_steps to max_steps.\n",
      "  warnings.warn(\n",
      "GPU available: False, used: False\n",
      "TPU available: False, using: 0 TPU cores\n",
      "HPU available: False, using: 0 HPUs\n",
      "\n",
      "  | Name         | Type          | Params | Mode \n",
      "-------------------------------------------------------\n",
      "0 | loss         | MAE           | 0      | train\n",
      "1 | padder_train | ConstantPad1d | 0      | train\n",
      "2 | scaler       | TemporalNorm  | 0      | train\n",
      "3 | hist_encoder | LSTM          | 484 K  | train\n",
      "4 | mlp_decoder  | MLP           | 40.4 K | train\n",
      "-------------------------------------------------------\n",
      "524 K     Trainable params\n",
      "0         Non-trainable params\n",
      "524 K     Total params\n",
      "2.098     Total estimated model params size (MB)\n",
      "10        Modules in train mode\n",
      "0         Modules in eval mode\n"
     ]
    },
    {
     "data": {
      "text/plain": "Sanity Checking: |          | 0/? [00:00<?, ?it/s]",
      "application/vnd.jupyter.widget-view+json": {
       "version_major": 2,
       "version_minor": 0,
       "model_id": "d46ef07f161e4c12be40d85617c9adde"
      }
     },
     "metadata": {},
     "output_type": "display_data"
    },
    {
     "data": {
      "text/plain": "Training: |          | 0/? [00:00<?, ?it/s]",
      "application/vnd.jupyter.widget-view+json": {
       "version_major": 2,
       "version_minor": 0,
       "model_id": "ff8e91d1306a4a95985b6f341e48ca5f"
      }
     },
     "metadata": {},
     "output_type": "display_data"
    },
    {
     "data": {
      "text/plain": "Validation: |          | 0/? [00:00<?, ?it/s]",
      "application/vnd.jupyter.widget-view+json": {
       "version_major": 2,
       "version_minor": 0,
       "model_id": "e9dfbe14be7b4ff3bef969566a0f0d27"
      }
     },
     "metadata": {},
     "output_type": "display_data"
    },
    {
     "name": "stderr",
     "output_type": "stream",
     "text": [
      "`Trainer.fit` stopped: `max_steps=10` reached.\n",
      "C:\\Users\\emily\\Documents\\DissertationProject\\venv_python\\lib\\site-packages\\neuralforecast\\common\\_base_model.py:146: UserWarning: Inference input size too small. Automatically setting inference input size to input_size = 18\n",
      "  warnings.warn(\n",
      "Seed set to 1\n",
      "C:\\Users\\emily\\Documents\\DissertationProject\\venv_python\\lib\\site-packages\\neuralforecast\\models\\lstm.py:161: UserWarning: context_size is deprecated and will be removed in future versions.\n",
      "  warnings.warn(\n",
      "C:\\Users\\emily\\Documents\\DissertationProject\\venv_python\\lib\\site-packages\\neuralforecast\\common\\_base_model.py:535: UserWarning: val_check_steps is greater than max_steps, setting val_check_steps to max_steps.\n",
      "  warnings.warn(\n",
      "GPU available: False, used: False\n",
      "TPU available: False, using: 0 TPU cores\n",
      "HPU available: False, using: 0 HPUs\n",
      "\n",
      "  | Name         | Type          | Params | Mode \n",
      "-------------------------------------------------------\n",
      "0 | loss         | MAE           | 0      | train\n",
      "1 | padder_train | ConstantPad1d | 0      | train\n",
      "2 | scaler       | TemporalNorm  | 0      | train\n",
      "3 | hist_encoder | LSTM          | 484 K  | train\n",
      "4 | mlp_decoder  | MLP           | 40.4 K | train\n",
      "-------------------------------------------------------\n",
      "524 K     Trainable params\n",
      "0         Non-trainable params\n",
      "524 K     Total params\n",
      "2.098     Total estimated model params size (MB)\n",
      "10        Modules in train mode\n",
      "0         Modules in eval mode\n"
     ]
    },
    {
     "data": {
      "text/plain": "Sanity Checking: |          | 0/? [00:00<?, ?it/s]",
      "application/vnd.jupyter.widget-view+json": {
       "version_major": 2,
       "version_minor": 0,
       "model_id": "33abb3dae4a24ddaa7fbb8f0ba6c7266"
      }
     },
     "metadata": {},
     "output_type": "display_data"
    },
    {
     "data": {
      "text/plain": "Training: |          | 0/? [00:00<?, ?it/s]",
      "application/vnd.jupyter.widget-view+json": {
       "version_major": 2,
       "version_minor": 0,
       "model_id": "275997e082e84764b3411dad30ad3664"
      }
     },
     "metadata": {},
     "output_type": "display_data"
    },
    {
     "data": {
      "text/plain": "Validation: |          | 0/? [00:00<?, ?it/s]",
      "application/vnd.jupyter.widget-view+json": {
       "version_major": 2,
       "version_minor": 0,
       "model_id": "3fd23ca72a1147328f86aa9d96d67387"
      }
     },
     "metadata": {},
     "output_type": "display_data"
    },
    {
     "name": "stderr",
     "output_type": "stream",
     "text": [
      "`Trainer.fit` stopped: `max_steps=10` reached.\n",
      "C:\\Users\\emily\\Documents\\DissertationProject\\venv_python\\lib\\site-packages\\neuralforecast\\common\\_base_model.py:146: UserWarning: Inference input size too small. Automatically setting inference input size to input_size = 18\n",
      "  warnings.warn(\n",
      "Seed set to 1\n",
      "C:\\Users\\emily\\Documents\\DissertationProject\\venv_python\\lib\\site-packages\\neuralforecast\\models\\lstm.py:161: UserWarning: context_size is deprecated and will be removed in future versions.\n",
      "  warnings.warn(\n",
      "C:\\Users\\emily\\Documents\\DissertationProject\\venv_python\\lib\\site-packages\\neuralforecast\\common\\_base_model.py:535: UserWarning: val_check_steps is greater than max_steps, setting val_check_steps to max_steps.\n",
      "  warnings.warn(\n",
      "GPU available: False, used: False\n",
      "TPU available: False, using: 0 TPU cores\n",
      "HPU available: False, using: 0 HPUs\n",
      "\n",
      "  | Name         | Type          | Params | Mode \n",
      "-------------------------------------------------------\n",
      "0 | loss         | MAE           | 0      | train\n",
      "1 | padder_train | ConstantPad1d | 0      | train\n",
      "2 | scaler       | TemporalNorm  | 0      | train\n",
      "3 | hist_encoder | LSTM          | 484 K  | train\n",
      "4 | mlp_decoder  | MLP           | 40.4 K | train\n",
      "-------------------------------------------------------\n",
      "524 K     Trainable params\n",
      "0         Non-trainable params\n",
      "524 K     Total params\n",
      "2.098     Total estimated model params size (MB)\n",
      "10        Modules in train mode\n",
      "0         Modules in eval mode\n"
     ]
    },
    {
     "data": {
      "text/plain": "Sanity Checking: |          | 0/? [00:00<?, ?it/s]",
      "application/vnd.jupyter.widget-view+json": {
       "version_major": 2,
       "version_minor": 0,
       "model_id": "77fca66117c14cb69d757f66d1948e86"
      }
     },
     "metadata": {},
     "output_type": "display_data"
    },
    {
     "data": {
      "text/plain": "Training: |          | 0/? [00:00<?, ?it/s]",
      "application/vnd.jupyter.widget-view+json": {
       "version_major": 2,
       "version_minor": 0,
       "model_id": "c67ba3f7de2a44bdb064735a1594ea82"
      }
     },
     "metadata": {},
     "output_type": "display_data"
    },
    {
     "data": {
      "text/plain": "Validation: |          | 0/? [00:00<?, ?it/s]",
      "application/vnd.jupyter.widget-view+json": {
       "version_major": 2,
       "version_minor": 0,
       "model_id": "6f9fd89f127c40e18016bfdb05f7ded8"
      }
     },
     "metadata": {},
     "output_type": "display_data"
    },
    {
     "name": "stderr",
     "output_type": "stream",
     "text": [
      "`Trainer.fit` stopped: `max_steps=10` reached.\n",
      "C:\\Users\\emily\\Documents\\DissertationProject\\venv_python\\lib\\site-packages\\neuralforecast\\common\\_base_model.py:146: UserWarning: Inference input size too small. Automatically setting inference input size to input_size = 18\n",
      "  warnings.warn(\n",
      "Seed set to 1\n",
      "C:\\Users\\emily\\Documents\\DissertationProject\\venv_python\\lib\\site-packages\\neuralforecast\\models\\lstm.py:161: UserWarning: context_size is deprecated and will be removed in future versions.\n",
      "  warnings.warn(\n",
      "C:\\Users\\emily\\Documents\\DissertationProject\\venv_python\\lib\\site-packages\\neuralforecast\\common\\_base_model.py:535: UserWarning: val_check_steps is greater than max_steps, setting val_check_steps to max_steps.\n",
      "  warnings.warn(\n",
      "GPU available: False, used: False\n",
      "TPU available: False, using: 0 TPU cores\n",
      "HPU available: False, using: 0 HPUs\n",
      "\n",
      "  | Name         | Type          | Params | Mode \n",
      "-------------------------------------------------------\n",
      "0 | loss         | MAE           | 0      | train\n",
      "1 | padder_train | ConstantPad1d | 0      | train\n",
      "2 | scaler       | TemporalNorm  | 0      | train\n",
      "3 | hist_encoder | LSTM          | 484 K  | train\n",
      "4 | mlp_decoder  | MLP           | 40.4 K | train\n",
      "-------------------------------------------------------\n",
      "524 K     Trainable params\n",
      "0         Non-trainable params\n",
      "524 K     Total params\n",
      "2.098     Total estimated model params size (MB)\n",
      "10        Modules in train mode\n",
      "0         Modules in eval mode\n"
     ]
    },
    {
     "data": {
      "text/plain": "Sanity Checking: |          | 0/? [00:00<?, ?it/s]",
      "application/vnd.jupyter.widget-view+json": {
       "version_major": 2,
       "version_minor": 0,
       "model_id": "d6c8948e726149d8a2ff96f1ef6f9c23"
      }
     },
     "metadata": {},
     "output_type": "display_data"
    },
    {
     "data": {
      "text/plain": "Training: |          | 0/? [00:00<?, ?it/s]",
      "application/vnd.jupyter.widget-view+json": {
       "version_major": 2,
       "version_minor": 0,
       "model_id": "cf41acb1a1864b6da7ac9baba458a063"
      }
     },
     "metadata": {},
     "output_type": "display_data"
    },
    {
     "data": {
      "text/plain": "Validation: |          | 0/? [00:00<?, ?it/s]",
      "application/vnd.jupyter.widget-view+json": {
       "version_major": 2,
       "version_minor": 0,
       "model_id": "cd53f94ab20341ab8cfd211c7bf32ad8"
      }
     },
     "metadata": {},
     "output_type": "display_data"
    },
    {
     "name": "stderr",
     "output_type": "stream",
     "text": [
      "`Trainer.fit` stopped: `max_steps=10` reached.\n",
      "C:\\Users\\emily\\Documents\\DissertationProject\\venv_python\\lib\\site-packages\\neuralforecast\\common\\_base_model.py:146: UserWarning: Inference input size too small. Automatically setting inference input size to input_size = 18\n",
      "  warnings.warn(\n",
      "Seed set to 1\n",
      "C:\\Users\\emily\\Documents\\DissertationProject\\venv_python\\lib\\site-packages\\neuralforecast\\models\\lstm.py:161: UserWarning: context_size is deprecated and will be removed in future versions.\n",
      "  warnings.warn(\n",
      "C:\\Users\\emily\\Documents\\DissertationProject\\venv_python\\lib\\site-packages\\neuralforecast\\common\\_base_model.py:535: UserWarning: val_check_steps is greater than max_steps, setting val_check_steps to max_steps.\n",
      "  warnings.warn(\n",
      "GPU available: False, used: False\n",
      "TPU available: False, using: 0 TPU cores\n",
      "HPU available: False, using: 0 HPUs\n",
      "\n",
      "  | Name         | Type          | Params | Mode \n",
      "-------------------------------------------------------\n",
      "0 | loss         | MAE           | 0      | train\n",
      "1 | padder_train | ConstantPad1d | 0      | train\n",
      "2 | scaler       | TemporalNorm  | 0      | train\n",
      "3 | hist_encoder | LSTM          | 484 K  | train\n",
      "4 | mlp_decoder  | MLP           | 40.4 K | train\n",
      "-------------------------------------------------------\n",
      "524 K     Trainable params\n",
      "0         Non-trainable params\n",
      "524 K     Total params\n",
      "2.098     Total estimated model params size (MB)\n",
      "10        Modules in train mode\n",
      "0         Modules in eval mode\n"
     ]
    },
    {
     "data": {
      "text/plain": "Sanity Checking: |          | 0/? [00:00<?, ?it/s]",
      "application/vnd.jupyter.widget-view+json": {
       "version_major": 2,
       "version_minor": 0,
       "model_id": "c4985622f295487bae66374fc85be715"
      }
     },
     "metadata": {},
     "output_type": "display_data"
    },
    {
     "data": {
      "text/plain": "Training: |          | 0/? [00:00<?, ?it/s]",
      "application/vnd.jupyter.widget-view+json": {
       "version_major": 2,
       "version_minor": 0,
       "model_id": "19fa777172f6451cba41591804642682"
      }
     },
     "metadata": {},
     "output_type": "display_data"
    },
    {
     "data": {
      "text/plain": "Validation: |          | 0/? [00:00<?, ?it/s]",
      "application/vnd.jupyter.widget-view+json": {
       "version_major": 2,
       "version_minor": 0,
       "model_id": "6b0fb16023cc4a999942b345c562988a"
      }
     },
     "metadata": {},
     "output_type": "display_data"
    },
    {
     "name": "stderr",
     "output_type": "stream",
     "text": [
      "`Trainer.fit` stopped: `max_steps=10` reached.\n",
      "C:\\Users\\emily\\Documents\\DissertationProject\\venv_python\\lib\\site-packages\\neuralforecast\\common\\_base_model.py:146: UserWarning: Inference input size too small. Automatically setting inference input size to input_size = 18\n",
      "  warnings.warn(\n",
      "Seed set to 1\n",
      "C:\\Users\\emily\\Documents\\DissertationProject\\venv_python\\lib\\site-packages\\neuralforecast\\models\\lstm.py:161: UserWarning: context_size is deprecated and will be removed in future versions.\n",
      "  warnings.warn(\n",
      "C:\\Users\\emily\\Documents\\DissertationProject\\venv_python\\lib\\site-packages\\neuralforecast\\common\\_base_model.py:535: UserWarning: val_check_steps is greater than max_steps, setting val_check_steps to max_steps.\n",
      "  warnings.warn(\n",
      "GPU available: False, used: False\n",
      "TPU available: False, using: 0 TPU cores\n",
      "HPU available: False, using: 0 HPUs\n",
      "\n",
      "  | Name         | Type          | Params | Mode \n",
      "-------------------------------------------------------\n",
      "0 | loss         | MAE           | 0      | train\n",
      "1 | padder_train | ConstantPad1d | 0      | train\n",
      "2 | scaler       | TemporalNorm  | 0      | train\n",
      "3 | hist_encoder | LSTM          | 484 K  | train\n",
      "4 | mlp_decoder  | MLP           | 40.4 K | train\n",
      "-------------------------------------------------------\n",
      "524 K     Trainable params\n",
      "0         Non-trainable params\n",
      "524 K     Total params\n",
      "2.098     Total estimated model params size (MB)\n",
      "10        Modules in train mode\n",
      "0         Modules in eval mode\n"
     ]
    },
    {
     "data": {
      "text/plain": "Sanity Checking: |          | 0/? [00:00<?, ?it/s]",
      "application/vnd.jupyter.widget-view+json": {
       "version_major": 2,
       "version_minor": 0,
       "model_id": "218e8912f6ff4cfa8e04e66db68ef214"
      }
     },
     "metadata": {},
     "output_type": "display_data"
    },
    {
     "data": {
      "text/plain": "Training: |          | 0/? [00:00<?, ?it/s]",
      "application/vnd.jupyter.widget-view+json": {
       "version_major": 2,
       "version_minor": 0,
       "model_id": "31e05587d8464a48bfbe06f7b0ac3d45"
      }
     },
     "metadata": {},
     "output_type": "display_data"
    },
    {
     "data": {
      "text/plain": "Validation: |          | 0/? [00:00<?, ?it/s]",
      "application/vnd.jupyter.widget-view+json": {
       "version_major": 2,
       "version_minor": 0,
       "model_id": "4c6b45634e684b64ae1639ea7fd481b2"
      }
     },
     "metadata": {},
     "output_type": "display_data"
    },
    {
     "name": "stderr",
     "output_type": "stream",
     "text": [
      "`Trainer.fit` stopped: `max_steps=10` reached.\n",
      "GPU available: False, used: False\n",
      "TPU available: False, using: 0 TPU cores\n",
      "HPU available: False, using: 0 HPUs\n"
     ]
    },
    {
     "data": {
      "text/plain": "Predicting: |          | 0/? [00:00<?, ?it/s]",
      "application/vnd.jupyter.widget-view+json": {
       "version_major": 2,
       "version_minor": 0,
       "model_id": "fde0c7faf85b46a8b572cd350fde9e71"
      }
     },
     "metadata": {},
     "output_type": "display_data"
    },
    {
     "ename": "KeyError",
     "evalue": "'[34, 35, 36, 37, 38, 39, 40, 41, 42, 43, 44, 45, 46, 47, 48, 49, 50, 51, 52, 53, 54, 55, 56, 57, 58, 59, 60, 61, 62, 63, 64, 65, 66, 67, 68, 69, 70, 71, 72, 73, 74, 75, 76, 77, 78, 79, 80, 81, 82, 83, 84, 85, 86, 87, 88, 89, 90, 91, 92, 93, 94, 95, 96, 97, 98, 99, 100, 101, 102, 103, 104, 105, 106, 107, 108, 109, 110, 111, 112, 113, 114, 115, 116, 117, 118, 119, 120, 121, 122, 123, 124, 125, 126, 127, 128, 129, 130, 131, 132, 133, 134, 135, 136, 137, 138, 139, 140, 141, 142, 143, 144, 145, 146, 147, 148, 149, 150, 151, 152, 153, 154, 155, 156, 157, 158, 159, 160, 161, 162, 163, 164, 165, 166, 167, 168, 169, 170, 171, 172, 173, 174, 175, 176, 177, 178, 179, 180, 181, 182, 183, 184, 185, 186, 187, 188, 189, 190, 191, 192, 193, 194, 195, 196, 197, 198, 199, 200, 201, 202, 203] not in index'",
     "output_type": "error",
     "traceback": [
      "\u001B[1;31m---------------------------------------------------------------------------\u001B[0m",
      "\u001B[1;31mKeyError\u001B[0m                                  Traceback (most recent call last)",
      "Cell \u001B[1;32mIn[4], line 3\u001B[0m\n\u001B[0;32m      1\u001B[0m LSTMforecaster \u001B[38;5;241m=\u001B[39m LSTMmodel\u001B[38;5;241m.\u001B[39mLSTMforecaster(train_data, test_data, [\u001B[38;5;124m'\u001B[39m\u001B[38;5;124mHR\u001B[39m\u001B[38;5;124m'\u001B[39m, \u001B[38;5;124m'\u001B[39m\u001B[38;5;124mO2Sat\u001B[39m\u001B[38;5;124m'\u001B[39m, \u001B[38;5;124m'\u001B[39m\u001B[38;5;124mSBP\u001B[39m\u001B[38;5;124m'\u001B[39m, \u001B[38;5;124m'\u001B[39m\u001B[38;5;124mMAP\u001B[39m\u001B[38;5;124m'\u001B[39m, \u001B[38;5;124m'\u001B[39m\u001B[38;5;124mDBP\u001B[39m\u001B[38;5;124m'\u001B[39m, \u001B[38;5;124m'\u001B[39m\u001B[38;5;124mResp\u001B[39m\u001B[38;5;124m'\u001B[39m, \u001B[38;5;124m'\u001B[39m\u001B[38;5;124mTemp\u001B[39m\u001B[38;5;124m'\u001B[39m])\n\u001B[0;32m      2\u001B[0m LSTMforecaster\u001B[38;5;241m.\u001B[39mfit()\n\u001B[1;32m----> 3\u001B[0m LSTMforecasts \u001B[38;5;241m=\u001B[39m \u001B[43mLSTMforecaster\u001B[49m\u001B[38;5;241;43m.\u001B[39;49m\u001B[43mpredict\u001B[49m\u001B[43m(\u001B[49m\u001B[43m)\u001B[49m\n",
      "File \u001B[1;32m~\\Documents\\DissertationProject\\LSTMmodel.py:24\u001B[0m, in \u001B[0;36mLSTMforecaster.predict\u001B[1;34m(self)\u001B[0m\n\u001B[0;32m     23\u001B[0m \u001B[38;5;28;01mdef\u001B[39;00m\u001B[38;5;250m \u001B[39m\u001B[38;5;21mpredict\u001B[39m(\u001B[38;5;28mself\u001B[39m):\n\u001B[1;32m---> 24\u001B[0m     \u001B[38;5;28;01mreturn\u001B[39;00m \u001B[38;5;28;43mself\u001B[39;49m\u001B[38;5;241;43m.\u001B[39;49m\u001B[43mforecaster\u001B[49m\u001B[38;5;241;43m.\u001B[39;49m\u001B[43mpredict\u001B[49m\u001B[43m(\u001B[49m\u001B[43m)\u001B[49m\n",
      "File \u001B[1;32m~\\Documents\\DissertationProject\\venv_python\\lib\\site-packages\\sktime\\forecasting\\base\\_base.py:2490\u001B[0m, in \u001B[0;36m_BaseGlobalForecaster.predict\u001B[1;34m(self, fh, X, y)\u001B[0m\n\u001B[0;32m   2487\u001B[0m     y_pred \u001B[38;5;241m=\u001B[39m \u001B[38;5;28mself\u001B[39m\u001B[38;5;241m.\u001B[39m_predict(fh\u001B[38;5;241m=\u001B[39mfh, X\u001B[38;5;241m=\u001B[39mX_inner, y\u001B[38;5;241m=\u001B[39my_inner)\n\u001B[0;32m   2488\u001B[0m \u001B[38;5;28;01melse\u001B[39;00m:\n\u001B[0;32m   2489\u001B[0m     \u001B[38;5;66;03m# otherwise we call the vectorized version of predict\u001B[39;00m\n\u001B[1;32m-> 2490\u001B[0m     y_pred \u001B[38;5;241m=\u001B[39m \u001B[38;5;28;43mself\u001B[39;49m\u001B[38;5;241;43m.\u001B[39;49m\u001B[43m_vectorize\u001B[49m\u001B[43m(\u001B[49m\u001B[38;5;124;43m\"\u001B[39;49m\u001B[38;5;124;43mpredict\u001B[39;49m\u001B[38;5;124;43m\"\u001B[39;49m\u001B[43m,\u001B[49m\u001B[43m \u001B[49m\u001B[43my\u001B[49m\u001B[38;5;241;43m=\u001B[39;49m\u001B[43my_inner\u001B[49m\u001B[43m,\u001B[49m\u001B[43m \u001B[49m\u001B[43mX\u001B[49m\u001B[38;5;241;43m=\u001B[39;49m\u001B[43mX_inner\u001B[49m\u001B[43m,\u001B[49m\u001B[43m \u001B[49m\u001B[43mfh\u001B[49m\u001B[38;5;241;43m=\u001B[39;49m\u001B[43mfh\u001B[49m\u001B[43m)\u001B[49m\n\u001B[0;32m   2492\u001B[0m \u001B[38;5;66;03m# convert to output mtype, identical with last y mtype seen\u001B[39;00m\n\u001B[0;32m   2493\u001B[0m y_out \u001B[38;5;241m=\u001B[39m convert_to(\n\u001B[0;32m   2494\u001B[0m     y_pred,\n\u001B[0;32m   2495\u001B[0m     \u001B[38;5;28mself\u001B[39m\u001B[38;5;241m.\u001B[39m_y_metadata[\u001B[38;5;124m\"\u001B[39m\u001B[38;5;124mmtype\u001B[39m\u001B[38;5;124m\"\u001B[39m],\n\u001B[0;32m   2496\u001B[0m     store\u001B[38;5;241m=\u001B[39m\u001B[38;5;28mself\u001B[39m\u001B[38;5;241m.\u001B[39m_converter_store_y,\n\u001B[0;32m   2497\u001B[0m     store_behaviour\u001B[38;5;241m=\u001B[39m\u001B[38;5;124m\"\u001B[39m\u001B[38;5;124mfreeze\u001B[39m\u001B[38;5;124m\"\u001B[39m,\n\u001B[0;32m   2498\u001B[0m )\n",
      "File \u001B[1;32m~\\Documents\\DissertationProject\\venv_python\\lib\\site-packages\\sktime\\forecasting\\base\\_base.py:2058\u001B[0m, in \u001B[0;36mBaseForecaster._vectorize\u001B[1;34m(self, methodname, **kwargs)\u001B[0m\n\u001B[0;32m   2055\u001B[0m \u001B[38;5;28;01mif\u001B[39;00m methodname \u001B[38;5;241m==\u001B[39m \u001B[38;5;124m\"\u001B[39m\u001B[38;5;124mupdate_predict_single\u001B[39m\u001B[38;5;124m\"\u001B[39m:\n\u001B[0;32m   2056\u001B[0m     \u001B[38;5;28mself\u001B[39m\u001B[38;5;241m.\u001B[39m_yvec \u001B[38;5;241m=\u001B[39m y\n\u001B[1;32m-> 2058\u001B[0m y_preds \u001B[38;5;241m=\u001B[39m \u001B[38;5;28mself\u001B[39m\u001B[38;5;241m.\u001B[39m_yvec\u001B[38;5;241m.\u001B[39mvectorize_est(\n\u001B[0;32m   2059\u001B[0m     \u001B[38;5;28mself\u001B[39m\u001B[38;5;241m.\u001B[39mforecasters_,\n\u001B[0;32m   2060\u001B[0m     method\u001B[38;5;241m=\u001B[39mmethodname,\n\u001B[0;32m   2061\u001B[0m     return_type\u001B[38;5;241m=\u001B[39m\u001B[38;5;124m\"\u001B[39m\u001B[38;5;124mlist\u001B[39m\u001B[38;5;124m\"\u001B[39m,\n\u001B[0;32m   2062\u001B[0m     backend\u001B[38;5;241m=\u001B[39m\u001B[38;5;28mself\u001B[39m\u001B[38;5;241m.\u001B[39mget_config()[\u001B[38;5;124m\"\u001B[39m\u001B[38;5;124mbackend:parallel\u001B[39m\u001B[38;5;124m\"\u001B[39m],\n\u001B[0;32m   2063\u001B[0m     backend_params\u001B[38;5;241m=\u001B[39m\u001B[38;5;28mself\u001B[39m\u001B[38;5;241m.\u001B[39mget_config()[\u001B[38;5;124m\"\u001B[39m\u001B[38;5;124mbackend:parallel:params\u001B[39m\u001B[38;5;124m\"\u001B[39m],\n\u001B[0;32m   2064\u001B[0m     \u001B[38;5;241m*\u001B[39m\u001B[38;5;241m*\u001B[39mkwargs,\n\u001B[0;32m   2065\u001B[0m )\n\u001B[0;32m   2067\u001B[0m \u001B[38;5;66;03m# if we vectorize over columns,\u001B[39;00m\n\u001B[0;32m   2068\u001B[0m \u001B[38;5;66;03m#   we need to replace top column level with variable names - part 1\u001B[39;00m\n\u001B[0;32m   2069\u001B[0m m \u001B[38;5;241m=\u001B[39m \u001B[38;5;28mlen\u001B[39m(\u001B[38;5;28mself\u001B[39m\u001B[38;5;241m.\u001B[39mforecasters_\u001B[38;5;241m.\u001B[39mcolumns)\n",
      "File \u001B[1;32m~\\Documents\\DissertationProject\\venv_python\\lib\\site-packages\\sktime\\datatypes\\_vectorize.py:630\u001B[0m, in \u001B[0;36mVectorizedDF.vectorize_est\u001B[1;34m(self, estimator, method, args, args_rowvec, return_type, rowname_default, colname_default, varname_of_self, backend, backend_params, **kwargs)\u001B[0m\n\u001B[0;32m    616\u001B[0m vec_zip \u001B[38;5;241m=\u001B[39m \u001B[38;5;28mzip\u001B[39m(\n\u001B[0;32m    617\u001B[0m     \u001B[38;5;28mself\u001B[39m\u001B[38;5;241m.\u001B[39mitems(),\n\u001B[0;32m    618\u001B[0m     explode(args, iterate_as\u001B[38;5;241m=\u001B[39miterate_as, iterate_cols\u001B[38;5;241m=\u001B[39miterate_cols),\n\u001B[0;32m    619\u001B[0m     explode(args_rowvec, iterate_as\u001B[38;5;241m=\u001B[39miterate_as, iterate_cols\u001B[38;5;241m=\u001B[39m\u001B[38;5;28;01mFalse\u001B[39;00m),\n\u001B[0;32m    620\u001B[0m     estimators,\n\u001B[0;32m    621\u001B[0m )\n\u001B[0;32m    623\u001B[0m meta \u001B[38;5;241m=\u001B[39m {\n\u001B[0;32m    624\u001B[0m     \u001B[38;5;124m\"\u001B[39m\u001B[38;5;124mmethod\u001B[39m\u001B[38;5;124m\"\u001B[39m: method,\n\u001B[0;32m    625\u001B[0m     \u001B[38;5;124m\"\u001B[39m\u001B[38;5;124mvarname_of_self\u001B[39m\u001B[38;5;124m\"\u001B[39m: varname_of_self,\n\u001B[0;32m    626\u001B[0m     \u001B[38;5;124m\"\u001B[39m\u001B[38;5;124mrowname_default\u001B[39m\u001B[38;5;124m\"\u001B[39m: rowname_default,\n\u001B[0;32m    627\u001B[0m     \u001B[38;5;124m\"\u001B[39m\u001B[38;5;124mcolname_default\u001B[39m\u001B[38;5;124m\"\u001B[39m: colname_default,\n\u001B[0;32m    628\u001B[0m }\n\u001B[1;32m--> 630\u001B[0m ret \u001B[38;5;241m=\u001B[39m \u001B[43mparallelize\u001B[49m\u001B[43m(\u001B[49m\n\u001B[0;32m    631\u001B[0m \u001B[43m    \u001B[49m\u001B[43mfun\u001B[49m\u001B[38;5;241;43m=\u001B[39;49m\u001B[38;5;28;43mself\u001B[39;49m\u001B[38;5;241;43m.\u001B[39;49m\u001B[43m_vectorize_est_single\u001B[49m\u001B[43m,\u001B[49m\n\u001B[0;32m    632\u001B[0m \u001B[43m    \u001B[49m\u001B[38;5;28;43miter\u001B[39;49m\u001B[38;5;241;43m=\u001B[39;49m\u001B[43mvec_zip\u001B[49m\u001B[43m,\u001B[49m\n\u001B[0;32m    633\u001B[0m \u001B[43m    \u001B[49m\u001B[43mmeta\u001B[49m\u001B[38;5;241;43m=\u001B[39;49m\u001B[43mmeta\u001B[49m\u001B[43m,\u001B[49m\n\u001B[0;32m    634\u001B[0m \u001B[43m    \u001B[49m\u001B[43mbackend\u001B[49m\u001B[38;5;241;43m=\u001B[39;49m\u001B[43mbackend\u001B[49m\u001B[43m,\u001B[49m\n\u001B[0;32m    635\u001B[0m \u001B[43m    \u001B[49m\u001B[43mbackend_params\u001B[49m\u001B[38;5;241;43m=\u001B[39;49m\u001B[43mbackend_params\u001B[49m\u001B[43m,\u001B[49m\n\u001B[0;32m    636\u001B[0m \u001B[43m\u001B[49m\u001B[43m)\u001B[49m\n\u001B[0;32m    638\u001B[0m \u001B[38;5;28;01mif\u001B[39;00m return_type \u001B[38;5;241m==\u001B[39m \u001B[38;5;124m\"\u001B[39m\u001B[38;5;124mpd.DataFrame\u001B[39m\u001B[38;5;124m\"\u001B[39m:\n\u001B[0;32m    639\u001B[0m     df_long \u001B[38;5;241m=\u001B[39m pd\u001B[38;5;241m.\u001B[39mDataFrame(ret)\n",
      "File \u001B[1;32m~\\Documents\\DissertationProject\\venv_python\\lib\\site-packages\\sktime\\utils\\parallel.py:72\u001B[0m, in \u001B[0;36mparallelize\u001B[1;34m(fun, iter, meta, backend, backend_params)\u001B[0m\n\u001B[0;32m     69\u001B[0m backend_name \u001B[38;5;241m=\u001B[39m backend_dict[backend]\n\u001B[0;32m     70\u001B[0m para_fun \u001B[38;5;241m=\u001B[39m para_dict[backend_name]\n\u001B[1;32m---> 72\u001B[0m ret \u001B[38;5;241m=\u001B[39m \u001B[43mpara_fun\u001B[49m\u001B[43m(\u001B[49m\n\u001B[0;32m     73\u001B[0m \u001B[43m    \u001B[49m\u001B[43mfun\u001B[49m\u001B[38;5;241;43m=\u001B[39;49m\u001B[43mfun\u001B[49m\u001B[43m,\u001B[49m\u001B[43m \u001B[49m\u001B[38;5;28;43miter\u001B[39;49m\u001B[38;5;241;43m=\u001B[39;49m\u001B[38;5;28;43miter\u001B[39;49m\u001B[43m,\u001B[49m\u001B[43m \u001B[49m\u001B[43mmeta\u001B[49m\u001B[38;5;241;43m=\u001B[39;49m\u001B[43mmeta\u001B[49m\u001B[43m,\u001B[49m\u001B[43m \u001B[49m\u001B[43mbackend\u001B[49m\u001B[38;5;241;43m=\u001B[39;49m\u001B[43mbackend\u001B[49m\u001B[43m,\u001B[49m\u001B[43m \u001B[49m\u001B[43mbackend_params\u001B[49m\u001B[38;5;241;43m=\u001B[39;49m\u001B[43mbackend_params\u001B[49m\n\u001B[0;32m     74\u001B[0m \u001B[43m\u001B[49m\u001B[43m)\u001B[49m\n\u001B[0;32m     75\u001B[0m \u001B[38;5;28;01mreturn\u001B[39;00m ret\n",
      "File \u001B[1;32m~\\Documents\\DissertationProject\\venv_python\\lib\\site-packages\\sktime\\utils\\parallel.py:92\u001B[0m, in \u001B[0;36m_parallelize_none\u001B[1;34m(fun, iter, meta, backend, backend_params)\u001B[0m\n\u001B[0;32m     90\u001B[0m \u001B[38;5;28;01mdef\u001B[39;00m\u001B[38;5;250m \u001B[39m\u001B[38;5;21m_parallelize_none\u001B[39m(fun, \u001B[38;5;28miter\u001B[39m, meta, backend, backend_params):\n\u001B[0;32m     91\u001B[0m \u001B[38;5;250m    \u001B[39m\u001B[38;5;124;03m\"\"\"Execute loop via simple sequential list comprehension.\"\"\"\u001B[39;00m\n\u001B[1;32m---> 92\u001B[0m     ret \u001B[38;5;241m=\u001B[39m [fun(x, meta\u001B[38;5;241m=\u001B[39mmeta) \u001B[38;5;28;01mfor\u001B[39;00m x \u001B[38;5;129;01min\u001B[39;00m \u001B[38;5;28miter\u001B[39m]\n\u001B[0;32m     93\u001B[0m     \u001B[38;5;28;01mreturn\u001B[39;00m ret\n",
      "File \u001B[1;32m~\\Documents\\DissertationProject\\venv_python\\lib\\site-packages\\sktime\\utils\\parallel.py:92\u001B[0m, in \u001B[0;36m<listcomp>\u001B[1;34m(.0)\u001B[0m\n\u001B[0;32m     90\u001B[0m \u001B[38;5;28;01mdef\u001B[39;00m\u001B[38;5;250m \u001B[39m\u001B[38;5;21m_parallelize_none\u001B[39m(fun, \u001B[38;5;28miter\u001B[39m, meta, backend, backend_params):\n\u001B[0;32m     91\u001B[0m \u001B[38;5;250m    \u001B[39m\u001B[38;5;124;03m\"\"\"Execute loop via simple sequential list comprehension.\"\"\"\u001B[39;00m\n\u001B[1;32m---> 92\u001B[0m     ret \u001B[38;5;241m=\u001B[39m [\u001B[43mfun\u001B[49m\u001B[43m(\u001B[49m\u001B[43mx\u001B[49m\u001B[43m,\u001B[49m\u001B[43m \u001B[49m\u001B[43mmeta\u001B[49m\u001B[38;5;241;43m=\u001B[39;49m\u001B[43mmeta\u001B[49m\u001B[43m)\u001B[49m \u001B[38;5;28;01mfor\u001B[39;00m x \u001B[38;5;129;01min\u001B[39;00m \u001B[38;5;28miter\u001B[39m]\n\u001B[0;32m     93\u001B[0m     \u001B[38;5;28;01mreturn\u001B[39;00m ret\n",
      "File \u001B[1;32m~\\Documents\\DissertationProject\\venv_python\\lib\\site-packages\\sktime\\datatypes\\_vectorize.py:679\u001B[0m, in \u001B[0;36mVectorizedDF._vectorize_est_single\u001B[1;34m(self, vec_tuple, meta)\u001B[0m\n\u001B[0;32m    676\u001B[0m     args_i[varname_of_self] \u001B[38;5;241m=\u001B[39m group\n\u001B[0;32m    678\u001B[0m est_i_method \u001B[38;5;241m=\u001B[39m \u001B[38;5;28mgetattr\u001B[39m(est_i, method)\n\u001B[1;32m--> 679\u001B[0m est_i_result \u001B[38;5;241m=\u001B[39m est_i_method(\u001B[38;5;241m*\u001B[39m\u001B[38;5;241m*\u001B[39margs_i)\n\u001B[0;32m    681\u001B[0m \u001B[38;5;28;01mif\u001B[39;00m group_name \u001B[38;5;129;01mis\u001B[39;00m \u001B[38;5;28;01mNone\u001B[39;00m:\n\u001B[0;32m    682\u001B[0m     group_name \u001B[38;5;241m=\u001B[39m rowname_default\n",
      "File \u001B[1;32m~\\Documents\\DissertationProject\\venv_python\\lib\\site-packages\\sktime\\forecasting\\base\\_base.py:2487\u001B[0m, in \u001B[0;36m_BaseGlobalForecaster.predict\u001B[1;34m(self, fh, X, y)\u001B[0m\n\u001B[0;32m   2485\u001B[0m \u001B[38;5;66;03m# we call the ordinary _predict if no looping/vectorization needed\u001B[39;00m\n\u001B[0;32m   2486\u001B[0m \u001B[38;5;28;01mif\u001B[39;00m \u001B[38;5;129;01mnot\u001B[39;00m \u001B[38;5;28mself\u001B[39m\u001B[38;5;241m.\u001B[39m_is_vectorized:\n\u001B[1;32m-> 2487\u001B[0m     y_pred \u001B[38;5;241m=\u001B[39m \u001B[38;5;28;43mself\u001B[39;49m\u001B[38;5;241;43m.\u001B[39;49m\u001B[43m_predict\u001B[49m\u001B[43m(\u001B[49m\u001B[43mfh\u001B[49m\u001B[38;5;241;43m=\u001B[39;49m\u001B[43mfh\u001B[49m\u001B[43m,\u001B[49m\u001B[43m \u001B[49m\u001B[43mX\u001B[49m\u001B[38;5;241;43m=\u001B[39;49m\u001B[43mX_inner\u001B[49m\u001B[43m,\u001B[49m\u001B[43m \u001B[49m\u001B[43my\u001B[49m\u001B[38;5;241;43m=\u001B[39;49m\u001B[43my_inner\u001B[49m\u001B[43m)\u001B[49m\n\u001B[0;32m   2488\u001B[0m \u001B[38;5;28;01melse\u001B[39;00m:\n\u001B[0;32m   2489\u001B[0m     \u001B[38;5;66;03m# otherwise we call the vectorized version of predict\u001B[39;00m\n\u001B[0;32m   2490\u001B[0m     y_pred \u001B[38;5;241m=\u001B[39m \u001B[38;5;28mself\u001B[39m\u001B[38;5;241m.\u001B[39m_vectorize(\u001B[38;5;124m\"\u001B[39m\u001B[38;5;124mpredict\u001B[39m\u001B[38;5;124m\"\u001B[39m, y\u001B[38;5;241m=\u001B[39my_inner, X\u001B[38;5;241m=\u001B[39mX_inner, fh\u001B[38;5;241m=\u001B[39mfh)\n",
      "File \u001B[1;32m~\\Documents\\DissertationProject\\venv_python\\lib\\site-packages\\sktime\\forecasting\\base\\adapters\\_neuralforecast.py:533\u001B[0m, in \u001B[0;36m_NeuralForecastAdapter._predict\u001B[1;34m(***failed resolving arguments***)\u001B[0m\n\u001B[0;32m    528\u001B[0m id_ins \u001B[38;5;241m=\u001B[39m pandas\u001B[38;5;241m.\u001B[39mDataFrame(\n\u001B[0;32m    529\u001B[0m     data\u001B[38;5;241m=\u001B[39mins, index\u001B[38;5;241m=\u001B[39mid_int, columns\u001B[38;5;241m=\u001B[39mnew_index_names[:\u001B[38;5;241m-\u001B[39m\u001B[38;5;241m1\u001B[39m]\n\u001B[0;32m    530\u001B[0m )\n\u001B[0;32m    531\u001B[0m id_ins \u001B[38;5;241m=\u001B[39m id_ins\u001B[38;5;241m.\u001B[39mdrop_duplicates()\n\u001B[0;32m    532\u001B[0m final_predictions \u001B[38;5;241m=\u001B[39m pandas\u001B[38;5;241m.\u001B[39mconcat(\n\u001B[1;32m--> 533\u001B[0m     (model_forecasts, \u001B[43mid_ins\u001B[49m\u001B[38;5;241;43m.\u001B[39;49m\u001B[43mloc\u001B[49m\u001B[43m[\u001B[49m\u001B[43mmodel_forecasts\u001B[49m\u001B[38;5;241;43m.\u001B[39;49m\u001B[43mindex\u001B[49m\u001B[38;5;241;43m.\u001B[39;49m\u001B[43mtolist\u001B[49m\u001B[43m(\u001B[49m\u001B[43m)\u001B[49m\u001B[43m]\u001B[49m),\n\u001B[0;32m    534\u001B[0m     axis\u001B[38;5;241m=\u001B[39m\u001B[38;5;241m1\u001B[39m,\n\u001B[0;32m    535\u001B[0m )\n\u001B[0;32m    536\u001B[0m \u001B[38;5;28;01mif\u001B[39;00m \u001B[38;5;28mself\u001B[39m\u001B[38;5;241m.\u001B[39m_is_PeriodIndex:\n\u001B[0;32m    537\u001B[0m     time_idx \u001B[38;5;241m=\u001B[39m pandas\u001B[38;5;241m.\u001B[39mDatetimeIndex(final_predictions[\u001B[38;5;28mself\u001B[39m\u001B[38;5;241m.\u001B[39mtime_col])\n",
      "File \u001B[1;32m~\\Documents\\DissertationProject\\venv_python\\lib\\site-packages\\pandas\\core\\indexing.py:1191\u001B[0m, in \u001B[0;36m_LocationIndexer.__getitem__\u001B[1;34m(self, key)\u001B[0m\n\u001B[0;32m   1189\u001B[0m maybe_callable \u001B[38;5;241m=\u001B[39m com\u001B[38;5;241m.\u001B[39mapply_if_callable(key, \u001B[38;5;28mself\u001B[39m\u001B[38;5;241m.\u001B[39mobj)\n\u001B[0;32m   1190\u001B[0m maybe_callable \u001B[38;5;241m=\u001B[39m \u001B[38;5;28mself\u001B[39m\u001B[38;5;241m.\u001B[39m_check_deprecated_callable_usage(key, maybe_callable)\n\u001B[1;32m-> 1191\u001B[0m \u001B[38;5;28;01mreturn\u001B[39;00m \u001B[38;5;28;43mself\u001B[39;49m\u001B[38;5;241;43m.\u001B[39;49m\u001B[43m_getitem_axis\u001B[49m\u001B[43m(\u001B[49m\u001B[43mmaybe_callable\u001B[49m\u001B[43m,\u001B[49m\u001B[43m \u001B[49m\u001B[43maxis\u001B[49m\u001B[38;5;241;43m=\u001B[39;49m\u001B[43maxis\u001B[49m\u001B[43m)\u001B[49m\n",
      "File \u001B[1;32m~\\Documents\\DissertationProject\\venv_python\\lib\\site-packages\\pandas\\core\\indexing.py:1420\u001B[0m, in \u001B[0;36m_LocIndexer._getitem_axis\u001B[1;34m(self, key, axis)\u001B[0m\n\u001B[0;32m   1417\u001B[0m     \u001B[38;5;28;01mif\u001B[39;00m \u001B[38;5;28mhasattr\u001B[39m(key, \u001B[38;5;124m\"\u001B[39m\u001B[38;5;124mndim\u001B[39m\u001B[38;5;124m\"\u001B[39m) \u001B[38;5;129;01mand\u001B[39;00m key\u001B[38;5;241m.\u001B[39mndim \u001B[38;5;241m>\u001B[39m \u001B[38;5;241m1\u001B[39m:\n\u001B[0;32m   1418\u001B[0m         \u001B[38;5;28;01mraise\u001B[39;00m \u001B[38;5;167;01mValueError\u001B[39;00m(\u001B[38;5;124m\"\u001B[39m\u001B[38;5;124mCannot index with multidimensional key\u001B[39m\u001B[38;5;124m\"\u001B[39m)\n\u001B[1;32m-> 1420\u001B[0m     \u001B[38;5;28;01mreturn\u001B[39;00m \u001B[38;5;28;43mself\u001B[39;49m\u001B[38;5;241;43m.\u001B[39;49m\u001B[43m_getitem_iterable\u001B[49m\u001B[43m(\u001B[49m\u001B[43mkey\u001B[49m\u001B[43m,\u001B[49m\u001B[43m \u001B[49m\u001B[43maxis\u001B[49m\u001B[38;5;241;43m=\u001B[39;49m\u001B[43maxis\u001B[49m\u001B[43m)\u001B[49m\n\u001B[0;32m   1422\u001B[0m \u001B[38;5;66;03m# nested tuple slicing\u001B[39;00m\n\u001B[0;32m   1423\u001B[0m \u001B[38;5;28;01mif\u001B[39;00m is_nested_tuple(key, labels):\n",
      "File \u001B[1;32m~\\Documents\\DissertationProject\\venv_python\\lib\\site-packages\\pandas\\core\\indexing.py:1360\u001B[0m, in \u001B[0;36m_LocIndexer._getitem_iterable\u001B[1;34m(self, key, axis)\u001B[0m\n\u001B[0;32m   1357\u001B[0m \u001B[38;5;28mself\u001B[39m\u001B[38;5;241m.\u001B[39m_validate_key(key, axis)\n\u001B[0;32m   1359\u001B[0m \u001B[38;5;66;03m# A collection of keys\u001B[39;00m\n\u001B[1;32m-> 1360\u001B[0m keyarr, indexer \u001B[38;5;241m=\u001B[39m \u001B[38;5;28;43mself\u001B[39;49m\u001B[38;5;241;43m.\u001B[39;49m\u001B[43m_get_listlike_indexer\u001B[49m\u001B[43m(\u001B[49m\u001B[43mkey\u001B[49m\u001B[43m,\u001B[49m\u001B[43m \u001B[49m\u001B[43maxis\u001B[49m\u001B[43m)\u001B[49m\n\u001B[0;32m   1361\u001B[0m \u001B[38;5;28;01mreturn\u001B[39;00m \u001B[38;5;28mself\u001B[39m\u001B[38;5;241m.\u001B[39mobj\u001B[38;5;241m.\u001B[39m_reindex_with_indexers(\n\u001B[0;32m   1362\u001B[0m     {axis: [keyarr, indexer]}, copy\u001B[38;5;241m=\u001B[39m\u001B[38;5;28;01mTrue\u001B[39;00m, allow_dups\u001B[38;5;241m=\u001B[39m\u001B[38;5;28;01mTrue\u001B[39;00m\n\u001B[0;32m   1363\u001B[0m )\n",
      "File \u001B[1;32m~\\Documents\\DissertationProject\\venv_python\\lib\\site-packages\\pandas\\core\\indexing.py:1558\u001B[0m, in \u001B[0;36m_LocIndexer._get_listlike_indexer\u001B[1;34m(self, key, axis)\u001B[0m\n\u001B[0;32m   1555\u001B[0m ax \u001B[38;5;241m=\u001B[39m \u001B[38;5;28mself\u001B[39m\u001B[38;5;241m.\u001B[39mobj\u001B[38;5;241m.\u001B[39m_get_axis(axis)\n\u001B[0;32m   1556\u001B[0m axis_name \u001B[38;5;241m=\u001B[39m \u001B[38;5;28mself\u001B[39m\u001B[38;5;241m.\u001B[39mobj\u001B[38;5;241m.\u001B[39m_get_axis_name(axis)\n\u001B[1;32m-> 1558\u001B[0m keyarr, indexer \u001B[38;5;241m=\u001B[39m \u001B[43max\u001B[49m\u001B[38;5;241;43m.\u001B[39;49m\u001B[43m_get_indexer_strict\u001B[49m\u001B[43m(\u001B[49m\u001B[43mkey\u001B[49m\u001B[43m,\u001B[49m\u001B[43m \u001B[49m\u001B[43maxis_name\u001B[49m\u001B[43m)\u001B[49m\n\u001B[0;32m   1560\u001B[0m \u001B[38;5;28;01mreturn\u001B[39;00m keyarr, indexer\n",
      "File \u001B[1;32m~\\Documents\\DissertationProject\\venv_python\\lib\\site-packages\\pandas\\core\\indexes\\base.py:6200\u001B[0m, in \u001B[0;36mIndex._get_indexer_strict\u001B[1;34m(self, key, axis_name)\u001B[0m\n\u001B[0;32m   6197\u001B[0m \u001B[38;5;28;01melse\u001B[39;00m:\n\u001B[0;32m   6198\u001B[0m     keyarr, indexer, new_indexer \u001B[38;5;241m=\u001B[39m \u001B[38;5;28mself\u001B[39m\u001B[38;5;241m.\u001B[39m_reindex_non_unique(keyarr)\n\u001B[1;32m-> 6200\u001B[0m \u001B[38;5;28;43mself\u001B[39;49m\u001B[38;5;241;43m.\u001B[39;49m\u001B[43m_raise_if_missing\u001B[49m\u001B[43m(\u001B[49m\u001B[43mkeyarr\u001B[49m\u001B[43m,\u001B[49m\u001B[43m \u001B[49m\u001B[43mindexer\u001B[49m\u001B[43m,\u001B[49m\u001B[43m \u001B[49m\u001B[43maxis_name\u001B[49m\u001B[43m)\u001B[49m\n\u001B[0;32m   6202\u001B[0m keyarr \u001B[38;5;241m=\u001B[39m \u001B[38;5;28mself\u001B[39m\u001B[38;5;241m.\u001B[39mtake(indexer)\n\u001B[0;32m   6203\u001B[0m \u001B[38;5;28;01mif\u001B[39;00m \u001B[38;5;28misinstance\u001B[39m(key, Index):\n\u001B[0;32m   6204\u001B[0m     \u001B[38;5;66;03m# GH 42790 - Preserve name from an Index\u001B[39;00m\n",
      "File \u001B[1;32m~\\Documents\\DissertationProject\\venv_python\\lib\\site-packages\\pandas\\core\\indexes\\base.py:6252\u001B[0m, in \u001B[0;36mIndex._raise_if_missing\u001B[1;34m(self, key, indexer, axis_name)\u001B[0m\n\u001B[0;32m   6249\u001B[0m     \u001B[38;5;28;01mraise\u001B[39;00m \u001B[38;5;167;01mKeyError\u001B[39;00m(\u001B[38;5;124mf\u001B[39m\u001B[38;5;124m\"\u001B[39m\u001B[38;5;124mNone of [\u001B[39m\u001B[38;5;132;01m{\u001B[39;00mkey\u001B[38;5;132;01m}\u001B[39;00m\u001B[38;5;124m] are in the [\u001B[39m\u001B[38;5;132;01m{\u001B[39;00maxis_name\u001B[38;5;132;01m}\u001B[39;00m\u001B[38;5;124m]\u001B[39m\u001B[38;5;124m\"\u001B[39m)\n\u001B[0;32m   6251\u001B[0m not_found \u001B[38;5;241m=\u001B[39m \u001B[38;5;28mlist\u001B[39m(ensure_index(key)[missing_mask\u001B[38;5;241m.\u001B[39mnonzero()[\u001B[38;5;241m0\u001B[39m]]\u001B[38;5;241m.\u001B[39munique())\n\u001B[1;32m-> 6252\u001B[0m \u001B[38;5;28;01mraise\u001B[39;00m \u001B[38;5;167;01mKeyError\u001B[39;00m(\u001B[38;5;124mf\u001B[39m\u001B[38;5;124m\"\u001B[39m\u001B[38;5;132;01m{\u001B[39;00mnot_found\u001B[38;5;132;01m}\u001B[39;00m\u001B[38;5;124m not in index\u001B[39m\u001B[38;5;124m\"\u001B[39m)\n",
      "\u001B[1;31mKeyError\u001B[0m: '[34, 35, 36, 37, 38, 39, 40, 41, 42, 43, 44, 45, 46, 47, 48, 49, 50, 51, 52, 53, 54, 55, 56, 57, 58, 59, 60, 61, 62, 63, 64, 65, 66, 67, 68, 69, 70, 71, 72, 73, 74, 75, 76, 77, 78, 79, 80, 81, 82, 83, 84, 85, 86, 87, 88, 89, 90, 91, 92, 93, 94, 95, 96, 97, 98, 99, 100, 101, 102, 103, 104, 105, 106, 107, 108, 109, 110, 111, 112, 113, 114, 115, 116, 117, 118, 119, 120, 121, 122, 123, 124, 125, 126, 127, 128, 129, 130, 131, 132, 133, 134, 135, 136, 137, 138, 139, 140, 141, 142, 143, 144, 145, 146, 147, 148, 149, 150, 151, 152, 153, 154, 155, 156, 157, 158, 159, 160, 161, 162, 163, 164, 165, 166, 167, 168, 169, 170, 171, 172, 173, 174, 175, 176, 177, 178, 179, 180, 181, 182, 183, 184, 185, 186, 187, 188, 189, 190, 191, 192, 193, 194, 195, 196, 197, 198, 199, 200, 201, 202, 203] not in index'"
     ]
    }
   ],
   "source": [
    "LSTMforecaster = LSTMmodel.LSTMforecaster(train_data, test_data, ['HR', 'O2Sat', 'SBP', 'MAP', 'DBP', 'Resp', 'Temp'])\n",
    "LSTMforecaster.fit()\n",
    "LSTMforecasts = LSTMforecaster.predict()"
   ],
   "metadata": {
    "collapsed": false,
    "ExecuteTime": {
     "end_time": "2025-04-01T19:13:48.486627500Z",
     "start_time": "2025-04-01T19:13:33.972022400Z"
    }
   },
   "id": "f0786430fa67559e"
  },
  {
   "cell_type": "code",
   "execution_count": null,
   "outputs": [],
   "source": [
    "LSTMforecaster.evaluate_model(LSTMforecasts)"
   ],
   "metadata": {
    "collapsed": false
   },
   "id": "ed77023f696a3632"
  },
  {
   "cell_type": "code",
   "execution_count": null,
   "outputs": [],
   "source": [
    "LSTMforecaster.plot_forecast(LSTMforecasts)"
   ],
   "metadata": {
    "collapsed": false
   },
   "id": "a35d92dce7355b11"
  },
  {
   "cell_type": "code",
   "execution_count": null,
   "outputs": [],
   "source": [],
   "metadata": {
    "collapsed": false
   },
   "id": "646f2c4df5bf15bd"
  },
  {
   "cell_type": "markdown",
   "source": [],
   "metadata": {
    "collapsed": false
   },
   "id": "6d5be32a25d94d9d"
  }
 ],
 "metadata": {
  "kernelspec": {
   "display_name": "Python 3",
   "language": "python",
   "name": "python3"
  },
  "language_info": {
   "codemirror_mode": {
    "name": "ipython",
    "version": 2
   },
   "file_extension": ".py",
   "mimetype": "text/x-python",
   "name": "python",
   "nbconvert_exporter": "python",
   "pygments_lexer": "ipython2",
   "version": "2.7.6"
  }
 },
 "nbformat": 4,
 "nbformat_minor": 5
}
