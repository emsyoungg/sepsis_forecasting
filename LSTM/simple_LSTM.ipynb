{
 "cells": [
  {
   "cell_type": "code",
   "execution_count": 2,
   "id": "initial_id",
   "metadata": {
    "collapsed": true,
    "ExecuteTime": {
     "end_time": "2025-04-09T13:27:08.808892500Z",
     "start_time": "2025-04-09T13:27:08.776772100Z"
    }
   },
   "outputs": [],
   "source": [
    "from sktime.split import temporal_train_test_split\n",
    "from sktime.utils._testing.panel import _make_panel\n",
    "from sktime.forecasting.neuralforecast import NeuralForecastLSTM"
   ]
  },
  {
   "cell_type": "code",
   "execution_count": 3,
   "outputs": [],
   "source": [
    "# same shape as my sepsis df\n",
    "df = _make_panel(n_instances=5, n_columns=6, n_timepoints=30, all_positive=True)"
   ],
   "metadata": {
    "collapsed": false,
    "ExecuteTime": {
     "end_time": "2025-04-09T13:27:10.599105300Z",
     "start_time": "2025-04-09T13:27:10.556197400Z"
    }
   },
   "id": "e5d3e5529d4325a3"
  },
  {
   "cell_type": "code",
   "execution_count": 4,
   "outputs": [
    {
     "data": {
      "text/plain": "                         var_0     var_1     var_2     var_3         var_4  \\\ninstances timepoints                                                         \n0         0           0.000496  0.306965  0.327875  0.148512  9.037372e-02   \n          1           0.195831  0.015969  0.000930  0.113392  8.162154e-02   \n          2           0.052070  0.420766  1.371452  0.520646  3.034803e-03   \n          3           0.045777  0.187008  0.460981  0.168378  3.536791e-03   \n          4           0.013508  0.262781  0.047121  0.037552  8.804195e-01   \n...                        ...       ...       ...       ...           ...   \n4         25          0.022255  0.022756  0.006654  0.000196  1.273264e-01   \n          26          0.255035  0.597481  0.304108  0.053193  6.884448e-09   \n          27          0.065178  0.002670  0.742604  0.085414  3.970644e-01   \n          28          0.027649  0.455630  0.000025  0.114292  6.184043e-03   \n          29          0.000406  0.173056  1.137485  0.008085  4.108230e-05   \n\n                         var_5  \ninstances timepoints            \n0         0           0.262302  \n          1           0.142383  \n          2           1.299383  \n          3           0.524782  \n          4           0.032457  \n...                        ...  \n4         25          0.008154  \n          26          0.487450  \n          27          0.190773  \n          28          0.178137  \n          29          0.432160  \n\n[150 rows x 6 columns]",
      "text/html": "<div>\n<style scoped>\n    .dataframe tbody tr th:only-of-type {\n        vertical-align: middle;\n    }\n\n    .dataframe tbody tr th {\n        vertical-align: top;\n    }\n\n    .dataframe thead th {\n        text-align: right;\n    }\n</style>\n<table border=\"1\" class=\"dataframe\">\n  <thead>\n    <tr style=\"text-align: right;\">\n      <th></th>\n      <th></th>\n      <th>var_0</th>\n      <th>var_1</th>\n      <th>var_2</th>\n      <th>var_3</th>\n      <th>var_4</th>\n      <th>var_5</th>\n    </tr>\n    <tr>\n      <th>instances</th>\n      <th>timepoints</th>\n      <th></th>\n      <th></th>\n      <th></th>\n      <th></th>\n      <th></th>\n      <th></th>\n    </tr>\n  </thead>\n  <tbody>\n    <tr>\n      <th rowspan=\"5\" valign=\"top\">0</th>\n      <th>0</th>\n      <td>0.000496</td>\n      <td>0.306965</td>\n      <td>0.327875</td>\n      <td>0.148512</td>\n      <td>9.037372e-02</td>\n      <td>0.262302</td>\n    </tr>\n    <tr>\n      <th>1</th>\n      <td>0.195831</td>\n      <td>0.015969</td>\n      <td>0.000930</td>\n      <td>0.113392</td>\n      <td>8.162154e-02</td>\n      <td>0.142383</td>\n    </tr>\n    <tr>\n      <th>2</th>\n      <td>0.052070</td>\n      <td>0.420766</td>\n      <td>1.371452</td>\n      <td>0.520646</td>\n      <td>3.034803e-03</td>\n      <td>1.299383</td>\n    </tr>\n    <tr>\n      <th>3</th>\n      <td>0.045777</td>\n      <td>0.187008</td>\n      <td>0.460981</td>\n      <td>0.168378</td>\n      <td>3.536791e-03</td>\n      <td>0.524782</td>\n    </tr>\n    <tr>\n      <th>4</th>\n      <td>0.013508</td>\n      <td>0.262781</td>\n      <td>0.047121</td>\n      <td>0.037552</td>\n      <td>8.804195e-01</td>\n      <td>0.032457</td>\n    </tr>\n    <tr>\n      <th>...</th>\n      <th>...</th>\n      <td>...</td>\n      <td>...</td>\n      <td>...</td>\n      <td>...</td>\n      <td>...</td>\n      <td>...</td>\n    </tr>\n    <tr>\n      <th rowspan=\"5\" valign=\"top\">4</th>\n      <th>25</th>\n      <td>0.022255</td>\n      <td>0.022756</td>\n      <td>0.006654</td>\n      <td>0.000196</td>\n      <td>1.273264e-01</td>\n      <td>0.008154</td>\n    </tr>\n    <tr>\n      <th>26</th>\n      <td>0.255035</td>\n      <td>0.597481</td>\n      <td>0.304108</td>\n      <td>0.053193</td>\n      <td>6.884448e-09</td>\n      <td>0.487450</td>\n    </tr>\n    <tr>\n      <th>27</th>\n      <td>0.065178</td>\n      <td>0.002670</td>\n      <td>0.742604</td>\n      <td>0.085414</td>\n      <td>3.970644e-01</td>\n      <td>0.190773</td>\n    </tr>\n    <tr>\n      <th>28</th>\n      <td>0.027649</td>\n      <td>0.455630</td>\n      <td>0.000025</td>\n      <td>0.114292</td>\n      <td>6.184043e-03</td>\n      <td>0.178137</td>\n    </tr>\n    <tr>\n      <th>29</th>\n      <td>0.000406</td>\n      <td>0.173056</td>\n      <td>1.137485</td>\n      <td>0.008085</td>\n      <td>4.108230e-05</td>\n      <td>0.432160</td>\n    </tr>\n  </tbody>\n</table>\n<p>150 rows × 6 columns</p>\n</div>"
     },
     "execution_count": 4,
     "metadata": {},
     "output_type": "execute_result"
    }
   ],
   "source": [
    "df"
   ],
   "metadata": {
    "collapsed": false,
    "ExecuteTime": {
     "end_time": "2025-04-09T13:27:11.808461900Z",
     "start_time": "2025-04-09T13:27:11.713866700Z"
    }
   },
   "id": "58f2f285be030da7"
  },
  {
   "cell_type": "code",
   "execution_count": 5,
   "outputs": [],
   "source": [
    "# split into endogenous and exogenous dataframe\n",
    "y = df.drop(['var_1', 'var_2', 'var_3', 'var_4', 'var_5'], axis=1)\n",
    "X = df.drop('var_0', axis=1)"
   ],
   "metadata": {
    "collapsed": false,
    "ExecuteTime": {
     "end_time": "2025-04-09T13:27:12.230021400Z",
     "start_time": "2025-04-09T13:27:12.196418300Z"
    }
   },
   "id": "6320414f9ca90735"
  },
  {
   "cell_type": "code",
   "execution_count": 6,
   "outputs": [
    {
     "data": {
      "text/plain": "                         var_0\ninstances timepoints          \n0         0           0.000496\n          1           0.195831\n          2           0.052070\n          3           0.045777\n          4           0.013508\n...                        ...\n4         25          0.022255\n          26          0.255035\n          27          0.065178\n          28          0.027649\n          29          0.000406\n\n[150 rows x 1 columns]",
      "text/html": "<div>\n<style scoped>\n    .dataframe tbody tr th:only-of-type {\n        vertical-align: middle;\n    }\n\n    .dataframe tbody tr th {\n        vertical-align: top;\n    }\n\n    .dataframe thead th {\n        text-align: right;\n    }\n</style>\n<table border=\"1\" class=\"dataframe\">\n  <thead>\n    <tr style=\"text-align: right;\">\n      <th></th>\n      <th></th>\n      <th>var_0</th>\n    </tr>\n    <tr>\n      <th>instances</th>\n      <th>timepoints</th>\n      <th></th>\n    </tr>\n  </thead>\n  <tbody>\n    <tr>\n      <th rowspan=\"5\" valign=\"top\">0</th>\n      <th>0</th>\n      <td>0.000496</td>\n    </tr>\n    <tr>\n      <th>1</th>\n      <td>0.195831</td>\n    </tr>\n    <tr>\n      <th>2</th>\n      <td>0.052070</td>\n    </tr>\n    <tr>\n      <th>3</th>\n      <td>0.045777</td>\n    </tr>\n    <tr>\n      <th>4</th>\n      <td>0.013508</td>\n    </tr>\n    <tr>\n      <th>...</th>\n      <th>...</th>\n      <td>...</td>\n    </tr>\n    <tr>\n      <th rowspan=\"5\" valign=\"top\">4</th>\n      <th>25</th>\n      <td>0.022255</td>\n    </tr>\n    <tr>\n      <th>26</th>\n      <td>0.255035</td>\n    </tr>\n    <tr>\n      <th>27</th>\n      <td>0.065178</td>\n    </tr>\n    <tr>\n      <th>28</th>\n      <td>0.027649</td>\n    </tr>\n    <tr>\n      <th>29</th>\n      <td>0.000406</td>\n    </tr>\n  </tbody>\n</table>\n<p>150 rows × 1 columns</p>\n</div>"
     },
     "execution_count": 6,
     "metadata": {},
     "output_type": "execute_result"
    }
   ],
   "source": [
    "y"
   ],
   "metadata": {
    "collapsed": false,
    "ExecuteTime": {
     "end_time": "2025-04-09T13:27:12.900250500Z",
     "start_time": "2025-04-09T13:27:12.830405700Z"
    }
   },
   "id": "2acf88004b2124dd"
  },
  {
   "cell_type": "code",
   "execution_count": 7,
   "outputs": [
    {
     "data": {
      "text/plain": "                         var_1     var_2     var_3         var_4     var_5\ninstances timepoints                                                      \n0         0           0.306965  0.327875  0.148512  9.037372e-02  0.262302\n          1           0.015969  0.000930  0.113392  8.162154e-02  0.142383\n          2           0.420766  1.371452  0.520646  3.034803e-03  1.299383\n          3           0.187008  0.460981  0.168378  3.536791e-03  0.524782\n          4           0.262781  0.047121  0.037552  8.804195e-01  0.032457\n...                        ...       ...       ...           ...       ...\n4         25          0.022756  0.006654  0.000196  1.273264e-01  0.008154\n          26          0.597481  0.304108  0.053193  6.884448e-09  0.487450\n          27          0.002670  0.742604  0.085414  3.970644e-01  0.190773\n          28          0.455630  0.000025  0.114292  6.184043e-03  0.178137\n          29          0.173056  1.137485  0.008085  4.108230e-05  0.432160\n\n[150 rows x 5 columns]",
      "text/html": "<div>\n<style scoped>\n    .dataframe tbody tr th:only-of-type {\n        vertical-align: middle;\n    }\n\n    .dataframe tbody tr th {\n        vertical-align: top;\n    }\n\n    .dataframe thead th {\n        text-align: right;\n    }\n</style>\n<table border=\"1\" class=\"dataframe\">\n  <thead>\n    <tr style=\"text-align: right;\">\n      <th></th>\n      <th></th>\n      <th>var_1</th>\n      <th>var_2</th>\n      <th>var_3</th>\n      <th>var_4</th>\n      <th>var_5</th>\n    </tr>\n    <tr>\n      <th>instances</th>\n      <th>timepoints</th>\n      <th></th>\n      <th></th>\n      <th></th>\n      <th></th>\n      <th></th>\n    </tr>\n  </thead>\n  <tbody>\n    <tr>\n      <th rowspan=\"5\" valign=\"top\">0</th>\n      <th>0</th>\n      <td>0.306965</td>\n      <td>0.327875</td>\n      <td>0.148512</td>\n      <td>9.037372e-02</td>\n      <td>0.262302</td>\n    </tr>\n    <tr>\n      <th>1</th>\n      <td>0.015969</td>\n      <td>0.000930</td>\n      <td>0.113392</td>\n      <td>8.162154e-02</td>\n      <td>0.142383</td>\n    </tr>\n    <tr>\n      <th>2</th>\n      <td>0.420766</td>\n      <td>1.371452</td>\n      <td>0.520646</td>\n      <td>3.034803e-03</td>\n      <td>1.299383</td>\n    </tr>\n    <tr>\n      <th>3</th>\n      <td>0.187008</td>\n      <td>0.460981</td>\n      <td>0.168378</td>\n      <td>3.536791e-03</td>\n      <td>0.524782</td>\n    </tr>\n    <tr>\n      <th>4</th>\n      <td>0.262781</td>\n      <td>0.047121</td>\n      <td>0.037552</td>\n      <td>8.804195e-01</td>\n      <td>0.032457</td>\n    </tr>\n    <tr>\n      <th>...</th>\n      <th>...</th>\n      <td>...</td>\n      <td>...</td>\n      <td>...</td>\n      <td>...</td>\n      <td>...</td>\n    </tr>\n    <tr>\n      <th rowspan=\"5\" valign=\"top\">4</th>\n      <th>25</th>\n      <td>0.022756</td>\n      <td>0.006654</td>\n      <td>0.000196</td>\n      <td>1.273264e-01</td>\n      <td>0.008154</td>\n    </tr>\n    <tr>\n      <th>26</th>\n      <td>0.597481</td>\n      <td>0.304108</td>\n      <td>0.053193</td>\n      <td>6.884448e-09</td>\n      <td>0.487450</td>\n    </tr>\n    <tr>\n      <th>27</th>\n      <td>0.002670</td>\n      <td>0.742604</td>\n      <td>0.085414</td>\n      <td>3.970644e-01</td>\n      <td>0.190773</td>\n    </tr>\n    <tr>\n      <th>28</th>\n      <td>0.455630</td>\n      <td>0.000025</td>\n      <td>0.114292</td>\n      <td>6.184043e-03</td>\n      <td>0.178137</td>\n    </tr>\n    <tr>\n      <th>29</th>\n      <td>0.173056</td>\n      <td>1.137485</td>\n      <td>0.008085</td>\n      <td>4.108230e-05</td>\n      <td>0.432160</td>\n    </tr>\n  </tbody>\n</table>\n<p>150 rows × 5 columns</p>\n</div>"
     },
     "execution_count": 7,
     "metadata": {},
     "output_type": "execute_result"
    }
   ],
   "source": [
    "X"
   ],
   "metadata": {
    "collapsed": false,
    "ExecuteTime": {
     "end_time": "2025-04-09T13:27:13.822430600Z",
     "start_time": "2025-04-09T13:27:13.742062800Z"
    }
   },
   "id": "a5fb7f77b7eaa99c"
  },
  {
   "cell_type": "code",
   "execution_count": 8,
   "outputs": [],
   "source": [
    "y_train, y_test, X_train, X_test = temporal_train_test_split(y, X, test_size=4)"
   ],
   "metadata": {
    "collapsed": false,
    "ExecuteTime": {
     "end_time": "2025-04-09T13:27:14.400079Z",
     "start_time": "2025-04-09T13:27:14.326878500Z"
    }
   },
   "id": "82e33a5ddc43c0d5"
  },
  {
   "cell_type": "code",
   "execution_count": 9,
   "outputs": [
    {
     "data": {
      "text/plain": "                         var_0\ninstances timepoints          \n0         0           0.000496\n          1           0.195831\n          2           0.052070\n          3           0.045777\n          4           0.013508\n...                        ...\n4         21          0.110448\n          22          0.959469\n          23          0.288086\n          24          0.396763\n          25          0.022255\n\n[130 rows x 1 columns]",
      "text/html": "<div>\n<style scoped>\n    .dataframe tbody tr th:only-of-type {\n        vertical-align: middle;\n    }\n\n    .dataframe tbody tr th {\n        vertical-align: top;\n    }\n\n    .dataframe thead th {\n        text-align: right;\n    }\n</style>\n<table border=\"1\" class=\"dataframe\">\n  <thead>\n    <tr style=\"text-align: right;\">\n      <th></th>\n      <th></th>\n      <th>var_0</th>\n    </tr>\n    <tr>\n      <th>instances</th>\n      <th>timepoints</th>\n      <th></th>\n    </tr>\n  </thead>\n  <tbody>\n    <tr>\n      <th rowspan=\"5\" valign=\"top\">0</th>\n      <th>0</th>\n      <td>0.000496</td>\n    </tr>\n    <tr>\n      <th>1</th>\n      <td>0.195831</td>\n    </tr>\n    <tr>\n      <th>2</th>\n      <td>0.052070</td>\n    </tr>\n    <tr>\n      <th>3</th>\n      <td>0.045777</td>\n    </tr>\n    <tr>\n      <th>4</th>\n      <td>0.013508</td>\n    </tr>\n    <tr>\n      <th>...</th>\n      <th>...</th>\n      <td>...</td>\n    </tr>\n    <tr>\n      <th rowspan=\"5\" valign=\"top\">4</th>\n      <th>21</th>\n      <td>0.110448</td>\n    </tr>\n    <tr>\n      <th>22</th>\n      <td>0.959469</td>\n    </tr>\n    <tr>\n      <th>23</th>\n      <td>0.288086</td>\n    </tr>\n    <tr>\n      <th>24</th>\n      <td>0.396763</td>\n    </tr>\n    <tr>\n      <th>25</th>\n      <td>0.022255</td>\n    </tr>\n  </tbody>\n</table>\n<p>130 rows × 1 columns</p>\n</div>"
     },
     "execution_count": 9,
     "metadata": {},
     "output_type": "execute_result"
    }
   ],
   "source": [
    "y_train"
   ],
   "metadata": {
    "collapsed": false,
    "ExecuteTime": {
     "end_time": "2025-04-09T13:27:15.020953800Z",
     "start_time": "2025-04-09T13:27:14.972971400Z"
    }
   },
   "id": "1d4d6500ed4dde4a"
  },
  {
   "cell_type": "code",
   "execution_count": 10,
   "outputs": [
    {
     "data": {
      "text/plain": "                         var_0\ninstances timepoints          \n0         26          0.201399\n          27          0.066885\n          28          0.035961\n          29          0.003478\n1         26          0.106176\n          27          0.213220\n          28          0.007122\n          29          0.014296\n2         26          0.888007\n          27          0.189388\n          28          0.126260\n          29          0.325194\n3         26          0.007444\n          27          0.230362\n          28          0.947308\n          29          0.201745\n4         26          0.255035\n          27          0.065178\n          28          0.027649\n          29          0.000406",
      "text/html": "<div>\n<style scoped>\n    .dataframe tbody tr th:only-of-type {\n        vertical-align: middle;\n    }\n\n    .dataframe tbody tr th {\n        vertical-align: top;\n    }\n\n    .dataframe thead th {\n        text-align: right;\n    }\n</style>\n<table border=\"1\" class=\"dataframe\">\n  <thead>\n    <tr style=\"text-align: right;\">\n      <th></th>\n      <th></th>\n      <th>var_0</th>\n    </tr>\n    <tr>\n      <th>instances</th>\n      <th>timepoints</th>\n      <th></th>\n    </tr>\n  </thead>\n  <tbody>\n    <tr>\n      <th rowspan=\"4\" valign=\"top\">0</th>\n      <th>26</th>\n      <td>0.201399</td>\n    </tr>\n    <tr>\n      <th>27</th>\n      <td>0.066885</td>\n    </tr>\n    <tr>\n      <th>28</th>\n      <td>0.035961</td>\n    </tr>\n    <tr>\n      <th>29</th>\n      <td>0.003478</td>\n    </tr>\n    <tr>\n      <th rowspan=\"4\" valign=\"top\">1</th>\n      <th>26</th>\n      <td>0.106176</td>\n    </tr>\n    <tr>\n      <th>27</th>\n      <td>0.213220</td>\n    </tr>\n    <tr>\n      <th>28</th>\n      <td>0.007122</td>\n    </tr>\n    <tr>\n      <th>29</th>\n      <td>0.014296</td>\n    </tr>\n    <tr>\n      <th rowspan=\"4\" valign=\"top\">2</th>\n      <th>26</th>\n      <td>0.888007</td>\n    </tr>\n    <tr>\n      <th>27</th>\n      <td>0.189388</td>\n    </tr>\n    <tr>\n      <th>28</th>\n      <td>0.126260</td>\n    </tr>\n    <tr>\n      <th>29</th>\n      <td>0.325194</td>\n    </tr>\n    <tr>\n      <th rowspan=\"4\" valign=\"top\">3</th>\n      <th>26</th>\n      <td>0.007444</td>\n    </tr>\n    <tr>\n      <th>27</th>\n      <td>0.230362</td>\n    </tr>\n    <tr>\n      <th>28</th>\n      <td>0.947308</td>\n    </tr>\n    <tr>\n      <th>29</th>\n      <td>0.201745</td>\n    </tr>\n    <tr>\n      <th rowspan=\"4\" valign=\"top\">4</th>\n      <th>26</th>\n      <td>0.255035</td>\n    </tr>\n    <tr>\n      <th>27</th>\n      <td>0.065178</td>\n    </tr>\n    <tr>\n      <th>28</th>\n      <td>0.027649</td>\n    </tr>\n    <tr>\n      <th>29</th>\n      <td>0.000406</td>\n    </tr>\n  </tbody>\n</table>\n</div>"
     },
     "execution_count": 10,
     "metadata": {},
     "output_type": "execute_result"
    }
   ],
   "source": [
    "y_test"
   ],
   "metadata": {
    "collapsed": false,
    "ExecuteTime": {
     "end_time": "2025-04-09T13:27:15.865028900Z",
     "start_time": "2025-04-09T13:27:15.776883100Z"
    }
   },
   "id": "42ea8c8735484144"
  },
  {
   "cell_type": "code",
   "execution_count": 11,
   "outputs": [
    {
     "data": {
      "text/plain": "                         var_1     var_2     var_3     var_4     var_5\ninstances timepoints                                                  \n0         0           0.306965  0.327875  0.148512  0.090374  0.262302\n          1           0.015969  0.000930  0.113392  0.081622  0.142383\n          2           0.420766  1.371452  0.520646  0.003035  1.299383\n          3           0.187008  0.460981  0.168378  0.003537  0.524782\n          4           0.262781  0.047121  0.037552  0.880419  0.032457\n...                        ...       ...       ...       ...       ...\n4         21          1.116618  0.471159  0.124749  0.071751  0.170172\n          22          0.040422  0.982704  0.066285  0.677229  1.220771\n          23          0.008773  0.007651  0.004843  0.029167  0.000003\n          24          0.311180  0.036414  0.362096  0.000038  0.052897\n          25          0.022756  0.006654  0.000196  0.127326  0.008154\n\n[130 rows x 5 columns]",
      "text/html": "<div>\n<style scoped>\n    .dataframe tbody tr th:only-of-type {\n        vertical-align: middle;\n    }\n\n    .dataframe tbody tr th {\n        vertical-align: top;\n    }\n\n    .dataframe thead th {\n        text-align: right;\n    }\n</style>\n<table border=\"1\" class=\"dataframe\">\n  <thead>\n    <tr style=\"text-align: right;\">\n      <th></th>\n      <th></th>\n      <th>var_1</th>\n      <th>var_2</th>\n      <th>var_3</th>\n      <th>var_4</th>\n      <th>var_5</th>\n    </tr>\n    <tr>\n      <th>instances</th>\n      <th>timepoints</th>\n      <th></th>\n      <th></th>\n      <th></th>\n      <th></th>\n      <th></th>\n    </tr>\n  </thead>\n  <tbody>\n    <tr>\n      <th rowspan=\"5\" valign=\"top\">0</th>\n      <th>0</th>\n      <td>0.306965</td>\n      <td>0.327875</td>\n      <td>0.148512</td>\n      <td>0.090374</td>\n      <td>0.262302</td>\n    </tr>\n    <tr>\n      <th>1</th>\n      <td>0.015969</td>\n      <td>0.000930</td>\n      <td>0.113392</td>\n      <td>0.081622</td>\n      <td>0.142383</td>\n    </tr>\n    <tr>\n      <th>2</th>\n      <td>0.420766</td>\n      <td>1.371452</td>\n      <td>0.520646</td>\n      <td>0.003035</td>\n      <td>1.299383</td>\n    </tr>\n    <tr>\n      <th>3</th>\n      <td>0.187008</td>\n      <td>0.460981</td>\n      <td>0.168378</td>\n      <td>0.003537</td>\n      <td>0.524782</td>\n    </tr>\n    <tr>\n      <th>4</th>\n      <td>0.262781</td>\n      <td>0.047121</td>\n      <td>0.037552</td>\n      <td>0.880419</td>\n      <td>0.032457</td>\n    </tr>\n    <tr>\n      <th>...</th>\n      <th>...</th>\n      <td>...</td>\n      <td>...</td>\n      <td>...</td>\n      <td>...</td>\n      <td>...</td>\n    </tr>\n    <tr>\n      <th rowspan=\"5\" valign=\"top\">4</th>\n      <th>21</th>\n      <td>1.116618</td>\n      <td>0.471159</td>\n      <td>0.124749</td>\n      <td>0.071751</td>\n      <td>0.170172</td>\n    </tr>\n    <tr>\n      <th>22</th>\n      <td>0.040422</td>\n      <td>0.982704</td>\n      <td>0.066285</td>\n      <td>0.677229</td>\n      <td>1.220771</td>\n    </tr>\n    <tr>\n      <th>23</th>\n      <td>0.008773</td>\n      <td>0.007651</td>\n      <td>0.004843</td>\n      <td>0.029167</td>\n      <td>0.000003</td>\n    </tr>\n    <tr>\n      <th>24</th>\n      <td>0.311180</td>\n      <td>0.036414</td>\n      <td>0.362096</td>\n      <td>0.000038</td>\n      <td>0.052897</td>\n    </tr>\n    <tr>\n      <th>25</th>\n      <td>0.022756</td>\n      <td>0.006654</td>\n      <td>0.000196</td>\n      <td>0.127326</td>\n      <td>0.008154</td>\n    </tr>\n  </tbody>\n</table>\n<p>130 rows × 5 columns</p>\n</div>"
     },
     "execution_count": 11,
     "metadata": {},
     "output_type": "execute_result"
    }
   ],
   "source": [
    "X_train"
   ],
   "metadata": {
    "collapsed": false,
    "ExecuteTime": {
     "end_time": "2025-04-09T13:27:16.480964100Z",
     "start_time": "2025-04-09T13:27:16.388768100Z"
    }
   },
   "id": "6f2ce1c3b043fda7"
  },
  {
   "cell_type": "code",
   "execution_count": 12,
   "outputs": [
    {
     "data": {
      "text/plain": "                         var_1     var_2     var_3         var_4     var_5\ninstances timepoints                                                      \n0         26          0.345703  0.409801  0.004966  8.170104e-02  0.011904\n          27          0.644639  0.079814  0.027355  1.230458e+00  0.294673\n          28          0.263679  0.806857  0.006200  5.021976e-01  0.023147\n          29          0.467599  0.013983  0.452837  4.912083e-01  0.013150\n1         26          0.035143  0.163254  0.068413  2.250912e-01  0.064078\n          27          0.091968  0.153417  0.147951  3.807101e-02  0.003167\n          28          1.184000  0.109090  0.062926  1.455887e+00  2.148150\n          29          0.045947  0.102901  0.000056  1.660689e-01  0.135252\n2         26          0.000112  1.069577  0.290546  7.646052e-01  0.040000\n          27          0.035438  0.141969  0.190617  4.916502e-03  0.010096\n          28          0.081550  0.030089  0.206133  2.227335e-01  0.243411\n          29          0.164138  0.004943  0.612428  3.855745e-02  0.104822\n3         26          0.796470  0.794407  0.071881  8.518010e-02  0.035339\n          27          0.428528  0.300500  0.014627  2.464224e-01  0.166930\n          28          0.406447  0.009231  0.768418  1.468497e-01  0.020341\n          29          1.001086  0.000122  0.045370  4.554254e-01  0.692083\n4         26          0.597481  0.304108  0.053193  6.884448e-09  0.487450\n          27          0.002670  0.742604  0.085414  3.970644e-01  0.190773\n          28          0.455630  0.000025  0.114292  6.184043e-03  0.178137\n          29          0.173056  1.137485  0.008085  4.108230e-05  0.432160",
      "text/html": "<div>\n<style scoped>\n    .dataframe tbody tr th:only-of-type {\n        vertical-align: middle;\n    }\n\n    .dataframe tbody tr th {\n        vertical-align: top;\n    }\n\n    .dataframe thead th {\n        text-align: right;\n    }\n</style>\n<table border=\"1\" class=\"dataframe\">\n  <thead>\n    <tr style=\"text-align: right;\">\n      <th></th>\n      <th></th>\n      <th>var_1</th>\n      <th>var_2</th>\n      <th>var_3</th>\n      <th>var_4</th>\n      <th>var_5</th>\n    </tr>\n    <tr>\n      <th>instances</th>\n      <th>timepoints</th>\n      <th></th>\n      <th></th>\n      <th></th>\n      <th></th>\n      <th></th>\n    </tr>\n  </thead>\n  <tbody>\n    <tr>\n      <th rowspan=\"4\" valign=\"top\">0</th>\n      <th>26</th>\n      <td>0.345703</td>\n      <td>0.409801</td>\n      <td>0.004966</td>\n      <td>8.170104e-02</td>\n      <td>0.011904</td>\n    </tr>\n    <tr>\n      <th>27</th>\n      <td>0.644639</td>\n      <td>0.079814</td>\n      <td>0.027355</td>\n      <td>1.230458e+00</td>\n      <td>0.294673</td>\n    </tr>\n    <tr>\n      <th>28</th>\n      <td>0.263679</td>\n      <td>0.806857</td>\n      <td>0.006200</td>\n      <td>5.021976e-01</td>\n      <td>0.023147</td>\n    </tr>\n    <tr>\n      <th>29</th>\n      <td>0.467599</td>\n      <td>0.013983</td>\n      <td>0.452837</td>\n      <td>4.912083e-01</td>\n      <td>0.013150</td>\n    </tr>\n    <tr>\n      <th rowspan=\"4\" valign=\"top\">1</th>\n      <th>26</th>\n      <td>0.035143</td>\n      <td>0.163254</td>\n      <td>0.068413</td>\n      <td>2.250912e-01</td>\n      <td>0.064078</td>\n    </tr>\n    <tr>\n      <th>27</th>\n      <td>0.091968</td>\n      <td>0.153417</td>\n      <td>0.147951</td>\n      <td>3.807101e-02</td>\n      <td>0.003167</td>\n    </tr>\n    <tr>\n      <th>28</th>\n      <td>1.184000</td>\n      <td>0.109090</td>\n      <td>0.062926</td>\n      <td>1.455887e+00</td>\n      <td>2.148150</td>\n    </tr>\n    <tr>\n      <th>29</th>\n      <td>0.045947</td>\n      <td>0.102901</td>\n      <td>0.000056</td>\n      <td>1.660689e-01</td>\n      <td>0.135252</td>\n    </tr>\n    <tr>\n      <th rowspan=\"4\" valign=\"top\">2</th>\n      <th>26</th>\n      <td>0.000112</td>\n      <td>1.069577</td>\n      <td>0.290546</td>\n      <td>7.646052e-01</td>\n      <td>0.040000</td>\n    </tr>\n    <tr>\n      <th>27</th>\n      <td>0.035438</td>\n      <td>0.141969</td>\n      <td>0.190617</td>\n      <td>4.916502e-03</td>\n      <td>0.010096</td>\n    </tr>\n    <tr>\n      <th>28</th>\n      <td>0.081550</td>\n      <td>0.030089</td>\n      <td>0.206133</td>\n      <td>2.227335e-01</td>\n      <td>0.243411</td>\n    </tr>\n    <tr>\n      <th>29</th>\n      <td>0.164138</td>\n      <td>0.004943</td>\n      <td>0.612428</td>\n      <td>3.855745e-02</td>\n      <td>0.104822</td>\n    </tr>\n    <tr>\n      <th rowspan=\"4\" valign=\"top\">3</th>\n      <th>26</th>\n      <td>0.796470</td>\n      <td>0.794407</td>\n      <td>0.071881</td>\n      <td>8.518010e-02</td>\n      <td>0.035339</td>\n    </tr>\n    <tr>\n      <th>27</th>\n      <td>0.428528</td>\n      <td>0.300500</td>\n      <td>0.014627</td>\n      <td>2.464224e-01</td>\n      <td>0.166930</td>\n    </tr>\n    <tr>\n      <th>28</th>\n      <td>0.406447</td>\n      <td>0.009231</td>\n      <td>0.768418</td>\n      <td>1.468497e-01</td>\n      <td>0.020341</td>\n    </tr>\n    <tr>\n      <th>29</th>\n      <td>1.001086</td>\n      <td>0.000122</td>\n      <td>0.045370</td>\n      <td>4.554254e-01</td>\n      <td>0.692083</td>\n    </tr>\n    <tr>\n      <th rowspan=\"4\" valign=\"top\">4</th>\n      <th>26</th>\n      <td>0.597481</td>\n      <td>0.304108</td>\n      <td>0.053193</td>\n      <td>6.884448e-09</td>\n      <td>0.487450</td>\n    </tr>\n    <tr>\n      <th>27</th>\n      <td>0.002670</td>\n      <td>0.742604</td>\n      <td>0.085414</td>\n      <td>3.970644e-01</td>\n      <td>0.190773</td>\n    </tr>\n    <tr>\n      <th>28</th>\n      <td>0.455630</td>\n      <td>0.000025</td>\n      <td>0.114292</td>\n      <td>6.184043e-03</td>\n      <td>0.178137</td>\n    </tr>\n    <tr>\n      <th>29</th>\n      <td>0.173056</td>\n      <td>1.137485</td>\n      <td>0.008085</td>\n      <td>4.108230e-05</td>\n      <td>0.432160</td>\n    </tr>\n  </tbody>\n</table>\n</div>"
     },
     "execution_count": 12,
     "metadata": {},
     "output_type": "execute_result"
    }
   ],
   "source": [
    "X_test"
   ],
   "metadata": {
    "collapsed": false,
    "ExecuteTime": {
     "end_time": "2025-04-09T13:27:17.057558600Z",
     "start_time": "2025-04-09T13:27:16.994276Z"
    }
   },
   "id": "4a9c6bbb3f93147a"
  },
  {
   "cell_type": "code",
   "execution_count": 13,
   "outputs": [
    {
     "data": {
      "text/plain": "True"
     },
     "execution_count": 13,
     "metadata": {},
     "output_type": "execute_result"
    }
   ],
   "source": [
    "from sktime.datatypes import check_is_mtype\n",
    "\n",
    "check_is_mtype(y_train, mtype=\"pd-multiindex\", scitype=\"Panel\")"
   ],
   "metadata": {
    "collapsed": false,
    "ExecuteTime": {
     "end_time": "2025-04-09T13:27:18.051297800Z",
     "start_time": "2025-04-09T13:27:18.010672600Z"
    }
   },
   "id": "64b56c02644784bd"
  },
  {
   "cell_type": "code",
   "execution_count": 14,
   "outputs": [],
   "source": [
    "model = NeuralForecastLSTM(futr_exog_list=['var_1', 'var_2', 'var_3', 'var_4', 'var_5'], max_steps=2)\n"
   ],
   "metadata": {
    "collapsed": false,
    "ExecuteTime": {
     "end_time": "2025-04-09T13:27:26.862961700Z",
     "start_time": "2025-04-09T13:27:19.148241800Z"
    }
   },
   "id": "26f02875be8fe0f6"
  },
  {
   "cell_type": "code",
   "execution_count": 15,
   "outputs": [
    {
     "name": "stderr",
     "output_type": "stream",
     "text": [
      "C:\\Users\\emily\\Documents\\DissertationProject\\venv_python\\lib\\site-packages\\neuralforecast\\common\\_base_model.py:138: UserWarning: Input size too small. Automatically setting input size to 3 * horizon = 12\n",
      "  warnings.warn(\n",
      "C:\\Users\\emily\\Documents\\DissertationProject\\venv_python\\lib\\site-packages\\neuralforecast\\common\\_base_model.py:146: UserWarning: Inference input size too small. Automatically setting inference input size to input_size = 12\n",
      "  warnings.warn(\n",
      "Seed set to 1\n",
      "C:\\Users\\emily\\Documents\\DissertationProject\\venv_python\\lib\\site-packages\\neuralforecast\\models\\lstm.py:161: UserWarning: context_size is deprecated and will be removed in future versions.\n",
      "  warnings.warn(\n",
      "C:\\Users\\emily\\Documents\\DissertationProject\\venv_python\\lib\\site-packages\\neuralforecast\\common\\_base_model.py:535: UserWarning: val_check_steps is greater than max_steps, setting val_check_steps to max_steps.\n",
      "  warnings.warn(\n",
      "GPU available: False, used: False\n",
      "TPU available: False, using: 0 TPU cores\n",
      "HPU available: False, using: 0 HPUs\n",
      "\n",
      "  | Name         | Type          | Params | Mode \n",
      "-------------------------------------------------------\n",
      "0 | loss         | MAE           | 0      | train\n",
      "1 | padder_train | ConstantPad1d | 0      | train\n",
      "2 | scaler       | TemporalNorm  | 0      | train\n",
      "3 | hist_encoder | LSTM          | 488 K  | train\n",
      "4 | mlp_decoder  | MLP           | 41.4 K | train\n",
      "-------------------------------------------------------\n",
      "529 K     Trainable params\n",
      "0         Non-trainable params\n",
      "529 K     Total params\n",
      "2.118     Total estimated model params size (MB)\n",
      "10        Modules in train mode\n",
      "0         Modules in eval mode\n"
     ]
    },
    {
     "data": {
      "text/plain": "Sanity Checking: |          | 0/? [00:00<?, ?it/s]",
      "application/vnd.jupyter.widget-view+json": {
       "version_major": 2,
       "version_minor": 0,
       "model_id": "1b4bd0c352574b61817dc517cc5d9ad4"
      }
     },
     "metadata": {},
     "output_type": "display_data"
    },
    {
     "data": {
      "text/plain": "Training: |          | 0/? [00:00<?, ?it/s]",
      "application/vnd.jupyter.widget-view+json": {
       "version_major": 2,
       "version_minor": 0,
       "model_id": "214e694485664300aa9640a6f15c69df"
      }
     },
     "metadata": {},
     "output_type": "display_data"
    },
    {
     "data": {
      "text/plain": "Validation: |          | 0/? [00:00<?, ?it/s]",
      "application/vnd.jupyter.widget-view+json": {
       "version_major": 2,
       "version_minor": 0,
       "model_id": "35102203c8db4ecea6343063d0f66b75"
      }
     },
     "metadata": {},
     "output_type": "display_data"
    },
    {
     "name": "stderr",
     "output_type": "stream",
     "text": [
      "`Trainer.fit` stopped: `max_steps=2` reached.\n",
      "C:\\Users\\emily\\Documents\\DissertationProject\\venv_python\\lib\\site-packages\\neuralforecast\\common\\_base_model.py:138: UserWarning: Input size too small. Automatically setting input size to 3 * horizon = 12\n",
      "  warnings.warn(\n",
      "C:\\Users\\emily\\Documents\\DissertationProject\\venv_python\\lib\\site-packages\\neuralforecast\\common\\_base_model.py:146: UserWarning: Inference input size too small. Automatically setting inference input size to input_size = 12\n",
      "  warnings.warn(\n",
      "Seed set to 1\n",
      "C:\\Users\\emily\\Documents\\DissertationProject\\venv_python\\lib\\site-packages\\neuralforecast\\models\\lstm.py:161: UserWarning: context_size is deprecated and will be removed in future versions.\n",
      "  warnings.warn(\n",
      "C:\\Users\\emily\\Documents\\DissertationProject\\venv_python\\lib\\site-packages\\neuralforecast\\common\\_base_model.py:535: UserWarning: val_check_steps is greater than max_steps, setting val_check_steps to max_steps.\n",
      "  warnings.warn(\n",
      "GPU available: False, used: False\n",
      "TPU available: False, using: 0 TPU cores\n",
      "HPU available: False, using: 0 HPUs\n",
      "\n",
      "  | Name         | Type          | Params | Mode \n",
      "-------------------------------------------------------\n",
      "0 | loss         | MAE           | 0      | train\n",
      "1 | padder_train | ConstantPad1d | 0      | train\n",
      "2 | scaler       | TemporalNorm  | 0      | train\n",
      "3 | hist_encoder | LSTM          | 488 K  | train\n",
      "4 | mlp_decoder  | MLP           | 41.4 K | train\n",
      "-------------------------------------------------------\n",
      "529 K     Trainable params\n",
      "0         Non-trainable params\n",
      "529 K     Total params\n",
      "2.118     Total estimated model params size (MB)\n",
      "10        Modules in train mode\n",
      "0         Modules in eval mode\n"
     ]
    },
    {
     "data": {
      "text/plain": "Sanity Checking: |          | 0/? [00:00<?, ?it/s]",
      "application/vnd.jupyter.widget-view+json": {
       "version_major": 2,
       "version_minor": 0,
       "model_id": "0fa2954c50894824bc5f4f4cd0f50ccf"
      }
     },
     "metadata": {},
     "output_type": "display_data"
    },
    {
     "data": {
      "text/plain": "Training: |          | 0/? [00:00<?, ?it/s]",
      "application/vnd.jupyter.widget-view+json": {
       "version_major": 2,
       "version_minor": 0,
       "model_id": "a88d0938c2a74d4381065ef482006f6b"
      }
     },
     "metadata": {},
     "output_type": "display_data"
    },
    {
     "data": {
      "text/plain": "Validation: |          | 0/? [00:00<?, ?it/s]",
      "application/vnd.jupyter.widget-view+json": {
       "version_major": 2,
       "version_minor": 0,
       "model_id": "03d8b20e23b04669ab17bc5b52d7da42"
      }
     },
     "metadata": {},
     "output_type": "display_data"
    },
    {
     "name": "stderr",
     "output_type": "stream",
     "text": [
      "`Trainer.fit` stopped: `max_steps=2` reached.\n",
      "C:\\Users\\emily\\Documents\\DissertationProject\\venv_python\\lib\\site-packages\\neuralforecast\\common\\_base_model.py:138: UserWarning: Input size too small. Automatically setting input size to 3 * horizon = 12\n",
      "  warnings.warn(\n",
      "C:\\Users\\emily\\Documents\\DissertationProject\\venv_python\\lib\\site-packages\\neuralforecast\\common\\_base_model.py:146: UserWarning: Inference input size too small. Automatically setting inference input size to input_size = 12\n",
      "  warnings.warn(\n",
      "Seed set to 1\n",
      "C:\\Users\\emily\\Documents\\DissertationProject\\venv_python\\lib\\site-packages\\neuralforecast\\models\\lstm.py:161: UserWarning: context_size is deprecated and will be removed in future versions.\n",
      "  warnings.warn(\n",
      "C:\\Users\\emily\\Documents\\DissertationProject\\venv_python\\lib\\site-packages\\neuralforecast\\common\\_base_model.py:535: UserWarning: val_check_steps is greater than max_steps, setting val_check_steps to max_steps.\n",
      "  warnings.warn(\n",
      "GPU available: False, used: False\n",
      "TPU available: False, using: 0 TPU cores\n",
      "HPU available: False, using: 0 HPUs\n",
      "\n",
      "  | Name         | Type          | Params | Mode \n",
      "-------------------------------------------------------\n",
      "0 | loss         | MAE           | 0      | train\n",
      "1 | padder_train | ConstantPad1d | 0      | train\n",
      "2 | scaler       | TemporalNorm  | 0      | train\n",
      "3 | hist_encoder | LSTM          | 488 K  | train\n",
      "4 | mlp_decoder  | MLP           | 41.4 K | train\n",
      "-------------------------------------------------------\n",
      "529 K     Trainable params\n",
      "0         Non-trainable params\n",
      "529 K     Total params\n",
      "2.118     Total estimated model params size (MB)\n",
      "10        Modules in train mode\n",
      "0         Modules in eval mode\n"
     ]
    },
    {
     "data": {
      "text/plain": "Sanity Checking: |          | 0/? [00:00<?, ?it/s]",
      "application/vnd.jupyter.widget-view+json": {
       "version_major": 2,
       "version_minor": 0,
       "model_id": "49caffbe28c2484391fc79ec8cc0541e"
      }
     },
     "metadata": {},
     "output_type": "display_data"
    },
    {
     "data": {
      "text/plain": "Training: |          | 0/? [00:00<?, ?it/s]",
      "application/vnd.jupyter.widget-view+json": {
       "version_major": 2,
       "version_minor": 0,
       "model_id": "5e9a99b41ad6433c9c074a4f681dcb40"
      }
     },
     "metadata": {},
     "output_type": "display_data"
    },
    {
     "data": {
      "text/plain": "Validation: |          | 0/? [00:00<?, ?it/s]",
      "application/vnd.jupyter.widget-view+json": {
       "version_major": 2,
       "version_minor": 0,
       "model_id": "78530f3d3fd247668ffbda7f5bfdb9a7"
      }
     },
     "metadata": {},
     "output_type": "display_data"
    },
    {
     "name": "stderr",
     "output_type": "stream",
     "text": [
      "`Trainer.fit` stopped: `max_steps=2` reached.\n",
      "C:\\Users\\emily\\Documents\\DissertationProject\\venv_python\\lib\\site-packages\\neuralforecast\\common\\_base_model.py:138: UserWarning: Input size too small. Automatically setting input size to 3 * horizon = 12\n",
      "  warnings.warn(\n",
      "C:\\Users\\emily\\Documents\\DissertationProject\\venv_python\\lib\\site-packages\\neuralforecast\\common\\_base_model.py:146: UserWarning: Inference input size too small. Automatically setting inference input size to input_size = 12\n",
      "  warnings.warn(\n",
      "Seed set to 1\n",
      "C:\\Users\\emily\\Documents\\DissertationProject\\venv_python\\lib\\site-packages\\neuralforecast\\models\\lstm.py:161: UserWarning: context_size is deprecated and will be removed in future versions.\n",
      "  warnings.warn(\n",
      "C:\\Users\\emily\\Documents\\DissertationProject\\venv_python\\lib\\site-packages\\neuralforecast\\common\\_base_model.py:535: UserWarning: val_check_steps is greater than max_steps, setting val_check_steps to max_steps.\n",
      "  warnings.warn(\n",
      "GPU available: False, used: False\n",
      "TPU available: False, using: 0 TPU cores\n",
      "HPU available: False, using: 0 HPUs\n",
      "\n",
      "  | Name         | Type          | Params | Mode \n",
      "-------------------------------------------------------\n",
      "0 | loss         | MAE           | 0      | train\n",
      "1 | padder_train | ConstantPad1d | 0      | train\n",
      "2 | scaler       | TemporalNorm  | 0      | train\n",
      "3 | hist_encoder | LSTM          | 488 K  | train\n",
      "4 | mlp_decoder  | MLP           | 41.4 K | train\n",
      "-------------------------------------------------------\n",
      "529 K     Trainable params\n",
      "0         Non-trainable params\n",
      "529 K     Total params\n",
      "2.118     Total estimated model params size (MB)\n",
      "10        Modules in train mode\n",
      "0         Modules in eval mode\n"
     ]
    },
    {
     "data": {
      "text/plain": "Sanity Checking: |          | 0/? [00:00<?, ?it/s]",
      "application/vnd.jupyter.widget-view+json": {
       "version_major": 2,
       "version_minor": 0,
       "model_id": "40709fe63032410099a905729a0c35b1"
      }
     },
     "metadata": {},
     "output_type": "display_data"
    },
    {
     "data": {
      "text/plain": "Training: |          | 0/? [00:00<?, ?it/s]",
      "application/vnd.jupyter.widget-view+json": {
       "version_major": 2,
       "version_minor": 0,
       "model_id": "3966f4b54f9a497a9c871d6b0c9b873a"
      }
     },
     "metadata": {},
     "output_type": "display_data"
    },
    {
     "data": {
      "text/plain": "Validation: |          | 0/? [00:00<?, ?it/s]",
      "application/vnd.jupyter.widget-view+json": {
       "version_major": 2,
       "version_minor": 0,
       "model_id": "8b1115e2a94f4759a8bab01a17f03285"
      }
     },
     "metadata": {},
     "output_type": "display_data"
    },
    {
     "name": "stderr",
     "output_type": "stream",
     "text": [
      "`Trainer.fit` stopped: `max_steps=2` reached.\n",
      "C:\\Users\\emily\\Documents\\DissertationProject\\venv_python\\lib\\site-packages\\neuralforecast\\common\\_base_model.py:138: UserWarning: Input size too small. Automatically setting input size to 3 * horizon = 12\n",
      "  warnings.warn(\n",
      "C:\\Users\\emily\\Documents\\DissertationProject\\venv_python\\lib\\site-packages\\neuralforecast\\common\\_base_model.py:146: UserWarning: Inference input size too small. Automatically setting inference input size to input_size = 12\n",
      "  warnings.warn(\n",
      "Seed set to 1\n",
      "C:\\Users\\emily\\Documents\\DissertationProject\\venv_python\\lib\\site-packages\\neuralforecast\\models\\lstm.py:161: UserWarning: context_size is deprecated and will be removed in future versions.\n",
      "  warnings.warn(\n",
      "C:\\Users\\emily\\Documents\\DissertationProject\\venv_python\\lib\\site-packages\\neuralforecast\\common\\_base_model.py:535: UserWarning: val_check_steps is greater than max_steps, setting val_check_steps to max_steps.\n",
      "  warnings.warn(\n",
      "GPU available: False, used: False\n",
      "TPU available: False, using: 0 TPU cores\n",
      "HPU available: False, using: 0 HPUs\n",
      "\n",
      "  | Name         | Type          | Params | Mode \n",
      "-------------------------------------------------------\n",
      "0 | loss         | MAE           | 0      | train\n",
      "1 | padder_train | ConstantPad1d | 0      | train\n",
      "2 | scaler       | TemporalNorm  | 0      | train\n",
      "3 | hist_encoder | LSTM          | 488 K  | train\n",
      "4 | mlp_decoder  | MLP           | 41.4 K | train\n",
      "-------------------------------------------------------\n",
      "529 K     Trainable params\n",
      "0         Non-trainable params\n",
      "529 K     Total params\n",
      "2.118     Total estimated model params size (MB)\n",
      "10        Modules in train mode\n",
      "0         Modules in eval mode\n"
     ]
    },
    {
     "data": {
      "text/plain": "Sanity Checking: |          | 0/? [00:00<?, ?it/s]",
      "application/vnd.jupyter.widget-view+json": {
       "version_major": 2,
       "version_minor": 0,
       "model_id": "7e9ba2783bbd40faa663ddc5ea12681c"
      }
     },
     "metadata": {},
     "output_type": "display_data"
    },
    {
     "data": {
      "text/plain": "Training: |          | 0/? [00:00<?, ?it/s]",
      "application/vnd.jupyter.widget-view+json": {
       "version_major": 2,
       "version_minor": 0,
       "model_id": "e9b8d893380540ea8c53417546fe7a66"
      }
     },
     "metadata": {},
     "output_type": "display_data"
    },
    {
     "data": {
      "text/plain": "Validation: |          | 0/? [00:00<?, ?it/s]",
      "application/vnd.jupyter.widget-view+json": {
       "version_major": 2,
       "version_minor": 0,
       "model_id": "9463b5655872463c96cb7310358062d4"
      }
     },
     "metadata": {},
     "output_type": "display_data"
    },
    {
     "name": "stderr",
     "output_type": "stream",
     "text": [
      "`Trainer.fit` stopped: `max_steps=2` reached.\n"
     ]
    },
    {
     "data": {
      "text/plain": "NeuralForecastLSTM(futr_exog_list=['var_1', 'var_2', 'var_3', 'var_4', 'var_5'],\n                   max_steps=2)",
      "text/html": "<style>#sk-9f9a0974-0e44-4d0d-bcc9-e008bedb0a95 {color: black;background-color: white;}#sk-9f9a0974-0e44-4d0d-bcc9-e008bedb0a95 pre{padding: 0;}#sk-9f9a0974-0e44-4d0d-bcc9-e008bedb0a95 div.sk-toggleable {background-color: white;}#sk-9f9a0974-0e44-4d0d-bcc9-e008bedb0a95 label.sk-toggleable__label {cursor: pointer;display: block;width: 100%;margin-bottom: 0;padding: 0.3em;box-sizing: border-box;text-align: center;}#sk-9f9a0974-0e44-4d0d-bcc9-e008bedb0a95 label.sk-toggleable__label-arrow:before {content: \"▸\";float: left;margin-right: 0.25em;color: #696969;}#sk-9f9a0974-0e44-4d0d-bcc9-e008bedb0a95 label.sk-toggleable__label-arrow:hover:before {color: black;}#sk-9f9a0974-0e44-4d0d-bcc9-e008bedb0a95 div.sk-estimator:hover label.sk-toggleable__label-arrow:before {color: black;}#sk-9f9a0974-0e44-4d0d-bcc9-e008bedb0a95 div.sk-toggleable__content {max-height: 0;max-width: 0;overflow: hidden;text-align: left;background-color: #f0f8ff;}#sk-9f9a0974-0e44-4d0d-bcc9-e008bedb0a95 div.sk-toggleable__content pre {margin: 0.2em;color: black;border-radius: 0.25em;background-color: #f0f8ff;}#sk-9f9a0974-0e44-4d0d-bcc9-e008bedb0a95 input.sk-toggleable__control:checked~div.sk-toggleable__content {max-height: 200px;max-width: 100%;overflow: auto;}#sk-9f9a0974-0e44-4d0d-bcc9-e008bedb0a95 input.sk-toggleable__control:checked~label.sk-toggleable__label-arrow:before {content: \"▾\";}#sk-9f9a0974-0e44-4d0d-bcc9-e008bedb0a95 div.sk-estimator input.sk-toggleable__control:checked~label.sk-toggleable__label {background-color: #d4ebff;}#sk-9f9a0974-0e44-4d0d-bcc9-e008bedb0a95 div.sk-label input.sk-toggleable__control:checked~label.sk-toggleable__label {background-color: #d4ebff;}#sk-9f9a0974-0e44-4d0d-bcc9-e008bedb0a95 input.sk-hidden--visually {border: 0;clip: rect(1px 1px 1px 1px);clip: rect(1px, 1px, 1px, 1px);height: 1px;margin: -1px;overflow: hidden;padding: 0;position: absolute;width: 1px;}#sk-9f9a0974-0e44-4d0d-bcc9-e008bedb0a95 div.sk-estimator {font-family: monospace;background-color: #f0f8ff;border: 1px dotted black;border-radius: 0.25em;box-sizing: border-box;margin-bottom: 0.5em;}#sk-9f9a0974-0e44-4d0d-bcc9-e008bedb0a95 div.sk-estimator:hover {background-color: #d4ebff;}#sk-9f9a0974-0e44-4d0d-bcc9-e008bedb0a95 div.sk-parallel-item::after {content: \"\";width: 100%;border-bottom: 1px solid gray;flex-grow: 1;}#sk-9f9a0974-0e44-4d0d-bcc9-e008bedb0a95 div.sk-label:hover label.sk-toggleable__label {background-color: #d4ebff;}#sk-9f9a0974-0e44-4d0d-bcc9-e008bedb0a95 div.sk-serial::before {content: \"\";position: absolute;border-left: 1px solid gray;box-sizing: border-box;top: 2em;bottom: 0;left: 50%;}#sk-9f9a0974-0e44-4d0d-bcc9-e008bedb0a95 div.sk-serial {display: flex;flex-direction: column;align-items: center;background-color: white;padding-right: 0.2em;padding-left: 0.2em;}#sk-9f9a0974-0e44-4d0d-bcc9-e008bedb0a95 div.sk-item {z-index: 1;}#sk-9f9a0974-0e44-4d0d-bcc9-e008bedb0a95 div.sk-parallel {display: flex;align-items: stretch;justify-content: center;background-color: white;}#sk-9f9a0974-0e44-4d0d-bcc9-e008bedb0a95 div.sk-parallel::before {content: \"\";position: absolute;border-left: 1px solid gray;box-sizing: border-box;top: 2em;bottom: 0;left: 50%;}#sk-9f9a0974-0e44-4d0d-bcc9-e008bedb0a95 div.sk-parallel-item {display: flex;flex-direction: column;position: relative;background-color: white;}#sk-9f9a0974-0e44-4d0d-bcc9-e008bedb0a95 div.sk-parallel-item:first-child::after {align-self: flex-end;width: 50%;}#sk-9f9a0974-0e44-4d0d-bcc9-e008bedb0a95 div.sk-parallel-item:last-child::after {align-self: flex-start;width: 50%;}#sk-9f9a0974-0e44-4d0d-bcc9-e008bedb0a95 div.sk-parallel-item:only-child::after {width: 0;}#sk-9f9a0974-0e44-4d0d-bcc9-e008bedb0a95 div.sk-dashed-wrapped {border: 1px dashed gray;margin: 0 0.4em 0.5em 0.4em;box-sizing: border-box;padding-bottom: 0.4em;background-color: white;position: relative;}#sk-9f9a0974-0e44-4d0d-bcc9-e008bedb0a95 div.sk-label label {font-family: monospace;font-weight: bold;background-color: white;display: inline-block;line-height: 1.2em;}#sk-9f9a0974-0e44-4d0d-bcc9-e008bedb0a95 div.sk-label-container {position: relative;z-index: 2;text-align: center;}#sk-9f9a0974-0e44-4d0d-bcc9-e008bedb0a95 div.sk-container {/* jupyter's `normalize.less` sets `[hidden] { display: none; }` but bootstrap.min.css set `[hidden] { display: none !important; }` so we also need the `!important` here to be able to override the default hidden behavior on the sphinx rendered scikit-learn.org. See: https://github.com/scikit-learn/scikit-learn/issues/21755 */display: inline-block !important;position: relative;}#sk-9f9a0974-0e44-4d0d-bcc9-e008bedb0a95 div.sk-text-repr-fallback {display: none;}</style><div id='sk-9f9a0974-0e44-4d0d-bcc9-e008bedb0a95' class=\"sk-top-container\"><div class=\"sk-text-repr-fallback\"><pre>NeuralForecastLSTM(futr_exog_list=[&#x27;var_1&#x27;, &#x27;var_2&#x27;, &#x27;var_3&#x27;, &#x27;var_4&#x27;, &#x27;var_5&#x27;],\n                   max_steps=2)</pre><b>Please rerun this cell to show the HTML repr or trust the notebook.</b></div><div class=\"sk-container\" hidden><div class='sk-item'><div class=\"sk-estimator sk-toggleable\"><input class=\"sk-toggleable__control sk-hidden--visually\" id=UUID('1a5d40d0-fc40-400a-9417-f71da0f502ce') type=\"checkbox\" checked><label for=UUID('1a5d40d0-fc40-400a-9417-f71da0f502ce') class='sk-toggleable__label sk-toggleable__label-arrow'>NeuralForecastLSTM</label><div class=\"sk-toggleable__content\"><pre>NeuralForecastLSTM(futr_exog_list=[&#x27;var_1&#x27;, &#x27;var_2&#x27;, &#x27;var_3&#x27;, &#x27;var_4&#x27;, &#x27;var_5&#x27;],\n                   max_steps=2)</pre></div></div></div></div></div>"
     },
     "execution_count": 15,
     "metadata": {},
     "output_type": "execute_result"
    }
   ],
   "source": [
    "model.fit(y_train, X=X_train, fh=[1,2,3,4])"
   ],
   "metadata": {
    "collapsed": false,
    "ExecuteTime": {
     "end_time": "2025-04-09T13:27:30.546271700Z",
     "start_time": "2025-04-09T13:27:27.529434300Z"
    }
   },
   "id": "43dc9f774293559"
  },
  {
   "cell_type": "code",
   "execution_count": 16,
   "outputs": [
    {
     "name": "stderr",
     "output_type": "stream",
     "text": [
      "GPU available: False, used: False\n",
      "TPU available: False, using: 0 TPU cores\n",
      "HPU available: False, using: 0 HPUs\n"
     ]
    },
    {
     "data": {
      "text/plain": "Predicting: |          | 0/? [00:00<?, ?it/s]",
      "application/vnd.jupyter.widget-view+json": {
       "version_major": 2,
       "version_minor": 0,
       "model_id": "92cc81d46d5d4d22b30ce4a3e905c2c1"
      }
     },
     "metadata": {},
     "output_type": "display_data"
    },
    {
     "name": "stderr",
     "output_type": "stream",
     "text": [
      "GPU available: False, used: False\n",
      "TPU available: False, using: 0 TPU cores\n",
      "HPU available: False, using: 0 HPUs\n"
     ]
    },
    {
     "data": {
      "text/plain": "Predicting: |          | 0/? [00:00<?, ?it/s]",
      "application/vnd.jupyter.widget-view+json": {
       "version_major": 2,
       "version_minor": 0,
       "model_id": "2c4aed60875c4bc6aed100ba683ee37d"
      }
     },
     "metadata": {},
     "output_type": "display_data"
    },
    {
     "name": "stderr",
     "output_type": "stream",
     "text": [
      "GPU available: False, used: False\n",
      "TPU available: False, using: 0 TPU cores\n",
      "HPU available: False, using: 0 HPUs\n"
     ]
    },
    {
     "data": {
      "text/plain": "Predicting: |          | 0/? [00:00<?, ?it/s]",
      "application/vnd.jupyter.widget-view+json": {
       "version_major": 2,
       "version_minor": 0,
       "model_id": "bb950af5e3c9412f8f74ea921d9f01c6"
      }
     },
     "metadata": {},
     "output_type": "display_data"
    },
    {
     "name": "stderr",
     "output_type": "stream",
     "text": [
      "GPU available: False, used: False\n",
      "TPU available: False, using: 0 TPU cores\n",
      "HPU available: False, using: 0 HPUs\n"
     ]
    },
    {
     "data": {
      "text/plain": "Predicting: |          | 0/? [00:00<?, ?it/s]",
      "application/vnd.jupyter.widget-view+json": {
       "version_major": 2,
       "version_minor": 0,
       "model_id": "806c93d20e1843e8a506eb8724749cf8"
      }
     },
     "metadata": {},
     "output_type": "display_data"
    },
    {
     "name": "stderr",
     "output_type": "stream",
     "text": [
      "GPU available: False, used: False\n",
      "TPU available: False, using: 0 TPU cores\n",
      "HPU available: False, using: 0 HPUs\n"
     ]
    },
    {
     "data": {
      "text/plain": "Predicting: |          | 0/? [00:00<?, ?it/s]",
      "application/vnd.jupyter.widget-view+json": {
       "version_major": 2,
       "version_minor": 0,
       "model_id": "b60a2f3c197b47d0982e76c4a7a73793"
      }
     },
     "metadata": {},
     "output_type": "display_data"
    },
    {
     "data": {
      "text/plain": "                         var_0\ninstances timepoints          \n0         26          0.180958\n          27          0.200160\n          28          0.148737\n          29          0.197354\n1         26          0.180560\n          27          0.176614\n          28          0.230009\n          29          0.181872\n2         26          0.024801\n          27          0.042829\n          28          0.055270\n          29          0.049262\n3         26          0.128164\n          27          0.131788\n          28          0.104042\n          29          0.131597\n4         26          0.336838\n          27          0.301528\n          28          0.301998\n          29          0.316446",
      "text/html": "<div>\n<style scoped>\n    .dataframe tbody tr th:only-of-type {\n        vertical-align: middle;\n    }\n\n    .dataframe tbody tr th {\n        vertical-align: top;\n    }\n\n    .dataframe thead th {\n        text-align: right;\n    }\n</style>\n<table border=\"1\" class=\"dataframe\">\n  <thead>\n    <tr style=\"text-align: right;\">\n      <th></th>\n      <th></th>\n      <th>var_0</th>\n    </tr>\n    <tr>\n      <th>instances</th>\n      <th>timepoints</th>\n      <th></th>\n    </tr>\n  </thead>\n  <tbody>\n    <tr>\n      <th rowspan=\"4\" valign=\"top\">0</th>\n      <th>26</th>\n      <td>0.180958</td>\n    </tr>\n    <tr>\n      <th>27</th>\n      <td>0.200160</td>\n    </tr>\n    <tr>\n      <th>28</th>\n      <td>0.148737</td>\n    </tr>\n    <tr>\n      <th>29</th>\n      <td>0.197354</td>\n    </tr>\n    <tr>\n      <th rowspan=\"4\" valign=\"top\">1</th>\n      <th>26</th>\n      <td>0.180560</td>\n    </tr>\n    <tr>\n      <th>27</th>\n      <td>0.176614</td>\n    </tr>\n    <tr>\n      <th>28</th>\n      <td>0.230009</td>\n    </tr>\n    <tr>\n      <th>29</th>\n      <td>0.181872</td>\n    </tr>\n    <tr>\n      <th rowspan=\"4\" valign=\"top\">2</th>\n      <th>26</th>\n      <td>0.024801</td>\n    </tr>\n    <tr>\n      <th>27</th>\n      <td>0.042829</td>\n    </tr>\n    <tr>\n      <th>28</th>\n      <td>0.055270</td>\n    </tr>\n    <tr>\n      <th>29</th>\n      <td>0.049262</td>\n    </tr>\n    <tr>\n      <th rowspan=\"4\" valign=\"top\">3</th>\n      <th>26</th>\n      <td>0.128164</td>\n    </tr>\n    <tr>\n      <th>27</th>\n      <td>0.131788</td>\n    </tr>\n    <tr>\n      <th>28</th>\n      <td>0.104042</td>\n    </tr>\n    <tr>\n      <th>29</th>\n      <td>0.131597</td>\n    </tr>\n    <tr>\n      <th rowspan=\"4\" valign=\"top\">4</th>\n      <th>26</th>\n      <td>0.336838</td>\n    </tr>\n    <tr>\n      <th>27</th>\n      <td>0.301528</td>\n    </tr>\n    <tr>\n      <th>28</th>\n      <td>0.301998</td>\n    </tr>\n    <tr>\n      <th>29</th>\n      <td>0.316446</td>\n    </tr>\n  </tbody>\n</table>\n</div>"
     },
     "execution_count": 16,
     "metadata": {},
     "output_type": "execute_result"
    }
   ],
   "source": [
    "model.predict(X=X_test)"
   ],
   "metadata": {
    "collapsed": false,
    "ExecuteTime": {
     "end_time": "2025-04-09T13:27:33.026789400Z",
     "start_time": "2025-04-09T13:27:32.120158300Z"
    }
   },
   "id": "69ec84772b614e9c"
  },
  {
   "cell_type": "code",
   "execution_count": null,
   "outputs": [],
   "source": [],
   "metadata": {
    "collapsed": false
   },
   "id": "5e272cad509aa16b"
  }
 ],
 "metadata": {
  "kernelspec": {
   "display_name": "Python 3",
   "language": "python",
   "name": "python3"
  },
  "language_info": {
   "codemirror_mode": {
    "name": "ipython",
    "version": 2
   },
   "file_extension": ".py",
   "mimetype": "text/x-python",
   "name": "python",
   "nbconvert_exporter": "python",
   "pygments_lexer": "ipython2",
   "version": "2.7.6"
  }
 },
 "nbformat": 4,
 "nbformat_minor": 5
}
