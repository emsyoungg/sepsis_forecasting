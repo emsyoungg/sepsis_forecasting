{
 "cells": [
  {
   "cell_type": "code",
   "execution_count": 7,
   "id": "initial_id",
   "metadata": {
    "collapsed": true,
    "ExecuteTime": {
     "end_time": "2025-04-08T17:42:53.908340400Z",
     "start_time": "2025-04-08T17:42:53.874659800Z"
    }
   },
   "outputs": [],
   "source": [
    "from sktime.split import temporal_train_test_split\n",
    "from sktime.utils._testing.panel import _make_panel\n",
    "from sktime.forecasting.neuralforecast import NeuralForecastLSTM"
   ]
  },
  {
   "cell_type": "code",
   "execution_count": 8,
   "outputs": [],
   "source": [
    "# same shape as my sepsis df\n",
    "df = _make_panel(n_instances=5, n_columns=6, n_timepoints=30, all_positive=True)"
   ],
   "metadata": {
    "collapsed": false,
    "ExecuteTime": {
     "end_time": "2025-04-08T17:42:54.617033700Z",
     "start_time": "2025-04-08T17:42:54.578100500Z"
    }
   },
   "id": "e5d3e5529d4325a3"
  },
  {
   "cell_type": "code",
   "execution_count": 9,
   "outputs": [
    {
     "data": {
      "text/plain": "                         var_0     var_1     var_2     var_3     var_4  \\\ninstances timepoints                                                     \n0         0           0.014621  2.006673  0.117710  0.001422  0.014143   \n          1           0.051272  0.021905  0.531354  0.119681  0.043798   \n          2           0.221430  0.226530  0.066028  0.308922  0.017124   \n          3           0.021676  0.534925  0.201517  0.194035  0.008542   \n          4           0.896284  0.001886  0.196597  0.003618  1.346269   \n...                        ...       ...       ...       ...       ...   \n4         25          0.025163  0.018579  1.054437  0.181471  0.009068   \n          26          0.906349  0.137844  0.901363  0.000977  0.075756   \n          27          0.003300  0.172436  0.070688  0.074601  0.772233   \n          28          0.113349  0.783385  0.055345  0.017573  0.419468   \n          29          0.419836  0.177743  0.352715  0.121787  0.126903   \n\n                         var_5  \ninstances timepoints            \n0         0           0.013032  \n          1           0.134698  \n          2           0.011443  \n          3           0.064662  \n          4           0.033497  \n...                        ...  \n4         25          0.023102  \n          26          0.002096  \n          27          0.080016  \n          28          0.207953  \n          29          0.048821  \n\n[150 rows x 6 columns]",
      "text/html": "<div>\n<style scoped>\n    .dataframe tbody tr th:only-of-type {\n        vertical-align: middle;\n    }\n\n    .dataframe tbody tr th {\n        vertical-align: top;\n    }\n\n    .dataframe thead th {\n        text-align: right;\n    }\n</style>\n<table border=\"1\" class=\"dataframe\">\n  <thead>\n    <tr style=\"text-align: right;\">\n      <th></th>\n      <th></th>\n      <th>var_0</th>\n      <th>var_1</th>\n      <th>var_2</th>\n      <th>var_3</th>\n      <th>var_4</th>\n      <th>var_5</th>\n    </tr>\n    <tr>\n      <th>instances</th>\n      <th>timepoints</th>\n      <th></th>\n      <th></th>\n      <th></th>\n      <th></th>\n      <th></th>\n      <th></th>\n    </tr>\n  </thead>\n  <tbody>\n    <tr>\n      <th rowspan=\"5\" valign=\"top\">0</th>\n      <th>0</th>\n      <td>0.014621</td>\n      <td>2.006673</td>\n      <td>0.117710</td>\n      <td>0.001422</td>\n      <td>0.014143</td>\n      <td>0.013032</td>\n    </tr>\n    <tr>\n      <th>1</th>\n      <td>0.051272</td>\n      <td>0.021905</td>\n      <td>0.531354</td>\n      <td>0.119681</td>\n      <td>0.043798</td>\n      <td>0.134698</td>\n    </tr>\n    <tr>\n      <th>2</th>\n      <td>0.221430</td>\n      <td>0.226530</td>\n      <td>0.066028</td>\n      <td>0.308922</td>\n      <td>0.017124</td>\n      <td>0.011443</td>\n    </tr>\n    <tr>\n      <th>3</th>\n      <td>0.021676</td>\n      <td>0.534925</td>\n      <td>0.201517</td>\n      <td>0.194035</td>\n      <td>0.008542</td>\n      <td>0.064662</td>\n    </tr>\n    <tr>\n      <th>4</th>\n      <td>0.896284</td>\n      <td>0.001886</td>\n      <td>0.196597</td>\n      <td>0.003618</td>\n      <td>1.346269</td>\n      <td>0.033497</td>\n    </tr>\n    <tr>\n      <th>...</th>\n      <th>...</th>\n      <td>...</td>\n      <td>...</td>\n      <td>...</td>\n      <td>...</td>\n      <td>...</td>\n      <td>...</td>\n    </tr>\n    <tr>\n      <th rowspan=\"5\" valign=\"top\">4</th>\n      <th>25</th>\n      <td>0.025163</td>\n      <td>0.018579</td>\n      <td>1.054437</td>\n      <td>0.181471</td>\n      <td>0.009068</td>\n      <td>0.023102</td>\n    </tr>\n    <tr>\n      <th>26</th>\n      <td>0.906349</td>\n      <td>0.137844</td>\n      <td>0.901363</td>\n      <td>0.000977</td>\n      <td>0.075756</td>\n      <td>0.002096</td>\n    </tr>\n    <tr>\n      <th>27</th>\n      <td>0.003300</td>\n      <td>0.172436</td>\n      <td>0.070688</td>\n      <td>0.074601</td>\n      <td>0.772233</td>\n      <td>0.080016</td>\n    </tr>\n    <tr>\n      <th>28</th>\n      <td>0.113349</td>\n      <td>0.783385</td>\n      <td>0.055345</td>\n      <td>0.017573</td>\n      <td>0.419468</td>\n      <td>0.207953</td>\n    </tr>\n    <tr>\n      <th>29</th>\n      <td>0.419836</td>\n      <td>0.177743</td>\n      <td>0.352715</td>\n      <td>0.121787</td>\n      <td>0.126903</td>\n      <td>0.048821</td>\n    </tr>\n  </tbody>\n</table>\n<p>150 rows × 6 columns</p>\n</div>"
     },
     "execution_count": 9,
     "metadata": {},
     "output_type": "execute_result"
    }
   ],
   "source": [
    "df"
   ],
   "metadata": {
    "collapsed": false,
    "ExecuteTime": {
     "end_time": "2025-04-08T17:42:55.233469300Z",
     "start_time": "2025-04-08T17:42:55.177532Z"
    }
   },
   "id": "58f2f285be030da7"
  },
  {
   "cell_type": "code",
   "execution_count": 10,
   "outputs": [],
   "source": [
    "# split into endogenous and exogenous dataframe\n",
    "y = df.drop(['var_1', 'var_2', 'var_3', 'var_4', 'var_5'], axis=1)\n",
    "X = df.drop('var_0', axis=1)"
   ],
   "metadata": {
    "collapsed": false,
    "ExecuteTime": {
     "end_time": "2025-04-08T17:42:56.582319900Z",
     "start_time": "2025-04-08T17:42:56.521143700Z"
    }
   },
   "id": "6320414f9ca90735"
  },
  {
   "cell_type": "code",
   "execution_count": 11,
   "outputs": [
    {
     "data": {
      "text/plain": "                         var_0\ninstances timepoints          \n0         0           0.014621\n          1           0.051272\n          2           0.221430\n          3           0.021676\n          4           0.896284\n...                        ...\n4         25          0.025163\n          26          0.906349\n          27          0.003300\n          28          0.113349\n          29          0.419836\n\n[150 rows x 1 columns]",
      "text/html": "<div>\n<style scoped>\n    .dataframe tbody tr th:only-of-type {\n        vertical-align: middle;\n    }\n\n    .dataframe tbody tr th {\n        vertical-align: top;\n    }\n\n    .dataframe thead th {\n        text-align: right;\n    }\n</style>\n<table border=\"1\" class=\"dataframe\">\n  <thead>\n    <tr style=\"text-align: right;\">\n      <th></th>\n      <th></th>\n      <th>var_0</th>\n    </tr>\n    <tr>\n      <th>instances</th>\n      <th>timepoints</th>\n      <th></th>\n    </tr>\n  </thead>\n  <tbody>\n    <tr>\n      <th rowspan=\"5\" valign=\"top\">0</th>\n      <th>0</th>\n      <td>0.014621</td>\n    </tr>\n    <tr>\n      <th>1</th>\n      <td>0.051272</td>\n    </tr>\n    <tr>\n      <th>2</th>\n      <td>0.221430</td>\n    </tr>\n    <tr>\n      <th>3</th>\n      <td>0.021676</td>\n    </tr>\n    <tr>\n      <th>4</th>\n      <td>0.896284</td>\n    </tr>\n    <tr>\n      <th>...</th>\n      <th>...</th>\n      <td>...</td>\n    </tr>\n    <tr>\n      <th rowspan=\"5\" valign=\"top\">4</th>\n      <th>25</th>\n      <td>0.025163</td>\n    </tr>\n    <tr>\n      <th>26</th>\n      <td>0.906349</td>\n    </tr>\n    <tr>\n      <th>27</th>\n      <td>0.003300</td>\n    </tr>\n    <tr>\n      <th>28</th>\n      <td>0.113349</td>\n    </tr>\n    <tr>\n      <th>29</th>\n      <td>0.419836</td>\n    </tr>\n  </tbody>\n</table>\n<p>150 rows × 1 columns</p>\n</div>"
     },
     "execution_count": 11,
     "metadata": {},
     "output_type": "execute_result"
    }
   ],
   "source": [
    "y"
   ],
   "metadata": {
    "collapsed": false,
    "ExecuteTime": {
     "end_time": "2025-04-08T17:43:00.849010700Z",
     "start_time": "2025-04-08T17:43:00.823152600Z"
    }
   },
   "id": "2acf88004b2124dd"
  },
  {
   "cell_type": "code",
   "execution_count": 12,
   "outputs": [
    {
     "data": {
      "text/plain": "                         var_1     var_2     var_3     var_4     var_5\ninstances timepoints                                                  \n0         0           2.006673  0.117710  0.001422  0.014143  0.013032\n          1           0.021905  0.531354  0.119681  0.043798  0.134698\n          2           0.226530  0.066028  0.308922  0.017124  0.011443\n          3           0.534925  0.201517  0.194035  0.008542  0.064662\n          4           0.001886  0.196597  0.003618  1.346269  0.033497\n...                        ...       ...       ...       ...       ...\n4         25          0.018579  1.054437  0.181471  0.009068  0.023102\n          26          0.137844  0.901363  0.000977  0.075756  0.002096\n          27          0.172436  0.070688  0.074601  0.772233  0.080016\n          28          0.783385  0.055345  0.017573  0.419468  0.207953\n          29          0.177743  0.352715  0.121787  0.126903  0.048821\n\n[150 rows x 5 columns]",
      "text/html": "<div>\n<style scoped>\n    .dataframe tbody tr th:only-of-type {\n        vertical-align: middle;\n    }\n\n    .dataframe tbody tr th {\n        vertical-align: top;\n    }\n\n    .dataframe thead th {\n        text-align: right;\n    }\n</style>\n<table border=\"1\" class=\"dataframe\">\n  <thead>\n    <tr style=\"text-align: right;\">\n      <th></th>\n      <th></th>\n      <th>var_1</th>\n      <th>var_2</th>\n      <th>var_3</th>\n      <th>var_4</th>\n      <th>var_5</th>\n    </tr>\n    <tr>\n      <th>instances</th>\n      <th>timepoints</th>\n      <th></th>\n      <th></th>\n      <th></th>\n      <th></th>\n      <th></th>\n    </tr>\n  </thead>\n  <tbody>\n    <tr>\n      <th rowspan=\"5\" valign=\"top\">0</th>\n      <th>0</th>\n      <td>2.006673</td>\n      <td>0.117710</td>\n      <td>0.001422</td>\n      <td>0.014143</td>\n      <td>0.013032</td>\n    </tr>\n    <tr>\n      <th>1</th>\n      <td>0.021905</td>\n      <td>0.531354</td>\n      <td>0.119681</td>\n      <td>0.043798</td>\n      <td>0.134698</td>\n    </tr>\n    <tr>\n      <th>2</th>\n      <td>0.226530</td>\n      <td>0.066028</td>\n      <td>0.308922</td>\n      <td>0.017124</td>\n      <td>0.011443</td>\n    </tr>\n    <tr>\n      <th>3</th>\n      <td>0.534925</td>\n      <td>0.201517</td>\n      <td>0.194035</td>\n      <td>0.008542</td>\n      <td>0.064662</td>\n    </tr>\n    <tr>\n      <th>4</th>\n      <td>0.001886</td>\n      <td>0.196597</td>\n      <td>0.003618</td>\n      <td>1.346269</td>\n      <td>0.033497</td>\n    </tr>\n    <tr>\n      <th>...</th>\n      <th>...</th>\n      <td>...</td>\n      <td>...</td>\n      <td>...</td>\n      <td>...</td>\n      <td>...</td>\n    </tr>\n    <tr>\n      <th rowspan=\"5\" valign=\"top\">4</th>\n      <th>25</th>\n      <td>0.018579</td>\n      <td>1.054437</td>\n      <td>0.181471</td>\n      <td>0.009068</td>\n      <td>0.023102</td>\n    </tr>\n    <tr>\n      <th>26</th>\n      <td>0.137844</td>\n      <td>0.901363</td>\n      <td>0.000977</td>\n      <td>0.075756</td>\n      <td>0.002096</td>\n    </tr>\n    <tr>\n      <th>27</th>\n      <td>0.172436</td>\n      <td>0.070688</td>\n      <td>0.074601</td>\n      <td>0.772233</td>\n      <td>0.080016</td>\n    </tr>\n    <tr>\n      <th>28</th>\n      <td>0.783385</td>\n      <td>0.055345</td>\n      <td>0.017573</td>\n      <td>0.419468</td>\n      <td>0.207953</td>\n    </tr>\n    <tr>\n      <th>29</th>\n      <td>0.177743</td>\n      <td>0.352715</td>\n      <td>0.121787</td>\n      <td>0.126903</td>\n      <td>0.048821</td>\n    </tr>\n  </tbody>\n</table>\n<p>150 rows × 5 columns</p>\n</div>"
     },
     "execution_count": 12,
     "metadata": {},
     "output_type": "execute_result"
    }
   ],
   "source": [
    "X"
   ],
   "metadata": {
    "collapsed": false,
    "ExecuteTime": {
     "end_time": "2025-04-08T17:43:01.907340200Z",
     "start_time": "2025-04-08T17:43:01.829263600Z"
    }
   },
   "id": "a5fb7f77b7eaa99c"
  },
  {
   "cell_type": "code",
   "execution_count": 13,
   "outputs": [],
   "source": [
    "y_train, y_test, X_train, X_test = temporal_train_test_split(y, X, test_size=4)"
   ],
   "metadata": {
    "collapsed": false,
    "ExecuteTime": {
     "end_time": "2025-04-08T17:43:03.904558600Z",
     "start_time": "2025-04-08T17:43:03.484098100Z"
    }
   },
   "id": "82e33a5ddc43c0d5"
  },
  {
   "cell_type": "code",
   "execution_count": 14,
   "outputs": [
    {
     "data": {
      "text/plain": "                         var_0\ninstances timepoints          \n0         0           0.014621\n          1           0.051272\n          2           0.221430\n          3           0.021676\n          4           0.896284\n...                        ...\n4         21          0.088872\n          22          0.247858\n          23          0.007414\n          24          0.075888\n          25          0.025163\n\n[130 rows x 1 columns]",
      "text/html": "<div>\n<style scoped>\n    .dataframe tbody tr th:only-of-type {\n        vertical-align: middle;\n    }\n\n    .dataframe tbody tr th {\n        vertical-align: top;\n    }\n\n    .dataframe thead th {\n        text-align: right;\n    }\n</style>\n<table border=\"1\" class=\"dataframe\">\n  <thead>\n    <tr style=\"text-align: right;\">\n      <th></th>\n      <th></th>\n      <th>var_0</th>\n    </tr>\n    <tr>\n      <th>instances</th>\n      <th>timepoints</th>\n      <th></th>\n    </tr>\n  </thead>\n  <tbody>\n    <tr>\n      <th rowspan=\"5\" valign=\"top\">0</th>\n      <th>0</th>\n      <td>0.014621</td>\n    </tr>\n    <tr>\n      <th>1</th>\n      <td>0.051272</td>\n    </tr>\n    <tr>\n      <th>2</th>\n      <td>0.221430</td>\n    </tr>\n    <tr>\n      <th>3</th>\n      <td>0.021676</td>\n    </tr>\n    <tr>\n      <th>4</th>\n      <td>0.896284</td>\n    </tr>\n    <tr>\n      <th>...</th>\n      <th>...</th>\n      <td>...</td>\n    </tr>\n    <tr>\n      <th rowspan=\"5\" valign=\"top\">4</th>\n      <th>21</th>\n      <td>0.088872</td>\n    </tr>\n    <tr>\n      <th>22</th>\n      <td>0.247858</td>\n    </tr>\n    <tr>\n      <th>23</th>\n      <td>0.007414</td>\n    </tr>\n    <tr>\n      <th>24</th>\n      <td>0.075888</td>\n    </tr>\n    <tr>\n      <th>25</th>\n      <td>0.025163</td>\n    </tr>\n  </tbody>\n</table>\n<p>130 rows × 1 columns</p>\n</div>"
     },
     "execution_count": 14,
     "metadata": {},
     "output_type": "execute_result"
    }
   ],
   "source": [
    "y_train"
   ],
   "metadata": {
    "collapsed": false,
    "ExecuteTime": {
     "end_time": "2025-04-08T17:43:04.283625100Z",
     "start_time": "2025-04-08T17:43:04.216835600Z"
    }
   },
   "id": "1d4d6500ed4dde4a"
  },
  {
   "cell_type": "code",
   "execution_count": 15,
   "outputs": [
    {
     "data": {
      "text/plain": "                         var_0\ninstances timepoints          \n0         26          0.223128\n          27          0.021953\n          28          0.006590\n          29          0.175523\n1         26          0.006434\n          27          0.004591\n          28          0.002038\n          29          0.147909\n2         26          0.261802\n          27          0.026111\n          28          0.196514\n          29          0.215547\n3         26          0.003904\n          27          0.022228\n          28          0.566120\n          29          0.025404\n4         26          0.906349\n          27          0.003300\n          28          0.113349\n          29          0.419836",
      "text/html": "<div>\n<style scoped>\n    .dataframe tbody tr th:only-of-type {\n        vertical-align: middle;\n    }\n\n    .dataframe tbody tr th {\n        vertical-align: top;\n    }\n\n    .dataframe thead th {\n        text-align: right;\n    }\n</style>\n<table border=\"1\" class=\"dataframe\">\n  <thead>\n    <tr style=\"text-align: right;\">\n      <th></th>\n      <th></th>\n      <th>var_0</th>\n    </tr>\n    <tr>\n      <th>instances</th>\n      <th>timepoints</th>\n      <th></th>\n    </tr>\n  </thead>\n  <tbody>\n    <tr>\n      <th rowspan=\"4\" valign=\"top\">0</th>\n      <th>26</th>\n      <td>0.223128</td>\n    </tr>\n    <tr>\n      <th>27</th>\n      <td>0.021953</td>\n    </tr>\n    <tr>\n      <th>28</th>\n      <td>0.006590</td>\n    </tr>\n    <tr>\n      <th>29</th>\n      <td>0.175523</td>\n    </tr>\n    <tr>\n      <th rowspan=\"4\" valign=\"top\">1</th>\n      <th>26</th>\n      <td>0.006434</td>\n    </tr>\n    <tr>\n      <th>27</th>\n      <td>0.004591</td>\n    </tr>\n    <tr>\n      <th>28</th>\n      <td>0.002038</td>\n    </tr>\n    <tr>\n      <th>29</th>\n      <td>0.147909</td>\n    </tr>\n    <tr>\n      <th rowspan=\"4\" valign=\"top\">2</th>\n      <th>26</th>\n      <td>0.261802</td>\n    </tr>\n    <tr>\n      <th>27</th>\n      <td>0.026111</td>\n    </tr>\n    <tr>\n      <th>28</th>\n      <td>0.196514</td>\n    </tr>\n    <tr>\n      <th>29</th>\n      <td>0.215547</td>\n    </tr>\n    <tr>\n      <th rowspan=\"4\" valign=\"top\">3</th>\n      <th>26</th>\n      <td>0.003904</td>\n    </tr>\n    <tr>\n      <th>27</th>\n      <td>0.022228</td>\n    </tr>\n    <tr>\n      <th>28</th>\n      <td>0.566120</td>\n    </tr>\n    <tr>\n      <th>29</th>\n      <td>0.025404</td>\n    </tr>\n    <tr>\n      <th rowspan=\"4\" valign=\"top\">4</th>\n      <th>26</th>\n      <td>0.906349</td>\n    </tr>\n    <tr>\n      <th>27</th>\n      <td>0.003300</td>\n    </tr>\n    <tr>\n      <th>28</th>\n      <td>0.113349</td>\n    </tr>\n    <tr>\n      <th>29</th>\n      <td>0.419836</td>\n    </tr>\n  </tbody>\n</table>\n</div>"
     },
     "execution_count": 15,
     "metadata": {},
     "output_type": "execute_result"
    }
   ],
   "source": [
    "y_test"
   ],
   "metadata": {
    "collapsed": false,
    "ExecuteTime": {
     "end_time": "2025-04-08T17:43:04.872712900Z",
     "start_time": "2025-04-08T17:43:04.796368800Z"
    }
   },
   "id": "42ea8c8735484144"
  },
  {
   "cell_type": "code",
   "execution_count": 16,
   "outputs": [
    {
     "data": {
      "text/plain": "                         var_1     var_2     var_3     var_4     var_5\ninstances timepoints                                                  \n0         0           2.006673  0.117710  0.001422  0.014143  0.013032\n          1           0.021905  0.531354  0.119681  0.043798  0.134698\n          2           0.226530  0.066028  0.308922  0.017124  0.011443\n          3           0.534925  0.201517  0.194035  0.008542  0.064662\n          4           0.001886  0.196597  0.003618  1.346269  0.033497\n...                        ...       ...       ...       ...       ...\n4         21          0.247530  0.248030  0.062001  0.364853  0.404856\n          22          0.224465  0.249431  0.007027  0.692513  0.341036\n          23          0.169286  0.001351  0.035402  0.154319  0.055148\n          24          0.385738  0.158860  0.179478  0.008733  0.325958\n          25          0.018579  1.054437  0.181471  0.009068  0.023102\n\n[130 rows x 5 columns]",
      "text/html": "<div>\n<style scoped>\n    .dataframe tbody tr th:only-of-type {\n        vertical-align: middle;\n    }\n\n    .dataframe tbody tr th {\n        vertical-align: top;\n    }\n\n    .dataframe thead th {\n        text-align: right;\n    }\n</style>\n<table border=\"1\" class=\"dataframe\">\n  <thead>\n    <tr style=\"text-align: right;\">\n      <th></th>\n      <th></th>\n      <th>var_1</th>\n      <th>var_2</th>\n      <th>var_3</th>\n      <th>var_4</th>\n      <th>var_5</th>\n    </tr>\n    <tr>\n      <th>instances</th>\n      <th>timepoints</th>\n      <th></th>\n      <th></th>\n      <th></th>\n      <th></th>\n      <th></th>\n    </tr>\n  </thead>\n  <tbody>\n    <tr>\n      <th rowspan=\"5\" valign=\"top\">0</th>\n      <th>0</th>\n      <td>2.006673</td>\n      <td>0.117710</td>\n      <td>0.001422</td>\n      <td>0.014143</td>\n      <td>0.013032</td>\n    </tr>\n    <tr>\n      <th>1</th>\n      <td>0.021905</td>\n      <td>0.531354</td>\n      <td>0.119681</td>\n      <td>0.043798</td>\n      <td>0.134698</td>\n    </tr>\n    <tr>\n      <th>2</th>\n      <td>0.226530</td>\n      <td>0.066028</td>\n      <td>0.308922</td>\n      <td>0.017124</td>\n      <td>0.011443</td>\n    </tr>\n    <tr>\n      <th>3</th>\n      <td>0.534925</td>\n      <td>0.201517</td>\n      <td>0.194035</td>\n      <td>0.008542</td>\n      <td>0.064662</td>\n    </tr>\n    <tr>\n      <th>4</th>\n      <td>0.001886</td>\n      <td>0.196597</td>\n      <td>0.003618</td>\n      <td>1.346269</td>\n      <td>0.033497</td>\n    </tr>\n    <tr>\n      <th>...</th>\n      <th>...</th>\n      <td>...</td>\n      <td>...</td>\n      <td>...</td>\n      <td>...</td>\n      <td>...</td>\n    </tr>\n    <tr>\n      <th rowspan=\"5\" valign=\"top\">4</th>\n      <th>21</th>\n      <td>0.247530</td>\n      <td>0.248030</td>\n      <td>0.062001</td>\n      <td>0.364853</td>\n      <td>0.404856</td>\n    </tr>\n    <tr>\n      <th>22</th>\n      <td>0.224465</td>\n      <td>0.249431</td>\n      <td>0.007027</td>\n      <td>0.692513</td>\n      <td>0.341036</td>\n    </tr>\n    <tr>\n      <th>23</th>\n      <td>0.169286</td>\n      <td>0.001351</td>\n      <td>0.035402</td>\n      <td>0.154319</td>\n      <td>0.055148</td>\n    </tr>\n    <tr>\n      <th>24</th>\n      <td>0.385738</td>\n      <td>0.158860</td>\n      <td>0.179478</td>\n      <td>0.008733</td>\n      <td>0.325958</td>\n    </tr>\n    <tr>\n      <th>25</th>\n      <td>0.018579</td>\n      <td>1.054437</td>\n      <td>0.181471</td>\n      <td>0.009068</td>\n      <td>0.023102</td>\n    </tr>\n  </tbody>\n</table>\n<p>130 rows × 5 columns</p>\n</div>"
     },
     "execution_count": 16,
     "metadata": {},
     "output_type": "execute_result"
    }
   ],
   "source": [
    "X_train"
   ],
   "metadata": {
    "collapsed": false,
    "ExecuteTime": {
     "end_time": "2025-04-08T17:43:09.763643600Z",
     "start_time": "2025-04-08T17:43:09.668872300Z"
    }
   },
   "id": "6f2ce1c3b043fda7"
  },
  {
   "cell_type": "code",
   "execution_count": 17,
   "outputs": [
    {
     "data": {
      "text/plain": "                         var_1     var_2     var_3     var_4     var_5\ninstances timepoints                                                  \n0         26          1.138987  0.194299  0.681776  0.628372  0.124736\n          27          0.003592  0.111450  0.118939  0.435431  0.127120\n          28          0.893621  0.001061  1.129092  0.020653  0.000196\n          29          0.224593  0.000125  0.010014  0.021266  0.829234\n1         26          0.940980  0.000228  0.425937  0.089771  0.340543\n          27          0.166993  0.910857  0.133023  0.014232  0.240511\n          28          0.352729  0.052854  0.404145  0.838014  0.072998\n          29          0.605734  1.415307  0.174382  0.285240  0.007991\n2         26          0.258209  0.652544  0.661712  0.217281  0.082959\n          27          0.000016  0.144609  0.026382  1.137807  0.617957\n          28          0.268797  0.191818  0.281864  0.000002  0.090394\n          29          0.763721  0.067197  0.101578  0.014093  0.225678\n3         26          0.212166  0.460343  0.068424  0.021443  0.189096\n          27          0.158672  0.473361  0.244286  0.736812  0.600929\n          28          0.178985  0.037229  0.194273  0.196270  0.033883\n          29          0.022414  0.010886  0.219865  0.019923  0.863636\n4         26          0.137844  0.901363  0.000977  0.075756  0.002096\n          27          0.172436  0.070688  0.074601  0.772233  0.080016\n          28          0.783385  0.055345  0.017573  0.419468  0.207953\n          29          0.177743  0.352715  0.121787  0.126903  0.048821",
      "text/html": "<div>\n<style scoped>\n    .dataframe tbody tr th:only-of-type {\n        vertical-align: middle;\n    }\n\n    .dataframe tbody tr th {\n        vertical-align: top;\n    }\n\n    .dataframe thead th {\n        text-align: right;\n    }\n</style>\n<table border=\"1\" class=\"dataframe\">\n  <thead>\n    <tr style=\"text-align: right;\">\n      <th></th>\n      <th></th>\n      <th>var_1</th>\n      <th>var_2</th>\n      <th>var_3</th>\n      <th>var_4</th>\n      <th>var_5</th>\n    </tr>\n    <tr>\n      <th>instances</th>\n      <th>timepoints</th>\n      <th></th>\n      <th></th>\n      <th></th>\n      <th></th>\n      <th></th>\n    </tr>\n  </thead>\n  <tbody>\n    <tr>\n      <th rowspan=\"4\" valign=\"top\">0</th>\n      <th>26</th>\n      <td>1.138987</td>\n      <td>0.194299</td>\n      <td>0.681776</td>\n      <td>0.628372</td>\n      <td>0.124736</td>\n    </tr>\n    <tr>\n      <th>27</th>\n      <td>0.003592</td>\n      <td>0.111450</td>\n      <td>0.118939</td>\n      <td>0.435431</td>\n      <td>0.127120</td>\n    </tr>\n    <tr>\n      <th>28</th>\n      <td>0.893621</td>\n      <td>0.001061</td>\n      <td>1.129092</td>\n      <td>0.020653</td>\n      <td>0.000196</td>\n    </tr>\n    <tr>\n      <th>29</th>\n      <td>0.224593</td>\n      <td>0.000125</td>\n      <td>0.010014</td>\n      <td>0.021266</td>\n      <td>0.829234</td>\n    </tr>\n    <tr>\n      <th rowspan=\"4\" valign=\"top\">1</th>\n      <th>26</th>\n      <td>0.940980</td>\n      <td>0.000228</td>\n      <td>0.425937</td>\n      <td>0.089771</td>\n      <td>0.340543</td>\n    </tr>\n    <tr>\n      <th>27</th>\n      <td>0.166993</td>\n      <td>0.910857</td>\n      <td>0.133023</td>\n      <td>0.014232</td>\n      <td>0.240511</td>\n    </tr>\n    <tr>\n      <th>28</th>\n      <td>0.352729</td>\n      <td>0.052854</td>\n      <td>0.404145</td>\n      <td>0.838014</td>\n      <td>0.072998</td>\n    </tr>\n    <tr>\n      <th>29</th>\n      <td>0.605734</td>\n      <td>1.415307</td>\n      <td>0.174382</td>\n      <td>0.285240</td>\n      <td>0.007991</td>\n    </tr>\n    <tr>\n      <th rowspan=\"4\" valign=\"top\">2</th>\n      <th>26</th>\n      <td>0.258209</td>\n      <td>0.652544</td>\n      <td>0.661712</td>\n      <td>0.217281</td>\n      <td>0.082959</td>\n    </tr>\n    <tr>\n      <th>27</th>\n      <td>0.000016</td>\n      <td>0.144609</td>\n      <td>0.026382</td>\n      <td>1.137807</td>\n      <td>0.617957</td>\n    </tr>\n    <tr>\n      <th>28</th>\n      <td>0.268797</td>\n      <td>0.191818</td>\n      <td>0.281864</td>\n      <td>0.000002</td>\n      <td>0.090394</td>\n    </tr>\n    <tr>\n      <th>29</th>\n      <td>0.763721</td>\n      <td>0.067197</td>\n      <td>0.101578</td>\n      <td>0.014093</td>\n      <td>0.225678</td>\n    </tr>\n    <tr>\n      <th rowspan=\"4\" valign=\"top\">3</th>\n      <th>26</th>\n      <td>0.212166</td>\n      <td>0.460343</td>\n      <td>0.068424</td>\n      <td>0.021443</td>\n      <td>0.189096</td>\n    </tr>\n    <tr>\n      <th>27</th>\n      <td>0.158672</td>\n      <td>0.473361</td>\n      <td>0.244286</td>\n      <td>0.736812</td>\n      <td>0.600929</td>\n    </tr>\n    <tr>\n      <th>28</th>\n      <td>0.178985</td>\n      <td>0.037229</td>\n      <td>0.194273</td>\n      <td>0.196270</td>\n      <td>0.033883</td>\n    </tr>\n    <tr>\n      <th>29</th>\n      <td>0.022414</td>\n      <td>0.010886</td>\n      <td>0.219865</td>\n      <td>0.019923</td>\n      <td>0.863636</td>\n    </tr>\n    <tr>\n      <th rowspan=\"4\" valign=\"top\">4</th>\n      <th>26</th>\n      <td>0.137844</td>\n      <td>0.901363</td>\n      <td>0.000977</td>\n      <td>0.075756</td>\n      <td>0.002096</td>\n    </tr>\n    <tr>\n      <th>27</th>\n      <td>0.172436</td>\n      <td>0.070688</td>\n      <td>0.074601</td>\n      <td>0.772233</td>\n      <td>0.080016</td>\n    </tr>\n    <tr>\n      <th>28</th>\n      <td>0.783385</td>\n      <td>0.055345</td>\n      <td>0.017573</td>\n      <td>0.419468</td>\n      <td>0.207953</td>\n    </tr>\n    <tr>\n      <th>29</th>\n      <td>0.177743</td>\n      <td>0.352715</td>\n      <td>0.121787</td>\n      <td>0.126903</td>\n      <td>0.048821</td>\n    </tr>\n  </tbody>\n</table>\n</div>"
     },
     "execution_count": 17,
     "metadata": {},
     "output_type": "execute_result"
    }
   ],
   "source": [
    "X_test"
   ],
   "metadata": {
    "collapsed": false,
    "ExecuteTime": {
     "end_time": "2025-04-08T17:43:10.387765300Z",
     "start_time": "2025-04-08T17:43:10.305949Z"
    }
   },
   "id": "4a9c6bbb3f93147a"
  },
  {
   "cell_type": "code",
   "execution_count": 24,
   "outputs": [
    {
     "data": {
      "text/plain": "True"
     },
     "execution_count": 24,
     "metadata": {},
     "output_type": "execute_result"
    }
   ],
   "source": [
    "from sktime.datatypes import check_is_mtype\n",
    "\n",
    "check_is_mtype(y_train, mtype=\"pd-multiindex\", scitype=\"Panel\")"
   ],
   "metadata": {
    "collapsed": false,
    "ExecuteTime": {
     "end_time": "2025-04-08T17:47:25.451262400Z",
     "start_time": "2025-04-08T17:47:25.368650200Z"
    }
   },
   "id": "64b56c02644784bd"
  },
  {
   "cell_type": "code",
   "execution_count": 18,
   "outputs": [],
   "source": [
    "model = NeuralForecastLSTM(futr_exog_list=['var_1', 'var_2', 'var_3', 'var_4', 'var_5'], max_steps=5)\n"
   ],
   "metadata": {
    "collapsed": false,
    "ExecuteTime": {
     "end_time": "2025-04-08T17:43:12.451380200Z",
     "start_time": "2025-04-08T17:43:12.404102100Z"
    }
   },
   "id": "26f02875be8fe0f6"
  },
  {
   "cell_type": "code",
   "execution_count": 19,
   "outputs": [
    {
     "name": "stderr",
     "output_type": "stream",
     "text": [
      "C:\\Users\\emily\\Documents\\DissertationProject\\venv_python\\lib\\site-packages\\neuralforecast\\common\\_base_model.py:138: UserWarning: Input size too small. Automatically setting input size to 3 * horizon = 12\n",
      "  warnings.warn(\n",
      "C:\\Users\\emily\\Documents\\DissertationProject\\venv_python\\lib\\site-packages\\neuralforecast\\common\\_base_model.py:146: UserWarning: Inference input size too small. Automatically setting inference input size to input_size = 12\n",
      "  warnings.warn(\n",
      "Seed set to 1\n",
      "C:\\Users\\emily\\Documents\\DissertationProject\\venv_python\\lib\\site-packages\\neuralforecast\\models\\lstm.py:161: UserWarning: context_size is deprecated and will be removed in future versions.\n",
      "  warnings.warn(\n",
      "C:\\Users\\emily\\Documents\\DissertationProject\\venv_python\\lib\\site-packages\\neuralforecast\\common\\_base_model.py:535: UserWarning: val_check_steps is greater than max_steps, setting val_check_steps to max_steps.\n",
      "  warnings.warn(\n",
      "GPU available: False, used: False\n",
      "TPU available: False, using: 0 TPU cores\n",
      "HPU available: False, using: 0 HPUs\n",
      "\n",
      "  | Name         | Type          | Params | Mode \n",
      "-------------------------------------------------------\n",
      "0 | loss         | MAE           | 0      | train\n",
      "1 | padder_train | ConstantPad1d | 0      | train\n",
      "2 | scaler       | TemporalNorm  | 0      | train\n",
      "3 | hist_encoder | LSTM          | 488 K  | train\n",
      "4 | mlp_decoder  | MLP           | 41.4 K | train\n",
      "-------------------------------------------------------\n",
      "529 K     Trainable params\n",
      "0         Non-trainable params\n",
      "529 K     Total params\n",
      "2.118     Total estimated model params size (MB)\n",
      "10        Modules in train mode\n",
      "0         Modules in eval mode\n"
     ]
    },
    {
     "data": {
      "text/plain": "Sanity Checking: |          | 0/? [00:00<?, ?it/s]",
      "application/vnd.jupyter.widget-view+json": {
       "version_major": 2,
       "version_minor": 0,
       "model_id": "db4dea88464d450fb257c787646e7b2d"
      }
     },
     "metadata": {},
     "output_type": "display_data"
    },
    {
     "data": {
      "text/plain": "Training: |          | 0/? [00:00<?, ?it/s]",
      "application/vnd.jupyter.widget-view+json": {
       "version_major": 2,
       "version_minor": 0,
       "model_id": "9816c670569f4f1e966d4be85804c243"
      }
     },
     "metadata": {},
     "output_type": "display_data"
    },
    {
     "data": {
      "text/plain": "Validation: |          | 0/? [00:00<?, ?it/s]",
      "application/vnd.jupyter.widget-view+json": {
       "version_major": 2,
       "version_minor": 0,
       "model_id": "67f873173c6643678dbdff7d34e2cc7d"
      }
     },
     "metadata": {},
     "output_type": "display_data"
    },
    {
     "name": "stderr",
     "output_type": "stream",
     "text": [
      "`Trainer.fit` stopped: `max_steps=5` reached.\n"
     ]
    },
    {
     "data": {
      "text/plain": "NeuralForecastLSTM(futr_exog_list=['var_1', 'var_2', 'var_3', 'var_4', 'var_5'],\n                   max_steps=5)",
      "text/html": "<style>#sk-eb0c0b6a-2589-4135-af35-445092b876d6 {\n    /* Definition of color scheme common for light and dark mode */\n    --sklearn-color-text: black;\n    --sklearn-color-line: gray;\n    /* Definition of color scheme for objects */\n    --sklearn-color-level-0: #fff5e6;\n    --sklearn-color-level-1: #f6e4d2;\n    --sklearn-color-level-2: #ffe0b3;\n    --sklearn-color-level-3: chocolate;\n\n    /* Specific color for light theme */\n    --sklearn-color-text-on-default-background: var(--theme-code-foreground, var(--jp-content-font-color1, black));\n    --sklearn-color-background: var(--theme-background, var(--jp-layout-color0, white));\n    --sklearn-color-border-box: var(--theme-code-foreground, var(--jp-content-font-color1, black));\n    --sklearn-color-icon: #696969;\n\n    @media (prefers-color-scheme: dark) {\n      /* Redefinition of color scheme for dark theme */\n      --sklearn-color-text-on-default-background: var(--theme-code-foreground, var(--jp-content-font-color1, white));\n      --sklearn-color-background: var(--theme-background, var(--jp-layout-color0, #111));\n      --sklearn-color-border-box: var(--theme-code-foreground, var(--jp-content-font-color1, white));\n      --sklearn-color-icon: #878787;\n    }\n  }\n\n  #sk-eb0c0b6a-2589-4135-af35-445092b876d6 {\n    color: var(--sklearn-color-text);\n  }\n\n  #sk-eb0c0b6a-2589-4135-af35-445092b876d6 pre {\n    padding: 0;\n  }\n\n  #sk-eb0c0b6a-2589-4135-af35-445092b876d6 input.sk-hidden--visually {\n    border: 0;\n    clip: rect(1px 1px 1px 1px);\n    clip: rect(1px, 1px, 1px, 1px);\n    height: 1px;\n    margin: -1px;\n    overflow: hidden;\n    padding: 0;\n    position: absolute;\n    width: 1px;\n  }\n\n  #sk-eb0c0b6a-2589-4135-af35-445092b876d6 div.sk-dashed-wrapped {\n    border: 1px dashed var(--sklearn-color-line);\n    margin: 0 0.4em 0.5em 0.4em;\n    box-sizing: border-box;\n    padding-bottom: 0.4em;\n    background-color: var(--sklearn-color-background);\n  }\n\n  #sk-eb0c0b6a-2589-4135-af35-445092b876d6 div.sk-container {\n    /* jupyter's `normalize.less` sets `[hidden] { display: none; }`\n       but bootstrap.min.css set `[hidden] { display: none !important; }`\n       so we also need the `!important` here to be able to override the\n       default hidden behavior on the sphinx rendered scikit-learn.org.\n       See: https://github.com/scikit-learn/scikit-learn/issues/21755 */\n    display: inline-block !important;\n    position: relative;\n  }\n\n  #sk-eb0c0b6a-2589-4135-af35-445092b876d6 div.sk-text-repr-fallback {\n    display: none;\n  }\n\n  div.sk-parallel-item,\n  div.sk-serial,\n  div.sk-item {\n    /* draw centered vertical line to link estimators */\n    background-image: linear-gradient(var(--sklearn-color-text-on-default-background), var(--sklearn-color-text-on-default-background));\n    background-size: 2px 100%;\n    background-repeat: no-repeat;\n    background-position: center center;\n  }\n\n  /* Parallel-specific style estimator block */\n\n  #sk-eb0c0b6a-2589-4135-af35-445092b876d6 div.sk-parallel-item::after {\n    content: \"\";\n    width: 100%;\n    border-bottom: 2px solid var(--sklearn-color-text-on-default-background);\n    flex-grow: 1;\n  }\n\n  #sk-eb0c0b6a-2589-4135-af35-445092b876d6 div.sk-parallel {\n    display: flex;\n    align-items: stretch;\n    justify-content: center;\n    background-color: var(--sklearn-color-background);\n    position: relative;\n  }\n\n  #sk-eb0c0b6a-2589-4135-af35-445092b876d6 div.sk-parallel-item {\n    display: flex;\n    flex-direction: column;\n  }\n\n  #sk-eb0c0b6a-2589-4135-af35-445092b876d6 div.sk-parallel-item:first-child::after {\n    align-self: flex-end;\n    width: 50%;\n  }\n\n  #sk-eb0c0b6a-2589-4135-af35-445092b876d6 div.sk-parallel-item:last-child::after {\n    align-self: flex-start;\n    width: 50%;\n  }\n\n  #sk-eb0c0b6a-2589-4135-af35-445092b876d6 div.sk-parallel-item:only-child::after {\n    width: 0;\n  }\n\n  /* Serial-specific style estimator block */\n\n  #sk-eb0c0b6a-2589-4135-af35-445092b876d6 div.sk-serial {\n    display: flex;\n    flex-direction: column;\n    align-items: center;\n    background-color: var(--sklearn-color-background);\n    padding-right: 1em;\n    padding-left: 1em;\n  }\n\n\n  /* Toggleable style: style used for estimator/Pipeline/ColumnTransformer box that is\n  clickable and can be expanded/collapsed.\n  - Pipeline and ColumnTransformer use this feature and define the default style\n  - Estimators will overwrite some part of the style using the `sk-estimator` class\n  */\n\n  /* Pipeline and ColumnTransformer style (default) */\n\n  #sk-eb0c0b6a-2589-4135-af35-445092b876d6 div.sk-toggleable {\n    /* Default theme specific background. It is overwritten whether we have a\n    specific estimator or a Pipeline/ColumnTransformer */\n    background-color: var(--sklearn-color-background);\n  }\n\n  /* Toggleable label */\n  #sk-eb0c0b6a-2589-4135-af35-445092b876d6 label.sk-toggleable__label {\n    cursor: pointer;\n    display: block;\n    width: 100%;\n    margin-bottom: 0;\n    padding: 0.5em;\n    box-sizing: border-box;\n    text-align: center;\n  }\n\n  #sk-eb0c0b6a-2589-4135-af35-445092b876d6 label.sk-toggleable__label-arrow:before {\n    /* Arrow on the left of the label */\n    content: \"▸\";\n    float: left;\n    margin-right: 0.25em;\n    color: var(--sklearn-color-icon);\n  }\n\n  #sk-eb0c0b6a-2589-4135-af35-445092b876d6 label.sk-toggleable__label-arrow:hover:before {\n    color: var(--sklearn-color-text);\n  }\n\n  /* Toggleable content - dropdown */\n\n  #sk-eb0c0b6a-2589-4135-af35-445092b876d6 div.sk-toggleable__content {\n    max-height: 0;\n    max-width: 0;\n    overflow: hidden;\n    text-align: left;\n    background-color: var(--sklearn-color-level-0);\n  }\n\n  #sk-eb0c0b6a-2589-4135-af35-445092b876d6 div.sk-toggleable__content pre {\n    margin: 0.2em;\n    border-radius: 0.25em;\n    color: var(--sklearn-color-text);\n    background-color: var(--sklearn-color-level-0);\n  }\n\n  #sk-eb0c0b6a-2589-4135-af35-445092b876d6 input.sk-toggleable__control:checked~div.sk-toggleable__content {\n    /* Expand drop-down */\n    max-height: 200px;\n    max-width: 100%;\n    overflow: auto;\n  }\n\n  #sk-eb0c0b6a-2589-4135-af35-445092b876d6 input.sk-toggleable__control:checked~label.sk-toggleable__label-arrow:before {\n    content: \"▾\";\n  }\n\n  /* Pipeline/ColumnTransformer-specific style */\n\n  #sk-eb0c0b6a-2589-4135-af35-445092b876d6 div.sk-label input.sk-toggleable__control:checked~label.sk-toggleable__label {\n    color: var(--sklearn-color-text);\n    background-color: var(--sklearn-color-level-2);\n  }\n\n  /* Estimator-specific style */\n\n  /* Colorize estimator box */\n  #sk-eb0c0b6a-2589-4135-af35-445092b876d6 div.sk-estimator input.sk-toggleable__control:checked~label.sk-toggleable__label {\n    /* unfitted */\n    background-color: var(--sklearn-color-level-2);\n  }\n\n  #sk-eb0c0b6a-2589-4135-af35-445092b876d6 div.sk-label label.sk-toggleable__label,\n  #sk-eb0c0b6a-2589-4135-af35-445092b876d6 div.sk-label label {\n    /* The background is the default theme color */\n    color: var(--sklearn-color-text-on-default-background);\n  }\n\n  /* On hover, darken the color of the background */\n  #sk-eb0c0b6a-2589-4135-af35-445092b876d6 div.sk-label:hover label.sk-toggleable__label {\n    color: var(--sklearn-color-text);\n    background-color: var(--sklearn-color-level-2);\n  }\n\n  /* Estimator label */\n\n  #sk-eb0c0b6a-2589-4135-af35-445092b876d6 div.sk-label label {\n    font-family: monospace;\n    font-weight: bold;\n    display: inline-block;\n    line-height: 1.2em;\n  }\n\n  #sk-eb0c0b6a-2589-4135-af35-445092b876d6 div.sk-label-container {\n    text-align: center;\n  }\n\n  /* Estimator-specific */\n  #sk-eb0c0b6a-2589-4135-af35-445092b876d6 div.sk-estimator {\n    font-family: monospace;\n    border: 1px dotted var(--sklearn-color-border-box);\n    border-radius: 0.25em;\n    box-sizing: border-box;\n    margin-bottom: 0.5em;\n    background-color: var(--sklearn-color-level-0);\n  }\n\n  /* on hover */\n  #sk-eb0c0b6a-2589-4135-af35-445092b876d6 div.sk-estimator:hover {\n    background-color: var(--sklearn-color-level-2);\n  }\n\n  /* Specification for estimator info */\n\n  .sk-estimator-doc-link,\n  a:link.sk-estimator-doc-link,\n  a:visited.sk-estimator-doc-link {\n    float: right;\n    font-size: smaller;\n    line-height: 1em;\n    font-family: monospace;\n    background-color: var(--sklearn-color-background);\n    border-radius: 1em;\n    height: 1em;\n    width: 1em;\n    text-decoration: none !important;\n    margin-left: 1ex;\n    border: var(--sklearn-color-level-1) 1pt solid;\n    color: var(--sklearn-color-level-1);\n  }\n\n  /* On hover */\n  div.sk-estimator:hover .sk-estimator-doc-link:hover,\n  .sk-estimator-doc-link:hover,\n  div.sk-label-container:hover .sk-estimator-doc-link:hover,\n  .sk-estimator-doc-link:hover {\n    background-color: var(--sklearn-color-level-3);\n    color: var(--sklearn-color-background);\n    text-decoration: none;\n  }\n\n  /* Span, style for the box shown on hovering the info icon */\n  .sk-estimator-doc-link span {\n    display: none;\n    z-index: 9999;\n    position: relative;\n    font-weight: normal;\n    right: .2ex;\n    padding: .5ex;\n    margin: .5ex;\n    width: min-content;\n    min-width: 20ex;\n    max-width: 50ex;\n    color: var(--sklearn-color-text);\n    box-shadow: 2pt 2pt 4pt #999;\n    background: var(--sklearn-color-level-0);\n    border: .5pt solid var(--sklearn-color-level-3);\n  }\n\n  .sk-estimator-doc-link:hover span {\n    display: block;\n  }\n\n  /* \"?\"-specific style due to the `<a>` HTML tag */\n\n  #sk-eb0c0b6a-2589-4135-af35-445092b876d6 a.estimator_doc_link {\n    float: right;\n    font-size: 1rem;\n    line-height: 1em;\n    font-family: monospace;\n    background-color: var(--sklearn-color-background);\n    border-radius: 1rem;\n    height: 1rem;\n    width: 1rem;\n    text-decoration: none;\n    color: var(--sklearn-color-level-1);\n    border: var(--sklearn-color-level-1) 1pt solid;\n  }\n\n  /* On hover */\n  #sk-eb0c0b6a-2589-4135-af35-445092b876d6 a.estimator_doc_link:hover {\n    background-color: var(--sklearn-color-level-3);\n    color: var(--sklearn-color-background);\n    text-decoration: none;\n  }\n</style><div id='sk-eb0c0b6a-2589-4135-af35-445092b876d6' class=\"sk-top-container\"><div class=\"sk-text-repr-fallback\"><pre>NeuralForecastLSTM(futr_exog_list=[&#x27;var_1&#x27;, &#x27;var_2&#x27;, &#x27;var_3&#x27;, &#x27;var_4&#x27;, &#x27;var_5&#x27;],\n                   max_steps=5)</pre><b>Please rerun this cell to show the HTML repr or trust the notebook.</b></div><div class=\"sk-container\" hidden><div class='sk-item'><div class=\"sk-estimator sk-toggleable\"><input class=\"sk-toggleable__control sk-hidden--visually\" id=UUID('dfb977ea-7eb1-4627-8cdb-f3f2ccc02254') type=\"checkbox\" checked><label for=UUID('dfb977ea-7eb1-4627-8cdb-f3f2ccc02254') class='sk-toggleable__label sk-toggleable__label-arrow'>NeuralForecastLSTM<a class=\"sk-estimator-doc-link\" rel=\"noreferrer\" target=\"_blank\" href=\"https://www.sktime.net/en/v0.36.0/api_reference/auto_generated/sktime.forecasting.neuralforecast.NeuralForecastLSTM.html\">?<span>Documentation for NeuralForecastLSTM</span></a></label><div class=\"sk-toggleable__content\"><pre>NeuralForecastLSTM(futr_exog_list=[&#x27;var_1&#x27;, &#x27;var_2&#x27;, &#x27;var_3&#x27;, &#x27;var_4&#x27;, &#x27;var_5&#x27;],\n                   max_steps=5)</pre></div></div></div></div></div>"
     },
     "execution_count": 19,
     "metadata": {},
     "output_type": "execute_result"
    }
   ],
   "source": [
    "model.fit(y_train, X=X_train, fh=[1,2,3,4])"
   ],
   "metadata": {
    "collapsed": false,
    "ExecuteTime": {
     "end_time": "2025-04-08T17:43:36.158121600Z",
     "start_time": "2025-04-08T17:43:29.213262800Z"
    }
   },
   "id": "43dc9f774293559"
  },
  {
   "cell_type": "code",
   "execution_count": 23,
   "outputs": [
    {
     "name": "stderr",
     "output_type": "stream",
     "text": [
      "GPU available: False, used: False\n",
      "TPU available: False, using: 0 TPU cores\n",
      "HPU available: False, using: 0 HPUs\n"
     ]
    },
    {
     "data": {
      "text/plain": "Predicting: |          | 0/? [00:00<?, ?it/s]",
      "application/vnd.jupyter.widget-view+json": {
       "version_major": 2,
       "version_minor": 0,
       "model_id": "3b5cbdfc02cd4056b3f8376c5880adf5"
      }
     },
     "metadata": {},
     "output_type": "display_data"
    },
    {
     "ename": "KeyError",
     "evalue": "'[5, 6, 7, 8, 9, 10, 11, 12, 13, 14, 15, 16, 17, 18, 19] not in index'",
     "output_type": "error",
     "traceback": [
      "\u001B[1;31m---------------------------------------------------------------------------\u001B[0m",
      "\u001B[1;31mKeyError\u001B[0m                                  Traceback (most recent call last)",
      "Cell \u001B[1;32mIn[23], line 1\u001B[0m\n\u001B[1;32m----> 1\u001B[0m \u001B[43mmodel\u001B[49m\u001B[38;5;241;43m.\u001B[39;49m\u001B[43mpredict\u001B[49m\u001B[43m(\u001B[49m\u001B[43mX\u001B[49m\u001B[38;5;241;43m=\u001B[39;49m\u001B[43mX_test\u001B[49m\u001B[43m)\u001B[49m\n",
      "File \u001B[1;32m~\\Documents\\DissertationProject\\venv_python\\lib\\site-packages\\sktime\\forecasting\\base\\_base.py:2487\u001B[0m, in \u001B[0;36m_BaseGlobalForecaster.predict\u001B[1;34m(self, fh, X, y)\u001B[0m\n\u001B[0;32m   2485\u001B[0m \u001B[38;5;66;03m# we call the ordinary _predict if no looping/vectorization needed\u001B[39;00m\n\u001B[0;32m   2486\u001B[0m \u001B[38;5;28;01mif\u001B[39;00m \u001B[38;5;129;01mnot\u001B[39;00m \u001B[38;5;28mself\u001B[39m\u001B[38;5;241m.\u001B[39m_is_vectorized:\n\u001B[1;32m-> 2487\u001B[0m     y_pred \u001B[38;5;241m=\u001B[39m \u001B[38;5;28;43mself\u001B[39;49m\u001B[38;5;241;43m.\u001B[39;49m\u001B[43m_predict\u001B[49m\u001B[43m(\u001B[49m\u001B[43mfh\u001B[49m\u001B[38;5;241;43m=\u001B[39;49m\u001B[43mfh\u001B[49m\u001B[43m,\u001B[49m\u001B[43m \u001B[49m\u001B[43mX\u001B[49m\u001B[38;5;241;43m=\u001B[39;49m\u001B[43mX_inner\u001B[49m\u001B[43m,\u001B[49m\u001B[43m \u001B[49m\u001B[43my\u001B[49m\u001B[38;5;241;43m=\u001B[39;49m\u001B[43my_inner\u001B[49m\u001B[43m)\u001B[49m\n\u001B[0;32m   2488\u001B[0m \u001B[38;5;28;01melse\u001B[39;00m:\n\u001B[0;32m   2489\u001B[0m     \u001B[38;5;66;03m# otherwise we call the vectorized version of predict\u001B[39;00m\n\u001B[0;32m   2490\u001B[0m     y_pred \u001B[38;5;241m=\u001B[39m \u001B[38;5;28mself\u001B[39m\u001B[38;5;241m.\u001B[39m_vectorize(\u001B[38;5;124m\"\u001B[39m\u001B[38;5;124mpredict\u001B[39m\u001B[38;5;124m\"\u001B[39m, y\u001B[38;5;241m=\u001B[39my_inner, X\u001B[38;5;241m=\u001B[39mX_inner, fh\u001B[38;5;241m=\u001B[39mfh)\n",
      "File \u001B[1;32m~\\Documents\\DissertationProject\\venv_python\\lib\\site-packages\\sktime\\forecasting\\base\\adapters\\_neuralforecast.py:533\u001B[0m, in \u001B[0;36m_NeuralForecastAdapter._predict\u001B[1;34m(***failed resolving arguments***)\u001B[0m\n\u001B[0;32m    528\u001B[0m id_ins \u001B[38;5;241m=\u001B[39m pandas\u001B[38;5;241m.\u001B[39mDataFrame(\n\u001B[0;32m    529\u001B[0m     data\u001B[38;5;241m=\u001B[39mins, index\u001B[38;5;241m=\u001B[39mid_int, columns\u001B[38;5;241m=\u001B[39mnew_index_names[:\u001B[38;5;241m-\u001B[39m\u001B[38;5;241m1\u001B[39m]\n\u001B[0;32m    530\u001B[0m )\n\u001B[0;32m    531\u001B[0m id_ins \u001B[38;5;241m=\u001B[39m id_ins\u001B[38;5;241m.\u001B[39mdrop_duplicates()\n\u001B[0;32m    532\u001B[0m final_predictions \u001B[38;5;241m=\u001B[39m pandas\u001B[38;5;241m.\u001B[39mconcat(\n\u001B[1;32m--> 533\u001B[0m     (model_forecasts, \u001B[43mid_ins\u001B[49m\u001B[38;5;241;43m.\u001B[39;49m\u001B[43mloc\u001B[49m\u001B[43m[\u001B[49m\u001B[43mmodel_forecasts\u001B[49m\u001B[38;5;241;43m.\u001B[39;49m\u001B[43mindex\u001B[49m\u001B[38;5;241;43m.\u001B[39;49m\u001B[43mtolist\u001B[49m\u001B[43m(\u001B[49m\u001B[43m)\u001B[49m\u001B[43m]\u001B[49m),\n\u001B[0;32m    534\u001B[0m     axis\u001B[38;5;241m=\u001B[39m\u001B[38;5;241m1\u001B[39m,\n\u001B[0;32m    535\u001B[0m )\n\u001B[0;32m    536\u001B[0m \u001B[38;5;28;01mif\u001B[39;00m \u001B[38;5;28mself\u001B[39m\u001B[38;5;241m.\u001B[39m_is_PeriodIndex:\n\u001B[0;32m    537\u001B[0m     time_idx \u001B[38;5;241m=\u001B[39m pandas\u001B[38;5;241m.\u001B[39mDatetimeIndex(final_predictions[\u001B[38;5;28mself\u001B[39m\u001B[38;5;241m.\u001B[39mtime_col])\n",
      "File \u001B[1;32m~\\Documents\\DissertationProject\\venv_python\\lib\\site-packages\\pandas\\core\\indexing.py:1191\u001B[0m, in \u001B[0;36m_LocationIndexer.__getitem__\u001B[1;34m(self, key)\u001B[0m\n\u001B[0;32m   1189\u001B[0m maybe_callable \u001B[38;5;241m=\u001B[39m com\u001B[38;5;241m.\u001B[39mapply_if_callable(key, \u001B[38;5;28mself\u001B[39m\u001B[38;5;241m.\u001B[39mobj)\n\u001B[0;32m   1190\u001B[0m maybe_callable \u001B[38;5;241m=\u001B[39m \u001B[38;5;28mself\u001B[39m\u001B[38;5;241m.\u001B[39m_check_deprecated_callable_usage(key, maybe_callable)\n\u001B[1;32m-> 1191\u001B[0m \u001B[38;5;28;01mreturn\u001B[39;00m \u001B[38;5;28;43mself\u001B[39;49m\u001B[38;5;241;43m.\u001B[39;49m\u001B[43m_getitem_axis\u001B[49m\u001B[43m(\u001B[49m\u001B[43mmaybe_callable\u001B[49m\u001B[43m,\u001B[49m\u001B[43m \u001B[49m\u001B[43maxis\u001B[49m\u001B[38;5;241;43m=\u001B[39;49m\u001B[43maxis\u001B[49m\u001B[43m)\u001B[49m\n",
      "File \u001B[1;32m~\\Documents\\DissertationProject\\venv_python\\lib\\site-packages\\pandas\\core\\indexing.py:1420\u001B[0m, in \u001B[0;36m_LocIndexer._getitem_axis\u001B[1;34m(self, key, axis)\u001B[0m\n\u001B[0;32m   1417\u001B[0m     \u001B[38;5;28;01mif\u001B[39;00m \u001B[38;5;28mhasattr\u001B[39m(key, \u001B[38;5;124m\"\u001B[39m\u001B[38;5;124mndim\u001B[39m\u001B[38;5;124m\"\u001B[39m) \u001B[38;5;129;01mand\u001B[39;00m key\u001B[38;5;241m.\u001B[39mndim \u001B[38;5;241m>\u001B[39m \u001B[38;5;241m1\u001B[39m:\n\u001B[0;32m   1418\u001B[0m         \u001B[38;5;28;01mraise\u001B[39;00m \u001B[38;5;167;01mValueError\u001B[39;00m(\u001B[38;5;124m\"\u001B[39m\u001B[38;5;124mCannot index with multidimensional key\u001B[39m\u001B[38;5;124m\"\u001B[39m)\n\u001B[1;32m-> 1420\u001B[0m     \u001B[38;5;28;01mreturn\u001B[39;00m \u001B[38;5;28;43mself\u001B[39;49m\u001B[38;5;241;43m.\u001B[39;49m\u001B[43m_getitem_iterable\u001B[49m\u001B[43m(\u001B[49m\u001B[43mkey\u001B[49m\u001B[43m,\u001B[49m\u001B[43m \u001B[49m\u001B[43maxis\u001B[49m\u001B[38;5;241;43m=\u001B[39;49m\u001B[43maxis\u001B[49m\u001B[43m)\u001B[49m\n\u001B[0;32m   1422\u001B[0m \u001B[38;5;66;03m# nested tuple slicing\u001B[39;00m\n\u001B[0;32m   1423\u001B[0m \u001B[38;5;28;01mif\u001B[39;00m is_nested_tuple(key, labels):\n",
      "File \u001B[1;32m~\\Documents\\DissertationProject\\venv_python\\lib\\site-packages\\pandas\\core\\indexing.py:1360\u001B[0m, in \u001B[0;36m_LocIndexer._getitem_iterable\u001B[1;34m(self, key, axis)\u001B[0m\n\u001B[0;32m   1357\u001B[0m \u001B[38;5;28mself\u001B[39m\u001B[38;5;241m.\u001B[39m_validate_key(key, axis)\n\u001B[0;32m   1359\u001B[0m \u001B[38;5;66;03m# A collection of keys\u001B[39;00m\n\u001B[1;32m-> 1360\u001B[0m keyarr, indexer \u001B[38;5;241m=\u001B[39m \u001B[38;5;28;43mself\u001B[39;49m\u001B[38;5;241;43m.\u001B[39;49m\u001B[43m_get_listlike_indexer\u001B[49m\u001B[43m(\u001B[49m\u001B[43mkey\u001B[49m\u001B[43m,\u001B[49m\u001B[43m \u001B[49m\u001B[43maxis\u001B[49m\u001B[43m)\u001B[49m\n\u001B[0;32m   1361\u001B[0m \u001B[38;5;28;01mreturn\u001B[39;00m \u001B[38;5;28mself\u001B[39m\u001B[38;5;241m.\u001B[39mobj\u001B[38;5;241m.\u001B[39m_reindex_with_indexers(\n\u001B[0;32m   1362\u001B[0m     {axis: [keyarr, indexer]}, copy\u001B[38;5;241m=\u001B[39m\u001B[38;5;28;01mTrue\u001B[39;00m, allow_dups\u001B[38;5;241m=\u001B[39m\u001B[38;5;28;01mTrue\u001B[39;00m\n\u001B[0;32m   1363\u001B[0m )\n",
      "File \u001B[1;32m~\\Documents\\DissertationProject\\venv_python\\lib\\site-packages\\pandas\\core\\indexing.py:1558\u001B[0m, in \u001B[0;36m_LocIndexer._get_listlike_indexer\u001B[1;34m(self, key, axis)\u001B[0m\n\u001B[0;32m   1555\u001B[0m ax \u001B[38;5;241m=\u001B[39m \u001B[38;5;28mself\u001B[39m\u001B[38;5;241m.\u001B[39mobj\u001B[38;5;241m.\u001B[39m_get_axis(axis)\n\u001B[0;32m   1556\u001B[0m axis_name \u001B[38;5;241m=\u001B[39m \u001B[38;5;28mself\u001B[39m\u001B[38;5;241m.\u001B[39mobj\u001B[38;5;241m.\u001B[39m_get_axis_name(axis)\n\u001B[1;32m-> 1558\u001B[0m keyarr, indexer \u001B[38;5;241m=\u001B[39m \u001B[43max\u001B[49m\u001B[38;5;241;43m.\u001B[39;49m\u001B[43m_get_indexer_strict\u001B[49m\u001B[43m(\u001B[49m\u001B[43mkey\u001B[49m\u001B[43m,\u001B[49m\u001B[43m \u001B[49m\u001B[43maxis_name\u001B[49m\u001B[43m)\u001B[49m\n\u001B[0;32m   1560\u001B[0m \u001B[38;5;28;01mreturn\u001B[39;00m keyarr, indexer\n",
      "File \u001B[1;32m~\\Documents\\DissertationProject\\venv_python\\lib\\site-packages\\pandas\\core\\indexes\\base.py:6200\u001B[0m, in \u001B[0;36mIndex._get_indexer_strict\u001B[1;34m(self, key, axis_name)\u001B[0m\n\u001B[0;32m   6197\u001B[0m \u001B[38;5;28;01melse\u001B[39;00m:\n\u001B[0;32m   6198\u001B[0m     keyarr, indexer, new_indexer \u001B[38;5;241m=\u001B[39m \u001B[38;5;28mself\u001B[39m\u001B[38;5;241m.\u001B[39m_reindex_non_unique(keyarr)\n\u001B[1;32m-> 6200\u001B[0m \u001B[38;5;28;43mself\u001B[39;49m\u001B[38;5;241;43m.\u001B[39;49m\u001B[43m_raise_if_missing\u001B[49m\u001B[43m(\u001B[49m\u001B[43mkeyarr\u001B[49m\u001B[43m,\u001B[49m\u001B[43m \u001B[49m\u001B[43mindexer\u001B[49m\u001B[43m,\u001B[49m\u001B[43m \u001B[49m\u001B[43maxis_name\u001B[49m\u001B[43m)\u001B[49m\n\u001B[0;32m   6202\u001B[0m keyarr \u001B[38;5;241m=\u001B[39m \u001B[38;5;28mself\u001B[39m\u001B[38;5;241m.\u001B[39mtake(indexer)\n\u001B[0;32m   6203\u001B[0m \u001B[38;5;28;01mif\u001B[39;00m \u001B[38;5;28misinstance\u001B[39m(key, Index):\n\u001B[0;32m   6204\u001B[0m     \u001B[38;5;66;03m# GH 42790 - Preserve name from an Index\u001B[39;00m\n",
      "File \u001B[1;32m~\\Documents\\DissertationProject\\venv_python\\lib\\site-packages\\pandas\\core\\indexes\\base.py:6252\u001B[0m, in \u001B[0;36mIndex._raise_if_missing\u001B[1;34m(self, key, indexer, axis_name)\u001B[0m\n\u001B[0;32m   6249\u001B[0m     \u001B[38;5;28;01mraise\u001B[39;00m \u001B[38;5;167;01mKeyError\u001B[39;00m(\u001B[38;5;124mf\u001B[39m\u001B[38;5;124m\"\u001B[39m\u001B[38;5;124mNone of [\u001B[39m\u001B[38;5;132;01m{\u001B[39;00mkey\u001B[38;5;132;01m}\u001B[39;00m\u001B[38;5;124m] are in the [\u001B[39m\u001B[38;5;132;01m{\u001B[39;00maxis_name\u001B[38;5;132;01m}\u001B[39;00m\u001B[38;5;124m]\u001B[39m\u001B[38;5;124m\"\u001B[39m)\n\u001B[0;32m   6251\u001B[0m not_found \u001B[38;5;241m=\u001B[39m \u001B[38;5;28mlist\u001B[39m(ensure_index(key)[missing_mask\u001B[38;5;241m.\u001B[39mnonzero()[\u001B[38;5;241m0\u001B[39m]]\u001B[38;5;241m.\u001B[39munique())\n\u001B[1;32m-> 6252\u001B[0m \u001B[38;5;28;01mraise\u001B[39;00m \u001B[38;5;167;01mKeyError\u001B[39;00m(\u001B[38;5;124mf\u001B[39m\u001B[38;5;124m\"\u001B[39m\u001B[38;5;132;01m{\u001B[39;00mnot_found\u001B[38;5;132;01m}\u001B[39;00m\u001B[38;5;124m not in index\u001B[39m\u001B[38;5;124m\"\u001B[39m)\n",
      "\u001B[1;31mKeyError\u001B[0m: '[5, 6, 7, 8, 9, 10, 11, 12, 13, 14, 15, 16, 17, 18, 19] not in index'"
     ]
    }
   ],
   "source": [
    "model.predict(X=X_test)"
   ],
   "metadata": {
    "collapsed": false,
    "ExecuteTime": {
     "end_time": "2025-04-08T17:44:37.088065100Z",
     "start_time": "2025-04-08T17:44:36.839665500Z"
    }
   },
   "id": "69ec84772b614e9c"
  },
  {
   "cell_type": "code",
   "execution_count": null,
   "outputs": [],
   "source": [],
   "metadata": {
    "collapsed": false
   },
   "id": "5e272cad509aa16b"
  }
 ],
 "metadata": {
  "kernelspec": {
   "display_name": "Python 3",
   "language": "python",
   "name": "python3"
  },
  "language_info": {
   "codemirror_mode": {
    "name": "ipython",
    "version": 2
   },
   "file_extension": ".py",
   "mimetype": "text/x-python",
   "name": "python",
   "nbconvert_exporter": "python",
   "pygments_lexer": "ipython2",
   "version": "2.7.6"
  }
 },
 "nbformat": 4,
 "nbformat_minor": 5
}
