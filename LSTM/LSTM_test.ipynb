{
 "cells": [
  {
   "cell_type": "code",
   "execution_count": 1,
   "id": "initial_id",
   "metadata": {
    "collapsed": true,
    "ExecuteTime": {
     "end_time": "2025-04-09T14:02:43.400007500Z",
     "start_time": "2025-04-09T14:02:40.530649900Z"
    }
   },
   "outputs": [
    {
     "name": "stdout",
     "output_type": "stream",
     "text": [
      "<class 'list'>\n",
      "Patient 1: Dropping — constant columns found\n",
      "Patient 2: Less than 30 time points — skipping.\n",
      "Patient 3: Dropping — constant columns found\n",
      "Patient 4: Less than 30 time points — skipping.\n",
      "Patient 5: Dropping — constant columns found\n",
      "Patient 6: Less than 30 time points — skipping.\n",
      "Patient 8: Dropping — constant columns found\n",
      "Patient 10: Less than 30 time points — skipping.\n",
      "Patient 11: Dropping — constant columns found\n",
      "Patient 12: Less than 30 time points — skipping.\n",
      "Patient 13: Dropping — constant columns found\n",
      "Patient 15: Less than 30 time points — skipping.\n",
      "Patient 16: Less than 30 time points — skipping.\n",
      "Patient 17: Dropping — constant columns found\n",
      "Patient 18: Dropping — constant columns found\n",
      "Patient 19: Dropping — constant columns found\n",
      "Patient 20: Less than 30 time points — skipping.\n",
      "Patient 21: Dropping — constant columns found\n",
      "Patient 22: Less than 30 time points — skipping.\n",
      "Patient 23: Less than 30 time points — skipping.\n",
      "Patient 25: Dropping — constant columns found\n",
      "Patient 26: Less than 30 time points — skipping.\n",
      "Patient 27: Less than 30 time points — skipping.\n",
      "Patient 28: Dropping — constant columns found\n",
      "Patient 29: Dropping — constant columns found\n",
      "Patient 30: Dropping — constant columns found\n",
      "Patient 31: Dropping — constant columns found\n",
      "Patient 32: Dropping — constant columns found\n",
      "Patient 34: Less than 30 time points — skipping.\n",
      "Patient 35: Dropping — constant columns found\n",
      "Patient 36: Less than 30 time points — skipping.\n",
      "Patient 37: Less than 30 time points — skipping.\n",
      "Patient 39: Dropping — constant columns found\n",
      "Patient 40: Less than 30 time points — skipping.\n",
      "Patient 41: Dropping — constant columns found\n",
      "Patient 43: Dropping — constant columns found\n",
      "Patient 44: Dropping — constant columns found\n",
      "Patient 45: Less than 30 time points — skipping.\n",
      "Patient 46: Dropping — constant columns found\n",
      "Patient 47: Less than 30 time points — skipping.\n",
      "Patient 48: Less than 30 time points — skipping.\n",
      "Patient 49: Less than 30 time points — skipping.\n",
      "Patient 50: Dropping — constant columns found\n",
      "Patient 51: Dropping — constant columns found\n",
      "Patient 52: Dropping — constant columns found\n",
      "Patient 53: Less than 30 time points — skipping.\n",
      "Patient 54: Dropping — constant columns found\n",
      "Patient 55: Less than 30 time points — skipping.\n",
      "Patient 56: Less than 30 time points — skipping.\n",
      "Patient 58: Less than 30 time points — skipping.\n",
      "Patient 59: Dropping — constant columns found\n",
      "Patient 60: Less than 30 time points — skipping.\n",
      "Patient 61: Less than 30 time points — skipping.\n",
      "Patient 62: Dropping — constant columns found\n",
      "Patient 63: Less than 30 time points — skipping.\n",
      "Patient 64: Less than 30 time points — skipping.\n",
      "Patient 65: Less than 30 time points — skipping.\n",
      "Patient 66: Less than 30 time points — skipping.\n",
      "Patient 67: Less than 30 time points — skipping.\n",
      "Patient 68: Dropping — constant columns found\n",
      "Patient 69: Less than 30 time points — skipping.\n",
      "Patient 70: Dropping — constant columns found\n",
      "Patient 71: Dropping — constant columns found\n",
      "Patient 72: Less than 30 time points — skipping.\n",
      "Patient 73: Less than 30 time points — skipping.\n",
      "Patient 74: Less than 30 time points — skipping.\n",
      "Patient 75: Dropping — constant columns found\n",
      "Patient 76: Dropping — constant columns found\n",
      "Patient 77: Less than 30 time points — skipping.\n",
      "Patient 79: Dropping — constant columns found\n",
      "Patient 80: Dropping — constant columns found\n",
      "Patient 81: Dropping — constant columns found\n",
      "Patient 83: Dropping — constant columns found\n",
      "Patient 84: Dropping — constant columns found\n",
      "Patient 85: Dropping — constant columns found\n",
      "Patient 86: Less than 30 time points — skipping.\n",
      "Patient 87: Dropping — constant columns found\n",
      "Patient 88: Less than 30 time points — skipping.\n",
      "Patient 89: Less than 30 time points — skipping.\n",
      "Patient 90: Dropping — constant columns found\n",
      "Patient 91: Dropping — constant columns found\n",
      "Patient 92: Dropping — constant columns found\n",
      "Patient 93: Less than 30 time points — skipping.\n",
      "Patient 94: Dropping — constant columns found\n",
      "Patient 95: Dropping — constant columns found\n",
      "Patient 96: Less than 30 time points — skipping.\n",
      "Patient 97: Dropping — constant columns found\n",
      "Patient 98: Dropping — constant columns found\n",
      "Patient 99: Less than 30 time points — skipping.\n",
      "Patient 100: Dropping — constant columns found\n",
      "Patient 101: Dropping — constant columns found\n",
      "Patient 102: Dropping — constant columns found\n",
      "Patient 103: Less than 30 time points — skipping.\n",
      "Patient 104: Dropping — constant columns found\n",
      "Patient 105: Dropping — constant columns found\n",
      "Patient 107: Dropping — constant columns found\n",
      "Patient 108: Dropping — constant columns found\n",
      "Patient 109: Dropping — constant columns found\n",
      "Patient 110: Dropping — constant columns found\n",
      "Patient 111: Dropping — constant columns found\n",
      "Patient 112: Dropping — constant columns found\n",
      "Patient 113: Less than 30 time points — skipping.\n",
      "Patient 114: Less than 30 time points — skipping.\n",
      "Patient 116: Less than 30 time points — skipping.\n",
      "Patient 117: Dropping — constant columns found\n",
      "Patient 118: Less than 30 time points — skipping.\n",
      "Patient 119: Less than 30 time points — skipping.\n",
      "Patient 121: Dropping — constant columns found\n",
      "Patient 122: Dropping — constant columns found\n",
      "Patient 123: Dropping — constant columns found\n",
      "Patient 124: Less than 30 time points — skipping.\n",
      "Patient 126: Less than 30 time points — skipping.\n",
      "Patient 127: Dropping — constant columns found\n",
      "Patient 128: Less than 30 time points — skipping.\n",
      "Patient 129: Less than 30 time points — skipping.\n",
      "Patient 131: Dropping — constant columns found\n",
      "Patient 134: Dropping — constant columns found\n",
      "Patient 135: Less than 30 time points — skipping.\n",
      "Patient 136: Dropping — constant columns found\n",
      "Patient 137: Dropping — constant columns found\n",
      "Patient 138: Dropping — constant columns found\n",
      "Patient 139: Dropping — constant columns found\n",
      "Patient 140: Less than 30 time points — skipping.\n",
      "Patient 142: Dropping — constant columns found\n",
      "Patient 145: Less than 30 time points — skipping.\n",
      "Patient 146: Less than 30 time points — skipping.\n",
      "Patient 147: Dropping — constant columns found\n",
      "Patient 148: Dropping — constant columns found\n",
      "Patient 149: Less than 30 time points — skipping.\n",
      "Patient 150: Less than 30 time points — skipping.\n",
      "Patient 151: Less than 30 time points — skipping.\n",
      "Patient 152: Dropping — constant columns found\n",
      "Patient 153: Less than 30 time points — skipping.\n",
      "Patient 154: Less than 30 time points — skipping.\n",
      "Patient 156: Dropping — constant columns found\n",
      "Patient 157: Dropping — constant columns found\n",
      "Patient 158: Dropping — constant columns found\n",
      "Patient 159: Dropping — constant columns found\n",
      "Patient 160: Dropping — constant columns found\n",
      "Patient 161: Less than 30 time points — skipping.\n",
      "Patient 162: Dropping — constant columns found\n",
      "Patient 163: Dropping — constant columns found\n",
      "Patient 165: Dropping — constant columns found\n",
      "Patient 166: Less than 30 time points — skipping.\n",
      "Patient 167: Less than 30 time points — skipping.\n",
      "Patient 168: Dropping — constant columns found\n",
      "Patient 169: Dropping — constant columns found\n",
      "Patient 170: Dropping — constant columns found\n",
      "Patient 171: Dropping — constant columns found\n",
      "Patient 172: Less than 30 time points — skipping.\n",
      "Patient 173: Less than 30 time points — skipping.\n",
      "Patient 174: Less than 30 time points — skipping.\n",
      "Patient 175: Less than 30 time points — skipping.\n",
      "Patient 176: Less than 30 time points — skipping.\n",
      "Patient 177: Less than 30 time points — skipping.\n",
      "Patient 181: Less than 30 time points — skipping.\n",
      "Patient 182: Dropping — constant columns found\n",
      "Patient 183: Dropping — constant columns found\n",
      "Patient 184: Dropping — constant columns found\n",
      "Patient 186: Dropping — constant columns found\n",
      "Patient 187: Dropping — constant columns found\n",
      "Patient 191: Dropping — constant columns found\n",
      "Patient 192: Dropping — constant columns found\n",
      "Patient 193: Dropping — constant columns found\n",
      "Patient 194: Less than 30 time points — skipping.\n",
      "Patient 195: Dropping — constant columns found\n",
      "Patient 196: Less than 30 time points — skipping.\n",
      "Patient 197: Dropping — constant columns found\n",
      "Patient 198: Less than 30 time points — skipping.\n",
      "Patient 199: Dropping — constant columns found\n",
      "Patient 200: Dropping — constant columns found\n",
      "Patient 2: Dropping — constant columns found\n",
      "Patient 3: Dropping — constant columns found\n",
      "Patient 4: Dropping — constant columns found\n",
      "Patient 5: Dropping — constant columns found\n",
      "Patient 6: Dropping — constant columns found\n",
      "Patient 8: Dropping — constant columns found\n",
      "Patient 9: Dropping — constant columns found\n",
      "Patient 10: Dropping — constant columns found\n",
      "Patient 11: Dropping — constant columns found\n",
      "Patient 15: Dropping — constant columns found\n",
      "Patient 17: Dropping — constant columns found\n",
      "Patient 19: Dropping — constant columns found\n",
      "Patient 20: Dropping — constant columns found\n",
      "Patient 21: Dropping — constant columns found\n",
      "Patient 24: Dropping — constant columns found\n",
      "Patient 25: Dropping — constant columns found\n",
      "Patient 26: Dropping — constant columns found\n",
      "Patient 27: Dropping — constant columns found\n",
      "Patient 28: Dropping — constant columns found\n"
     ]
    },
    {
     "name": "stderr",
     "output_type": "stream",
     "text": [
      "C:\\Users\\emily\\Documents\\DissertationProject\\loadDataForSKtime.py:268: SettingWithCopyWarning: \n",
      "A value is trying to be set on a copy of a slice from a DataFrame.\n",
      "Try using .loc[row_indexer,col_indexer] = value instead\n",
      "\n",
      "See the caveats in the documentation: https://pandas.pydata.org/pandas-docs/stable/user_guide/indexing.html#returning-a-view-versus-a-copy\n",
      "  train_target_df[\"Patient_ID\"] = new_patient_id\n",
      "C:\\Users\\emily\\Documents\\DissertationProject\\loadDataForSKtime.py:269: SettingWithCopyWarning: \n",
      "A value is trying to be set on a copy of a slice from a DataFrame.\n",
      "Try using .loc[row_indexer,col_indexer] = value instead\n",
      "\n",
      "See the caveats in the documentation: https://pandas.pydata.org/pandas-docs/stable/user_guide/indexing.html#returning-a-view-versus-a-copy\n",
      "  train_target_df[\"ICULOS\"] = train_df.index\n",
      "C:\\Users\\emily\\Documents\\DissertationProject\\loadDataForSKtime.py:270: SettingWithCopyWarning: \n",
      "A value is trying to be set on a copy of a slice from a DataFrame.\n",
      "Try using .loc[row_indexer,col_indexer] = value instead\n",
      "\n",
      "See the caveats in the documentation: https://pandas.pydata.org/pandas-docs/stable/user_guide/indexing.html#returning-a-view-versus-a-copy\n",
      "  test_target_df[\"Patient_ID\"] = new_patient_id\n",
      "C:\\Users\\emily\\Documents\\DissertationProject\\loadDataForSKtime.py:271: SettingWithCopyWarning: \n",
      "A value is trying to be set on a copy of a slice from a DataFrame.\n",
      "Try using .loc[row_indexer,col_indexer] = value instead\n",
      "\n",
      "See the caveats in the documentation: https://pandas.pydata.org/pandas-docs/stable/user_guide/indexing.html#returning-a-view-versus-a-copy\n",
      "  test_target_df[\"ICULOS\"] = test_df.index\n",
      "C:\\Users\\emily\\Documents\\DissertationProject\\loadDataForSKtime.py:268: SettingWithCopyWarning: \n",
      "A value is trying to be set on a copy of a slice from a DataFrame.\n",
      "Try using .loc[row_indexer,col_indexer] = value instead\n",
      "\n",
      "See the caveats in the documentation: https://pandas.pydata.org/pandas-docs/stable/user_guide/indexing.html#returning-a-view-versus-a-copy\n",
      "  train_target_df[\"Patient_ID\"] = new_patient_id\n",
      "C:\\Users\\emily\\Documents\\DissertationProject\\loadDataForSKtime.py:269: SettingWithCopyWarning: \n",
      "A value is trying to be set on a copy of a slice from a DataFrame.\n",
      "Try using .loc[row_indexer,col_indexer] = value instead\n",
      "\n",
      "See the caveats in the documentation: https://pandas.pydata.org/pandas-docs/stable/user_guide/indexing.html#returning-a-view-versus-a-copy\n",
      "  train_target_df[\"ICULOS\"] = train_df.index\n",
      "C:\\Users\\emily\\Documents\\DissertationProject\\loadDataForSKtime.py:270: SettingWithCopyWarning: \n",
      "A value is trying to be set on a copy of a slice from a DataFrame.\n",
      "Try using .loc[row_indexer,col_indexer] = value instead\n",
      "\n",
      "See the caveats in the documentation: https://pandas.pydata.org/pandas-docs/stable/user_guide/indexing.html#returning-a-view-versus-a-copy\n",
      "  test_target_df[\"Patient_ID\"] = new_patient_id\n",
      "C:\\Users\\emily\\Documents\\DissertationProject\\loadDataForSKtime.py:271: SettingWithCopyWarning: \n",
      "A value is trying to be set on a copy of a slice from a DataFrame.\n",
      "Try using .loc[row_indexer,col_indexer] = value instead\n",
      "\n",
      "See the caveats in the documentation: https://pandas.pydata.org/pandas-docs/stable/user_guide/indexing.html#returning-a-view-versus-a-copy\n",
      "  test_target_df[\"ICULOS\"] = test_df.index\n",
      "C:\\Users\\emily\\Documents\\DissertationProject\\loadDataForSKtime.py:268: SettingWithCopyWarning: \n",
      "A value is trying to be set on a copy of a slice from a DataFrame.\n",
      "Try using .loc[row_indexer,col_indexer] = value instead\n",
      "\n",
      "See the caveats in the documentation: https://pandas.pydata.org/pandas-docs/stable/user_guide/indexing.html#returning-a-view-versus-a-copy\n",
      "  train_target_df[\"Patient_ID\"] = new_patient_id\n",
      "C:\\Users\\emily\\Documents\\DissertationProject\\loadDataForSKtime.py:269: SettingWithCopyWarning: \n",
      "A value is trying to be set on a copy of a slice from a DataFrame.\n",
      "Try using .loc[row_indexer,col_indexer] = value instead\n",
      "\n",
      "See the caveats in the documentation: https://pandas.pydata.org/pandas-docs/stable/user_guide/indexing.html#returning-a-view-versus-a-copy\n",
      "  train_target_df[\"ICULOS\"] = train_df.index\n",
      "C:\\Users\\emily\\Documents\\DissertationProject\\loadDataForSKtime.py:270: SettingWithCopyWarning: \n",
      "A value is trying to be set on a copy of a slice from a DataFrame.\n",
      "Try using .loc[row_indexer,col_indexer] = value instead\n",
      "\n",
      "See the caveats in the documentation: https://pandas.pydata.org/pandas-docs/stable/user_guide/indexing.html#returning-a-view-versus-a-copy\n",
      "  test_target_df[\"Patient_ID\"] = new_patient_id\n",
      "C:\\Users\\emily\\Documents\\DissertationProject\\loadDataForSKtime.py:271: SettingWithCopyWarning: \n",
      "A value is trying to be set on a copy of a slice from a DataFrame.\n",
      "Try using .loc[row_indexer,col_indexer] = value instead\n",
      "\n",
      "See the caveats in the documentation: https://pandas.pydata.org/pandas-docs/stable/user_guide/indexing.html#returning-a-view-versus-a-copy\n",
      "  test_target_df[\"ICULOS\"] = test_df.index\n",
      "C:\\Users\\emily\\Documents\\DissertationProject\\loadDataForSKtime.py:268: SettingWithCopyWarning: \n",
      "A value is trying to be set on a copy of a slice from a DataFrame.\n",
      "Try using .loc[row_indexer,col_indexer] = value instead\n",
      "\n",
      "See the caveats in the documentation: https://pandas.pydata.org/pandas-docs/stable/user_guide/indexing.html#returning-a-view-versus-a-copy\n",
      "  train_target_df[\"Patient_ID\"] = new_patient_id\n",
      "C:\\Users\\emily\\Documents\\DissertationProject\\loadDataForSKtime.py:269: SettingWithCopyWarning: \n",
      "A value is trying to be set on a copy of a slice from a DataFrame.\n",
      "Try using .loc[row_indexer,col_indexer] = value instead\n",
      "\n",
      "See the caveats in the documentation: https://pandas.pydata.org/pandas-docs/stable/user_guide/indexing.html#returning-a-view-versus-a-copy\n",
      "  train_target_df[\"ICULOS\"] = train_df.index\n",
      "C:\\Users\\emily\\Documents\\DissertationProject\\loadDataForSKtime.py:270: SettingWithCopyWarning: \n",
      "A value is trying to be set on a copy of a slice from a DataFrame.\n",
      "Try using .loc[row_indexer,col_indexer] = value instead\n",
      "\n",
      "See the caveats in the documentation: https://pandas.pydata.org/pandas-docs/stable/user_guide/indexing.html#returning-a-view-versus-a-copy\n",
      "  test_target_df[\"Patient_ID\"] = new_patient_id\n",
      "C:\\Users\\emily\\Documents\\DissertationProject\\loadDataForSKtime.py:271: SettingWithCopyWarning: \n",
      "A value is trying to be set on a copy of a slice from a DataFrame.\n",
      "Try using .loc[row_indexer,col_indexer] = value instead\n",
      "\n",
      "See the caveats in the documentation: https://pandas.pydata.org/pandas-docs/stable/user_guide/indexing.html#returning-a-view-versus-a-copy\n",
      "  test_target_df[\"ICULOS\"] = test_df.index\n",
      "C:\\Users\\emily\\Documents\\DissertationProject\\loadDataForSKtime.py:268: SettingWithCopyWarning: \n",
      "A value is trying to be set on a copy of a slice from a DataFrame.\n",
      "Try using .loc[row_indexer,col_indexer] = value instead\n",
      "\n",
      "See the caveats in the documentation: https://pandas.pydata.org/pandas-docs/stable/user_guide/indexing.html#returning-a-view-versus-a-copy\n",
      "  train_target_df[\"Patient_ID\"] = new_patient_id\n",
      "C:\\Users\\emily\\Documents\\DissertationProject\\loadDataForSKtime.py:269: SettingWithCopyWarning: \n",
      "A value is trying to be set on a copy of a slice from a DataFrame.\n",
      "Try using .loc[row_indexer,col_indexer] = value instead\n",
      "\n",
      "See the caveats in the documentation: https://pandas.pydata.org/pandas-docs/stable/user_guide/indexing.html#returning-a-view-versus-a-copy\n",
      "  train_target_df[\"ICULOS\"] = train_df.index\n",
      "C:\\Users\\emily\\Documents\\DissertationProject\\loadDataForSKtime.py:270: SettingWithCopyWarning: \n",
      "A value is trying to be set on a copy of a slice from a DataFrame.\n",
      "Try using .loc[row_indexer,col_indexer] = value instead\n",
      "\n",
      "See the caveats in the documentation: https://pandas.pydata.org/pandas-docs/stable/user_guide/indexing.html#returning-a-view-versus-a-copy\n",
      "  test_target_df[\"Patient_ID\"] = new_patient_id\n",
      "C:\\Users\\emily\\Documents\\DissertationProject\\loadDataForSKtime.py:271: SettingWithCopyWarning: \n",
      "A value is trying to be set on a copy of a slice from a DataFrame.\n",
      "Try using .loc[row_indexer,col_indexer] = value instead\n",
      "\n",
      "See the caveats in the documentation: https://pandas.pydata.org/pandas-docs/stable/user_guide/indexing.html#returning-a-view-versus-a-copy\n",
      "  test_target_df[\"ICULOS\"] = test_df.index\n",
      "C:\\Users\\emily\\Documents\\DissertationProject\\loadDataForSKtime.py:268: SettingWithCopyWarning: \n",
      "A value is trying to be set on a copy of a slice from a DataFrame.\n",
      "Try using .loc[row_indexer,col_indexer] = value instead\n",
      "\n",
      "See the caveats in the documentation: https://pandas.pydata.org/pandas-docs/stable/user_guide/indexing.html#returning-a-view-versus-a-copy\n",
      "  train_target_df[\"Patient_ID\"] = new_patient_id\n",
      "C:\\Users\\emily\\Documents\\DissertationProject\\loadDataForSKtime.py:269: SettingWithCopyWarning: \n",
      "A value is trying to be set on a copy of a slice from a DataFrame.\n",
      "Try using .loc[row_indexer,col_indexer] = value instead\n",
      "\n",
      "See the caveats in the documentation: https://pandas.pydata.org/pandas-docs/stable/user_guide/indexing.html#returning-a-view-versus-a-copy\n",
      "  train_target_df[\"ICULOS\"] = train_df.index\n",
      "C:\\Users\\emily\\Documents\\DissertationProject\\loadDataForSKtime.py:270: SettingWithCopyWarning: \n",
      "A value is trying to be set on a copy of a slice from a DataFrame.\n",
      "Try using .loc[row_indexer,col_indexer] = value instead\n",
      "\n",
      "See the caveats in the documentation: https://pandas.pydata.org/pandas-docs/stable/user_guide/indexing.html#returning-a-view-versus-a-copy\n",
      "  test_target_df[\"Patient_ID\"] = new_patient_id\n",
      "C:\\Users\\emily\\Documents\\DissertationProject\\loadDataForSKtime.py:271: SettingWithCopyWarning: \n",
      "A value is trying to be set on a copy of a slice from a DataFrame.\n",
      "Try using .loc[row_indexer,col_indexer] = value instead\n",
      "\n",
      "See the caveats in the documentation: https://pandas.pydata.org/pandas-docs/stable/user_guide/indexing.html#returning-a-view-versus-a-copy\n",
      "  test_target_df[\"ICULOS\"] = test_df.index\n",
      "C:\\Users\\emily\\Documents\\DissertationProject\\loadDataForSKtime.py:268: SettingWithCopyWarning: \n",
      "A value is trying to be set on a copy of a slice from a DataFrame.\n",
      "Try using .loc[row_indexer,col_indexer] = value instead\n",
      "\n",
      "See the caveats in the documentation: https://pandas.pydata.org/pandas-docs/stable/user_guide/indexing.html#returning-a-view-versus-a-copy\n",
      "  train_target_df[\"Patient_ID\"] = new_patient_id\n",
      "C:\\Users\\emily\\Documents\\DissertationProject\\loadDataForSKtime.py:269: SettingWithCopyWarning: \n",
      "A value is trying to be set on a copy of a slice from a DataFrame.\n",
      "Try using .loc[row_indexer,col_indexer] = value instead\n",
      "\n",
      "See the caveats in the documentation: https://pandas.pydata.org/pandas-docs/stable/user_guide/indexing.html#returning-a-view-versus-a-copy\n",
      "  train_target_df[\"ICULOS\"] = train_df.index\n",
      "C:\\Users\\emily\\Documents\\DissertationProject\\loadDataForSKtime.py:270: SettingWithCopyWarning: \n",
      "A value is trying to be set on a copy of a slice from a DataFrame.\n",
      "Try using .loc[row_indexer,col_indexer] = value instead\n",
      "\n",
      "See the caveats in the documentation: https://pandas.pydata.org/pandas-docs/stable/user_guide/indexing.html#returning-a-view-versus-a-copy\n",
      "  test_target_df[\"Patient_ID\"] = new_patient_id\n",
      "C:\\Users\\emily\\Documents\\DissertationProject\\loadDataForSKtime.py:271: SettingWithCopyWarning: \n",
      "A value is trying to be set on a copy of a slice from a DataFrame.\n",
      "Try using .loc[row_indexer,col_indexer] = value instead\n",
      "\n",
      "See the caveats in the documentation: https://pandas.pydata.org/pandas-docs/stable/user_guide/indexing.html#returning-a-view-versus-a-copy\n",
      "  test_target_df[\"ICULOS\"] = test_df.index\n",
      "C:\\Users\\emily\\Documents\\DissertationProject\\loadDataForSKtime.py:268: SettingWithCopyWarning: \n",
      "A value is trying to be set on a copy of a slice from a DataFrame.\n",
      "Try using .loc[row_indexer,col_indexer] = value instead\n",
      "\n",
      "See the caveats in the documentation: https://pandas.pydata.org/pandas-docs/stable/user_guide/indexing.html#returning-a-view-versus-a-copy\n",
      "  train_target_df[\"Patient_ID\"] = new_patient_id\n",
      "C:\\Users\\emily\\Documents\\DissertationProject\\loadDataForSKtime.py:269: SettingWithCopyWarning: \n",
      "A value is trying to be set on a copy of a slice from a DataFrame.\n",
      "Try using .loc[row_indexer,col_indexer] = value instead\n",
      "\n",
      "See the caveats in the documentation: https://pandas.pydata.org/pandas-docs/stable/user_guide/indexing.html#returning-a-view-versus-a-copy\n",
      "  train_target_df[\"ICULOS\"] = train_df.index\n",
      "C:\\Users\\emily\\Documents\\DissertationProject\\loadDataForSKtime.py:270: SettingWithCopyWarning: \n",
      "A value is trying to be set on a copy of a slice from a DataFrame.\n",
      "Try using .loc[row_indexer,col_indexer] = value instead\n",
      "\n",
      "See the caveats in the documentation: https://pandas.pydata.org/pandas-docs/stable/user_guide/indexing.html#returning-a-view-versus-a-copy\n",
      "  test_target_df[\"Patient_ID\"] = new_patient_id\n",
      "C:\\Users\\emily\\Documents\\DissertationProject\\loadDataForSKtime.py:271: SettingWithCopyWarning: \n",
      "A value is trying to be set on a copy of a slice from a DataFrame.\n",
      "Try using .loc[row_indexer,col_indexer] = value instead\n",
      "\n",
      "See the caveats in the documentation: https://pandas.pydata.org/pandas-docs/stable/user_guide/indexing.html#returning-a-view-versus-a-copy\n",
      "  test_target_df[\"ICULOS\"] = test_df.index\n",
      "C:\\Users\\emily\\Documents\\DissertationProject\\loadDataForSKtime.py:268: SettingWithCopyWarning: \n",
      "A value is trying to be set on a copy of a slice from a DataFrame.\n",
      "Try using .loc[row_indexer,col_indexer] = value instead\n",
      "\n",
      "See the caveats in the documentation: https://pandas.pydata.org/pandas-docs/stable/user_guide/indexing.html#returning-a-view-versus-a-copy\n",
      "  train_target_df[\"Patient_ID\"] = new_patient_id\n",
      "C:\\Users\\emily\\Documents\\DissertationProject\\loadDataForSKtime.py:269: SettingWithCopyWarning: \n",
      "A value is trying to be set on a copy of a slice from a DataFrame.\n",
      "Try using .loc[row_indexer,col_indexer] = value instead\n",
      "\n",
      "See the caveats in the documentation: https://pandas.pydata.org/pandas-docs/stable/user_guide/indexing.html#returning-a-view-versus-a-copy\n",
      "  train_target_df[\"ICULOS\"] = train_df.index\n",
      "C:\\Users\\emily\\Documents\\DissertationProject\\loadDataForSKtime.py:270: SettingWithCopyWarning: \n",
      "A value is trying to be set on a copy of a slice from a DataFrame.\n",
      "Try using .loc[row_indexer,col_indexer] = value instead\n",
      "\n",
      "See the caveats in the documentation: https://pandas.pydata.org/pandas-docs/stable/user_guide/indexing.html#returning-a-view-versus-a-copy\n",
      "  test_target_df[\"Patient_ID\"] = new_patient_id\n",
      "C:\\Users\\emily\\Documents\\DissertationProject\\loadDataForSKtime.py:271: SettingWithCopyWarning: \n",
      "A value is trying to be set on a copy of a slice from a DataFrame.\n",
      "Try using .loc[row_indexer,col_indexer] = value instead\n",
      "\n",
      "See the caveats in the documentation: https://pandas.pydata.org/pandas-docs/stable/user_guide/indexing.html#returning-a-view-versus-a-copy\n",
      "  test_target_df[\"ICULOS\"] = test_df.index\n",
      "C:\\Users\\emily\\Documents\\DissertationProject\\loadDataForSKtime.py:268: SettingWithCopyWarning: \n",
      "A value is trying to be set on a copy of a slice from a DataFrame.\n",
      "Try using .loc[row_indexer,col_indexer] = value instead\n",
      "\n",
      "See the caveats in the documentation: https://pandas.pydata.org/pandas-docs/stable/user_guide/indexing.html#returning-a-view-versus-a-copy\n",
      "  train_target_df[\"Patient_ID\"] = new_patient_id\n",
      "C:\\Users\\emily\\Documents\\DissertationProject\\loadDataForSKtime.py:269: SettingWithCopyWarning: \n",
      "A value is trying to be set on a copy of a slice from a DataFrame.\n",
      "Try using .loc[row_indexer,col_indexer] = value instead\n",
      "\n",
      "See the caveats in the documentation: https://pandas.pydata.org/pandas-docs/stable/user_guide/indexing.html#returning-a-view-versus-a-copy\n",
      "  train_target_df[\"ICULOS\"] = train_df.index\n",
      "C:\\Users\\emily\\Documents\\DissertationProject\\loadDataForSKtime.py:270: SettingWithCopyWarning: \n",
      "A value is trying to be set on a copy of a slice from a DataFrame.\n",
      "Try using .loc[row_indexer,col_indexer] = value instead\n",
      "\n",
      "See the caveats in the documentation: https://pandas.pydata.org/pandas-docs/stable/user_guide/indexing.html#returning-a-view-versus-a-copy\n",
      "  test_target_df[\"Patient_ID\"] = new_patient_id\n",
      "C:\\Users\\emily\\Documents\\DissertationProject\\loadDataForSKtime.py:271: SettingWithCopyWarning: \n",
      "A value is trying to be set on a copy of a slice from a DataFrame.\n",
      "Try using .loc[row_indexer,col_indexer] = value instead\n",
      "\n",
      "See the caveats in the documentation: https://pandas.pydata.org/pandas-docs/stable/user_guide/indexing.html#returning-a-view-versus-a-copy\n",
      "  test_target_df[\"ICULOS\"] = test_df.index\n"
     ]
    }
   ],
   "source": [
    "import loadDataForSKtime\n",
    "import LSTMmodel2\n",
    "\n",
    "myloader = loadDataForSKtime.PatientTimeSeriesLoader(\n",
    "    \"C:/Users/emily/Documents/DissertationProject/training/training_setA_csv\", ['HR', 'Temp', 'PTT', 'Platelets', 'WBC', 'Glucose'])\n",
    "df = myloader.load_data_LSTM(200)\n",
    "\n",
    "y_train, y_test, X_train, X_test = myloader.properly_split(df, ['HR'], ['Temp', 'PTT', 'Platelets', 'WBC', 'Glucose'])\n"
   ]
  },
  {
   "cell_type": "code",
   "execution_count": 4,
   "outputs": [
    {
     "data": {
      "text/plain": "                      HR\nPatient_ID ICULOS       \n0          0       155.5\n           1       155.5\n           2       146.0\n           3       154.0\n           4       122.0\n...                  ...\n9          22      101.0\n           23       95.5\n           24       97.0\n           25       95.0\n           26       94.0\n\n[270 rows x 1 columns]",
      "text/html": "<div>\n<style scoped>\n    .dataframe tbody tr th:only-of-type {\n        vertical-align: middle;\n    }\n\n    .dataframe tbody tr th {\n        vertical-align: top;\n    }\n\n    .dataframe thead th {\n        text-align: right;\n    }\n</style>\n<table border=\"1\" class=\"dataframe\">\n  <thead>\n    <tr style=\"text-align: right;\">\n      <th></th>\n      <th></th>\n      <th>HR</th>\n    </tr>\n    <tr>\n      <th>Patient_ID</th>\n      <th>ICULOS</th>\n      <th></th>\n    </tr>\n  </thead>\n  <tbody>\n    <tr>\n      <th rowspan=\"5\" valign=\"top\">0</th>\n      <th>0</th>\n      <td>155.5</td>\n    </tr>\n    <tr>\n      <th>1</th>\n      <td>155.5</td>\n    </tr>\n    <tr>\n      <th>2</th>\n      <td>146.0</td>\n    </tr>\n    <tr>\n      <th>3</th>\n      <td>154.0</td>\n    </tr>\n    <tr>\n      <th>4</th>\n      <td>122.0</td>\n    </tr>\n    <tr>\n      <th>...</th>\n      <th>...</th>\n      <td>...</td>\n    </tr>\n    <tr>\n      <th rowspan=\"5\" valign=\"top\">9</th>\n      <th>22</th>\n      <td>101.0</td>\n    </tr>\n    <tr>\n      <th>23</th>\n      <td>95.5</td>\n    </tr>\n    <tr>\n      <th>24</th>\n      <td>97.0</td>\n    </tr>\n    <tr>\n      <th>25</th>\n      <td>95.0</td>\n    </tr>\n    <tr>\n      <th>26</th>\n      <td>94.0</td>\n    </tr>\n  </tbody>\n</table>\n<p>270 rows × 1 columns</p>\n</div>"
     },
     "execution_count": 4,
     "metadata": {},
     "output_type": "execute_result"
    }
   ],
   "source": [
    "y_train.index"
   ],
   "metadata": {
    "collapsed": false,
    "ExecuteTime": {
     "end_time": "2025-04-09T13:28:38.923143600Z",
     "start_time": "2025-04-09T13:28:38.878582600Z"
    }
   },
   "id": "3b54b625f35c792e"
  },
  {
   "cell_type": "code",
   "execution_count": 3,
   "outputs": [
    {
     "data": {
      "text/plain": "                      HR\nPatient_ID ICULOS       \n0          27      117.0\n           28      118.0\n           29      123.0\n1          27       90.0\n           28       96.0\n           29       90.0\n2          27      104.0\n           28      110.0\n           29      110.0\n3          27       81.0\n           28       85.0\n           29       82.0\n4          27      115.0\n           28      114.0\n           29      117.0\n5          27       87.0\n           28       89.0\n           29       89.0\n6          27       69.5\n           28       66.0\n           29       69.0\n7          27       99.0\n           28       99.0\n           29       98.0\n8          27      128.0\n           28      125.0\n           29      119.5\n9          27       93.0\n           28       91.0\n           29       89.0",
      "text/html": "<div>\n<style scoped>\n    .dataframe tbody tr th:only-of-type {\n        vertical-align: middle;\n    }\n\n    .dataframe tbody tr th {\n        vertical-align: top;\n    }\n\n    .dataframe thead th {\n        text-align: right;\n    }\n</style>\n<table border=\"1\" class=\"dataframe\">\n  <thead>\n    <tr style=\"text-align: right;\">\n      <th></th>\n      <th></th>\n      <th>HR</th>\n    </tr>\n    <tr>\n      <th>Patient_ID</th>\n      <th>ICULOS</th>\n      <th></th>\n    </tr>\n  </thead>\n  <tbody>\n    <tr>\n      <th rowspan=\"3\" valign=\"top\">0</th>\n      <th>27</th>\n      <td>117.0</td>\n    </tr>\n    <tr>\n      <th>28</th>\n      <td>118.0</td>\n    </tr>\n    <tr>\n      <th>29</th>\n      <td>123.0</td>\n    </tr>\n    <tr>\n      <th rowspan=\"3\" valign=\"top\">1</th>\n      <th>27</th>\n      <td>90.0</td>\n    </tr>\n    <tr>\n      <th>28</th>\n      <td>96.0</td>\n    </tr>\n    <tr>\n      <th>29</th>\n      <td>90.0</td>\n    </tr>\n    <tr>\n      <th rowspan=\"3\" valign=\"top\">2</th>\n      <th>27</th>\n      <td>104.0</td>\n    </tr>\n    <tr>\n      <th>28</th>\n      <td>110.0</td>\n    </tr>\n    <tr>\n      <th>29</th>\n      <td>110.0</td>\n    </tr>\n    <tr>\n      <th rowspan=\"3\" valign=\"top\">3</th>\n      <th>27</th>\n      <td>81.0</td>\n    </tr>\n    <tr>\n      <th>28</th>\n      <td>85.0</td>\n    </tr>\n    <tr>\n      <th>29</th>\n      <td>82.0</td>\n    </tr>\n    <tr>\n      <th rowspan=\"3\" valign=\"top\">4</th>\n      <th>27</th>\n      <td>115.0</td>\n    </tr>\n    <tr>\n      <th>28</th>\n      <td>114.0</td>\n    </tr>\n    <tr>\n      <th>29</th>\n      <td>117.0</td>\n    </tr>\n    <tr>\n      <th rowspan=\"3\" valign=\"top\">5</th>\n      <th>27</th>\n      <td>87.0</td>\n    </tr>\n    <tr>\n      <th>28</th>\n      <td>89.0</td>\n    </tr>\n    <tr>\n      <th>29</th>\n      <td>89.0</td>\n    </tr>\n    <tr>\n      <th rowspan=\"3\" valign=\"top\">6</th>\n      <th>27</th>\n      <td>69.5</td>\n    </tr>\n    <tr>\n      <th>28</th>\n      <td>66.0</td>\n    </tr>\n    <tr>\n      <th>29</th>\n      <td>69.0</td>\n    </tr>\n    <tr>\n      <th rowspan=\"3\" valign=\"top\">7</th>\n      <th>27</th>\n      <td>99.0</td>\n    </tr>\n    <tr>\n      <th>28</th>\n      <td>99.0</td>\n    </tr>\n    <tr>\n      <th>29</th>\n      <td>98.0</td>\n    </tr>\n    <tr>\n      <th rowspan=\"3\" valign=\"top\">8</th>\n      <th>27</th>\n      <td>128.0</td>\n    </tr>\n    <tr>\n      <th>28</th>\n      <td>125.0</td>\n    </tr>\n    <tr>\n      <th>29</th>\n      <td>119.5</td>\n    </tr>\n    <tr>\n      <th rowspan=\"3\" valign=\"top\">9</th>\n      <th>27</th>\n      <td>93.0</td>\n    </tr>\n    <tr>\n      <th>28</th>\n      <td>91.0</td>\n    </tr>\n    <tr>\n      <th>29</th>\n      <td>89.0</td>\n    </tr>\n  </tbody>\n</table>\n</div>"
     },
     "execution_count": 3,
     "metadata": {},
     "output_type": "execute_result"
    }
   ],
   "source": [
    "y_test"
   ],
   "metadata": {
    "collapsed": false,
    "ExecuteTime": {
     "end_time": "2025-04-09T13:28:28.615965300Z",
     "start_time": "2025-04-09T13:28:28.552201800Z"
    }
   },
   "id": "b0eba692dc18ec23"
  },
  {
   "cell_type": "code",
   "execution_count": 4,
   "outputs": [
    {
     "data": {
      "text/plain": "                    Temp   PTT  Platelets   WBC  Glucose\nPatient_ID ICULOS                                       \n0          0       36.00  46.4       64.0   8.9    123.0\n           1       36.00  46.4       64.0   8.9    123.0\n           2       36.00  46.4       64.0   8.9    123.0\n           3       36.00  40.8      114.0   3.9    117.5\n           4       36.00  40.8      114.0   3.9    102.0\n...                  ...   ...        ...   ...      ...\n1          42      36.22  42.8      126.0  11.4    179.0\n           43      36.22  42.8      126.0  11.4    179.0\n           44      36.22  42.8      126.0  11.4    179.0\n           45      36.22  42.8      126.0  11.4    179.0\n           46      36.22  42.8      126.0  11.4    179.0\n\n[94 rows x 5 columns]",
      "text/html": "<div>\n<style scoped>\n    .dataframe tbody tr th:only-of-type {\n        vertical-align: middle;\n    }\n\n    .dataframe tbody tr th {\n        vertical-align: top;\n    }\n\n    .dataframe thead th {\n        text-align: right;\n    }\n</style>\n<table border=\"1\" class=\"dataframe\">\n  <thead>\n    <tr style=\"text-align: right;\">\n      <th></th>\n      <th></th>\n      <th>Temp</th>\n      <th>PTT</th>\n      <th>Platelets</th>\n      <th>WBC</th>\n      <th>Glucose</th>\n    </tr>\n    <tr>\n      <th>Patient_ID</th>\n      <th>ICULOS</th>\n      <th></th>\n      <th></th>\n      <th></th>\n      <th></th>\n      <th></th>\n    </tr>\n  </thead>\n  <tbody>\n    <tr>\n      <th rowspan=\"5\" valign=\"top\">0</th>\n      <th>0</th>\n      <td>36.00</td>\n      <td>46.4</td>\n      <td>64.0</td>\n      <td>8.9</td>\n      <td>123.0</td>\n    </tr>\n    <tr>\n      <th>1</th>\n      <td>36.00</td>\n      <td>46.4</td>\n      <td>64.0</td>\n      <td>8.9</td>\n      <td>123.0</td>\n    </tr>\n    <tr>\n      <th>2</th>\n      <td>36.00</td>\n      <td>46.4</td>\n      <td>64.0</td>\n      <td>8.9</td>\n      <td>123.0</td>\n    </tr>\n    <tr>\n      <th>3</th>\n      <td>36.00</td>\n      <td>40.8</td>\n      <td>114.0</td>\n      <td>3.9</td>\n      <td>117.5</td>\n    </tr>\n    <tr>\n      <th>4</th>\n      <td>36.00</td>\n      <td>40.8</td>\n      <td>114.0</td>\n      <td>3.9</td>\n      <td>102.0</td>\n    </tr>\n    <tr>\n      <th>...</th>\n      <th>...</th>\n      <td>...</td>\n      <td>...</td>\n      <td>...</td>\n      <td>...</td>\n      <td>...</td>\n    </tr>\n    <tr>\n      <th rowspan=\"5\" valign=\"top\">1</th>\n      <th>42</th>\n      <td>36.22</td>\n      <td>42.8</td>\n      <td>126.0</td>\n      <td>11.4</td>\n      <td>179.0</td>\n    </tr>\n    <tr>\n      <th>43</th>\n      <td>36.22</td>\n      <td>42.8</td>\n      <td>126.0</td>\n      <td>11.4</td>\n      <td>179.0</td>\n    </tr>\n    <tr>\n      <th>44</th>\n      <td>36.22</td>\n      <td>42.8</td>\n      <td>126.0</td>\n      <td>11.4</td>\n      <td>179.0</td>\n    </tr>\n    <tr>\n      <th>45</th>\n      <td>36.22</td>\n      <td>42.8</td>\n      <td>126.0</td>\n      <td>11.4</td>\n      <td>179.0</td>\n    </tr>\n    <tr>\n      <th>46</th>\n      <td>36.22</td>\n      <td>42.8</td>\n      <td>126.0</td>\n      <td>11.4</td>\n      <td>179.0</td>\n    </tr>\n  </tbody>\n</table>\n<p>94 rows × 5 columns</p>\n</div>"
     },
     "execution_count": 4,
     "metadata": {},
     "output_type": "execute_result"
    }
   ],
   "source": [
    "X_train"
   ],
   "metadata": {
    "collapsed": false,
    "ExecuteTime": {
     "end_time": "2025-04-06T14:47:35.498754600Z",
     "start_time": "2025-04-06T14:47:35.409795Z"
    }
   },
   "id": "96f19088bd53aa28"
  },
  {
   "cell_type": "code",
   "execution_count": 5,
   "outputs": [
    {
     "data": {
      "text/plain": "                    Temp   PTT  Platelets   WBC  Glucose\nPatient_ID ICULOS                                       \n0          47      37.33  32.0       93.0  10.9    111.0\n           48      37.33  32.0       93.0  10.9    123.0\n           49      37.61  32.0       93.0  10.9    123.0\n1          47      36.22  42.8      126.0  11.4    179.0\n           48      37.00  42.8      126.0  11.4    179.0\n           49      37.00  42.8      126.0  11.4    179.0",
      "text/html": "<div>\n<style scoped>\n    .dataframe tbody tr th:only-of-type {\n        vertical-align: middle;\n    }\n\n    .dataframe tbody tr th {\n        vertical-align: top;\n    }\n\n    .dataframe thead th {\n        text-align: right;\n    }\n</style>\n<table border=\"1\" class=\"dataframe\">\n  <thead>\n    <tr style=\"text-align: right;\">\n      <th></th>\n      <th></th>\n      <th>Temp</th>\n      <th>PTT</th>\n      <th>Platelets</th>\n      <th>WBC</th>\n      <th>Glucose</th>\n    </tr>\n    <tr>\n      <th>Patient_ID</th>\n      <th>ICULOS</th>\n      <th></th>\n      <th></th>\n      <th></th>\n      <th></th>\n      <th></th>\n    </tr>\n  </thead>\n  <tbody>\n    <tr>\n      <th rowspan=\"3\" valign=\"top\">0</th>\n      <th>47</th>\n      <td>37.33</td>\n      <td>32.0</td>\n      <td>93.0</td>\n      <td>10.9</td>\n      <td>111.0</td>\n    </tr>\n    <tr>\n      <th>48</th>\n      <td>37.33</td>\n      <td>32.0</td>\n      <td>93.0</td>\n      <td>10.9</td>\n      <td>123.0</td>\n    </tr>\n    <tr>\n      <th>49</th>\n      <td>37.61</td>\n      <td>32.0</td>\n      <td>93.0</td>\n      <td>10.9</td>\n      <td>123.0</td>\n    </tr>\n    <tr>\n      <th rowspan=\"3\" valign=\"top\">1</th>\n      <th>47</th>\n      <td>36.22</td>\n      <td>42.8</td>\n      <td>126.0</td>\n      <td>11.4</td>\n      <td>179.0</td>\n    </tr>\n    <tr>\n      <th>48</th>\n      <td>37.00</td>\n      <td>42.8</td>\n      <td>126.0</td>\n      <td>11.4</td>\n      <td>179.0</td>\n    </tr>\n    <tr>\n      <th>49</th>\n      <td>37.00</td>\n      <td>42.8</td>\n      <td>126.0</td>\n      <td>11.4</td>\n      <td>179.0</td>\n    </tr>\n  </tbody>\n</table>\n</div>"
     },
     "execution_count": 5,
     "metadata": {},
     "output_type": "execute_result"
    }
   ],
   "source": [
    "X_test"
   ],
   "metadata": {
    "collapsed": false,
    "ExecuteTime": {
     "end_time": "2025-04-06T14:47:36.200251Z",
     "start_time": "2025-04-06T14:47:36.133061300Z"
    }
   },
   "id": "bdf4e5d5874a6062"
  },
  {
   "cell_type": "code",
   "execution_count": 8,
   "outputs": [],
   "source": [
    "df.index.get_level_values(\"Patient_ID\").unique()"
   ],
   "metadata": {
    "collapsed": false,
    "ExecuteTime": {
     "end_time": "2025-04-09T13:33:31.416163300Z",
     "start_time": "2025-04-09T13:33:31.371769800Z"
    }
   },
   "id": "4b4db30cca27480c"
  },
  {
   "cell_type": "code",
   "execution_count": 2,
   "outputs": [],
   "source": [
    "HR_LSTM = LSTMmodel2.LSTMforecaster2(['HR'], ['Temp', 'PTT', 'Platelets', 'WBC', 'Glucose'], y_train=y_train, y_test=y_test, X_train=X_train, X_test=X_test)"
   ],
   "metadata": {
    "collapsed": false,
    "ExecuteTime": {
     "end_time": "2025-04-09T14:02:56.495185100Z",
     "start_time": "2025-04-09T14:02:51.000601400Z"
    }
   },
   "id": "2f035954f2a0e6b2"
  },
  {
   "cell_type": "code",
   "execution_count": 3,
   "outputs": [
    {
     "name": "stderr",
     "output_type": "stream",
     "text": [
      "C:\\Users\\emily\\Documents\\DissertationProject\\venv_python\\lib\\site-packages\\neuralforecast\\common\\_base_model.py:138: UserWarning: Input size too small. Automatically setting input size to 3 * horizon = 18\n",
      "  warnings.warn(\n",
      "C:\\Users\\emily\\Documents\\DissertationProject\\venv_python\\lib\\site-packages\\neuralforecast\\common\\_base_model.py:146: UserWarning: Inference input size too small. Automatically setting inference input size to input_size = 18\n",
      "  warnings.warn(\n",
      "Seed set to 1\n",
      "C:\\Users\\emily\\Documents\\DissertationProject\\venv_python\\lib\\site-packages\\neuralforecast\\models\\lstm.py:161: UserWarning: context_size is deprecated and will be removed in future versions.\n",
      "  warnings.warn(\n",
      "C:\\Users\\emily\\Documents\\DissertationProject\\venv_python\\lib\\site-packages\\neuralforecast\\common\\_base_model.py:535: UserWarning: val_check_steps is greater than max_steps, setting val_check_steps to max_steps.\n",
      "  warnings.warn(\n",
      "GPU available: False, used: False\n",
      "TPU available: False, using: 0 TPU cores\n",
      "HPU available: False, using: 0 HPUs\n",
      "\n",
      "  | Name         | Type          | Params | Mode \n",
      "-------------------------------------------------------\n",
      "0 | loss         | MAE           | 0      | train\n",
      "1 | padder_train | ConstantPad1d | 0      | train\n",
      "2 | scaler       | TemporalNorm  | 0      | train\n",
      "3 | hist_encoder | LSTM          | 488 K  | train\n",
      "4 | mlp_decoder  | MLP           | 41.4 K | train\n",
      "-------------------------------------------------------\n",
      "529 K     Trainable params\n",
      "0         Non-trainable params\n",
      "529 K     Total params\n",
      "2.118     Total estimated model params size (MB)\n",
      "10        Modules in train mode\n",
      "0         Modules in eval mode\n"
     ]
    },
    {
     "data": {
      "text/plain": "Sanity Checking: |          | 0/? [00:00<?, ?it/s]",
      "application/vnd.jupyter.widget-view+json": {
       "version_major": 2,
       "version_minor": 0,
       "model_id": "03a7679a2d294be6879d734e10253c11"
      }
     },
     "metadata": {},
     "output_type": "display_data"
    },
    {
     "data": {
      "text/plain": "Training: |          | 0/? [00:00<?, ?it/s]",
      "application/vnd.jupyter.widget-view+json": {
       "version_major": 2,
       "version_minor": 0,
       "model_id": "e2bdb7f290a447889520a3f4a9a13a17"
      }
     },
     "metadata": {},
     "output_type": "display_data"
    },
    {
     "data": {
      "text/plain": "Validation: |          | 0/? [00:00<?, ?it/s]",
      "application/vnd.jupyter.widget-view+json": {
       "version_major": 2,
       "version_minor": 0,
       "model_id": "a2fc2a0e652045e0bc8b8199b0dfff4e"
      }
     },
     "metadata": {},
     "output_type": "display_data"
    },
    {
     "name": "stderr",
     "output_type": "stream",
     "text": [
      "`Trainer.fit` stopped: `max_steps=10` reached.\n",
      "C:\\Users\\emily\\Documents\\DissertationProject\\venv_python\\lib\\site-packages\\neuralforecast\\common\\_base_model.py:138: UserWarning: Input size too small. Automatically setting input size to 3 * horizon = 18\n",
      "  warnings.warn(\n",
      "C:\\Users\\emily\\Documents\\DissertationProject\\venv_python\\lib\\site-packages\\neuralforecast\\common\\_base_model.py:146: UserWarning: Inference input size too small. Automatically setting inference input size to input_size = 18\n",
      "  warnings.warn(\n",
      "Seed set to 1\n",
      "C:\\Users\\emily\\Documents\\DissertationProject\\venv_python\\lib\\site-packages\\neuralforecast\\models\\lstm.py:161: UserWarning: context_size is deprecated and will be removed in future versions.\n",
      "  warnings.warn(\n",
      "C:\\Users\\emily\\Documents\\DissertationProject\\venv_python\\lib\\site-packages\\neuralforecast\\common\\_base_model.py:535: UserWarning: val_check_steps is greater than max_steps, setting val_check_steps to max_steps.\n",
      "  warnings.warn(\n",
      "GPU available: False, used: False\n",
      "TPU available: False, using: 0 TPU cores\n",
      "HPU available: False, using: 0 HPUs\n",
      "\n",
      "  | Name         | Type          | Params | Mode \n",
      "-------------------------------------------------------\n",
      "0 | loss         | MAE           | 0      | train\n",
      "1 | padder_train | ConstantPad1d | 0      | train\n",
      "2 | scaler       | TemporalNorm  | 0      | train\n",
      "3 | hist_encoder | LSTM          | 488 K  | train\n",
      "4 | mlp_decoder  | MLP           | 41.4 K | train\n",
      "-------------------------------------------------------\n",
      "529 K     Trainable params\n",
      "0         Non-trainable params\n",
      "529 K     Total params\n",
      "2.118     Total estimated model params size (MB)\n",
      "10        Modules in train mode\n",
      "0         Modules in eval mode\n"
     ]
    },
    {
     "data": {
      "text/plain": "Sanity Checking: |          | 0/? [00:00<?, ?it/s]",
      "application/vnd.jupyter.widget-view+json": {
       "version_major": 2,
       "version_minor": 0,
       "model_id": "aad791e74393443d93943c0a56ab08fa"
      }
     },
     "metadata": {},
     "output_type": "display_data"
    },
    {
     "data": {
      "text/plain": "Training: |          | 0/? [00:00<?, ?it/s]",
      "application/vnd.jupyter.widget-view+json": {
       "version_major": 2,
       "version_minor": 0,
       "model_id": "de593dabd3424c6088ccac488bb94097"
      }
     },
     "metadata": {},
     "output_type": "display_data"
    },
    {
     "data": {
      "text/plain": "Validation: |          | 0/? [00:00<?, ?it/s]",
      "application/vnd.jupyter.widget-view+json": {
       "version_major": 2,
       "version_minor": 0,
       "model_id": "b96e0cc9f88f437f9295fc9b86b51ff9"
      }
     },
     "metadata": {},
     "output_type": "display_data"
    },
    {
     "name": "stderr",
     "output_type": "stream",
     "text": [
      "`Trainer.fit` stopped: `max_steps=10` reached.\n",
      "C:\\Users\\emily\\Documents\\DissertationProject\\venv_python\\lib\\site-packages\\neuralforecast\\common\\_base_model.py:138: UserWarning: Input size too small. Automatically setting input size to 3 * horizon = 18\n",
      "  warnings.warn(\n",
      "C:\\Users\\emily\\Documents\\DissertationProject\\venv_python\\lib\\site-packages\\neuralforecast\\common\\_base_model.py:146: UserWarning: Inference input size too small. Automatically setting inference input size to input_size = 18\n",
      "  warnings.warn(\n",
      "Seed set to 1\n",
      "C:\\Users\\emily\\Documents\\DissertationProject\\venv_python\\lib\\site-packages\\neuralforecast\\models\\lstm.py:161: UserWarning: context_size is deprecated and will be removed in future versions.\n",
      "  warnings.warn(\n",
      "C:\\Users\\emily\\Documents\\DissertationProject\\venv_python\\lib\\site-packages\\neuralforecast\\common\\_base_model.py:535: UserWarning: val_check_steps is greater than max_steps, setting val_check_steps to max_steps.\n",
      "  warnings.warn(\n",
      "GPU available: False, used: False\n",
      "TPU available: False, using: 0 TPU cores\n",
      "HPU available: False, using: 0 HPUs\n",
      "\n",
      "  | Name         | Type          | Params | Mode \n",
      "-------------------------------------------------------\n",
      "0 | loss         | MAE           | 0      | train\n",
      "1 | padder_train | ConstantPad1d | 0      | train\n",
      "2 | scaler       | TemporalNorm  | 0      | train\n",
      "3 | hist_encoder | LSTM          | 488 K  | train\n",
      "4 | mlp_decoder  | MLP           | 41.4 K | train\n",
      "-------------------------------------------------------\n",
      "529 K     Trainable params\n",
      "0         Non-trainable params\n",
      "529 K     Total params\n",
      "2.118     Total estimated model params size (MB)\n",
      "10        Modules in train mode\n",
      "0         Modules in eval mode\n"
     ]
    },
    {
     "data": {
      "text/plain": "Sanity Checking: |          | 0/? [00:00<?, ?it/s]",
      "application/vnd.jupyter.widget-view+json": {
       "version_major": 2,
       "version_minor": 0,
       "model_id": "7f39dbf0c5034ab8b3d09a26a12dcda5"
      }
     },
     "metadata": {},
     "output_type": "display_data"
    },
    {
     "data": {
      "text/plain": "Training: |          | 0/? [00:00<?, ?it/s]",
      "application/vnd.jupyter.widget-view+json": {
       "version_major": 2,
       "version_minor": 0,
       "model_id": "d806f42651db4bfe92aa61b0633479ec"
      }
     },
     "metadata": {},
     "output_type": "display_data"
    },
    {
     "data": {
      "text/plain": "Validation: |          | 0/? [00:00<?, ?it/s]",
      "application/vnd.jupyter.widget-view+json": {
       "version_major": 2,
       "version_minor": 0,
       "model_id": "0715bdf9b82e44be93865227d3fcd1c3"
      }
     },
     "metadata": {},
     "output_type": "display_data"
    },
    {
     "name": "stderr",
     "output_type": "stream",
     "text": [
      "`Trainer.fit` stopped: `max_steps=10` reached.\n",
      "C:\\Users\\emily\\Documents\\DissertationProject\\venv_python\\lib\\site-packages\\neuralforecast\\common\\_base_model.py:138: UserWarning: Input size too small. Automatically setting input size to 3 * horizon = 18\n",
      "  warnings.warn(\n",
      "C:\\Users\\emily\\Documents\\DissertationProject\\venv_python\\lib\\site-packages\\neuralforecast\\common\\_base_model.py:146: UserWarning: Inference input size too small. Automatically setting inference input size to input_size = 18\n",
      "  warnings.warn(\n",
      "Seed set to 1\n",
      "C:\\Users\\emily\\Documents\\DissertationProject\\venv_python\\lib\\site-packages\\neuralforecast\\models\\lstm.py:161: UserWarning: context_size is deprecated and will be removed in future versions.\n",
      "  warnings.warn(\n",
      "C:\\Users\\emily\\Documents\\DissertationProject\\venv_python\\lib\\site-packages\\neuralforecast\\common\\_base_model.py:535: UserWarning: val_check_steps is greater than max_steps, setting val_check_steps to max_steps.\n",
      "  warnings.warn(\n",
      "GPU available: False, used: False\n",
      "TPU available: False, using: 0 TPU cores\n",
      "HPU available: False, using: 0 HPUs\n",
      "\n",
      "  | Name         | Type          | Params | Mode \n",
      "-------------------------------------------------------\n",
      "0 | loss         | MAE           | 0      | train\n",
      "1 | padder_train | ConstantPad1d | 0      | train\n",
      "2 | scaler       | TemporalNorm  | 0      | train\n",
      "3 | hist_encoder | LSTM          | 488 K  | train\n",
      "4 | mlp_decoder  | MLP           | 41.4 K | train\n",
      "-------------------------------------------------------\n",
      "529 K     Trainable params\n",
      "0         Non-trainable params\n",
      "529 K     Total params\n",
      "2.118     Total estimated model params size (MB)\n",
      "10        Modules in train mode\n",
      "0         Modules in eval mode\n"
     ]
    },
    {
     "data": {
      "text/plain": "Sanity Checking: |          | 0/? [00:00<?, ?it/s]",
      "application/vnd.jupyter.widget-view+json": {
       "version_major": 2,
       "version_minor": 0,
       "model_id": "6f04131bf0464bd794d0c87caad27544"
      }
     },
     "metadata": {},
     "output_type": "display_data"
    },
    {
     "data": {
      "text/plain": "Training: |          | 0/? [00:00<?, ?it/s]",
      "application/vnd.jupyter.widget-view+json": {
       "version_major": 2,
       "version_minor": 0,
       "model_id": "a9144f3eb0444dcfbbf3d698670e7f86"
      }
     },
     "metadata": {},
     "output_type": "display_data"
    },
    {
     "data": {
      "text/plain": "Validation: |          | 0/? [00:00<?, ?it/s]",
      "application/vnd.jupyter.widget-view+json": {
       "version_major": 2,
       "version_minor": 0,
       "model_id": "17f6549d15ec4f2ca4cfe4577c7b22c1"
      }
     },
     "metadata": {},
     "output_type": "display_data"
    },
    {
     "name": "stderr",
     "output_type": "stream",
     "text": [
      "`Trainer.fit` stopped: `max_steps=10` reached.\n",
      "C:\\Users\\emily\\Documents\\DissertationProject\\venv_python\\lib\\site-packages\\neuralforecast\\common\\_base_model.py:138: UserWarning: Input size too small. Automatically setting input size to 3 * horizon = 18\n",
      "  warnings.warn(\n",
      "C:\\Users\\emily\\Documents\\DissertationProject\\venv_python\\lib\\site-packages\\neuralforecast\\common\\_base_model.py:146: UserWarning: Inference input size too small. Automatically setting inference input size to input_size = 18\n",
      "  warnings.warn(\n",
      "Seed set to 1\n",
      "C:\\Users\\emily\\Documents\\DissertationProject\\venv_python\\lib\\site-packages\\neuralforecast\\models\\lstm.py:161: UserWarning: context_size is deprecated and will be removed in future versions.\n",
      "  warnings.warn(\n",
      "C:\\Users\\emily\\Documents\\DissertationProject\\venv_python\\lib\\site-packages\\neuralforecast\\common\\_base_model.py:535: UserWarning: val_check_steps is greater than max_steps, setting val_check_steps to max_steps.\n",
      "  warnings.warn(\n",
      "GPU available: False, used: False\n",
      "TPU available: False, using: 0 TPU cores\n",
      "HPU available: False, using: 0 HPUs\n",
      "\n",
      "  | Name         | Type          | Params | Mode \n",
      "-------------------------------------------------------\n",
      "0 | loss         | MAE           | 0      | train\n",
      "1 | padder_train | ConstantPad1d | 0      | train\n",
      "2 | scaler       | TemporalNorm  | 0      | train\n",
      "3 | hist_encoder | LSTM          | 488 K  | train\n",
      "4 | mlp_decoder  | MLP           | 41.4 K | train\n",
      "-------------------------------------------------------\n",
      "529 K     Trainable params\n",
      "0         Non-trainable params\n",
      "529 K     Total params\n",
      "2.118     Total estimated model params size (MB)\n",
      "10        Modules in train mode\n",
      "0         Modules in eval mode\n"
     ]
    },
    {
     "data": {
      "text/plain": "Sanity Checking: |          | 0/? [00:00<?, ?it/s]",
      "application/vnd.jupyter.widget-view+json": {
       "version_major": 2,
       "version_minor": 0,
       "model_id": "14b0b4978ac849be9cfee197033c2b56"
      }
     },
     "metadata": {},
     "output_type": "display_data"
    },
    {
     "data": {
      "text/plain": "Training: |          | 0/? [00:00<?, ?it/s]",
      "application/vnd.jupyter.widget-view+json": {
       "version_major": 2,
       "version_minor": 0,
       "model_id": "d6272e30067749b5a3b7f8e53d928fa3"
      }
     },
     "metadata": {},
     "output_type": "display_data"
    },
    {
     "data": {
      "text/plain": "Validation: |          | 0/? [00:00<?, ?it/s]",
      "application/vnd.jupyter.widget-view+json": {
       "version_major": 2,
       "version_minor": 0,
       "model_id": "19bcf3fdbf3140cbab524b9ec624c85e"
      }
     },
     "metadata": {},
     "output_type": "display_data"
    },
    {
     "name": "stderr",
     "output_type": "stream",
     "text": [
      "`Trainer.fit` stopped: `max_steps=10` reached.\n",
      "C:\\Users\\emily\\Documents\\DissertationProject\\venv_python\\lib\\site-packages\\neuralforecast\\common\\_base_model.py:138: UserWarning: Input size too small. Automatically setting input size to 3 * horizon = 18\n",
      "  warnings.warn(\n",
      "C:\\Users\\emily\\Documents\\DissertationProject\\venv_python\\lib\\site-packages\\neuralforecast\\common\\_base_model.py:146: UserWarning: Inference input size too small. Automatically setting inference input size to input_size = 18\n",
      "  warnings.warn(\n",
      "Seed set to 1\n",
      "C:\\Users\\emily\\Documents\\DissertationProject\\venv_python\\lib\\site-packages\\neuralforecast\\models\\lstm.py:161: UserWarning: context_size is deprecated and will be removed in future versions.\n",
      "  warnings.warn(\n",
      "C:\\Users\\emily\\Documents\\DissertationProject\\venv_python\\lib\\site-packages\\neuralforecast\\common\\_base_model.py:535: UserWarning: val_check_steps is greater than max_steps, setting val_check_steps to max_steps.\n",
      "  warnings.warn(\n",
      "GPU available: False, used: False\n",
      "TPU available: False, using: 0 TPU cores\n",
      "HPU available: False, using: 0 HPUs\n",
      "\n",
      "  | Name         | Type          | Params | Mode \n",
      "-------------------------------------------------------\n",
      "0 | loss         | MAE           | 0      | train\n",
      "1 | padder_train | ConstantPad1d | 0      | train\n",
      "2 | scaler       | TemporalNorm  | 0      | train\n",
      "3 | hist_encoder | LSTM          | 488 K  | train\n",
      "4 | mlp_decoder  | MLP           | 41.4 K | train\n",
      "-------------------------------------------------------\n",
      "529 K     Trainable params\n",
      "0         Non-trainable params\n",
      "529 K     Total params\n",
      "2.118     Total estimated model params size (MB)\n",
      "10        Modules in train mode\n",
      "0         Modules in eval mode\n"
     ]
    },
    {
     "data": {
      "text/plain": "Sanity Checking: |          | 0/? [00:00<?, ?it/s]",
      "application/vnd.jupyter.widget-view+json": {
       "version_major": 2,
       "version_minor": 0,
       "model_id": "5f94f89961aa4e0c85b59222fafdca46"
      }
     },
     "metadata": {},
     "output_type": "display_data"
    },
    {
     "data": {
      "text/plain": "Training: |          | 0/? [00:00<?, ?it/s]",
      "application/vnd.jupyter.widget-view+json": {
       "version_major": 2,
       "version_minor": 0,
       "model_id": "a2f9c76f852e4dad99b190506bbd743a"
      }
     },
     "metadata": {},
     "output_type": "display_data"
    },
    {
     "data": {
      "text/plain": "Validation: |          | 0/? [00:00<?, ?it/s]",
      "application/vnd.jupyter.widget-view+json": {
       "version_major": 2,
       "version_minor": 0,
       "model_id": "a805a417d55c4cc2848d1487a317cb9a"
      }
     },
     "metadata": {},
     "output_type": "display_data"
    },
    {
     "name": "stderr",
     "output_type": "stream",
     "text": [
      "`Trainer.fit` stopped: `max_steps=10` reached.\n",
      "C:\\Users\\emily\\Documents\\DissertationProject\\venv_python\\lib\\site-packages\\neuralforecast\\common\\_base_model.py:138: UserWarning: Input size too small. Automatically setting input size to 3 * horizon = 18\n",
      "  warnings.warn(\n",
      "C:\\Users\\emily\\Documents\\DissertationProject\\venv_python\\lib\\site-packages\\neuralforecast\\common\\_base_model.py:146: UserWarning: Inference input size too small. Automatically setting inference input size to input_size = 18\n",
      "  warnings.warn(\n",
      "Seed set to 1\n",
      "C:\\Users\\emily\\Documents\\DissertationProject\\venv_python\\lib\\site-packages\\neuralforecast\\models\\lstm.py:161: UserWarning: context_size is deprecated and will be removed in future versions.\n",
      "  warnings.warn(\n",
      "C:\\Users\\emily\\Documents\\DissertationProject\\venv_python\\lib\\site-packages\\neuralforecast\\common\\_base_model.py:535: UserWarning: val_check_steps is greater than max_steps, setting val_check_steps to max_steps.\n",
      "  warnings.warn(\n",
      "GPU available: False, used: False\n",
      "TPU available: False, using: 0 TPU cores\n",
      "HPU available: False, using: 0 HPUs\n",
      "\n",
      "  | Name         | Type          | Params | Mode \n",
      "-------------------------------------------------------\n",
      "0 | loss         | MAE           | 0      | train\n",
      "1 | padder_train | ConstantPad1d | 0      | train\n",
      "2 | scaler       | TemporalNorm  | 0      | train\n",
      "3 | hist_encoder | LSTM          | 488 K  | train\n",
      "4 | mlp_decoder  | MLP           | 41.4 K | train\n",
      "-------------------------------------------------------\n",
      "529 K     Trainable params\n",
      "0         Non-trainable params\n",
      "529 K     Total params\n",
      "2.118     Total estimated model params size (MB)\n",
      "10        Modules in train mode\n",
      "0         Modules in eval mode\n"
     ]
    },
    {
     "data": {
      "text/plain": "Sanity Checking: |          | 0/? [00:00<?, ?it/s]",
      "application/vnd.jupyter.widget-view+json": {
       "version_major": 2,
       "version_minor": 0,
       "model_id": "4a6dd1f6ef674eec8e13f19e780d58a3"
      }
     },
     "metadata": {},
     "output_type": "display_data"
    },
    {
     "data": {
      "text/plain": "Training: |          | 0/? [00:00<?, ?it/s]",
      "application/vnd.jupyter.widget-view+json": {
       "version_major": 2,
       "version_minor": 0,
       "model_id": "2e7db4ca14384d97a7c7835b1f6377f1"
      }
     },
     "metadata": {},
     "output_type": "display_data"
    },
    {
     "data": {
      "text/plain": "Validation: |          | 0/? [00:00<?, ?it/s]",
      "application/vnd.jupyter.widget-view+json": {
       "version_major": 2,
       "version_minor": 0,
       "model_id": "e9d82a5c024c487abce0a28a8aa66082"
      }
     },
     "metadata": {},
     "output_type": "display_data"
    },
    {
     "name": "stderr",
     "output_type": "stream",
     "text": [
      "`Trainer.fit` stopped: `max_steps=10` reached.\n",
      "C:\\Users\\emily\\Documents\\DissertationProject\\venv_python\\lib\\site-packages\\neuralforecast\\common\\_base_model.py:138: UserWarning: Input size too small. Automatically setting input size to 3 * horizon = 18\n",
      "  warnings.warn(\n",
      "C:\\Users\\emily\\Documents\\DissertationProject\\venv_python\\lib\\site-packages\\neuralforecast\\common\\_base_model.py:146: UserWarning: Inference input size too small. Automatically setting inference input size to input_size = 18\n",
      "  warnings.warn(\n",
      "Seed set to 1\n",
      "C:\\Users\\emily\\Documents\\DissertationProject\\venv_python\\lib\\site-packages\\neuralforecast\\models\\lstm.py:161: UserWarning: context_size is deprecated and will be removed in future versions.\n",
      "  warnings.warn(\n",
      "C:\\Users\\emily\\Documents\\DissertationProject\\venv_python\\lib\\site-packages\\neuralforecast\\common\\_base_model.py:535: UserWarning: val_check_steps is greater than max_steps, setting val_check_steps to max_steps.\n",
      "  warnings.warn(\n",
      "GPU available: False, used: False\n",
      "TPU available: False, using: 0 TPU cores\n",
      "HPU available: False, using: 0 HPUs\n",
      "\n",
      "  | Name         | Type          | Params | Mode \n",
      "-------------------------------------------------------\n",
      "0 | loss         | MAE           | 0      | train\n",
      "1 | padder_train | ConstantPad1d | 0      | train\n",
      "2 | scaler       | TemporalNorm  | 0      | train\n",
      "3 | hist_encoder | LSTM          | 488 K  | train\n",
      "4 | mlp_decoder  | MLP           | 41.4 K | train\n",
      "-------------------------------------------------------\n",
      "529 K     Trainable params\n",
      "0         Non-trainable params\n",
      "529 K     Total params\n",
      "2.118     Total estimated model params size (MB)\n",
      "10        Modules in train mode\n",
      "0         Modules in eval mode\n"
     ]
    },
    {
     "data": {
      "text/plain": "Sanity Checking: |          | 0/? [00:00<?, ?it/s]",
      "application/vnd.jupyter.widget-view+json": {
       "version_major": 2,
       "version_minor": 0,
       "model_id": "e464a231c47c4551b4657e44185bc347"
      }
     },
     "metadata": {},
     "output_type": "display_data"
    },
    {
     "data": {
      "text/plain": "Training: |          | 0/? [00:00<?, ?it/s]",
      "application/vnd.jupyter.widget-view+json": {
       "version_major": 2,
       "version_minor": 0,
       "model_id": "d29163001b52428f879b2cd9a81ab191"
      }
     },
     "metadata": {},
     "output_type": "display_data"
    },
    {
     "data": {
      "text/plain": "Validation: |          | 0/? [00:00<?, ?it/s]",
      "application/vnd.jupyter.widget-view+json": {
       "version_major": 2,
       "version_minor": 0,
       "model_id": "fbf7756cf0924167a5f5a06e1e1697de"
      }
     },
     "metadata": {},
     "output_type": "display_data"
    },
    {
     "name": "stderr",
     "output_type": "stream",
     "text": [
      "`Trainer.fit` stopped: `max_steps=10` reached.\n",
      "C:\\Users\\emily\\Documents\\DissertationProject\\venv_python\\lib\\site-packages\\neuralforecast\\common\\_base_model.py:138: UserWarning: Input size too small. Automatically setting input size to 3 * horizon = 18\n",
      "  warnings.warn(\n",
      "C:\\Users\\emily\\Documents\\DissertationProject\\venv_python\\lib\\site-packages\\neuralforecast\\common\\_base_model.py:146: UserWarning: Inference input size too small. Automatically setting inference input size to input_size = 18\n",
      "  warnings.warn(\n",
      "Seed set to 1\n",
      "C:\\Users\\emily\\Documents\\DissertationProject\\venv_python\\lib\\site-packages\\neuralforecast\\models\\lstm.py:161: UserWarning: context_size is deprecated and will be removed in future versions.\n",
      "  warnings.warn(\n",
      "C:\\Users\\emily\\Documents\\DissertationProject\\venv_python\\lib\\site-packages\\neuralforecast\\common\\_base_model.py:535: UserWarning: val_check_steps is greater than max_steps, setting val_check_steps to max_steps.\n",
      "  warnings.warn(\n",
      "GPU available: False, used: False\n",
      "TPU available: False, using: 0 TPU cores\n",
      "HPU available: False, using: 0 HPUs\n",
      "\n",
      "  | Name         | Type          | Params | Mode \n",
      "-------------------------------------------------------\n",
      "0 | loss         | MAE           | 0      | train\n",
      "1 | padder_train | ConstantPad1d | 0      | train\n",
      "2 | scaler       | TemporalNorm  | 0      | train\n",
      "3 | hist_encoder | LSTM          | 488 K  | train\n",
      "4 | mlp_decoder  | MLP           | 41.4 K | train\n",
      "-------------------------------------------------------\n",
      "529 K     Trainable params\n",
      "0         Non-trainable params\n",
      "529 K     Total params\n",
      "2.118     Total estimated model params size (MB)\n",
      "10        Modules in train mode\n",
      "0         Modules in eval mode\n"
     ]
    },
    {
     "data": {
      "text/plain": "Sanity Checking: |          | 0/? [00:00<?, ?it/s]",
      "application/vnd.jupyter.widget-view+json": {
       "version_major": 2,
       "version_minor": 0,
       "model_id": "37c7bdc88fd04076b95535d657b52fd0"
      }
     },
     "metadata": {},
     "output_type": "display_data"
    },
    {
     "data": {
      "text/plain": "Training: |          | 0/? [00:00<?, ?it/s]",
      "application/vnd.jupyter.widget-view+json": {
       "version_major": 2,
       "version_minor": 0,
       "model_id": "37b7b61a339849a6bdf1ccac5e1f432e"
      }
     },
     "metadata": {},
     "output_type": "display_data"
    },
    {
     "data": {
      "text/plain": "Validation: |          | 0/? [00:00<?, ?it/s]",
      "application/vnd.jupyter.widget-view+json": {
       "version_major": 2,
       "version_minor": 0,
       "model_id": "2e7e124aa7194bdaa2bdac06867b7f52"
      }
     },
     "metadata": {},
     "output_type": "display_data"
    },
    {
     "name": "stderr",
     "output_type": "stream",
     "text": [
      "`Trainer.fit` stopped: `max_steps=10` reached.\n",
      "C:\\Users\\emily\\Documents\\DissertationProject\\venv_python\\lib\\site-packages\\neuralforecast\\common\\_base_model.py:138: UserWarning: Input size too small. Automatically setting input size to 3 * horizon = 18\n",
      "  warnings.warn(\n",
      "C:\\Users\\emily\\Documents\\DissertationProject\\venv_python\\lib\\site-packages\\neuralforecast\\common\\_base_model.py:146: UserWarning: Inference input size too small. Automatically setting inference input size to input_size = 18\n",
      "  warnings.warn(\n",
      "Seed set to 1\n",
      "C:\\Users\\emily\\Documents\\DissertationProject\\venv_python\\lib\\site-packages\\neuralforecast\\models\\lstm.py:161: UserWarning: context_size is deprecated and will be removed in future versions.\n",
      "  warnings.warn(\n",
      "C:\\Users\\emily\\Documents\\DissertationProject\\venv_python\\lib\\site-packages\\neuralforecast\\common\\_base_model.py:535: UserWarning: val_check_steps is greater than max_steps, setting val_check_steps to max_steps.\n",
      "  warnings.warn(\n",
      "GPU available: False, used: False\n",
      "TPU available: False, using: 0 TPU cores\n",
      "HPU available: False, using: 0 HPUs\n",
      "\n",
      "  | Name         | Type          | Params | Mode \n",
      "-------------------------------------------------------\n",
      "0 | loss         | MAE           | 0      | train\n",
      "1 | padder_train | ConstantPad1d | 0      | train\n",
      "2 | scaler       | TemporalNorm  | 0      | train\n",
      "3 | hist_encoder | LSTM          | 488 K  | train\n",
      "4 | mlp_decoder  | MLP           | 41.4 K | train\n",
      "-------------------------------------------------------\n",
      "529 K     Trainable params\n",
      "0         Non-trainable params\n",
      "529 K     Total params\n",
      "2.118     Total estimated model params size (MB)\n",
      "10        Modules in train mode\n",
      "0         Modules in eval mode\n"
     ]
    },
    {
     "data": {
      "text/plain": "Sanity Checking: |          | 0/? [00:00<?, ?it/s]",
      "application/vnd.jupyter.widget-view+json": {
       "version_major": 2,
       "version_minor": 0,
       "model_id": "729f89d646bd4877bbde2469ce20310a"
      }
     },
     "metadata": {},
     "output_type": "display_data"
    },
    {
     "data": {
      "text/plain": "Training: |          | 0/? [00:00<?, ?it/s]",
      "application/vnd.jupyter.widget-view+json": {
       "version_major": 2,
       "version_minor": 0,
       "model_id": "e191cb44394e44ac97ea91f8deb20121"
      }
     },
     "metadata": {},
     "output_type": "display_data"
    },
    {
     "data": {
      "text/plain": "Validation: |          | 0/? [00:00<?, ?it/s]",
      "application/vnd.jupyter.widget-view+json": {
       "version_major": 2,
       "version_minor": 0,
       "model_id": "35e77a2da03a419dad49168f0ba756a5"
      }
     },
     "metadata": {},
     "output_type": "display_data"
    },
    {
     "name": "stderr",
     "output_type": "stream",
     "text": [
      "`Trainer.fit` stopped: `max_steps=10` reached.\n"
     ]
    }
   ],
   "source": [
    "HR_LSTM.fit()"
   ],
   "metadata": {
    "collapsed": false,
    "ExecuteTime": {
     "end_time": "2025-04-09T14:03:47.717262Z",
     "start_time": "2025-04-09T14:03:32.442924900Z"
    }
   },
   "id": "9ede85c8c1809c4"
  },
  {
   "cell_type": "code",
   "execution_count": 4,
   "outputs": [
    {
     "name": "stderr",
     "output_type": "stream",
     "text": [
      "GPU available: False, used: False\n",
      "TPU available: False, using: 0 TPU cores\n",
      "HPU available: False, using: 0 HPUs\n"
     ]
    },
    {
     "name": "stdout",
     "output_type": "stream",
     "text": [
      "Model is fitted. Generating forecasts...\n"
     ]
    },
    {
     "data": {
      "text/plain": "Predicting: |          | 0/? [00:00<?, ?it/s]",
      "application/vnd.jupyter.widget-view+json": {
       "version_major": 2,
       "version_minor": 0,
       "model_id": "ff8239ca8106474f8e0a05f72096e6fb"
      }
     },
     "metadata": {},
     "output_type": "display_data"
    },
    {
     "name": "stderr",
     "output_type": "stream",
     "text": [
      "GPU available: False, used: False\n",
      "TPU available: False, using: 0 TPU cores\n",
      "HPU available: False, using: 0 HPUs\n"
     ]
    },
    {
     "data": {
      "text/plain": "Predicting: |          | 0/? [00:00<?, ?it/s]",
      "application/vnd.jupyter.widget-view+json": {
       "version_major": 2,
       "version_minor": 0,
       "model_id": "42c2070670634a5690abeba8850cee1b"
      }
     },
     "metadata": {},
     "output_type": "display_data"
    },
    {
     "name": "stderr",
     "output_type": "stream",
     "text": [
      "GPU available: False, used: False\n",
      "TPU available: False, using: 0 TPU cores\n",
      "HPU available: False, using: 0 HPUs\n"
     ]
    },
    {
     "data": {
      "text/plain": "Predicting: |          | 0/? [00:00<?, ?it/s]",
      "application/vnd.jupyter.widget-view+json": {
       "version_major": 2,
       "version_minor": 0,
       "model_id": "4cff2fe12c364aa7a3fe23c6f1b59bd7"
      }
     },
     "metadata": {},
     "output_type": "display_data"
    },
    {
     "name": "stderr",
     "output_type": "stream",
     "text": [
      "GPU available: False, used: False\n",
      "TPU available: False, using: 0 TPU cores\n",
      "HPU available: False, using: 0 HPUs\n"
     ]
    },
    {
     "data": {
      "text/plain": "Predicting: |          | 0/? [00:00<?, ?it/s]",
      "application/vnd.jupyter.widget-view+json": {
       "version_major": 2,
       "version_minor": 0,
       "model_id": "9723218848d04882b6a4c80ec29d11c2"
      }
     },
     "metadata": {},
     "output_type": "display_data"
    },
    {
     "name": "stderr",
     "output_type": "stream",
     "text": [
      "GPU available: False, used: False\n",
      "TPU available: False, using: 0 TPU cores\n",
      "HPU available: False, using: 0 HPUs\n"
     ]
    },
    {
     "data": {
      "text/plain": "Predicting: |          | 0/? [00:00<?, ?it/s]",
      "application/vnd.jupyter.widget-view+json": {
       "version_major": 2,
       "version_minor": 0,
       "model_id": "d995b45f0b934b468103092bbff5a682"
      }
     },
     "metadata": {},
     "output_type": "display_data"
    },
    {
     "name": "stderr",
     "output_type": "stream",
     "text": [
      "GPU available: False, used: False\n",
      "TPU available: False, using: 0 TPU cores\n",
      "HPU available: False, using: 0 HPUs\n"
     ]
    },
    {
     "data": {
      "text/plain": "Predicting: |          | 0/? [00:00<?, ?it/s]",
      "application/vnd.jupyter.widget-view+json": {
       "version_major": 2,
       "version_minor": 0,
       "model_id": "51208d0b3d624e7cbf1304a3a8e87741"
      }
     },
     "metadata": {},
     "output_type": "display_data"
    },
    {
     "name": "stderr",
     "output_type": "stream",
     "text": [
      "GPU available: False, used: False\n",
      "TPU available: False, using: 0 TPU cores\n",
      "HPU available: False, using: 0 HPUs\n"
     ]
    },
    {
     "data": {
      "text/plain": "Predicting: |          | 0/? [00:00<?, ?it/s]",
      "application/vnd.jupyter.widget-view+json": {
       "version_major": 2,
       "version_minor": 0,
       "model_id": "ade54c18059a43aea8dc6fb03201fa0d"
      }
     },
     "metadata": {},
     "output_type": "display_data"
    },
    {
     "name": "stderr",
     "output_type": "stream",
     "text": [
      "GPU available: False, used: False\n",
      "TPU available: False, using: 0 TPU cores\n",
      "HPU available: False, using: 0 HPUs\n"
     ]
    },
    {
     "data": {
      "text/plain": "Predicting: |          | 0/? [00:00<?, ?it/s]",
      "application/vnd.jupyter.widget-view+json": {
       "version_major": 2,
       "version_minor": 0,
       "model_id": "69a5fb3076194e3bb3ad25c5a4533edf"
      }
     },
     "metadata": {},
     "output_type": "display_data"
    },
    {
     "name": "stderr",
     "output_type": "stream",
     "text": [
      "GPU available: False, used: False\n",
      "TPU available: False, using: 0 TPU cores\n",
      "HPU available: False, using: 0 HPUs\n"
     ]
    },
    {
     "data": {
      "text/plain": "Predicting: |          | 0/? [00:00<?, ?it/s]",
      "application/vnd.jupyter.widget-view+json": {
       "version_major": 2,
       "version_minor": 0,
       "model_id": "db1bd3ba752c4e2299b01c605f43dc36"
      }
     },
     "metadata": {},
     "output_type": "display_data"
    },
    {
     "name": "stderr",
     "output_type": "stream",
     "text": [
      "GPU available: False, used: False\n",
      "TPU available: False, using: 0 TPU cores\n",
      "HPU available: False, using: 0 HPUs\n"
     ]
    },
    {
     "data": {
      "text/plain": "Predicting: |          | 0/? [00:00<?, ?it/s]",
      "application/vnd.jupyter.widget-view+json": {
       "version_major": 2,
       "version_minor": 0,
       "model_id": "59e3f999b31c4f0e91738c5063e3980e"
      }
     },
     "metadata": {},
     "output_type": "display_data"
    }
   ],
   "source": [
    "forecasts = HR_LSTM.predict()"
   ],
   "metadata": {
    "collapsed": false,
    "ExecuteTime": {
     "end_time": "2025-04-09T14:04:03.850523300Z",
     "start_time": "2025-04-09T14:04:02.140386100Z"
    }
   },
   "id": "d2dfed1aab8e9ab9"
  },
  {
   "cell_type": "code",
   "execution_count": 5,
   "outputs": [
    {
     "data": {
      "text/plain": "                           HR\nPatient_ID ICULOS            \n0          24      123.354469\n           25      123.946075\n           26      124.919571\n           27      125.021011\n           28      124.930595\n           29      124.748375\n1          24       93.483299\n           25       93.198624\n           26       92.833031\n           27       92.412392\n           28       92.113220\n           29       91.875076\n2          24       94.379860\n           25       94.182259\n           26       93.545326\n           27       93.231232\n           28       92.888466\n           29       92.564087\n3          24       99.794487\n           25       99.301300\n           26       99.042229\n           27      101.035378\n           28      101.180641\n           29      101.414505\n4          24      116.667320\n           25      116.465141\n           26      116.367226\n           27      116.399994\n           28      116.370750\n           29      116.449875\n5          24       90.737984\n           25       90.771400\n           26       90.713806\n           27       90.652489\n           28       90.605446\n           29       90.540001\n6          24       82.173973\n           25       80.961975\n           26       79.217552\n           27       78.610512\n           28       77.612389\n           29       77.137970\n7          24       96.897926\n           25       97.227608\n           26       97.199089\n           27       97.079079\n           28       96.941719\n           29       96.339287\n8          24      101.743851\n           25       98.344765\n           26       95.440735\n           27       93.663063\n           28       92.426285\n           29       89.815865\n9          24       70.179016\n           25       70.350784\n           26       70.409782\n           27       70.390488\n           28       70.241386\n           29       70.123016",
      "text/html": "<div>\n<style scoped>\n    .dataframe tbody tr th:only-of-type {\n        vertical-align: middle;\n    }\n\n    .dataframe tbody tr th {\n        vertical-align: top;\n    }\n\n    .dataframe thead th {\n        text-align: right;\n    }\n</style>\n<table border=\"1\" class=\"dataframe\">\n  <thead>\n    <tr style=\"text-align: right;\">\n      <th></th>\n      <th></th>\n      <th>HR</th>\n    </tr>\n    <tr>\n      <th>Patient_ID</th>\n      <th>ICULOS</th>\n      <th></th>\n    </tr>\n  </thead>\n  <tbody>\n    <tr>\n      <th rowspan=\"6\" valign=\"top\">0</th>\n      <th>24</th>\n      <td>123.354469</td>\n    </tr>\n    <tr>\n      <th>25</th>\n      <td>123.946075</td>\n    </tr>\n    <tr>\n      <th>26</th>\n      <td>124.919571</td>\n    </tr>\n    <tr>\n      <th>27</th>\n      <td>125.021011</td>\n    </tr>\n    <tr>\n      <th>28</th>\n      <td>124.930595</td>\n    </tr>\n    <tr>\n      <th>29</th>\n      <td>124.748375</td>\n    </tr>\n    <tr>\n      <th rowspan=\"6\" valign=\"top\">1</th>\n      <th>24</th>\n      <td>93.483299</td>\n    </tr>\n    <tr>\n      <th>25</th>\n      <td>93.198624</td>\n    </tr>\n    <tr>\n      <th>26</th>\n      <td>92.833031</td>\n    </tr>\n    <tr>\n      <th>27</th>\n      <td>92.412392</td>\n    </tr>\n    <tr>\n      <th>28</th>\n      <td>92.113220</td>\n    </tr>\n    <tr>\n      <th>29</th>\n      <td>91.875076</td>\n    </tr>\n    <tr>\n      <th rowspan=\"6\" valign=\"top\">2</th>\n      <th>24</th>\n      <td>94.379860</td>\n    </tr>\n    <tr>\n      <th>25</th>\n      <td>94.182259</td>\n    </tr>\n    <tr>\n      <th>26</th>\n      <td>93.545326</td>\n    </tr>\n    <tr>\n      <th>27</th>\n      <td>93.231232</td>\n    </tr>\n    <tr>\n      <th>28</th>\n      <td>92.888466</td>\n    </tr>\n    <tr>\n      <th>29</th>\n      <td>92.564087</td>\n    </tr>\n    <tr>\n      <th rowspan=\"6\" valign=\"top\">3</th>\n      <th>24</th>\n      <td>99.794487</td>\n    </tr>\n    <tr>\n      <th>25</th>\n      <td>99.301300</td>\n    </tr>\n    <tr>\n      <th>26</th>\n      <td>99.042229</td>\n    </tr>\n    <tr>\n      <th>27</th>\n      <td>101.035378</td>\n    </tr>\n    <tr>\n      <th>28</th>\n      <td>101.180641</td>\n    </tr>\n    <tr>\n      <th>29</th>\n      <td>101.414505</td>\n    </tr>\n    <tr>\n      <th rowspan=\"6\" valign=\"top\">4</th>\n      <th>24</th>\n      <td>116.667320</td>\n    </tr>\n    <tr>\n      <th>25</th>\n      <td>116.465141</td>\n    </tr>\n    <tr>\n      <th>26</th>\n      <td>116.367226</td>\n    </tr>\n    <tr>\n      <th>27</th>\n      <td>116.399994</td>\n    </tr>\n    <tr>\n      <th>28</th>\n      <td>116.370750</td>\n    </tr>\n    <tr>\n      <th>29</th>\n      <td>116.449875</td>\n    </tr>\n    <tr>\n      <th rowspan=\"6\" valign=\"top\">5</th>\n      <th>24</th>\n      <td>90.737984</td>\n    </tr>\n    <tr>\n      <th>25</th>\n      <td>90.771400</td>\n    </tr>\n    <tr>\n      <th>26</th>\n      <td>90.713806</td>\n    </tr>\n    <tr>\n      <th>27</th>\n      <td>90.652489</td>\n    </tr>\n    <tr>\n      <th>28</th>\n      <td>90.605446</td>\n    </tr>\n    <tr>\n      <th>29</th>\n      <td>90.540001</td>\n    </tr>\n    <tr>\n      <th rowspan=\"6\" valign=\"top\">6</th>\n      <th>24</th>\n      <td>82.173973</td>\n    </tr>\n    <tr>\n      <th>25</th>\n      <td>80.961975</td>\n    </tr>\n    <tr>\n      <th>26</th>\n      <td>79.217552</td>\n    </tr>\n    <tr>\n      <th>27</th>\n      <td>78.610512</td>\n    </tr>\n    <tr>\n      <th>28</th>\n      <td>77.612389</td>\n    </tr>\n    <tr>\n      <th>29</th>\n      <td>77.137970</td>\n    </tr>\n    <tr>\n      <th rowspan=\"6\" valign=\"top\">7</th>\n      <th>24</th>\n      <td>96.897926</td>\n    </tr>\n    <tr>\n      <th>25</th>\n      <td>97.227608</td>\n    </tr>\n    <tr>\n      <th>26</th>\n      <td>97.199089</td>\n    </tr>\n    <tr>\n      <th>27</th>\n      <td>97.079079</td>\n    </tr>\n    <tr>\n      <th>28</th>\n      <td>96.941719</td>\n    </tr>\n    <tr>\n      <th>29</th>\n      <td>96.339287</td>\n    </tr>\n    <tr>\n      <th rowspan=\"6\" valign=\"top\">8</th>\n      <th>24</th>\n      <td>101.743851</td>\n    </tr>\n    <tr>\n      <th>25</th>\n      <td>98.344765</td>\n    </tr>\n    <tr>\n      <th>26</th>\n      <td>95.440735</td>\n    </tr>\n    <tr>\n      <th>27</th>\n      <td>93.663063</td>\n    </tr>\n    <tr>\n      <th>28</th>\n      <td>92.426285</td>\n    </tr>\n    <tr>\n      <th>29</th>\n      <td>89.815865</td>\n    </tr>\n    <tr>\n      <th rowspan=\"6\" valign=\"top\">9</th>\n      <th>24</th>\n      <td>70.179016</td>\n    </tr>\n    <tr>\n      <th>25</th>\n      <td>70.350784</td>\n    </tr>\n    <tr>\n      <th>26</th>\n      <td>70.409782</td>\n    </tr>\n    <tr>\n      <th>27</th>\n      <td>70.390488</td>\n    </tr>\n    <tr>\n      <th>28</th>\n      <td>70.241386</td>\n    </tr>\n    <tr>\n      <th>29</th>\n      <td>70.123016</td>\n    </tr>\n  </tbody>\n</table>\n</div>"
     },
     "execution_count": 5,
     "metadata": {},
     "output_type": "execute_result"
    }
   ],
   "source": [
    "forecasts"
   ],
   "metadata": {
    "collapsed": false,
    "ExecuteTime": {
     "end_time": "2025-04-09T14:04:44.190261700Z",
     "start_time": "2025-04-09T14:04:44.129714800Z"
    }
   },
   "id": "7a2d199f311cf128"
  },
  {
   "cell_type": "code",
   "execution_count": null,
   "outputs": [],
   "source": [],
   "metadata": {
    "collapsed": false
   },
   "id": "e906364bfdc82496"
  }
 ],
 "metadata": {
  "kernelspec": {
   "display_name": "Python 3",
   "language": "python",
   "name": "python3"
  },
  "language_info": {
   "codemirror_mode": {
    "name": "ipython",
    "version": 2
   },
   "file_extension": ".py",
   "mimetype": "text/x-python",
   "name": "python",
   "nbconvert_exporter": "python",
   "pygments_lexer": "ipython2",
   "version": "2.7.6"
  }
 },
 "nbformat": 4,
 "nbformat_minor": 5
}
