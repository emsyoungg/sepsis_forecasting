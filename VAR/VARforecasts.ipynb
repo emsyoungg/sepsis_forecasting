{
 "cells": [
  {
   "cell_type": "code",
   "execution_count": 42,
   "id": "initial_id",
   "metadata": {
    "collapsed": true,
    "ExecuteTime": {
     "end_time": "2025-04-18T13:35:25.158440600Z",
     "start_time": "2025-04-18T13:35:25.114717400Z"
    }
   },
   "outputs": [],
   "source": [
    "import preprocessors"
   ]
  },
  {
   "cell_type": "code",
   "execution_count": 35,
   "outputs": [
    {
     "name": "stdout",
     "output_type": "stream",
     "text": [
      "Patient 0: Dropping — constant columns found\n",
      "Patient 1: Less than 30 time points — skipping.\n",
      "Patient 3: Less than 30 time points — skipping.\n",
      "Patient 4: Dropping — constant columns found\n",
      "Patient 5: Less than 30 time points — skipping.\n",
      "Patient 9: Less than 30 time points — skipping.\n",
      "Patient 10: Dropping — constant columns found\n",
      "Patient 11: Less than 30 time points — skipping.\n",
      "Patient 12: Dropping — constant columns found\n",
      "Patient 14: Less than 30 time points — skipping.\n",
      "Patient 15: Less than 30 time points — skipping.\n",
      "Patient 16: Dropping — constant columns found\n",
      "Patient 19: Less than 30 time points — skipping.\n",
      "Patient 21: Less than 30 time points — skipping.\n",
      "Patient 22: Less than 30 time points — skipping.\n",
      "Patient 23: Dropping — constant columns found\n",
      "Patient 24: Dropping — constant columns found\n",
      "Patient 25: Less than 30 time points — skipping.\n",
      "Patient 26: Less than 30 time points — skipping.\n",
      "Patient 31: Dropping — constant columns found\n",
      "Patient 32: Dropping — constant columns found\n",
      "Patient 33: Less than 30 time points — skipping.\n",
      "Patient 35: Less than 30 time points — skipping.\n",
      "Patient 36: Less than 30 time points — skipping.\n",
      "Patient 38: Dropping — constant columns found\n",
      "Patient 39: Less than 30 time points — skipping.\n",
      "Patient 40: Dropping — constant columns found\n",
      "Patient 42: Dropping — constant columns found\n",
      "Patient 44: Less than 30 time points — skipping.\n",
      "Patient 46: Less than 30 time points — skipping.\n",
      "Patient 47: Less than 30 time points — skipping.\n",
      "Patient 48: Less than 30 time points — skipping.\n",
      "Patient 49: Dropping — constant columns found\n",
      "Patient 50: Dropping — constant columns found\n",
      "Patient 52: Less than 30 time points — skipping.\n",
      "Patient 54: Less than 30 time points — skipping.\n",
      "Patient 55: Less than 30 time points — skipping.\n",
      "Patient 56: Dropping — constant columns found\n",
      "Patient 57: Less than 30 time points — skipping.\n",
      "Patient 58: Dropping — constant columns found\n",
      "Patient 59: Less than 30 time points — skipping.\n",
      "Patient 60: Less than 30 time points — skipping.\n",
      "Patient 61: Dropping — constant columns found\n",
      "Patient 62: Less than 30 time points — skipping.\n",
      "Patient 63: Less than 30 time points — skipping.\n",
      "Patient 64: Less than 30 time points — skipping.\n",
      "Patient 65: Less than 30 time points — skipping.\n",
      "Patient 66: Less than 30 time points — skipping.\n",
      "Patient 67: Dropping — constant columns found\n",
      "Patient 68: Less than 30 time points — skipping.\n",
      "Patient 69: Dropping — constant columns found\n",
      "Patient 71: Less than 30 time points — skipping.\n",
      "Patient 72: Less than 30 time points — skipping.\n",
      "Patient 73: Less than 30 time points — skipping.\n",
      "Patient 74: Dropping — constant columns found\n",
      "Patient 76: Less than 30 time points — skipping.\n",
      "Patient 83: Dropping — constant columns found\n",
      "Patient 84: Dropping — constant columns found\n",
      "Patient 85: Less than 30 time points — skipping.\n",
      "Patient 87: Less than 30 time points — skipping.\n",
      "Patient 88: Less than 30 time points — skipping.\n",
      "Patient 91: Dropping — constant columns found\n",
      "Patient 92: Less than 30 time points — skipping.\n",
      "Patient 94: Dropping — constant columns found\n",
      "Patient 95: Less than 30 time points — skipping.\n",
      "Patient 97: Dropping — constant columns found\n",
      "Patient 98: Less than 30 time points — skipping.\n",
      "Patient 99: Dropping — constant columns found\n",
      "Patient 100: Dropping — constant columns found\n",
      "Patient 101: Dropping — constant columns found\n",
      "Patient 102: Less than 30 time points — skipping.\n",
      "Patient 103: Dropping — constant columns found\n",
      "Patient 109: Dropping — constant columns found\n",
      "Patient 112: Less than 30 time points — skipping.\n",
      "Patient 113: Less than 30 time points — skipping.\n",
      "Patient 115: Less than 30 time points — skipping.\n",
      "Patient 116: Dropping — constant columns found\n",
      "Patient 117: Less than 30 time points — skipping.\n",
      "Patient 118: Less than 30 time points — skipping.\n",
      "Patient 123: Less than 30 time points — skipping.\n",
      "Patient 125: Less than 30 time points — skipping.\n",
      "Patient 126: Dropping — constant columns found\n",
      "Patient 127: Less than 30 time points — skipping.\n",
      "Patient 128: Less than 30 time points — skipping.\n",
      "Patient 133: Dropping — constant columns found\n",
      "Patient 134: Less than 30 time points — skipping.\n",
      "Patient 139: Less than 30 time points — skipping.\n",
      "Patient 140: Dropping — constant columns found\n",
      "Patient 141: Dropping — constant columns found\n",
      "Patient 144: Less than 30 time points — skipping.\n",
      "Patient 145: Less than 30 time points — skipping.\n",
      "Patient 147: Dropping — constant columns found\n",
      "Patient 148: Less than 30 time points — skipping.\n",
      "Patient 149: Less than 30 time points — skipping.\n",
      "Patient 150: Less than 30 time points — skipping.\n",
      "Patient 151: Dropping — constant columns found\n",
      "Patient 152: Less than 30 time points — skipping.\n",
      "Patient 153: Less than 30 time points — skipping.\n",
      "Patient 159: Dropping — constant columns found\n",
      "Patient 160: Less than 30 time points — skipping.\n",
      "Patient 165: Less than 30 time points — skipping.\n",
      "Patient 166: Less than 30 time points — skipping.\n",
      "Patient 167: Dropping — constant columns found\n",
      "Patient 171: Less than 30 time points — skipping.\n",
      "Patient 172: Less than 30 time points — skipping.\n",
      "Patient 173: Less than 30 time points — skipping.\n",
      "Patient 174: Less than 30 time points — skipping.\n",
      "Patient 175: Less than 30 time points — skipping.\n",
      "Patient 176: Less than 30 time points — skipping.\n",
      "Patient 180: Less than 30 time points — skipping.\n",
      "Patient 182: Dropping — constant columns found\n",
      "Patient 191: Dropping — constant columns found\n",
      "Patient 192: Dropping — constant columns found\n",
      "Patient 193: Less than 30 time points — skipping.\n",
      "Patient 194: Dropping — constant columns found\n",
      "Patient 195: Less than 30 time points — skipping.\n",
      "Patient 197: Less than 30 time points — skipping.\n",
      "Patient 198: Dropping — constant columns found\n",
      "Patient 199: Dropping — constant columns found\n",
      "Patient 203: Less than 30 time points — skipping.\n",
      "Patient 204: Dropping — constant columns found\n",
      "Patient 205: Less than 30 time points — skipping.\n",
      "Patient 206: Dropping — constant columns found\n",
      "Patient 207: Less than 30 time points — skipping.\n",
      "Patient 208: Dropping — constant columns found\n",
      "Patient 209: Less than 30 time points — skipping.\n",
      "Patient 210: Less than 30 time points — skipping.\n",
      "Patient 214: Dropping — constant columns found\n",
      "Patient 215: Dropping — constant columns found\n",
      "Patient 220: Dropping — constant columns found\n",
      "Patient 223: Dropping — constant columns found\n",
      "Patient 225: Less than 30 time points — skipping.\n",
      "Patient 227: Dropping — constant columns found\n",
      "Patient 228: Less than 30 time points — skipping.\n",
      "Patient 231: Less than 30 time points — skipping.\n",
      "Patient 232: Less than 30 time points — skipping.\n",
      "Patient 233: Less than 30 time points — skipping.\n",
      "Patient 235: Less than 30 time points — skipping.\n",
      "Patient 236: Dropping — constant columns found\n",
      "Patient 237: Less than 30 time points — skipping.\n",
      "Patient 238: Less than 30 time points — skipping.\n",
      "Patient 239: Less than 30 time points — skipping.\n",
      "Patient 240: Less than 30 time points — skipping.\n",
      "Patient 77: Dropping — constant columns found\n",
      "Patient 110: Dropping — constant columns found\n",
      "Patient 156: Dropping — constant columns found\n"
     ]
    }
   ],
   "source": [
    "myLoader = preprocessors.Loader(\"C:/Users/emily/Documents/DissertationProject/training/training_setA_csv\", ['HR', 'O2Sat', 'SBP', 'MAP', 'DBP', 'Resp', 'Temp'])\n",
    "df = myLoader.ARIMA_VAR_preprocessor(max_patients=100, min_time_points=30)\n",
    "y_train, y_pred = myLoader.split_train_test(df, 4)"
   ],
   "metadata": {
    "collapsed": false,
    "ExecuteTime": {
     "end_time": "2025-04-18T13:24:45.223133600Z",
     "start_time": "2025-04-18T13:24:43.622544300Z"
    }
   },
   "id": "b60c05c1ceab3f5"
  },
  {
   "cell_type": "code",
   "execution_count": 31,
   "outputs": [
    {
     "data": {
      "text/plain": "                      HR  O2Sat    SBP    MAP   DBP  Resp   Temp\nPatient_ID ICULOS                                               \n0          0       117.0   99.0  116.0   97.0  81.0  20.0  36.00\n           1       117.0   99.0  116.0   97.0  81.0  20.0  36.00\n           2       117.0   99.0  116.0   97.0  81.0  20.0  36.00\n           3       117.0   99.0  116.0   97.0  81.0  20.0  36.00\n           4       117.0   99.0  116.0   97.0  81.0  20.0  36.00\n...                  ...    ...    ...    ...   ...   ...    ...\n96         327      72.0   99.0  163.0   97.0  95.0  18.0  37.39\n           328      74.0   99.0  142.0   97.0  95.0  18.0  37.67\n           329      74.0   98.0  152.0   75.0  95.0  19.0  37.67\n           330      54.0   98.0  167.0  114.0  95.0  24.0  37.67\n           331      55.0   93.0  130.0   83.0  95.0  22.0  37.72\n\n[12101 rows x 7 columns]",
      "text/html": "<div>\n<style scoped>\n    .dataframe tbody tr th:only-of-type {\n        vertical-align: middle;\n    }\n\n    .dataframe tbody tr th {\n        vertical-align: top;\n    }\n\n    .dataframe thead th {\n        text-align: right;\n    }\n</style>\n<table border=\"1\" class=\"dataframe\">\n  <thead>\n    <tr style=\"text-align: right;\">\n      <th></th>\n      <th></th>\n      <th>HR</th>\n      <th>O2Sat</th>\n      <th>SBP</th>\n      <th>MAP</th>\n      <th>DBP</th>\n      <th>Resp</th>\n      <th>Temp</th>\n    </tr>\n    <tr>\n      <th>Patient_ID</th>\n      <th>ICULOS</th>\n      <th></th>\n      <th></th>\n      <th></th>\n      <th></th>\n      <th></th>\n      <th></th>\n      <th></th>\n    </tr>\n  </thead>\n  <tbody>\n    <tr>\n      <th rowspan=\"5\" valign=\"top\">0</th>\n      <th>0</th>\n      <td>117.0</td>\n      <td>99.0</td>\n      <td>116.0</td>\n      <td>97.0</td>\n      <td>81.0</td>\n      <td>20.0</td>\n      <td>36.00</td>\n    </tr>\n    <tr>\n      <th>1</th>\n      <td>117.0</td>\n      <td>99.0</td>\n      <td>116.0</td>\n      <td>97.0</td>\n      <td>81.0</td>\n      <td>20.0</td>\n      <td>36.00</td>\n    </tr>\n    <tr>\n      <th>2</th>\n      <td>117.0</td>\n      <td>99.0</td>\n      <td>116.0</td>\n      <td>97.0</td>\n      <td>81.0</td>\n      <td>20.0</td>\n      <td>36.00</td>\n    </tr>\n    <tr>\n      <th>3</th>\n      <td>117.0</td>\n      <td>99.0</td>\n      <td>116.0</td>\n      <td>97.0</td>\n      <td>81.0</td>\n      <td>20.0</td>\n      <td>36.00</td>\n    </tr>\n    <tr>\n      <th>4</th>\n      <td>117.0</td>\n      <td>99.0</td>\n      <td>116.0</td>\n      <td>97.0</td>\n      <td>81.0</td>\n      <td>20.0</td>\n      <td>36.00</td>\n    </tr>\n    <tr>\n      <th>...</th>\n      <th>...</th>\n      <td>...</td>\n      <td>...</td>\n      <td>...</td>\n      <td>...</td>\n      <td>...</td>\n      <td>...</td>\n      <td>...</td>\n    </tr>\n    <tr>\n      <th rowspan=\"5\" valign=\"top\">96</th>\n      <th>327</th>\n      <td>72.0</td>\n      <td>99.0</td>\n      <td>163.0</td>\n      <td>97.0</td>\n      <td>95.0</td>\n      <td>18.0</td>\n      <td>37.39</td>\n    </tr>\n    <tr>\n      <th>328</th>\n      <td>74.0</td>\n      <td>99.0</td>\n      <td>142.0</td>\n      <td>97.0</td>\n      <td>95.0</td>\n      <td>18.0</td>\n      <td>37.67</td>\n    </tr>\n    <tr>\n      <th>329</th>\n      <td>74.0</td>\n      <td>98.0</td>\n      <td>152.0</td>\n      <td>75.0</td>\n      <td>95.0</td>\n      <td>19.0</td>\n      <td>37.67</td>\n    </tr>\n    <tr>\n      <th>330</th>\n      <td>54.0</td>\n      <td>98.0</td>\n      <td>167.0</td>\n      <td>114.0</td>\n      <td>95.0</td>\n      <td>24.0</td>\n      <td>37.67</td>\n    </tr>\n    <tr>\n      <th>331</th>\n      <td>55.0</td>\n      <td>93.0</td>\n      <td>130.0</td>\n      <td>83.0</td>\n      <td>95.0</td>\n      <td>22.0</td>\n      <td>37.72</td>\n    </tr>\n  </tbody>\n</table>\n<p>12101 rows × 7 columns</p>\n</div>"
     },
     "execution_count": 31,
     "metadata": {},
     "output_type": "execute_result"
    }
   ],
   "source": [
    "y_train"
   ],
   "metadata": {
    "collapsed": false,
    "ExecuteTime": {
     "end_time": "2025-04-18T13:24:02.049690400Z",
     "start_time": "2025-04-18T13:24:01.970896400Z"
    }
   },
   "id": "b0437a5660db82"
  },
  {
   "cell_type": "code",
   "execution_count": 4,
   "outputs": [
    {
     "data": {
      "text/plain": "                      HR  O2Sat    SBP   MAP   DBP  Resp   Temp\nPatient_ID ICULOS                                              \n0          44       72.0   99.0  158.0  98.0  68.0  26.0  37.06\n           45       72.0   99.0  139.0  84.0  54.0  26.0  37.06\n           46       76.0   98.0  138.0  82.0  53.0  27.0  37.11\n           47       78.0   97.0  138.0  83.0  53.0  26.0  37.11\n1          41      108.0   96.0   99.0  63.0  47.0  21.0  37.67\n...                  ...    ...    ...   ...   ...   ...    ...\n95         39       89.0   97.0  128.0  82.0  59.0  21.0  36.39\n96         42       52.0   98.0  121.0  78.0  55.0  12.5  37.33\n           43       52.0   98.0  115.0  74.0  53.0   9.0  37.33\n           44       52.0   98.0  111.0  70.0  49.0  11.0  37.33\n           45       51.0   99.0  112.0  71.0  51.0  11.0  37.33\n\n[388 rows x 7 columns]",
      "text/html": "<div>\n<style scoped>\n    .dataframe tbody tr th:only-of-type {\n        vertical-align: middle;\n    }\n\n    .dataframe tbody tr th {\n        vertical-align: top;\n    }\n\n    .dataframe thead th {\n        text-align: right;\n    }\n</style>\n<table border=\"1\" class=\"dataframe\">\n  <thead>\n    <tr style=\"text-align: right;\">\n      <th></th>\n      <th></th>\n      <th>HR</th>\n      <th>O2Sat</th>\n      <th>SBP</th>\n      <th>MAP</th>\n      <th>DBP</th>\n      <th>Resp</th>\n      <th>Temp</th>\n    </tr>\n    <tr>\n      <th>Patient_ID</th>\n      <th>ICULOS</th>\n      <th></th>\n      <th></th>\n      <th></th>\n      <th></th>\n      <th></th>\n      <th></th>\n      <th></th>\n    </tr>\n  </thead>\n  <tbody>\n    <tr>\n      <th rowspan=\"4\" valign=\"top\">0</th>\n      <th>44</th>\n      <td>72.0</td>\n      <td>99.0</td>\n      <td>158.0</td>\n      <td>98.0</td>\n      <td>68.0</td>\n      <td>26.0</td>\n      <td>37.06</td>\n    </tr>\n    <tr>\n      <th>45</th>\n      <td>72.0</td>\n      <td>99.0</td>\n      <td>139.0</td>\n      <td>84.0</td>\n      <td>54.0</td>\n      <td>26.0</td>\n      <td>37.06</td>\n    </tr>\n    <tr>\n      <th>46</th>\n      <td>76.0</td>\n      <td>98.0</td>\n      <td>138.0</td>\n      <td>82.0</td>\n      <td>53.0</td>\n      <td>27.0</td>\n      <td>37.11</td>\n    </tr>\n    <tr>\n      <th>47</th>\n      <td>78.0</td>\n      <td>97.0</td>\n      <td>138.0</td>\n      <td>83.0</td>\n      <td>53.0</td>\n      <td>26.0</td>\n      <td>37.11</td>\n    </tr>\n    <tr>\n      <th>1</th>\n      <th>41</th>\n      <td>108.0</td>\n      <td>96.0</td>\n      <td>99.0</td>\n      <td>63.0</td>\n      <td>47.0</td>\n      <td>21.0</td>\n      <td>37.67</td>\n    </tr>\n    <tr>\n      <th>...</th>\n      <th>...</th>\n      <td>...</td>\n      <td>...</td>\n      <td>...</td>\n      <td>...</td>\n      <td>...</td>\n      <td>...</td>\n      <td>...</td>\n    </tr>\n    <tr>\n      <th>95</th>\n      <th>39</th>\n      <td>89.0</td>\n      <td>97.0</td>\n      <td>128.0</td>\n      <td>82.0</td>\n      <td>59.0</td>\n      <td>21.0</td>\n      <td>36.39</td>\n    </tr>\n    <tr>\n      <th rowspan=\"4\" valign=\"top\">96</th>\n      <th>42</th>\n      <td>52.0</td>\n      <td>98.0</td>\n      <td>121.0</td>\n      <td>78.0</td>\n      <td>55.0</td>\n      <td>12.5</td>\n      <td>37.33</td>\n    </tr>\n    <tr>\n      <th>43</th>\n      <td>52.0</td>\n      <td>98.0</td>\n      <td>115.0</td>\n      <td>74.0</td>\n      <td>53.0</td>\n      <td>9.0</td>\n      <td>37.33</td>\n    </tr>\n    <tr>\n      <th>44</th>\n      <td>52.0</td>\n      <td>98.0</td>\n      <td>111.0</td>\n      <td>70.0</td>\n      <td>49.0</td>\n      <td>11.0</td>\n      <td>37.33</td>\n    </tr>\n    <tr>\n      <th>45</th>\n      <td>51.0</td>\n      <td>99.0</td>\n      <td>112.0</td>\n      <td>71.0</td>\n      <td>51.0</td>\n      <td>11.0</td>\n      <td>37.33</td>\n    </tr>\n  </tbody>\n</table>\n<p>388 rows × 7 columns</p>\n</div>"
     },
     "execution_count": 4,
     "metadata": {},
     "output_type": "execute_result"
    }
   ],
   "source": [
    "y_pred"
   ],
   "metadata": {
    "collapsed": false,
    "ExecuteTime": {
     "end_time": "2025-04-18T13:11:25.180347500Z",
     "start_time": "2025-04-18T13:11:25.129641200Z"
    }
   },
   "id": "f896f53217b6a573"
  },
  {
   "cell_type": "code",
   "execution_count": 32,
   "outputs": [
    {
     "name": "stdout",
     "output_type": "stream",
     "text": [
      "HR: p-value = 4.885879185774651e-17\n",
      "O2Sat: p-value = 3.7044665374306566e-22\n",
      "SBP: p-value = 4.668991639998474e-17\n",
      "MAP: p-value = 3.37891964908557e-19\n",
      "DBP: p-value = 1.4207042111313727e-18\n",
      "Resp: p-value = 3.8636821608730997e-19\n",
      "Temp: p-value = 6.868580228528386e-22\n"
     ]
    }
   ],
   "source": [
    "from statsmodels.tsa.stattools import adfuller\n",
    "\n",
    "for col in y_train.columns:\n",
    "    result = adfuller(y_train[col])\n",
    "    \n",
    "    print(f\"{col}: p-value = {result[1]}\")\n"
   ],
   "metadata": {
    "collapsed": false,
    "ExecuteTime": {
     "end_time": "2025-04-18T13:24:20.280845700Z",
     "start_time": "2025-04-18T13:24:15.269927600Z"
    }
   },
   "id": "44ab39484ea854aa"
  },
  {
   "cell_type": "code",
   "execution_count": 38,
   "outputs": [],
   "source": [
    "from sktime.forecasting.var import VAR\n",
    "model = VAR(maxlags=2, method=\"ols\", verbose=False, trend=\"c\", random_state=42)"
   ],
   "metadata": {
    "collapsed": false,
    "ExecuteTime": {
     "end_time": "2025-04-18T13:26:19.575439100Z",
     "start_time": "2025-04-18T13:26:19.531529300Z"
    }
   },
   "id": "2cfbf7ef4611f817"
  },
  {
   "cell_type": "code",
   "execution_count": 39,
   "outputs": [],
   "source": [
    "from sktime.forecasting.base import ForecastingHorizon\n",
    "\n",
    "model.fit(y_train)\n",
    "fh = ForecastingHorizon([1, 2, 3, 4], is_relative=True)\n",
    "forecasts = model.predict(fh)"
   ],
   "metadata": {
    "collapsed": false,
    "ExecuteTime": {
     "end_time": "2025-04-18T13:26:21.246962100Z",
     "start_time": "2025-04-18T13:26:20.220806100Z"
    }
   },
   "id": "7fff6120f9b54d6f"
  },
  {
   "cell_type": "code",
   "execution_count": 40,
   "outputs": [
    {
     "data": {
      "text/plain": "                           HR      O2Sat         SBP        MAP        DBP  \\\nPatient_ID ICULOS                                                            \n0          44       70.862070  96.606026  157.424137  90.406187  66.518350   \n           45       72.017566  96.317298  158.910113  94.720804  67.250587   \n           46       73.806358  96.417051  155.880152  91.899776  65.550761   \n           47       75.167536  96.795875  152.375212  89.790486  63.889030   \n1          41      114.962771  95.330566  120.420020  77.046488  60.547877   \n...                       ...        ...         ...        ...        ...   \n95         39       97.861972  94.923259  134.879332  73.246784  50.416845   \n96         42       51.904165  99.574414  111.460142  71.652546  51.378877   \n           43       52.478270  99.004143  109.313918  71.538120  51.436881   \n           44       53.659174  99.055318  108.509953  70.462749  50.314254   \n           45       53.473427  99.256590  112.129461  72.187269  51.088954   \n\n                        Resp       Temp  \nPatient_ID ICULOS                        \n0          44      23.382905  37.260062  \n           45      23.742392  37.458839  \n           46      26.959493  38.118423  \n           47      27.697126  38.359054  \n1          41      21.363237  37.715698  \n...                      ...        ...  \n95         39      30.909908  36.574575  \n96         42       8.972587  37.373600  \n           43      10.294684  37.213147  \n           44      11.060529  37.051725  \n           45      11.408650  37.018478  \n\n[388 rows x 7 columns]",
      "text/html": "<div>\n<style scoped>\n    .dataframe tbody tr th:only-of-type {\n        vertical-align: middle;\n    }\n\n    .dataframe tbody tr th {\n        vertical-align: top;\n    }\n\n    .dataframe thead th {\n        text-align: right;\n    }\n</style>\n<table border=\"1\" class=\"dataframe\">\n  <thead>\n    <tr style=\"text-align: right;\">\n      <th></th>\n      <th></th>\n      <th>HR</th>\n      <th>O2Sat</th>\n      <th>SBP</th>\n      <th>MAP</th>\n      <th>DBP</th>\n      <th>Resp</th>\n      <th>Temp</th>\n    </tr>\n    <tr>\n      <th>Patient_ID</th>\n      <th>ICULOS</th>\n      <th></th>\n      <th></th>\n      <th></th>\n      <th></th>\n      <th></th>\n      <th></th>\n      <th></th>\n    </tr>\n  </thead>\n  <tbody>\n    <tr>\n      <th rowspan=\"4\" valign=\"top\">0</th>\n      <th>44</th>\n      <td>70.862070</td>\n      <td>96.606026</td>\n      <td>157.424137</td>\n      <td>90.406187</td>\n      <td>66.518350</td>\n      <td>23.382905</td>\n      <td>37.260062</td>\n    </tr>\n    <tr>\n      <th>45</th>\n      <td>72.017566</td>\n      <td>96.317298</td>\n      <td>158.910113</td>\n      <td>94.720804</td>\n      <td>67.250587</td>\n      <td>23.742392</td>\n      <td>37.458839</td>\n    </tr>\n    <tr>\n      <th>46</th>\n      <td>73.806358</td>\n      <td>96.417051</td>\n      <td>155.880152</td>\n      <td>91.899776</td>\n      <td>65.550761</td>\n      <td>26.959493</td>\n      <td>38.118423</td>\n    </tr>\n    <tr>\n      <th>47</th>\n      <td>75.167536</td>\n      <td>96.795875</td>\n      <td>152.375212</td>\n      <td>89.790486</td>\n      <td>63.889030</td>\n      <td>27.697126</td>\n      <td>38.359054</td>\n    </tr>\n    <tr>\n      <th>1</th>\n      <th>41</th>\n      <td>114.962771</td>\n      <td>95.330566</td>\n      <td>120.420020</td>\n      <td>77.046488</td>\n      <td>60.547877</td>\n      <td>21.363237</td>\n      <td>37.715698</td>\n    </tr>\n    <tr>\n      <th>...</th>\n      <th>...</th>\n      <td>...</td>\n      <td>...</td>\n      <td>...</td>\n      <td>...</td>\n      <td>...</td>\n      <td>...</td>\n      <td>...</td>\n    </tr>\n    <tr>\n      <th>95</th>\n      <th>39</th>\n      <td>97.861972</td>\n      <td>94.923259</td>\n      <td>134.879332</td>\n      <td>73.246784</td>\n      <td>50.416845</td>\n      <td>30.909908</td>\n      <td>36.574575</td>\n    </tr>\n    <tr>\n      <th rowspan=\"4\" valign=\"top\">96</th>\n      <th>42</th>\n      <td>51.904165</td>\n      <td>99.574414</td>\n      <td>111.460142</td>\n      <td>71.652546</td>\n      <td>51.378877</td>\n      <td>8.972587</td>\n      <td>37.373600</td>\n    </tr>\n    <tr>\n      <th>43</th>\n      <td>52.478270</td>\n      <td>99.004143</td>\n      <td>109.313918</td>\n      <td>71.538120</td>\n      <td>51.436881</td>\n      <td>10.294684</td>\n      <td>37.213147</td>\n    </tr>\n    <tr>\n      <th>44</th>\n      <td>53.659174</td>\n      <td>99.055318</td>\n      <td>108.509953</td>\n      <td>70.462749</td>\n      <td>50.314254</td>\n      <td>11.060529</td>\n      <td>37.051725</td>\n    </tr>\n    <tr>\n      <th>45</th>\n      <td>53.473427</td>\n      <td>99.256590</td>\n      <td>112.129461</td>\n      <td>72.187269</td>\n      <td>51.088954</td>\n      <td>11.408650</td>\n      <td>37.018478</td>\n    </tr>\n  </tbody>\n</table>\n<p>388 rows × 7 columns</p>\n</div>"
     },
     "execution_count": 40,
     "metadata": {},
     "output_type": "execute_result"
    }
   ],
   "source": [
    "forecasts"
   ],
   "metadata": {
    "collapsed": false,
    "ExecuteTime": {
     "end_time": "2025-04-18T13:26:23.640141Z",
     "start_time": "2025-04-18T13:26:23.617095900Z"
    }
   },
   "id": "339f10e2a5c9203d"
  },
  {
   "cell_type": "code",
   "execution_count": 44,
   "outputs": [
    {
     "name": "stdout",
     "output_type": "stream",
     "text": [
      "Mean sktime DTW distance for feature HR: 430.6348299632063\n",
      "Mean sktime DTW distance for feature O2Sat: 26.052426743937513\n",
      "Mean sktime DTW distance for feature SBP: 1470.487551996165\n",
      "Mean sktime DTW distance for feature MAP: 665.5541113093424\n",
      "Mean sktime DTW distance for feature DBP: 406.39751812593914\n",
      "Mean sktime DTW distance for feature Resp: 75.4094156327051\n",
      "Mean sktime DTW distance for feature Temp: 1.0890900583583811\n",
      "Mean sktime DDTW distance for feature HR: 70.45827378496547\n",
      "Mean sktime DDTW distance for feature O2Sat: 5.119314403816615\n",
      "Mean sktime DDTW distance for feature SBP: 366.73642064963514\n",
      "Mean sktime DDTW distance for feature MAP: 178.2568025041841\n",
      "Mean sktime DDTW distance for feature DBP: 116.4563631465721\n",
      "Mean sktime DDTW distance for feature Resp: 23.702112021211086\n",
      "Mean sktime DDTW distance for feature Temp: 0.11503470668182936\n",
      "Mean tslearn DTW distance: 47.05199057386343\n"
     ]
    }
   ],
   "source": [
    "import evaluators\n",
    "\n",
    "myEvaluator = evaluators.Evaluator(y_pred, forecasts)\n",
    "myEvaluator.sktime_dtw()\n",
    "myEvaluator.sktime_ddtw()\n",
    "myEvaluator.tslearn_dtw()"
   ],
   "metadata": {
    "collapsed": false,
    "ExecuteTime": {
     "end_time": "2025-04-18T14:45:31.710885800Z",
     "start_time": "2025-04-18T14:44:53.606280Z"
    }
   },
   "id": "e2c03addb7af6c59"
  },
  {
   "cell_type": "code",
   "execution_count": null,
   "outputs": [],
   "source": [],
   "metadata": {
    "collapsed": false
   },
   "id": "4eb5fdb6b8f7ee63"
  },
  {
   "cell_type": "code",
   "execution_count": 12,
   "outputs": [],
   "source": [
    "from sktime.forecasting.compose import TransformedTargetForecaster\n",
    "from sktime.forecasting.var import VAR\n",
    "from sktime.transformations.series.difference import Differencer\n",
    "\n",
    "model = TransformedTargetForecaster(steps=[\n",
    "    (\"diff\", Differencer()),     # makes the data stationary\n",
    "    (\"var\", VAR())               # fit VAR on differenced data\n",
    "])\n"
   ],
   "metadata": {
    "collapsed": false,
    "ExecuteTime": {
     "start_time": "2025-04-18T10:09:16.289731800Z"
    }
   },
   "id": "f0ef5ec488dadc23"
  }
 ],
 "metadata": {
  "kernelspec": {
   "display_name": "Python 3",
   "language": "python",
   "name": "python3"
  },
  "language_info": {
   "codemirror_mode": {
    "name": "ipython",
    "version": 2
   },
   "file_extension": ".py",
   "mimetype": "text/x-python",
   "name": "python",
   "nbconvert_exporter": "python",
   "pygments_lexer": "ipython2",
   "version": "2.7.6"
  }
 },
 "nbformat": 4,
 "nbformat_minor": 5
}
