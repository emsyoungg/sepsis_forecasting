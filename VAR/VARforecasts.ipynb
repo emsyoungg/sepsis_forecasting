{
 "cells": [
  {
   "cell_type": "markdown",
   "source": [
    " # Experiment 1"
   ],
   "metadata": {
    "collapsed": false
   },
   "id": "668de03b805f6815"
  },
  {
   "cell_type": "code",
   "execution_count": 1,
   "outputs": [],
   "source": [
    "import preprocessors"
   ],
   "metadata": {
    "collapsed": false,
    "ExecuteTime": {
     "end_time": "2025-04-18T16:25:47.750126400Z",
     "start_time": "2025-04-18T16:25:47.205172800Z"
    }
   },
   "id": "initial_id"
  },
  {
   "cell_type": "code",
   "execution_count": 56,
   "outputs": [
    {
     "name": "stdout",
     "output_type": "stream",
     "text": [
      "Patient 0: Dropping — constant columns found\n",
      "Patient 1: Less than 30 time points — skipping.\n",
      "Patient 3: Less than 30 time points — skipping.\n",
      "Patient 4: Dropping — constant columns found\n",
      "Patient 5: Less than 30 time points — skipping.\n",
      "Patient 9: Less than 30 time points — skipping.\n",
      "Patient 10: Dropping — constant columns found\n",
      "Patient 11: Less than 30 time points — skipping.\n",
      "Patient 12: Dropping — constant columns found\n",
      "Patient 14: Less than 30 time points — skipping.\n",
      "Patient 15: Less than 30 time points — skipping.\n",
      "Patient 16: Dropping — constant columns found\n",
      "Patient 19: Less than 30 time points — skipping.\n",
      "Patient 21: Less than 30 time points — skipping.\n",
      "Patient 22: Less than 30 time points — skipping.\n",
      "Patient 23: Dropping — constant columns found\n",
      "Patient 24: Dropping — constant columns found\n",
      "Patient 25: Less than 30 time points — skipping.\n",
      "Patient 26: Less than 30 time points — skipping.\n",
      "Patient 31: Dropping — constant columns found\n",
      "Patient 32: Dropping — constant columns found\n",
      "Patient 33: Less than 30 time points — skipping.\n",
      "Patient 35: Less than 30 time points — skipping.\n",
      "Patient 36: Less than 30 time points — skipping.\n",
      "Patient 38: Dropping — constant columns found\n",
      "Patient 39: Less than 30 time points — skipping.\n",
      "Patient 40: Dropping — constant columns found\n",
      "Patient 42: Dropping — constant columns found\n",
      "Patient 44: Less than 30 time points — skipping.\n",
      "Patient 46: Less than 30 time points — skipping.\n",
      "Patient 47: Less than 30 time points — skipping.\n",
      "Patient 48: Less than 30 time points — skipping.\n",
      "Patient 49: Dropping — constant columns found\n",
      "Patient 50: Dropping — constant columns found\n",
      "Patient 52: Less than 30 time points — skipping.\n",
      "Patient 54: Less than 30 time points — skipping.\n",
      "Patient 55: Less than 30 time points — skipping.\n",
      "Patient 56: Dropping — constant columns found\n",
      "Patient 57: Less than 30 time points — skipping.\n",
      "Patient 58: Dropping — constant columns found\n",
      "Patient 59: Less than 30 time points — skipping.\n",
      "Patient 60: Less than 30 time points — skipping.\n",
      "Patient 61: Dropping — constant columns found\n",
      "Patient 62: Less than 30 time points — skipping.\n",
      "Patient 63: Less than 30 time points — skipping.\n",
      "Patient 64: Less than 30 time points — skipping.\n",
      "Patient 65: Less than 30 time points — skipping.\n",
      "Patient 66: Less than 30 time points — skipping.\n",
      "Patient 67: Dropping — constant columns found\n",
      "Patient 68: Less than 30 time points — skipping.\n",
      "Patient 69: Dropping — constant columns found\n",
      "Patient 71: Less than 30 time points — skipping.\n",
      "Patient 72: Less than 30 time points — skipping.\n",
      "Patient 73: Less than 30 time points — skipping.\n",
      "Patient 74: Dropping — constant columns found\n",
      "Patient 76: Less than 30 time points — skipping.\n",
      "Patient 83: Dropping — constant columns found\n",
      "Patient 84: Dropping — constant columns found\n",
      "Patient 85: Less than 30 time points — skipping.\n",
      "Patient 87: Less than 30 time points — skipping.\n",
      "Patient 88: Less than 30 time points — skipping.\n",
      "Patient 91: Dropping — constant columns found\n",
      "Patient 92: Less than 30 time points — skipping.\n",
      "Patient 94: Dropping — constant columns found\n",
      "Patient 95: Less than 30 time points — skipping.\n",
      "Patient 97: Dropping — constant columns found\n",
      "Patient 98: Less than 30 time points — skipping.\n",
      "Patient 99: Dropping — constant columns found\n",
      "Patient 100: Dropping — constant columns found\n",
      "Patient 101: Dropping — constant columns found\n",
      "Patient 102: Less than 30 time points — skipping.\n",
      "Patient 103: Dropping — constant columns found\n",
      "Patient 109: Dropping — constant columns found\n",
      "Patient 112: Less than 30 time points — skipping.\n",
      "Patient 113: Less than 30 time points — skipping.\n",
      "Patient 115: Less than 30 time points — skipping.\n",
      "Patient 116: Dropping — constant columns found\n",
      "Patient 117: Less than 30 time points — skipping.\n",
      "Patient 118: Less than 30 time points — skipping.\n",
      "Patient 123: Less than 30 time points — skipping.\n",
      "Patient 125: Less than 30 time points — skipping.\n",
      "Patient 126: Dropping — constant columns found\n",
      "Patient 127: Less than 30 time points — skipping.\n",
      "Patient 128: Less than 30 time points — skipping.\n",
      "Patient 133: Dropping — constant columns found\n",
      "Patient 134: Less than 30 time points — skipping.\n",
      "Patient 139: Less than 30 time points — skipping.\n",
      "Patient 140: Dropping — constant columns found\n",
      "Patient 141: Dropping — constant columns found\n",
      "Patient 144: Less than 30 time points — skipping.\n",
      "Patient 145: Less than 30 time points — skipping.\n",
      "Patient 147: Dropping — constant columns found\n",
      "Patient 148: Less than 30 time points — skipping.\n",
      "Patient 149: Less than 30 time points — skipping.\n",
      "Patient 150: Less than 30 time points — skipping.\n",
      "Patient 151: Dropping — constant columns found\n",
      "Patient 152: Less than 30 time points — skipping.\n",
      "Patient 153: Less than 30 time points — skipping.\n",
      "Patient 159: Dropping — constant columns found\n",
      "Patient 160: Less than 30 time points — skipping.\n",
      "Patient 165: Less than 30 time points — skipping.\n",
      "Patient 166: Less than 30 time points — skipping.\n",
      "Patient 167: Dropping — constant columns found\n",
      "Patient 171: Less than 30 time points — skipping.\n",
      "Patient 172: Less than 30 time points — skipping.\n",
      "Patient 173: Less than 30 time points — skipping.\n",
      "Patient 174: Less than 30 time points — skipping.\n",
      "Patient 175: Less than 30 time points — skipping.\n",
      "Patient 176: Less than 30 time points — skipping.\n",
      "Patient 180: Less than 30 time points — skipping.\n",
      "Patient 182: Dropping — constant columns found\n",
      "Patient 191: Dropping — constant columns found\n",
      "Patient 192: Dropping — constant columns found\n",
      "Patient 193: Less than 30 time points — skipping.\n",
      "Patient 194: Dropping — constant columns found\n",
      "Patient 195: Less than 30 time points — skipping.\n",
      "Patient 197: Less than 30 time points — skipping.\n",
      "Patient 198: Dropping — constant columns found\n",
      "Patient 199: Dropping — constant columns found\n",
      "Patient 203: Less than 30 time points — skipping.\n",
      "Patient 204: Dropping — constant columns found\n",
      "Patient 205: Less than 30 time points — skipping.\n",
      "Patient 206: Dropping — constant columns found\n",
      "Patient 207: Less than 30 time points — skipping.\n",
      "Patient 208: Dropping — constant columns found\n",
      "Patient 209: Less than 30 time points — skipping.\n",
      "Patient 210: Less than 30 time points — skipping.\n",
      "Patient 214: Dropping — constant columns found\n",
      "Patient 215: Dropping — constant columns found\n",
      "Patient 220: Dropping — constant columns found\n",
      "Patient 223: Dropping — constant columns found\n",
      "Patient 225: Less than 30 time points — skipping.\n",
      "Patient 227: Dropping — constant columns found\n",
      "Patient 228: Less than 30 time points — skipping.\n",
      "Patient 231: Less than 30 time points — skipping.\n",
      "Patient 232: Less than 30 time points — skipping.\n",
      "Patient 233: Less than 30 time points — skipping.\n",
      "Patient 235: Less than 30 time points — skipping.\n",
      "Patient 236: Dropping — constant columns found\n",
      "Patient 237: Less than 30 time points — skipping.\n",
      "Patient 238: Less than 30 time points — skipping.\n",
      "Patient 239: Less than 30 time points — skipping.\n",
      "Patient 240: Less than 30 time points — skipping.\n",
      "Patient 77: Dropping — constant columns found\n",
      "Patient 110: Dropping — constant columns found\n",
      "Patient 156: Dropping — constant columns found\n"
     ]
    }
   ],
   "source": [
    "myLoader = preprocessors.Loader(\"C:/Users/emily/Documents/DissertationProject/training/training_setA_csv\", ['HR', 'O2Sat', 'SBP', 'MAP', 'DBP', 'Resp', 'Temp'])\n",
    "df = myLoader.ARIMA_VAR_preprocessor(max_patients=100, min_time_points=30)\n",
    "y_train, y_pred = myLoader.split_train_test(df, 4)"
   ],
   "metadata": {
    "collapsed": false,
    "ExecuteTime": {
     "end_time": "2025-04-19T20:45:48.417009400Z",
     "start_time": "2025-04-19T20:45:46.183573700Z"
    }
   },
   "id": "b60c05c1ceab3f5"
  },
  {
   "cell_type": "code",
   "execution_count": 3,
   "outputs": [],
   "source": [
    "from sktime.forecasting.var import VAR\n",
    "model = VAR(maxlags=2, method=\"ols\", verbose=False, trend=\"c\", random_state=42)"
   ],
   "metadata": {
    "collapsed": false,
    "ExecuteTime": {
     "end_time": "2025-04-18T16:25:58.113111800Z",
     "start_time": "2025-04-18T16:25:57.131861700Z"
    }
   },
   "id": "2cfbf7ef4611f817"
  },
  {
   "cell_type": "code",
   "execution_count": 4,
   "outputs": [],
   "source": [
    "from sktime.forecasting.base import ForecastingHorizon\n",
    "\n",
    "model.fit(y_train)\n",
    "fh = ForecastingHorizon([1, 2, 3, 4], is_relative=True)\n",
    "forecasts = model.predict(fh)"
   ],
   "metadata": {
    "collapsed": false,
    "ExecuteTime": {
     "end_time": "2025-04-18T16:25:59.843095200Z",
     "start_time": "2025-04-18T16:25:58.781170700Z"
    }
   },
   "id": "7fff6120f9b54d6f"
  },
  {
   "cell_type": "code",
   "execution_count": 40,
   "outputs": [
    {
     "data": {
      "text/plain": "                           HR      O2Sat         SBP        MAP        DBP  \\\nPatient_ID ICULOS                                                            \n0          44       70.862070  96.606026  157.424137  90.406187  66.518350   \n           45       72.017566  96.317298  158.910113  94.720804  67.250587   \n           46       73.806358  96.417051  155.880152  91.899776  65.550761   \n           47       75.167536  96.795875  152.375212  89.790486  63.889030   \n1          41      114.962771  95.330566  120.420020  77.046488  60.547877   \n...                       ...        ...         ...        ...        ...   \n95         39       97.861972  94.923259  134.879332  73.246784  50.416845   \n96         42       51.904165  99.574414  111.460142  71.652546  51.378877   \n           43       52.478270  99.004143  109.313918  71.538120  51.436881   \n           44       53.659174  99.055318  108.509953  70.462749  50.314254   \n           45       53.473427  99.256590  112.129461  72.187269  51.088954   \n\n                        Resp       Temp  \nPatient_ID ICULOS                        \n0          44      23.382905  37.260062  \n           45      23.742392  37.458839  \n           46      26.959493  38.118423  \n           47      27.697126  38.359054  \n1          41      21.363237  37.715698  \n...                      ...        ...  \n95         39      30.909908  36.574575  \n96         42       8.972587  37.373600  \n           43      10.294684  37.213147  \n           44      11.060529  37.051725  \n           45      11.408650  37.018478  \n\n[388 rows x 7 columns]",
      "text/html": "<div>\n<style scoped>\n    .dataframe tbody tr th:only-of-type {\n        vertical-align: middle;\n    }\n\n    .dataframe tbody tr th {\n        vertical-align: top;\n    }\n\n    .dataframe thead th {\n        text-align: right;\n    }\n</style>\n<table border=\"1\" class=\"dataframe\">\n  <thead>\n    <tr style=\"text-align: right;\">\n      <th></th>\n      <th></th>\n      <th>HR</th>\n      <th>O2Sat</th>\n      <th>SBP</th>\n      <th>MAP</th>\n      <th>DBP</th>\n      <th>Resp</th>\n      <th>Temp</th>\n    </tr>\n    <tr>\n      <th>Patient_ID</th>\n      <th>ICULOS</th>\n      <th></th>\n      <th></th>\n      <th></th>\n      <th></th>\n      <th></th>\n      <th></th>\n      <th></th>\n    </tr>\n  </thead>\n  <tbody>\n    <tr>\n      <th rowspan=\"4\" valign=\"top\">0</th>\n      <th>44</th>\n      <td>70.862070</td>\n      <td>96.606026</td>\n      <td>157.424137</td>\n      <td>90.406187</td>\n      <td>66.518350</td>\n      <td>23.382905</td>\n      <td>37.260062</td>\n    </tr>\n    <tr>\n      <th>45</th>\n      <td>72.017566</td>\n      <td>96.317298</td>\n      <td>158.910113</td>\n      <td>94.720804</td>\n      <td>67.250587</td>\n      <td>23.742392</td>\n      <td>37.458839</td>\n    </tr>\n    <tr>\n      <th>46</th>\n      <td>73.806358</td>\n      <td>96.417051</td>\n      <td>155.880152</td>\n      <td>91.899776</td>\n      <td>65.550761</td>\n      <td>26.959493</td>\n      <td>38.118423</td>\n    </tr>\n    <tr>\n      <th>47</th>\n      <td>75.167536</td>\n      <td>96.795875</td>\n      <td>152.375212</td>\n      <td>89.790486</td>\n      <td>63.889030</td>\n      <td>27.697126</td>\n      <td>38.359054</td>\n    </tr>\n    <tr>\n      <th>1</th>\n      <th>41</th>\n      <td>114.962771</td>\n      <td>95.330566</td>\n      <td>120.420020</td>\n      <td>77.046488</td>\n      <td>60.547877</td>\n      <td>21.363237</td>\n      <td>37.715698</td>\n    </tr>\n    <tr>\n      <th>...</th>\n      <th>...</th>\n      <td>...</td>\n      <td>...</td>\n      <td>...</td>\n      <td>...</td>\n      <td>...</td>\n      <td>...</td>\n      <td>...</td>\n    </tr>\n    <tr>\n      <th>95</th>\n      <th>39</th>\n      <td>97.861972</td>\n      <td>94.923259</td>\n      <td>134.879332</td>\n      <td>73.246784</td>\n      <td>50.416845</td>\n      <td>30.909908</td>\n      <td>36.574575</td>\n    </tr>\n    <tr>\n      <th rowspan=\"4\" valign=\"top\">96</th>\n      <th>42</th>\n      <td>51.904165</td>\n      <td>99.574414</td>\n      <td>111.460142</td>\n      <td>71.652546</td>\n      <td>51.378877</td>\n      <td>8.972587</td>\n      <td>37.373600</td>\n    </tr>\n    <tr>\n      <th>43</th>\n      <td>52.478270</td>\n      <td>99.004143</td>\n      <td>109.313918</td>\n      <td>71.538120</td>\n      <td>51.436881</td>\n      <td>10.294684</td>\n      <td>37.213147</td>\n    </tr>\n    <tr>\n      <th>44</th>\n      <td>53.659174</td>\n      <td>99.055318</td>\n      <td>108.509953</td>\n      <td>70.462749</td>\n      <td>50.314254</td>\n      <td>11.060529</td>\n      <td>37.051725</td>\n    </tr>\n    <tr>\n      <th>45</th>\n      <td>53.473427</td>\n      <td>99.256590</td>\n      <td>112.129461</td>\n      <td>72.187269</td>\n      <td>51.088954</td>\n      <td>11.408650</td>\n      <td>37.018478</td>\n    </tr>\n  </tbody>\n</table>\n<p>388 rows × 7 columns</p>\n</div>"
     },
     "execution_count": 40,
     "metadata": {},
     "output_type": "execute_result"
    }
   ],
   "source": [
    "forecasts"
   ],
   "metadata": {
    "collapsed": false,
    "ExecuteTime": {
     "end_time": "2025-04-18T13:26:23.640141Z",
     "start_time": "2025-04-18T13:26:23.617095900Z"
    }
   },
   "id": "339f10e2a5c9203d"
  },
  {
   "cell_type": "code",
   "execution_count": 7,
   "outputs": [
    {
     "name": "stdout",
     "output_type": "stream",
     "text": [
      "Mean sktime DTW distance for feature HR: 430.6348299632063\n",
      "Mean sktime DTW distance for feature O2Sat: 26.052426743937513\n",
      "Mean sktime DTW distance for feature SBP: 1470.487551996165\n",
      "Mean sktime DTW distance for feature MAP: 665.5541113093424\n",
      "Mean sktime DTW distance for feature DBP: 406.39751812593914\n",
      "Mean sktime DTW distance for feature Resp: 75.4094156327051\n",
      "Mean sktime DTW distance for feature Temp: 1.0890900583583811\n",
      "Mean sktime DDTW distance for feature HR: 70.45827378496547\n",
      "Mean sktime DDTW distance for feature O2Sat: 5.119314403816615\n",
      "Mean sktime DDTW distance for feature SBP: 366.73642064963514\n",
      "Mean sktime DDTW distance for feature MAP: 178.2568025041841\n",
      "Mean sktime DDTW distance for feature DBP: 116.4563631465721\n",
      "Mean sktime DDTW distance for feature Resp: 23.702112021211086\n",
      "Mean sktime DDTW distance for feature Temp: 0.11503470668182936\n",
      "Mean tslearn DTW distance: 47.05199057386343\n"
     ]
    }
   ],
   "source": [
    "import evaluators\n",
    "\n",
    "myEvaluator = evaluators.Evaluator(y_train, y_pred, forecasts)\n",
    "results = myEvaluator.sktime_dtw()\n",
    "myEvaluator.sktime_ddtw()\n",
    "myEvaluator.tslearn_dtw()"
   ],
   "metadata": {
    "collapsed": false,
    "ExecuteTime": {
     "end_time": "2025-04-18T16:27:41.942700300Z",
     "start_time": "2025-04-18T16:27:00.324504500Z"
    }
   },
   "id": "e2c03addb7af6c59"
  },
  {
   "cell_type": "code",
   "execution_count": 8,
   "outputs": [
    {
     "data": {
      "text/plain": "{'HR': [13.273968130431648,\n  418.426544197115,\n  218.08693054783419,\n  13.241392711404771,\n  369.5594931884913,\n  243.13133701586236,\n  442.5139947320913,\n  1004.5131882786076,\n  171.04176358199058,\n  34.92698741451563,\n  67.18422198084465,\n  609.2920626461853,\n  4.445996596548629,\n  84.31635567173835,\n  120.1195677132832,\n  50.1529835081316,\n  139.2809259851718,\n  18.82192063540446,\n  121.16535501711925,\n  74.24807203201462,\n  447.9593230264758,\n  80.28873771124753,\n  425.0599319523681,\n  220.9774880030123,\n  430.96123853433744,\n  87.33755278043887,\n  120.9042758721952,\n  7.950698346778779,\n  184.96442597744556,\n  96.31436860707882,\n  101.86571164087522,\n  0.4059655352257865,\n  407.72701993238894,\n  65.89956521269511,\n  937.6205529533578,\n  41.48721971842389,\n  7612.324723569871,\n  59.69434368478146,\n  181.9546348216137,\n  252.56603880616274,\n  354.40513432001825,\n  1024.2817036388276,\n  79.06952013913458,\n  46.99054898364637,\n  258.442125128381,\n  658.6405277911317,\n  254.74066952577869,\n  768.5884556335919,\n  304.5313330757837,\n  1219.2155154630937,\n  819.1612168100746,\n  486.01927949392046,\n  47.09635002240018,\n  276.4291667740931,\n  52.324310850083265,\n  261.07094239703684,\n  156.77850478951677,\n  87.03114962163139,\n  41.21636766777488,\n  2035.964648711216,\n  765.5767113686011,\n  78.59651463951609,\n  77.00534988518349,\n  149.49146391701078,\n  262.33363542753034,\n  596.2825126718313,\n  630.7694925658965,\n  922.1538456844753,\n  443.8271893086069,\n  80.37926946135707,\n  80.32952933263277,\n  356.93793251472374,\n  76.21070282393605,\n  58.75420329901324,\n  73.47600950432707,\n  79.92444327859116,\n  974.1011202805253,\n  17.748085268809415,\n  5047.832338329399,\n  164.85076513293345,\n  5.120118036235093,\n  47.404682154212786,\n  105.43732637206885,\n  571.8269191632984,\n  92.9939362409703,\n  86.55437834876814,\n  125.77515595349014,\n  38.24365031418716,\n  671.1340192515213,\n  37.76302895247296,\n  2.2829459619941366,\n  1505.0187272857406,\n  748.2996670140757,\n  1277.5274183705342,\n  192.67405558736084,\n  103.8283872825968,\n  9.108626337889008],\n 'O2Sat': [14.252970946211514,\n  15.541771834031874,\n  47.76378722853819,\n  0.7852097335342285,\n  4.891581241401071,\n  2.500590047542007,\n  4.797902697191654,\n  25.481087399775163,\n  9.078144542262665,\n  11.081874091120175,\n  72.22880272474507,\n  4.815244136833697,\n  22.622856271502812,\n  9.671105115442032,\n  10.020673059587617,\n  10.271009016687364,\n  48.236478646923445,\n  26.524990305200415,\n  7.9588301094213545,\n  11.518983861261287,\n  6.163639056158729,\n  68.79912091094562,\n  136.01582443641297,\n  1.9843815844813089,\n  0.09027811051536819,\n  8.091613546772608,\n  54.91485390721196,\n  6.95942165912564,\n  9.518301170534613,\n  2.358450233470186,\n  59.62371031926354,\n  0.5319941075236877,\n  1.4132390221344837,\n  13.202708287168281,\n  77.10243421269588,\n  3.713292626417716,\n  384.05367289093954,\n  7.285275832561785,\n  56.01848291291324,\n  8.24099118106167,\n  4.29405078030395,\n  5.899339871640885,\n  3.3410451974816695,\n  2.1216805938435277,\n  16.649323211825575,\n  7.56835696961176,\n  50.64082670219672,\n  18.237310824551006,\n  9.237171632611732,\n  199.9869678379676,\n  11.88925354752791,\n  13.677755486631419,\n  7.544411035454612,\n  6.308227512536507,\n  18.717821177658376,\n  13.380971611549466,\n  16.951236885406843,\n  14.299389904040508,\n  5.506953028823579,\n  4.263721210789385,\n  7.210092518190748,\n  45.34452971697673,\n  3.6646459111803225,\n  9.240188491660776,\n  44.13590433158436,\n  1.5362603060189357,\n  6.312185049059222,\n  5.134722470301262,\n  0.37308253748922526,\n  8.242767150596912,\n  40.15834577849019,\n  4.797889978938388,\n  6.296472684959365,\n  34.85105346492264,\n  4.087001940834555,\n  25.132800483046445,\n  2.1708459456150697,\n  13.664095313382232,\n  196.10195807512792,\n  24.224168638254945,\n  4.510585127761233,\n  9.79671541587114,\n  112.760091167374,\n  8.78608309037305,\n  1.0268479850126622,\n  1.6959707915771345,\n  6.641052190121902,\n  5.934704300175934,\n  15.289286483712335,\n  7.310776583124671,\n  0.32917500922260234,\n  28.164033042584144,\n  41.85987330335058,\n  70.02318674507123,\n  8.623680490721885,\n  20.448644023367624,\n  4.564283585911069],\n 'SBP': [597.8434012959742,\n  561.5904907239086,\n  788.3389894523992,\n  40.14491647298884,\n  696.6590978444178,\n  7119.853628980087,\n  168.69834658563406,\n  96.12326571957121,\n  1725.4257042000243,\n  41.71235617790165,\n  171.8427461271586,\n  2.4233807008389483e-27,\n  52.936495758929254,\n  84.5306047273422,\n  2327.9753127463637,\n  124.62939420021154,\n  159.4263898482304,\n  1490.39219807084,\n  81.28639567967775,\n  1144.8624618188344,\n  292.84377071952105,\n  2204.689147316614,\n  3504.9706793134906,\n  2344.191194878435,\n  197.80967675297998,\n  550.6644868595064,\n  629.3740485415833,\n  246.4827404383068,\n  2831.630923248932,\n  1585.9062651684212,\n  448.44704319488767,\n  1.030713920116392,\n  676.4278358308287,\n  83.52135083548909,\n  148.26765053224463,\n  2228.1718597324784,\n  490.940365003592,\n  1575.3492028982591,\n  2224.501600212969,\n  2777.8216416879945,\n  852.733530117371,\n  444.6040812080891,\n  190.16479345763014,\n  455.5991197594051,\n  80.12523191360704,\n  434.17862906786087,\n  38.80211542843302,\n  156.67371471409027,\n  152.18167726195486,\n  14719.073377639303,\n  153.58953121216177,\n  256.6655994595239,\n  198.30498638622407,\n  488.17716259586524,\n  314.840892784134,\n  1498.3925672495748,\n  84.22061883455052,\n  4540.072909813639,\n  309.54781690956696,\n  2447.189070442423,\n  193.17739773933027,\n  448.96879322725016,\n  716.1013531849248,\n  318.3751231843355,\n  744.8392644287028,\n  8366.195968918732,\n  327.2472722654637,\n  7918.821512133729,\n  41.26104473458239,\n  322.63987531731016,\n  4169.902585938306,\n  10.136692230035798,\n  239.4231717080528,\n  403.14370168204,\n  2472.7760934031458,\n  864.8010672883212,\n  19698.13238294785,\n  183.39284777629828,\n  6721.883365369114,\n  10.026149730727472,\n  581.4616874778313,\n  713.0949999136758,\n  72.34293632790994,\n  1311.0910504418998,\n  1285.6401742281673,\n  78.16426643997414,\n  312.4692461427173,\n  113.41240739395717,\n  363.1156130360777,\n  582.8861049270848,\n  0.5763609110380105,\n  721.2243495227916,\n  11408.193323966669,\n  205.4483957279729,\n  163.04724882749497,\n  108.827452308565,\n  112.59944305335043],\n 'MAP': [237.6279478886105,\n  417.522178486526,\n  398.5823935410687,\n  106.6121642813217,\n  57.991647597073296,\n  1379.2210071553943,\n  199.38446541251614,\n  160.4499305003492,\n  2315.3190860378377,\n  509.9566703382296,\n  86.40194077701449,\n  179.78825416668903,\n  81.07554169816174,\n  493.50909691403615,\n  960.9873496748203,\n  375.9816430205136,\n  164.72531902022882,\n  1110.0936405007624,\n  166.51747332168733,\n  948.6818319867357,\n  305.77187961363495,\n  50.53555600698715,\n  149.64951511507633,\n  968.3540104051183,\n  70.53591263079863,\n  320.9645632727799,\n  139.66436369759424,\n  167.34913765439325,\n  772.8760351485142,\n  214.2005582945162,\n  442.64090622440887,\n  0.03749069146062395,\n  387.51180206133483,\n  72.24701609937662,\n  68.38013249312941,\n  1289.7425810494244,\n  241.29633194084963,\n  472.4790790094646,\n  490.71995927377145,\n  1608.303893721635,\n  420.844652428811,\n  383.7432418072388,\n  1415.1277289174698,\n  210.9144057196394,\n  1160.095708225677,\n  394.7933980916517,\n  183.7311329444787,\n  773.1023396674088,\n  11.461067824885582,\n  197.27191973349537,\n  28.57509704294578,\n  613.6067083893006,\n  111.2039488805424,\n  304.2451383174398,\n  70.8186613385982,\n  462.2142572696121,\n  159.14854971725885,\n  1109.2402917525003,\n  481.8084667837842,\n  760.2152728482042,\n  218.8963156942662,\n  282.89174224145796,\n  302.2624079795197,\n  254.87922799959503,\n  551.8047914265763,\n  2221.6323743599905,\n  144.21193646189437,\n  2835.247155393568,\n  54.743887732619264,\n  69.68368113421079,\n  506.43293121381384,\n  7.92905759487414,\n  896.7665446752089,\n  147.83071464831113,\n  1013.6867174071292,\n  469.1964572334952,\n  10740.731245085914,\n  2239.0484077409415,\n  6634.748165379569,\n  217.56668822657045,\n  106.49400972846485,\n  407.4315704424441,\n  130.57138638465685,\n  300.37035491718825,\n  677.2936486141954,\n  49.045828455985834,\n  202.6090773258299,\n  52.63185206467413,\n  250.60783937255425,\n  190.55882199795985,\n  2.5223388044726303,\n  637.8943337818879,\n  2926.808693367215,\n  292.5634433992792,\n  29.14855692098385,\n  608.1795270810127,\n  47.974770293093364],\n 'DBP': [343.6905345403626,\n  290.0856506900136,\n  155.5919265675969,\n  33.95316277801879,\n  120.28718534595903,\n  986.3041500211833,\n  36.68785482394031,\n  30.23762875662457,\n  2928.726349590368,\n  244.7423599376331,\n  10.762394824822875,\n  2.1709452111682245e-27,\n  72.38117648643777,\n  73.68524337904731,\n  81.33343207536254,\n  116.68467530196429,\n  54.08076964939174,\n  4.0052744049835205,\n  38.22221077350062,\n  499.02043593835094,\n  427.2714880028457,\n  102.51920087531465,\n  454.8245937506239,\n  294.80601236231917,\n  89.59783975074112,\n  72.53881370103457,\n  71.353803110663,\n  0.4188165900502129,\n  622.9596147361572,\n  136.8563453255293,\n  3.1798860976919876,\n  0.05301573848329032,\n  24.566584162836513,\n  26.355763048634202,\n  41.51071901766579,\n  422.57415163288346,\n  32.99424973383492,\n  310.02042398679447,\n  739.3757644026625,\n  471.3570606352399,\n  296.7840151513171,\n  307.47800999073945,\n  522.5518432228014,\n  44.94595622096196,\n  32.50487039163882,\n  67.86957333179946,\n  9.45799464661068,\n  0.0295771276411077,\n  38.576415200725116,\n  575.0303083362853,\n  47.4683007984455,\n  2.3655642472192047,\n  5.545508420190217,\n  112.09042076908696,\n  73.4359765215206,\n  130.00230366354253,\n  16.52074573158494,\n  635.1096217910601,\n  1436.8005135606516,\n  441.0183942563303,\n  197.23787901687882,\n  228.36273880125927,\n  144.7859062090945,\n  235.08379384625746,\n  297.1202364760714,\n  480.90343136902845,\n  799.3406608594114,\n  2016.4948245698738,\n  15.153953590861155,\n  31.346632977510748,\n  1211.426489787632,\n  12.321807618045689,\n  108.64401737719434,\n  109.28784948001004,\n  447.74434362573237,\n  237.13240778009154,\n  3997.9478373242073,\n  175.29612349990788,\n  341.3840280826869,\n  7.357037580132074,\n  201.116426820485,\n  207.3733536697046,\n  69.86987538622496,\n  63.637748183348734,\n  265.91274404801857,\n  16.982262140865075,\n  223.73799023784224,\n  4.606351954115826,\n  256.542315281967,\n  114.15217672346603,\n  0.8694575990992226,\n  104.56562940241058,\n  10931.573717482732,\n  45.96132306923646,\n  392.5641382453803,\n  148.2282182747616,\n  17.291053896834825],\n 'Resp': [14.827858332148086,\n  15.40196768177941,\n  4.398675759438524,\n  44.58284185638463,\n  14.526565343384473,\n  24.258919110070632,\n  0.5227391003683979,\n  83.73025269313949,\n  20.764880775683913,\n  7.142754169580246,\n  28.80670523268892,\n  26.576300205911345,\n  26.016549327856687,\n  20.574828359862316,\n  391.55413464638775,\n  73.48567480540692,\n  4.41781675565155,\n  13.093855571139454,\n  70.82850944281888,\n  14.962771706167722,\n  138.04471773686484,\n  49.281082159829104,\n  177.69440992932908,\n  6.430198855072557,\n  30.290222676261145,\n  367.5211909550525,\n  40.0720949226523,\n  21.038154276020116,\n  98.434217059052,\n  25.333994657631045,\n  42.40367107767513,\n  1.047169107532738,\n  17.529728015254584,\n  90.83142811850877,\n  93.45593367579184,\n  1.6887745341750342,\n  1.6348311229329704,\n  113.81554172140798,\n  24.62597251306949,\n  191.43942493025486,\n  143.5961551662502,\n  65.11724048933404,\n  28.938171545870603,\n  8.575727504924053,\n  21.871333986670102,\n  79.6624310384468,\n  29.807426677499777,\n  355.2930782388276,\n  52.080346026437105,\n  68.2941112415294,\n  83.57055811706475,\n  327.38732332801214,\n  61.26111657096856,\n  4.975254982333292,\n  430.7594650044868,\n  31.989102850961913,\n  12.996566093110854,\n  18.310135433047307,\n  3.6071829841563483,\n  336.1602248028183,\n  17.16531115595939,\n  61.22293202761726,\n  4.077546519689937,\n  17.042966744008627,\n  75.83318979795372,\n  28.685994130836512,\n  61.06213486996975,\n  73.83911715221988,\n  100.59719862633324,\n  17.901929708926517,\n  148.31455058847263,\n  8.577119510004758,\n  108.59588959630359,\n  134.1269953392126,\n  38.01621947650256,\n  79.63839278370547,\n  154.01412112168308,\n  62.7029802413935,\n  30.53942169826758,\n  15.214016214620269,\n  11.265730777111045,\n  334.5684859481501,\n  10.65832608130899,\n  22.660131941239182,\n  50.45045178893013,\n  8.963539217615045,\n  255.6310932743555,\n  18.781690311484986,\n  37.07886896158958,\n  12.8632688954262,\n  0.5566837112419563,\n  28.859624493749575,\n  75.96765928938045,\n  337.04695164002806,\n  87.76057846416323,\n  173.98037303221503,\n  13.111520237737446],\n 'Temp': [2.7761513913915508,\n  0.16182910101993053,\n  0.19474306474670047,\n  0.00012091133778795293,\n  1.9577639006066243,\n  3.3108300360330998,\n  0.007309596015324613,\n  0.2649577980985448,\n  0.2191164540635755,\n  0.385573033199387,\n  0.6818288596819662,\n  2.282613425597553,\n  0.28918575104421873,\n  0.40514540031628626,\n  0.576419232104694,\n  0.25140297699667696,\n  0.6189613759938144,\n  0.44323327456040895,\n  0.05449178262299326,\n  0.6077896148779569,\n  1.4735698815549885,\n  1.7730914805470535,\n  0.37630465772391813,\n  3.3853557237307808,\n  0.15848163008771954,\n  2.59022038315406,\n  1.1488834453711267,\n  0.2800373030170103,\n  0.5213815414764573,\n  0.9083707498785027,\n  0.8367820499470041,\n  1.6180490063371883e-05,\n  0.2212619400615666,\n  0.9293819565861288,\n  0.5058787132550813,\n  1.2007538791341927,\n  0.795174805252804,\n  0.6209184773214674,\n  2.9978057402679954,\n  2.3799463733783917,\n  0.30671097000149095,\n  0.12164793321997101,\n  0.5071427632693497,\n  0.5731910574504695,\n  1.201379219846161,\n  0.7179178816555456,\n  1.3948853452109877,\n  0.26604599275829777,\n  0.11466238760709013,\n  10.047360824725091,\n  0.011120600267579413,\n  0.025093479594674874,\n  0.254291576692589,\n  0.21510555666210734,\n  1.0177305282333677,\n  0.09715422057496634,\n  0.3947130543572185,\n  0.11908705372620734,\n  0.35048979157856697,\n  0.4481661213693927,\n  0.07698347818924674,\n  0.0666859205170817,\n  0.06334922646749182,\n  0.3318867522195349,\n  0.08977199258468911,\n  0.37406226335085024,\n  0.15832980273987185,\n  0.007801565424674602,\n  4.74640478016497,\n  0.517238744380775,\n  0.9169178605497097,\n  0.46866886119423207,\n  0.002559414524861876,\n  17.76825396538325,\n  0.3379047603266156,\n  0.23999472630627322,\n  7.844336559972745,\n  0.1283207608577552,\n  4.735961272377173,\n  0.4493035175730996,\n  0.02577571954351423,\n  0.0034485783268411296,\n  0.4277597196442755,\n  0.2648057245361791,\n  0.16621645375575866,\n  0.11984459227954769,\n  0.13578768216404025,\n  0.6067990750856955,\n  2.8689957654762157,\n  0.06789385125379722,\n  0.008672999670326371,\n  0.947109979541813,\n  3.5578209605233657,\n  0.028449749820423077,\n  0.051563710584445116,\n  0.06903623173913642,\n  0.19003839036617087]}"
     },
     "execution_count": 8,
     "metadata": {},
     "output_type": "execute_result"
    }
   ],
   "source": [
    "results"
   ],
   "metadata": {
    "collapsed": false,
    "ExecuteTime": {
     "end_time": "2025-04-18T16:28:02.542240200Z",
     "start_time": "2025-04-18T16:28:02.462197100Z"
    }
   },
   "id": "344949f4316e0d91"
  },
  {
   "cell_type": "markdown",
   "source": [
    "# Experiment 2"
   ],
   "metadata": {
    "collapsed": false
   },
   "id": "5c61b9ee89c6c2ea"
  },
  {
   "cell_type": "code",
   "execution_count": 9,
   "outputs": [],
   "source": [
    "model2 = VAR(random_state=42)\n",
    "model2.fit(y_train)\n",
    "fh2 = ForecastingHorizon([1, 2, 3, 4], is_relative=True)\n",
    "forecasts2 = model2.predict(fh2)"
   ],
   "metadata": {
    "collapsed": false,
    "ExecuteTime": {
     "end_time": "2025-04-18T16:29:20.250878300Z",
     "start_time": "2025-04-18T16:29:19.380050700Z"
    }
   },
   "id": "bea1e94b1429f6f5"
  },
  {
   "cell_type": "code",
   "execution_count": 11,
   "outputs": [
    {
     "name": "stdout",
     "output_type": "stream",
     "text": [
      "Mean sktime DTW distance for feature HR: 257.4799977564295\n",
      "Mean sktime DTW distance for feature O2Sat: 16.32944891659957\n",
      "Mean sktime DTW distance for feature SBP: 855.1139090585318\n",
      "Mean sktime DTW distance for feature MAP: 385.5281223655886\n",
      "Mean sktime DTW distance for feature DBP: 249.7784873763099\n",
      "Mean sktime DTW distance for feature Resp: 65.03943137637346\n",
      "Mean sktime DTW distance for feature Temp: 0.691052382422895\n",
      "Mean sktime DDTW distance for feature HR: 39.916085192384024\n",
      "Mean sktime DDTW distance for feature O2Sat: 3.011179169199121\n",
      "Mean sktime DDTW distance for feature SBP: 225.81735498428506\n",
      "Mean sktime DDTW distance for feature MAP: 115.40163376393292\n",
      "Mean sktime DDTW distance for feature DBP: 60.166069918443775\n",
      "Mean sktime DDTW distance for feature Resp: 17.589264726257966\n",
      "Mean sktime DDTW distance for feature Temp: 0.06616687509990911\n",
      "Mean tslearn DTW distance: 38.62906845055766\n"
     ]
    }
   ],
   "source": [
    "import evaluators\n",
    "\n",
    "evaluator2 = evaluators.Evaluator(y_train, y_pred, forecasts2)\n",
    "results2 = evaluator2.sktime_dtw()\n",
    "evaluator2.sktime_ddtw()\n",
    "evaluator2.tslearn_dtw()"
   ],
   "metadata": {
    "collapsed": false,
    "ExecuteTime": {
     "end_time": "2025-04-18T16:30:27.709733900Z",
     "start_time": "2025-04-18T16:29:44.672303800Z"
    }
   },
   "id": "a8c0942f8e1af45f"
  },
  {
   "cell_type": "markdown",
   "source": [
    "# Experiment 3"
   ],
   "metadata": {
    "collapsed": false
   },
   "id": "bec14edc70743b68"
  },
  {
   "cell_type": "code",
   "execution_count": 12,
   "outputs": [],
   "source": [
    "from sktime.forecasting.compose import TransformedTargetForecaster\n",
    "from sktime.forecasting.var import VAR\n",
    "from sktime.transformations.series.difference import Differencer\n",
    "\n",
    "model3 = TransformedTargetForecaster(steps=[\n",
    "    (\"diff\", Differencer()),     # makes the data stationary\n",
    "    (\"var\", VAR(random_state=42))               # fit VAR on differenced data\n",
    "])"
   ],
   "metadata": {
    "collapsed": false,
    "ExecuteTime": {
     "end_time": "2025-04-18T16:30:54.988663400Z",
     "start_time": "2025-04-18T16:30:54.817623300Z"
    }
   },
   "id": "f0ef5ec488dadc23"
  },
  {
   "cell_type": "code",
   "execution_count": 13,
   "outputs": [],
   "source": [
    "model3.fit(y_train)\n",
    "fh3 = ForecastingHorizon([1, 2, 3, 4], is_relative=True)\n",
    "forecasts3 = model3.predict(fh3)"
   ],
   "metadata": {
    "collapsed": false,
    "ExecuteTime": {
     "end_time": "2025-04-18T16:30:59.506126700Z",
     "start_time": "2025-04-18T16:30:55.824798400Z"
    }
   },
   "id": "fa45d9a654948884"
  },
  {
   "cell_type": "code",
   "execution_count": 14,
   "outputs": [
    {
     "name": "stdout",
     "output_type": "stream",
     "text": [
      "Mean sktime DTW distance for feature HR: 307.06367570369036\n",
      "Mean sktime DTW distance for feature O2Sat: 21.72496480165652\n",
      "Mean sktime DTW distance for feature SBP: 1078.720209805275\n",
      "Mean sktime DTW distance for feature MAP: 617.3957353430585\n",
      "Mean sktime DTW distance for feature DBP: 302.9825536266127\n",
      "Mean sktime DTW distance for feature Resp: 81.9503431738789\n",
      "Mean sktime DTW distance for feature Temp: 0.7796419474319193\n",
      "Mean sktime DDTW distance for feature HR: 47.03408803279134\n",
      "Mean sktime DDTW distance for feature O2Sat: 3.319857766420785\n",
      "Mean sktime DDTW distance for feature SBP: 221.7489548457172\n",
      "Mean sktime DDTW distance for feature MAP: 110.73247950604583\n",
      "Mean sktime DDTW distance for feature DBP: 52.223335271401666\n",
      "Mean sktime DDTW distance for feature Resp: 19.760665274763856\n",
      "Mean sktime DDTW distance for feature Temp: 0.07398809408861437\n",
      "Mean tslearn DTW distance: 41.733895116954784\n"
     ]
    }
   ],
   "source": [
    "import evaluators\n",
    "evaluator3 = evaluators.Evaluator(y_train, y_pred, forecasts3)\n",
    "results3 = evaluator3.sktime_dtw()\n",
    "evaluator3.sktime_ddtw()\n",
    "evaluator3.tslearn_dtw()"
   ],
   "metadata": {
    "collapsed": false,
    "ExecuteTime": {
     "end_time": "2025-04-18T16:32:04.448480700Z",
     "start_time": "2025-04-18T16:31:04.363984300Z"
    }
   },
   "id": "626b65a3f2bff986"
  },
  {
   "cell_type": "markdown",
   "source": [
    "# Experiment 4"
   ],
   "metadata": {
    "collapsed": false
   },
   "id": "8d9689460d5029b"
  },
  {
   "cell_type": "code",
   "execution_count": 25,
   "outputs": [
    {
     "name": "stdout",
     "output_type": "stream",
     "text": [
      "Mean sktime DTW distance for feature HR: 257.4799977564295\n",
      "Mean sktime DTW distance for feature O2Sat: 16.32944891659957\n",
      "Mean sktime DTW distance for feature SBP: 855.1139090585318\n",
      "Mean sktime DTW distance for feature MAP: 385.5281223655886\n",
      "Mean sktime DTW distance for feature DBP: 249.7784873763099\n",
      "Mean sktime DTW distance for feature Resp: 65.03943137637346\n",
      "Mean sktime DTW distance for feature Temp: 0.691052382422895\n",
      "Mean sktime DDTW distance for feature HR: 39.916085192384024\n",
      "Mean sktime DDTW distance for feature O2Sat: 3.011179169199121\n",
      "Mean sktime DDTW distance for feature SBP: 225.81735498428506\n",
      "Mean sktime DDTW distance for feature MAP: 115.40163376393292\n",
      "Mean sktime DDTW distance for feature DBP: 60.166069918443775\n",
      "Mean sktime DDTW distance for feature Resp: 17.589264726257966\n",
      "Mean sktime DDTW distance for feature Temp: 0.06616687509990911\n",
      "Mean tslearn DTW distance: 38.62906845055766\n"
     ]
    }
   ],
   "source": [
    "import evaluators\n",
    "evaluator4 = evaluators.Evaluator(y_train, y_pred, forecasts4)\n",
    "evaluator4.sktime_dtw()\n",
    "evaluator4.sktime_ddtw()\n",
    "evaluator4.tslearn_dtw()\n"
   ],
   "metadata": {
    "collapsed": false,
    "ExecuteTime": {
     "end_time": "2025-04-19T16:00:48.108490200Z",
     "start_time": "2025-04-19T15:59:37.110514100Z"
    }
   },
   "id": "8cf85d4bde632eba"
  },
  {
   "cell_type": "code",
   "execution_count": 38,
   "outputs": [
    {
     "data": {
      "text/plain": "ForecastingGridSearchCV(cv=ExpandingWindowSplitter(fh=[1, 2, 3],\n                                                   initial_window=5),\n                        forecaster=NaiveForecaster(),\n                        param_grid={'strategy': ['last', 'mean', 'median']})",
      "text/html": "<style>#sk-de2cdada-50f3-47c1-baaa-eb7280159b03 {color: black;background-color: white;}#sk-de2cdada-50f3-47c1-baaa-eb7280159b03 pre{padding: 0;}#sk-de2cdada-50f3-47c1-baaa-eb7280159b03 div.sk-toggleable {background-color: white;}#sk-de2cdada-50f3-47c1-baaa-eb7280159b03 label.sk-toggleable__label {cursor: pointer;display: block;width: 100%;margin-bottom: 0;padding: 0.3em;box-sizing: border-box;text-align: center;}#sk-de2cdada-50f3-47c1-baaa-eb7280159b03 label.sk-toggleable__label-arrow:before {content: \"▸\";float: left;margin-right: 0.25em;color: #696969;}#sk-de2cdada-50f3-47c1-baaa-eb7280159b03 label.sk-toggleable__label-arrow:hover:before {color: black;}#sk-de2cdada-50f3-47c1-baaa-eb7280159b03 div.sk-estimator:hover label.sk-toggleable__label-arrow:before {color: black;}#sk-de2cdada-50f3-47c1-baaa-eb7280159b03 div.sk-toggleable__content {max-height: 0;max-width: 0;overflow: hidden;text-align: left;background-color: #f0f8ff;}#sk-de2cdada-50f3-47c1-baaa-eb7280159b03 div.sk-toggleable__content pre {margin: 0.2em;color: black;border-radius: 0.25em;background-color: #f0f8ff;}#sk-de2cdada-50f3-47c1-baaa-eb7280159b03 input.sk-toggleable__control:checked~div.sk-toggleable__content {max-height: 200px;max-width: 100%;overflow: auto;}#sk-de2cdada-50f3-47c1-baaa-eb7280159b03 input.sk-toggleable__control:checked~label.sk-toggleable__label-arrow:before {content: \"▾\";}#sk-de2cdada-50f3-47c1-baaa-eb7280159b03 div.sk-estimator input.sk-toggleable__control:checked~label.sk-toggleable__label {background-color: #d4ebff;}#sk-de2cdada-50f3-47c1-baaa-eb7280159b03 div.sk-label input.sk-toggleable__control:checked~label.sk-toggleable__label {background-color: #d4ebff;}#sk-de2cdada-50f3-47c1-baaa-eb7280159b03 input.sk-hidden--visually {border: 0;clip: rect(1px 1px 1px 1px);clip: rect(1px, 1px, 1px, 1px);height: 1px;margin: -1px;overflow: hidden;padding: 0;position: absolute;width: 1px;}#sk-de2cdada-50f3-47c1-baaa-eb7280159b03 div.sk-estimator {font-family: monospace;background-color: #f0f8ff;border: 1px dotted black;border-radius: 0.25em;box-sizing: border-box;margin-bottom: 0.5em;}#sk-de2cdada-50f3-47c1-baaa-eb7280159b03 div.sk-estimator:hover {background-color: #d4ebff;}#sk-de2cdada-50f3-47c1-baaa-eb7280159b03 div.sk-parallel-item::after {content: \"\";width: 100%;border-bottom: 1px solid gray;flex-grow: 1;}#sk-de2cdada-50f3-47c1-baaa-eb7280159b03 div.sk-label:hover label.sk-toggleable__label {background-color: #d4ebff;}#sk-de2cdada-50f3-47c1-baaa-eb7280159b03 div.sk-serial::before {content: \"\";position: absolute;border-left: 1px solid gray;box-sizing: border-box;top: 2em;bottom: 0;left: 50%;}#sk-de2cdada-50f3-47c1-baaa-eb7280159b03 div.sk-serial {display: flex;flex-direction: column;align-items: center;background-color: white;padding-right: 0.2em;padding-left: 0.2em;}#sk-de2cdada-50f3-47c1-baaa-eb7280159b03 div.sk-item {z-index: 1;}#sk-de2cdada-50f3-47c1-baaa-eb7280159b03 div.sk-parallel {display: flex;align-items: stretch;justify-content: center;background-color: white;}#sk-de2cdada-50f3-47c1-baaa-eb7280159b03 div.sk-parallel::before {content: \"\";position: absolute;border-left: 1px solid gray;box-sizing: border-box;top: 2em;bottom: 0;left: 50%;}#sk-de2cdada-50f3-47c1-baaa-eb7280159b03 div.sk-parallel-item {display: flex;flex-direction: column;position: relative;background-color: white;}#sk-de2cdada-50f3-47c1-baaa-eb7280159b03 div.sk-parallel-item:first-child::after {align-self: flex-end;width: 50%;}#sk-de2cdada-50f3-47c1-baaa-eb7280159b03 div.sk-parallel-item:last-child::after {align-self: flex-start;width: 50%;}#sk-de2cdada-50f3-47c1-baaa-eb7280159b03 div.sk-parallel-item:only-child::after {width: 0;}#sk-de2cdada-50f3-47c1-baaa-eb7280159b03 div.sk-dashed-wrapped {border: 1px dashed gray;margin: 0 0.4em 0.5em 0.4em;box-sizing: border-box;padding-bottom: 0.4em;background-color: white;position: relative;}#sk-de2cdada-50f3-47c1-baaa-eb7280159b03 div.sk-label label {font-family: monospace;font-weight: bold;background-color: white;display: inline-block;line-height: 1.2em;}#sk-de2cdada-50f3-47c1-baaa-eb7280159b03 div.sk-label-container {position: relative;z-index: 2;text-align: center;}#sk-de2cdada-50f3-47c1-baaa-eb7280159b03 div.sk-container {/* jupyter's `normalize.less` sets `[hidden] { display: none; }` but bootstrap.min.css set `[hidden] { display: none !important; }` so we also need the `!important` here to be able to override the default hidden behavior on the sphinx rendered scikit-learn.org. See: https://github.com/scikit-learn/scikit-learn/issues/21755 */display: inline-block !important;position: relative;}#sk-de2cdada-50f3-47c1-baaa-eb7280159b03 div.sk-text-repr-fallback {display: none;}</style><div id='sk-de2cdada-50f3-47c1-baaa-eb7280159b03' class=\"sk-top-container\"><div class=\"sk-text-repr-fallback\"><pre>ForecastingGridSearchCV(cv=ExpandingWindowSplitter(fh=[1, 2, 3],\n                                                   initial_window=5),\n                        forecaster=NaiveForecaster(),\n                        param_grid={&#x27;strategy&#x27;: [&#x27;last&#x27;, &#x27;mean&#x27;, &#x27;median&#x27;]})</pre><b>Please rerun this cell to show the HTML repr or trust the notebook.</b></div><div class=\"sk-container\" hidden><div class=\"sk-item sk-dashed-wrapped\"><div class='sk-label-container'><div class=\"sk-label sk-toggleable\"><input class=\"sk-toggleable__control sk-hidden--visually\" id=UUID('012e9e4a-7b25-4861-80d8-10849b83d568') type=\"checkbox\" ><label for=UUID('012e9e4a-7b25-4861-80d8-10849b83d568') class='sk-toggleable__label sk-toggleable__label-arrow'>ForecastingGridSearchCV</label><div class=\"sk-toggleable__content\"><pre>ForecastingGridSearchCV(cv=ExpandingWindowSplitter(fh=[1, 2, 3],\n                                                   initial_window=5),\n                        forecaster=NaiveForecaster(),\n                        param_grid={&#x27;strategy&#x27;: [&#x27;last&#x27;, &#x27;mean&#x27;, &#x27;median&#x27;]})</pre></div></div></div><div class=\"sk-parallel\"><div class=\"sk-parallel-item\"><div class=\"sk-item\"><div class=\"sk-serial\"><div class='sk-item'><div class=\"sk-estimator sk-toggleable\"><input class=\"sk-toggleable__control sk-hidden--visually\" id=UUID('bd6292f0-f1df-4d21-93ee-96954e5874e2') type=\"checkbox\" ><label for=UUID('bd6292f0-f1df-4d21-93ee-96954e5874e2') class='sk-toggleable__label sk-toggleable__label-arrow'>ExpandingWindowSplitter</label><div class=\"sk-toggleable__content\"><pre>ExpandingWindowSplitter(fh=[1, 2, 3], initial_window=5)</pre></div></div></div></div></div></div><div class=\"sk-parallel-item\"><div class=\"sk-item\"><div class=\"sk-serial\"><div class='sk-item'><div class=\"sk-estimator sk-toggleable\"><input class=\"sk-toggleable__control sk-hidden--visually\" id=UUID('cfbce44c-b4df-4aaf-9c47-2e52eeed4e73') type=\"checkbox\" ><label for=UUID('cfbce44c-b4df-4aaf-9c47-2e52eeed4e73') class='sk-toggleable__label sk-toggleable__label-arrow'>NaiveForecaster</label><div class=\"sk-toggleable__content\"><pre>NaiveForecaster()</pre></div></div></div></div></div></div></div></div></div></div>"
     },
     "execution_count": 38,
     "metadata": {},
     "output_type": "execute_result"
    }
   ],
   "source": [
    "\n",
    "from sktime.forecasting.model_selection import ForecastingGridSearchCV\n",
    "from sktime.split import ExpandingWindowSplitter\n",
    "from sktime.forecasting.naive import NaiveForecaster\n",
    "\n",
    "\n",
    "cv = ExpandingWindowSplitter(initial_window=5, step_length=1, fh=[1,2,3])\n",
    "forecaster = NaiveForecaster()\n",
    "param_grid = {\"strategy\": [\"last\", \"mean\", \"median\"]}\n",
    "gscv = ForecastingGridSearchCV(\n",
    "    forecaster=forecaster,\n",
    "    param_grid=param_grid,\n",
    "    cv=cv)\n",
    "gscv.fit(y_train)\n"
   ],
   "metadata": {
    "collapsed": false,
    "ExecuteTime": {
     "end_time": "2025-04-19T20:19:10.774245400Z",
     "start_time": "2025-04-19T20:18:38.926029600Z"
    }
   },
   "id": "c32a334787a37c9f"
  },
  {
   "cell_type": "code",
   "execution_count": 39,
   "outputs": [],
   "source": [
    "fcsts = gscv.predict(fh)"
   ],
   "metadata": {
    "collapsed": false,
    "ExecuteTime": {
     "end_time": "2025-04-19T20:19:47.086258900Z",
     "start_time": "2025-04-19T20:19:44.603737300Z"
    }
   },
   "id": "16d35e8a77c49cf8"
  },
  {
   "cell_type": "code",
   "execution_count": 41,
   "outputs": [
    {
     "data": {
      "text/plain": "{'strategy': 'last'}"
     },
     "execution_count": 41,
     "metadata": {},
     "output_type": "execute_result"
    }
   ],
   "source": [
    "gscv.best_params_"
   ],
   "metadata": {
    "collapsed": false,
    "ExecuteTime": {
     "end_time": "2025-04-19T20:22:43.617590400Z",
     "start_time": "2025-04-19T20:22:43.588325300Z"
    }
   },
   "id": "8ce23dff601342fa"
  },
  {
   "cell_type": "code",
   "execution_count": 42,
   "outputs": [
    {
     "data": {
      "text/plain": "NaiveForecaster()",
      "text/html": "<style>#sk-ecd519ca-f292-4f12-baf5-9a27671ffa75 {color: black;background-color: white;}#sk-ecd519ca-f292-4f12-baf5-9a27671ffa75 pre{padding: 0;}#sk-ecd519ca-f292-4f12-baf5-9a27671ffa75 div.sk-toggleable {background-color: white;}#sk-ecd519ca-f292-4f12-baf5-9a27671ffa75 label.sk-toggleable__label {cursor: pointer;display: block;width: 100%;margin-bottom: 0;padding: 0.3em;box-sizing: border-box;text-align: center;}#sk-ecd519ca-f292-4f12-baf5-9a27671ffa75 label.sk-toggleable__label-arrow:before {content: \"▸\";float: left;margin-right: 0.25em;color: #696969;}#sk-ecd519ca-f292-4f12-baf5-9a27671ffa75 label.sk-toggleable__label-arrow:hover:before {color: black;}#sk-ecd519ca-f292-4f12-baf5-9a27671ffa75 div.sk-estimator:hover label.sk-toggleable__label-arrow:before {color: black;}#sk-ecd519ca-f292-4f12-baf5-9a27671ffa75 div.sk-toggleable__content {max-height: 0;max-width: 0;overflow: hidden;text-align: left;background-color: #f0f8ff;}#sk-ecd519ca-f292-4f12-baf5-9a27671ffa75 div.sk-toggleable__content pre {margin: 0.2em;color: black;border-radius: 0.25em;background-color: #f0f8ff;}#sk-ecd519ca-f292-4f12-baf5-9a27671ffa75 input.sk-toggleable__control:checked~div.sk-toggleable__content {max-height: 200px;max-width: 100%;overflow: auto;}#sk-ecd519ca-f292-4f12-baf5-9a27671ffa75 input.sk-toggleable__control:checked~label.sk-toggleable__label-arrow:before {content: \"▾\";}#sk-ecd519ca-f292-4f12-baf5-9a27671ffa75 div.sk-estimator input.sk-toggleable__control:checked~label.sk-toggleable__label {background-color: #d4ebff;}#sk-ecd519ca-f292-4f12-baf5-9a27671ffa75 div.sk-label input.sk-toggleable__control:checked~label.sk-toggleable__label {background-color: #d4ebff;}#sk-ecd519ca-f292-4f12-baf5-9a27671ffa75 input.sk-hidden--visually {border: 0;clip: rect(1px 1px 1px 1px);clip: rect(1px, 1px, 1px, 1px);height: 1px;margin: -1px;overflow: hidden;padding: 0;position: absolute;width: 1px;}#sk-ecd519ca-f292-4f12-baf5-9a27671ffa75 div.sk-estimator {font-family: monospace;background-color: #f0f8ff;border: 1px dotted black;border-radius: 0.25em;box-sizing: border-box;margin-bottom: 0.5em;}#sk-ecd519ca-f292-4f12-baf5-9a27671ffa75 div.sk-estimator:hover {background-color: #d4ebff;}#sk-ecd519ca-f292-4f12-baf5-9a27671ffa75 div.sk-parallel-item::after {content: \"\";width: 100%;border-bottom: 1px solid gray;flex-grow: 1;}#sk-ecd519ca-f292-4f12-baf5-9a27671ffa75 div.sk-label:hover label.sk-toggleable__label {background-color: #d4ebff;}#sk-ecd519ca-f292-4f12-baf5-9a27671ffa75 div.sk-serial::before {content: \"\";position: absolute;border-left: 1px solid gray;box-sizing: border-box;top: 2em;bottom: 0;left: 50%;}#sk-ecd519ca-f292-4f12-baf5-9a27671ffa75 div.sk-serial {display: flex;flex-direction: column;align-items: center;background-color: white;padding-right: 0.2em;padding-left: 0.2em;}#sk-ecd519ca-f292-4f12-baf5-9a27671ffa75 div.sk-item {z-index: 1;}#sk-ecd519ca-f292-4f12-baf5-9a27671ffa75 div.sk-parallel {display: flex;align-items: stretch;justify-content: center;background-color: white;}#sk-ecd519ca-f292-4f12-baf5-9a27671ffa75 div.sk-parallel::before {content: \"\";position: absolute;border-left: 1px solid gray;box-sizing: border-box;top: 2em;bottom: 0;left: 50%;}#sk-ecd519ca-f292-4f12-baf5-9a27671ffa75 div.sk-parallel-item {display: flex;flex-direction: column;position: relative;background-color: white;}#sk-ecd519ca-f292-4f12-baf5-9a27671ffa75 div.sk-parallel-item:first-child::after {align-self: flex-end;width: 50%;}#sk-ecd519ca-f292-4f12-baf5-9a27671ffa75 div.sk-parallel-item:last-child::after {align-self: flex-start;width: 50%;}#sk-ecd519ca-f292-4f12-baf5-9a27671ffa75 div.sk-parallel-item:only-child::after {width: 0;}#sk-ecd519ca-f292-4f12-baf5-9a27671ffa75 div.sk-dashed-wrapped {border: 1px dashed gray;margin: 0 0.4em 0.5em 0.4em;box-sizing: border-box;padding-bottom: 0.4em;background-color: white;position: relative;}#sk-ecd519ca-f292-4f12-baf5-9a27671ffa75 div.sk-label label {font-family: monospace;font-weight: bold;background-color: white;display: inline-block;line-height: 1.2em;}#sk-ecd519ca-f292-4f12-baf5-9a27671ffa75 div.sk-label-container {position: relative;z-index: 2;text-align: center;}#sk-ecd519ca-f292-4f12-baf5-9a27671ffa75 div.sk-container {/* jupyter's `normalize.less` sets `[hidden] { display: none; }` but bootstrap.min.css set `[hidden] { display: none !important; }` so we also need the `!important` here to be able to override the default hidden behavior on the sphinx rendered scikit-learn.org. See: https://github.com/scikit-learn/scikit-learn/issues/21755 */display: inline-block !important;position: relative;}#sk-ecd519ca-f292-4f12-baf5-9a27671ffa75 div.sk-text-repr-fallback {display: none;}</style><div id='sk-ecd519ca-f292-4f12-baf5-9a27671ffa75' class=\"sk-top-container\"><div class=\"sk-text-repr-fallback\"><pre>NaiveForecaster()</pre><b>Please rerun this cell to show the HTML repr or trust the notebook.</b></div><div class=\"sk-container\" hidden><div class='sk-item'><div class=\"sk-estimator sk-toggleable\"><input class=\"sk-toggleable__control sk-hidden--visually\" id=UUID('9bb1a8ad-e0f0-4ef0-9077-df1290ffa6a8') type=\"checkbox\" checked><label for=UUID('9bb1a8ad-e0f0-4ef0-9077-df1290ffa6a8') class='sk-toggleable__label sk-toggleable__label-arrow'>NaiveForecaster</label><div class=\"sk-toggleable__content\"><pre>NaiveForecaster()</pre></div></div></div></div></div>"
     },
     "execution_count": 42,
     "metadata": {},
     "output_type": "execute_result"
    }
   ],
   "source": [
    "gscv.forecaster"
   ],
   "metadata": {
    "collapsed": false,
    "ExecuteTime": {
     "end_time": "2025-04-19T20:23:00.891022Z",
     "start_time": "2025-04-19T20:23:00.828031300Z"
    }
   },
   "id": "647af00ea43e030f"
  },
  {
   "cell_type": "code",
   "execution_count": 43,
   "outputs": [
    {
     "data": {
      "text/plain": "0.07327360655949282"
     },
     "execution_count": 43,
     "metadata": {},
     "output_type": "execute_result"
    }
   ],
   "source": [
    "gscv.best_score_"
   ],
   "metadata": {
    "collapsed": false,
    "ExecuteTime": {
     "end_time": "2025-04-19T20:23:22.274008200Z",
     "start_time": "2025-04-19T20:23:22.169865100Z"
    }
   },
   "id": "522fce34003ece61"
  },
  {
   "cell_type": "code",
   "execution_count": 44,
   "outputs": [
    {
     "data": {
      "text/plain": "   mean_test_MeanAbsolutePercentageError  mean_fit_time  mean_pred_time  \\\n0                               0.073274       0.370095        0.812796   \n1                               0.087780       0.409763        0.269577   \n2                                    NaN            NaN             NaN   \n\n                   params  rank_test_MeanAbsolutePercentageError  \n0    {'strategy': 'last'}                                    1.0  \n1    {'strategy': 'mean'}                                    2.0  \n2  {'strategy': 'median'}                                    NaN  ",
      "text/html": "<div>\n<style scoped>\n    .dataframe tbody tr th:only-of-type {\n        vertical-align: middle;\n    }\n\n    .dataframe tbody tr th {\n        vertical-align: top;\n    }\n\n    .dataframe thead th {\n        text-align: right;\n    }\n</style>\n<table border=\"1\" class=\"dataframe\">\n  <thead>\n    <tr style=\"text-align: right;\">\n      <th></th>\n      <th>mean_test_MeanAbsolutePercentageError</th>\n      <th>mean_fit_time</th>\n      <th>mean_pred_time</th>\n      <th>params</th>\n      <th>rank_test_MeanAbsolutePercentageError</th>\n    </tr>\n  </thead>\n  <tbody>\n    <tr>\n      <th>0</th>\n      <td>0.073274</td>\n      <td>0.370095</td>\n      <td>0.812796</td>\n      <td>{'strategy': 'last'}</td>\n      <td>1.0</td>\n    </tr>\n    <tr>\n      <th>1</th>\n      <td>0.087780</td>\n      <td>0.409763</td>\n      <td>0.269577</td>\n      <td>{'strategy': 'mean'}</td>\n      <td>2.0</td>\n    </tr>\n    <tr>\n      <th>2</th>\n      <td>NaN</td>\n      <td>NaN</td>\n      <td>NaN</td>\n      <td>{'strategy': 'median'}</td>\n      <td>NaN</td>\n    </tr>\n  </tbody>\n</table>\n</div>"
     },
     "execution_count": 44,
     "metadata": {},
     "output_type": "execute_result"
    }
   ],
   "source": [
    "gscv.cv_results_"
   ],
   "metadata": {
    "collapsed": false,
    "ExecuteTime": {
     "end_time": "2025-04-19T20:24:04.621464500Z",
     "start_time": "2025-04-19T20:24:04.505134700Z"
    }
   },
   "id": "c2bc3ba3c5993ee8"
  },
  {
   "cell_type": "code",
   "execution_count": 54,
   "outputs": [],
   "source": [
    "from sktime.forecasting.var import VAR\n",
    "\n",
    "model = VAR(random_state=42)\n",
    "from sktime.forecasting.base import ForecastingHorizon\n",
    "\n",
    "model.fit(y_train)\n",
    "fh = ForecastingHorizon([1, 2, 3, 4, 5, 6], is_relative=True)\n",
    "forecasts = model.predict(fh)"
   ],
   "metadata": {
    "collapsed": false,
    "ExecuteTime": {
     "end_time": "2025-04-19T20:40:52.387387300Z",
     "start_time": "2025-04-19T20:40:51.333690400Z"
    }
   },
   "id": "f7dbe4f8c22577c6"
  },
  {
   "cell_type": "code",
   "execution_count": 55,
   "outputs": [
    {
     "name": "stdout",
     "output_type": "stream",
     "text": [
      "Mean sktime DTW distance for feature HR: 418.87475856769316\n",
      "Mean sktime DTW distance for feature O2Sat: 23.793561398470764\n",
      "Mean sktime DTW distance for feature SBP: 1623.159462608799\n",
      "Mean sktime DTW distance for feature MAP: 862.9895467823309\n",
      "Mean sktime DTW distance for feature DBP: 397.54697256130555\n",
      "Mean sktime DTW distance for feature Resp: 97.08166936176546\n",
      "Mean sktime DTW distance for feature Temp: 1.359576606252328\n",
      "Mean sktime DDTW distance for feature HR: 87.83126637119435\n",
      "Mean sktime DDTW distance for feature O2Sat: 7.058571819729809\n",
      "Mean sktime DDTW distance for feature SBP: 412.77137532054553\n",
      "Mean sktime DDTW distance for feature MAP: 236.0506662480186\n",
      "Mean sktime DDTW distance for feature DBP: 115.80986827330854\n",
      "Mean sktime DDTW distance for feature Resp: 39.17631550517632\n",
      "Mean sktime DDTW distance for feature Temp: 0.15931832972442125\n",
      "Mean tslearn DTW distance: 51.7578972401431\n"
     ]
    }
   ],
   "source": [
    "import evaluators\n",
    "myEvaluator = evaluators.Evaluator(y_train, y_pred, forecasts)\n",
    "results = myEvaluator.sktime_dtw()\n",
    "myEvaluator.sktime_ddtw()\n",
    "myEvaluator.tslearn_dtw()"
   ],
   "metadata": {
    "collapsed": false,
    "ExecuteTime": {
     "end_time": "2025-04-19T20:42:00.633460800Z",
     "start_time": "2025-04-19T20:40:54.384319800Z"
    }
   },
   "id": "9d7cf3420b7ea816"
  },
  {
   "cell_type": "code",
   "execution_count": null,
   "outputs": [],
   "source": [],
   "metadata": {
    "collapsed": false
   },
   "id": "6c9c5e521fd4ceab"
  }
 ],
 "metadata": {
  "kernelspec": {
   "display_name": "Python 3",
   "language": "python",
   "name": "python3"
  },
  "language_info": {
   "codemirror_mode": {
    "name": "ipython",
    "version": 2
   },
   "file_extension": ".py",
   "mimetype": "text/x-python",
   "name": "python",
   "nbconvert_exporter": "python",
   "pygments_lexer": "ipython2",
   "version": "2.7.6"
  }
 },
 "nbformat": 4,
 "nbformat_minor": 5
}
